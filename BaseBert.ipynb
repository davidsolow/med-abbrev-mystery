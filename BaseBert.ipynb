{
  "nbformat": 4,
  "nbformat_minor": 0,
  "metadata": {
    "colab": {
      "provenance": []
    },
    "kernelspec": {
      "name": "python3",
      "display_name": "Python 3"
    },
    "language_info": {
      "name": "python"
    },
    "widgets": {
      "application/vnd.jupyter.widget-state+json": {
        "52acd83e161546ff8763528568ef117e": {
          "model_module": "@jupyter-widgets/controls",
          "model_name": "HBoxModel",
          "model_module_version": "1.5.0",
          "state": {
            "_dom_classes": [],
            "_model_module": "@jupyter-widgets/controls",
            "_model_module_version": "1.5.0",
            "_model_name": "HBoxModel",
            "_view_count": null,
            "_view_module": "@jupyter-widgets/controls",
            "_view_module_version": "1.5.0",
            "_view_name": "HBoxView",
            "box_style": "",
            "children": [
              "IPY_MODEL_74977fefbadd43839588f61d34f96df9",
              "IPY_MODEL_1e6406b238c044e7844577b198be9db9",
              "IPY_MODEL_3f1097bd97804a488c774cadac04bf83"
            ],
            "layout": "IPY_MODEL_941828f73f5f4e6a9d9655d5ec06553a"
          }
        },
        "74977fefbadd43839588f61d34f96df9": {
          "model_module": "@jupyter-widgets/controls",
          "model_name": "HTMLModel",
          "model_module_version": "1.5.0",
          "state": {
            "_dom_classes": [],
            "_model_module": "@jupyter-widgets/controls",
            "_model_module_version": "1.5.0",
            "_model_name": "HTMLModel",
            "_view_count": null,
            "_view_module": "@jupyter-widgets/controls",
            "_view_module_version": "1.5.0",
            "_view_name": "HTMLView",
            "description": "",
            "description_tooltip": null,
            "layout": "IPY_MODEL_86c8deacee554756b342617595c0965f",
            "placeholder": "​",
            "style": "IPY_MODEL_7328bdae20814e77b6a5bb21f3881ab7",
            "value": "pytorch_model.bin: 100%"
          }
        },
        "1e6406b238c044e7844577b198be9db9": {
          "model_module": "@jupyter-widgets/controls",
          "model_name": "FloatProgressModel",
          "model_module_version": "1.5.0",
          "state": {
            "_dom_classes": [],
            "_model_module": "@jupyter-widgets/controls",
            "_model_module_version": "1.5.0",
            "_model_name": "FloatProgressModel",
            "_view_count": null,
            "_view_module": "@jupyter-widgets/controls",
            "_view_module_version": "1.5.0",
            "_view_name": "ProgressView",
            "bar_style": "success",
            "description": "",
            "description_tooltip": null,
            "layout": "IPY_MODEL_df0bde5dbbf0465bbe47e7c936f26033",
            "max": 435779157,
            "min": 0,
            "orientation": "horizontal",
            "style": "IPY_MODEL_c48f31817c364d5fa411fef0c9c322a0",
            "value": 435779157
          }
        },
        "3f1097bd97804a488c774cadac04bf83": {
          "model_module": "@jupyter-widgets/controls",
          "model_name": "HTMLModel",
          "model_module_version": "1.5.0",
          "state": {
            "_dom_classes": [],
            "_model_module": "@jupyter-widgets/controls",
            "_model_module_version": "1.5.0",
            "_model_name": "HTMLModel",
            "_view_count": null,
            "_view_module": "@jupyter-widgets/controls",
            "_view_module_version": "1.5.0",
            "_view_name": "HTMLView",
            "description": "",
            "description_tooltip": null,
            "layout": "IPY_MODEL_e65d7ac65c034e7a9d59d98478e6f2ca",
            "placeholder": "​",
            "style": "IPY_MODEL_32134469c1cd41f5abc9eeab8bd0fa32",
            "value": " 436M/436M [00:16&lt;00:00, 51.1MB/s]"
          }
        },
        "941828f73f5f4e6a9d9655d5ec06553a": {
          "model_module": "@jupyter-widgets/base",
          "model_name": "LayoutModel",
          "model_module_version": "1.2.0",
          "state": {
            "_model_module": "@jupyter-widgets/base",
            "_model_module_version": "1.2.0",
            "_model_name": "LayoutModel",
            "_view_count": null,
            "_view_module": "@jupyter-widgets/base",
            "_view_module_version": "1.2.0",
            "_view_name": "LayoutView",
            "align_content": null,
            "align_items": null,
            "align_self": null,
            "border": null,
            "bottom": null,
            "display": null,
            "flex": null,
            "flex_flow": null,
            "grid_area": null,
            "grid_auto_columns": null,
            "grid_auto_flow": null,
            "grid_auto_rows": null,
            "grid_column": null,
            "grid_gap": null,
            "grid_row": null,
            "grid_template_areas": null,
            "grid_template_columns": null,
            "grid_template_rows": null,
            "height": null,
            "justify_content": null,
            "justify_items": null,
            "left": null,
            "margin": null,
            "max_height": null,
            "max_width": null,
            "min_height": null,
            "min_width": null,
            "object_fit": null,
            "object_position": null,
            "order": null,
            "overflow": null,
            "overflow_x": null,
            "overflow_y": null,
            "padding": null,
            "right": null,
            "top": null,
            "visibility": null,
            "width": null
          }
        },
        "86c8deacee554756b342617595c0965f": {
          "model_module": "@jupyter-widgets/base",
          "model_name": "LayoutModel",
          "model_module_version": "1.2.0",
          "state": {
            "_model_module": "@jupyter-widgets/base",
            "_model_module_version": "1.2.0",
            "_model_name": "LayoutModel",
            "_view_count": null,
            "_view_module": "@jupyter-widgets/base",
            "_view_module_version": "1.2.0",
            "_view_name": "LayoutView",
            "align_content": null,
            "align_items": null,
            "align_self": null,
            "border": null,
            "bottom": null,
            "display": null,
            "flex": null,
            "flex_flow": null,
            "grid_area": null,
            "grid_auto_columns": null,
            "grid_auto_flow": null,
            "grid_auto_rows": null,
            "grid_column": null,
            "grid_gap": null,
            "grid_row": null,
            "grid_template_areas": null,
            "grid_template_columns": null,
            "grid_template_rows": null,
            "height": null,
            "justify_content": null,
            "justify_items": null,
            "left": null,
            "margin": null,
            "max_height": null,
            "max_width": null,
            "min_height": null,
            "min_width": null,
            "object_fit": null,
            "object_position": null,
            "order": null,
            "overflow": null,
            "overflow_x": null,
            "overflow_y": null,
            "padding": null,
            "right": null,
            "top": null,
            "visibility": null,
            "width": null
          }
        },
        "7328bdae20814e77b6a5bb21f3881ab7": {
          "model_module": "@jupyter-widgets/controls",
          "model_name": "DescriptionStyleModel",
          "model_module_version": "1.5.0",
          "state": {
            "_model_module": "@jupyter-widgets/controls",
            "_model_module_version": "1.5.0",
            "_model_name": "DescriptionStyleModel",
            "_view_count": null,
            "_view_module": "@jupyter-widgets/base",
            "_view_module_version": "1.2.0",
            "_view_name": "StyleView",
            "description_width": ""
          }
        },
        "df0bde5dbbf0465bbe47e7c936f26033": {
          "model_module": "@jupyter-widgets/base",
          "model_name": "LayoutModel",
          "model_module_version": "1.2.0",
          "state": {
            "_model_module": "@jupyter-widgets/base",
            "_model_module_version": "1.2.0",
            "_model_name": "LayoutModel",
            "_view_count": null,
            "_view_module": "@jupyter-widgets/base",
            "_view_module_version": "1.2.0",
            "_view_name": "LayoutView",
            "align_content": null,
            "align_items": null,
            "align_self": null,
            "border": null,
            "bottom": null,
            "display": null,
            "flex": null,
            "flex_flow": null,
            "grid_area": null,
            "grid_auto_columns": null,
            "grid_auto_flow": null,
            "grid_auto_rows": null,
            "grid_column": null,
            "grid_gap": null,
            "grid_row": null,
            "grid_template_areas": null,
            "grid_template_columns": null,
            "grid_template_rows": null,
            "height": null,
            "justify_content": null,
            "justify_items": null,
            "left": null,
            "margin": null,
            "max_height": null,
            "max_width": null,
            "min_height": null,
            "min_width": null,
            "object_fit": null,
            "object_position": null,
            "order": null,
            "overflow": null,
            "overflow_x": null,
            "overflow_y": null,
            "padding": null,
            "right": null,
            "top": null,
            "visibility": null,
            "width": null
          }
        },
        "c48f31817c364d5fa411fef0c9c322a0": {
          "model_module": "@jupyter-widgets/controls",
          "model_name": "ProgressStyleModel",
          "model_module_version": "1.5.0",
          "state": {
            "_model_module": "@jupyter-widgets/controls",
            "_model_module_version": "1.5.0",
            "_model_name": "ProgressStyleModel",
            "_view_count": null,
            "_view_module": "@jupyter-widgets/base",
            "_view_module_version": "1.2.0",
            "_view_name": "StyleView",
            "bar_color": null,
            "description_width": ""
          }
        },
        "e65d7ac65c034e7a9d59d98478e6f2ca": {
          "model_module": "@jupyter-widgets/base",
          "model_name": "LayoutModel",
          "model_module_version": "1.2.0",
          "state": {
            "_model_module": "@jupyter-widgets/base",
            "_model_module_version": "1.2.0",
            "_model_name": "LayoutModel",
            "_view_count": null,
            "_view_module": "@jupyter-widgets/base",
            "_view_module_version": "1.2.0",
            "_view_name": "LayoutView",
            "align_content": null,
            "align_items": null,
            "align_self": null,
            "border": null,
            "bottom": null,
            "display": null,
            "flex": null,
            "flex_flow": null,
            "grid_area": null,
            "grid_auto_columns": null,
            "grid_auto_flow": null,
            "grid_auto_rows": null,
            "grid_column": null,
            "grid_gap": null,
            "grid_row": null,
            "grid_template_areas": null,
            "grid_template_columns": null,
            "grid_template_rows": null,
            "height": null,
            "justify_content": null,
            "justify_items": null,
            "left": null,
            "margin": null,
            "max_height": null,
            "max_width": null,
            "min_height": null,
            "min_width": null,
            "object_fit": null,
            "object_position": null,
            "order": null,
            "overflow": null,
            "overflow_x": null,
            "overflow_y": null,
            "padding": null,
            "right": null,
            "top": null,
            "visibility": null,
            "width": null
          }
        },
        "32134469c1cd41f5abc9eeab8bd0fa32": {
          "model_module": "@jupyter-widgets/controls",
          "model_name": "DescriptionStyleModel",
          "model_module_version": "1.5.0",
          "state": {
            "_model_module": "@jupyter-widgets/controls",
            "_model_module_version": "1.5.0",
            "_model_name": "DescriptionStyleModel",
            "_view_count": null,
            "_view_module": "@jupyter-widgets/base",
            "_view_module_version": "1.2.0",
            "_view_name": "StyleView",
            "description_width": ""
          }
        }
      }
    }
  },
  "cells": [
    {
      "cell_type": "markdown",
      "source": [
        "# Import Statements and Loading Data"
      ],
      "metadata": {
        "id": "_1R447BZlh9q"
      }
    },
    {
      "cell_type": "code",
      "source": [
        "#Import statements\n",
        "import pandas as pd\n",
        "import numpy as np\n",
        "import matplotlib.pyplot as plt\n",
        "import seaborn as sns\n",
        "import random\n",
        "import re\n",
        "import textwrap\n",
        "\n",
        "from sklearn.model_selection import StratifiedShuffleSplit\n",
        "\n",
        "import tensorflow as tf\n",
        "from tensorflow import keras\n",
        "from transformers import BertTokenizer, TFBertModel"
      ],
      "metadata": {
        "id": "wBmVGnZ80kYd"
      },
      "execution_count": 2,
      "outputs": []
    },
    {
      "cell_type": "code",
      "source": [
        "from google.colab import drive\n",
        "drive.mount('/content/drive')"
      ],
      "metadata": {
        "colab": {
          "base_uri": "https://localhost:8080/"
        },
        "id": "UQ3M1_qjfK9K",
        "outputId": "bfd465fe-b8c4-4c7d-83b3-567a19d9eff2"
      },
      "execution_count": 3,
      "outputs": [
        {
          "output_type": "stream",
          "name": "stdout",
          "text": [
            "Drive already mounted at /content/drive; to attempt to forcibly remount, call drive.mount(\"/content/drive\", force_remount=True).\n"
          ]
        }
      ]
    },
    {
      "cell_type": "code",
      "source": [
        "train = pd.read_csv(\"drive/MyDrive/266Project/train-3.csv\")\n",
        "test = pd.read_csv(\"drive/MyDrive/266Project/test.csv\")\n",
        "validation = pd.read_csv(\"drive/MyDrive/266Project/validation.csv\")"
      ],
      "metadata": {
        "id": "UK_ZnV7KfUso"
      },
      "execution_count": 4,
      "outputs": []
    },
    {
      "cell_type": "code",
      "source": [
        "print(len(train))\n",
        "print(len(test))\n",
        "print(len(validation))"
      ],
      "metadata": {
        "colab": {
          "base_uri": "https://localhost:8080/"
        },
        "id": "LNTNQqgSlG8A",
        "outputId": "89484f84-0e12-4e6f-82a6-4da8519d2ebc"
      },
      "execution_count": 4,
      "outputs": [
        {
          "output_type": "stream",
          "name": "stdout",
          "text": [
            "3000000\n",
            "1000000\n",
            "1000000\n"
          ]
        }
      ]
    },
    {
      "cell_type": "markdown",
      "source": [
        "# Exploratory Data Analysis and Data Cleaning"
      ],
      "metadata": {
        "id": "OtZZX18klcLF"
      }
    },
    {
      "cell_type": "code",
      "source": [
        "#example of text\n",
        "train.text[0]"
      ],
      "metadata": {
        "colab": {
          "base_uri": "https://localhost:8080/",
          "height": 143
        },
        "id": "-QsO9we4lrp7",
        "outputId": "c9b8814d-d585-4f62-8d16-f7c45d98c9aa"
      },
      "execution_count": 6,
      "outputs": [
        {
          "output_type": "execute_result",
          "data": {
            "text/plain": [
              "'velvet antlers vas are commonly used in traditional chinese medicine and invigorant and contain many PET components for health promotion the velvet antler peptide svap is one of active components in vas based on structural study the svap interacts with tgfÎ² receptors and disrupts the tgfÎ² pathway we hypothesized that svap prevents cardiac fibrosis from pressure overload by blocking tgfÎ² signaling SDRs underwent TAC tac or a sham operation T3 one month rats received either svap mgkgday or vehicle for an additional one month tac surgery induced significant cardiac dysfunction FB activation and fibrosis these effects were improved by treatment with svap in the heart tissue tac remarkably increased the expression of tgfÎ² and connective tissue growth factor ctgf ROS species C2 and the phosphorylation C2 of smad and ERK kinases erk svap inhibited the increases in reactive oxygen species C2 ctgf expression and the phosphorylation of smad and erk but not tgfÎ² expression in cultured cardiac fibroblasts angiotensin ii ang ii had similar effects compared to tac surgery such as increases in Î±smapositive CFs and collagen synthesis svap eliminated these effects by disrupting tgfÎ² IB to its receptors and blocking ang iitgfÎ² downstream signaling these results demonstrated that svap has antifibrotic effects by blocking the tgfÎ² pathway in CFs'"
            ],
            "application/vnd.google.colaboratory.intrinsic+json": {
              "type": "string"
            }
          },
          "metadata": {},
          "execution_count": 6
        }
      ]
    },
    {
      "cell_type": "code",
      "source": [
        "#looking at abbreviation\n",
        "train.text[0].split()[63]"
      ],
      "metadata": {
        "colab": {
          "base_uri": "https://localhost:8080/",
          "height": 35
        },
        "id": "OAlzJ2qPl5sg",
        "outputId": "5fdea5bd-f228-439f-b983-3280263afe29"
      },
      "execution_count": 7,
      "outputs": [
        {
          "output_type": "execute_result",
          "data": {
            "text/plain": [
              "'TAC'"
            ],
            "application/vnd.google.colaboratory.intrinsic+json": {
              "type": "string"
            }
          },
          "metadata": {},
          "execution_count": 7
        }
      ]
    },
    {
      "cell_type": "code",
      "source": [
        "#looking at structure of location column\n",
        "train['location'].value_counts()"
      ],
      "metadata": {
        "id": "Nlg_DYqBmFp_",
        "colab": {
          "base_uri": "https://localhost:8080/"
        },
        "outputId": "b5fc4e6a-8690-4d42-9b6c-4829cc25cb91"
      },
      "execution_count": 8,
      "outputs": [
        {
          "output_type": "execute_result",
          "data": {
            "text/plain": [
              "location\n",
              "[0]       84375\n",
              "[1]       38055\n",
              "[3]       33892\n",
              "[6]       33524\n",
              "[5]       33440\n",
              "          ...  \n",
              "[613]         1\n",
              "[583]         1\n",
              "[577]         1\n",
              "[1037]        1\n",
              "[637]         1\n",
              "Name: count, Length: 767, dtype: int64"
            ]
          },
          "metadata": {},
          "execution_count": 8
        }
      ]
    },
    {
      "cell_type": "code",
      "source": [
        "#cleaning locations and labels\n",
        "max_length = 200\n",
        "max_location = max_length - 3 # minus [CLS] and [SEP] tokens added and index offset\n",
        "\n",
        "def clean_location(location):\n",
        "  \"\"\"Takes a number in brackets as input and returns the number as an int\"\"\"\n",
        "  return int(str(location).strip(\"[]\"))\n",
        "\n",
        "\n",
        "def clean_label(label):\n",
        "  \"\"\"Takes a label in brackets and quotes as input and returns the label as a string\"\"\"\n",
        "  return label.strip(\"[]'\")\n",
        "\n",
        "  [dataset['location'] <= max_location]\n",
        "\n",
        "\n",
        "def add_abbreviation_col(dataset):\n",
        "    \"\"\"Adds an abbreviation column to the dataset from the specified location in the text\"\"\"\n",
        "    dataset['abbreviation'] = dataset.apply(lambda row: row['text'].split()[row['location']], axis=1)\n",
        "    return dataset\n",
        "\n",
        "\n",
        "def clean_dataset(dataset):\n",
        "    dataset['location'] = dataset['location'].apply(clean_location)\n",
        "    dataset['label'] = dataset['label'].apply(clean_label)\n",
        "    dataset = dataset.loc[dataset['location'] <= max_location].copy()\n",
        "    add_abbreviation_col(dataset)\n",
        "    return dataset\n",
        "\n",
        "\n",
        "train = clean_dataset(train)\n",
        "test = clean_dataset(test)\n",
        "validation = clean_dataset(validation)\n",
        "\n",
        "train.head()"
      ],
      "metadata": {
        "colab": {
          "base_uri": "https://localhost:8080/",
          "height": 206
        },
        "id": "q4_o88VP1ady",
        "outputId": "42d8cfc3-ee70-4fe0-eac3-76b4873b4a05"
      },
      "execution_count": 5,
      "outputs": [
        {
          "output_type": "execute_result",
          "data": {
            "text/plain": [
              "   Unnamed: 0  abstract_id                                               text  \\\n",
              "0           0     14145090  velvet antlers vas are commonly used in tradit...   \n",
              "1           1      1900667  the clinical features of our cases demonstrate...   \n",
              "2           2      8625554  ceftobiprole bpr is an investigational cephalo...   \n",
              "3           3      8157202  we have taken a basic biologic RPA to elucidat...   \n",
              "4           4      6784974  lipoperoxidationderived aldehydes for example ...   \n",
              "\n",
              "   location                               label abbreviation  \n",
              "0        63      transverse aortic constriction          TAC  \n",
              "1        85                   hodgkins lymphoma           HD  \n",
              "2        90     methicillinsusceptible s aureus         MSSA  \n",
              "3        26  parathyroid hormonerelated protein        PTHrP  \n",
              "4       157                    lipoperoxidation          LPO  "
            ],
            "text/html": [
              "\n",
              "  <div id=\"df-fab18470-8fd5-4fb0-8708-b0f52d5a78b2\" class=\"colab-df-container\">\n",
              "    <div>\n",
              "<style scoped>\n",
              "    .dataframe tbody tr th:only-of-type {\n",
              "        vertical-align: middle;\n",
              "    }\n",
              "\n",
              "    .dataframe tbody tr th {\n",
              "        vertical-align: top;\n",
              "    }\n",
              "\n",
              "    .dataframe thead th {\n",
              "        text-align: right;\n",
              "    }\n",
              "</style>\n",
              "<table border=\"1\" class=\"dataframe\">\n",
              "  <thead>\n",
              "    <tr style=\"text-align: right;\">\n",
              "      <th></th>\n",
              "      <th>Unnamed: 0</th>\n",
              "      <th>abstract_id</th>\n",
              "      <th>text</th>\n",
              "      <th>location</th>\n",
              "      <th>label</th>\n",
              "      <th>abbreviation</th>\n",
              "    </tr>\n",
              "  </thead>\n",
              "  <tbody>\n",
              "    <tr>\n",
              "      <th>0</th>\n",
              "      <td>0</td>\n",
              "      <td>14145090</td>\n",
              "      <td>velvet antlers vas are commonly used in tradit...</td>\n",
              "      <td>63</td>\n",
              "      <td>transverse aortic constriction</td>\n",
              "      <td>TAC</td>\n",
              "    </tr>\n",
              "    <tr>\n",
              "      <th>1</th>\n",
              "      <td>1</td>\n",
              "      <td>1900667</td>\n",
              "      <td>the clinical features of our cases demonstrate...</td>\n",
              "      <td>85</td>\n",
              "      <td>hodgkins lymphoma</td>\n",
              "      <td>HD</td>\n",
              "    </tr>\n",
              "    <tr>\n",
              "      <th>2</th>\n",
              "      <td>2</td>\n",
              "      <td>8625554</td>\n",
              "      <td>ceftobiprole bpr is an investigational cephalo...</td>\n",
              "      <td>90</td>\n",
              "      <td>methicillinsusceptible s aureus</td>\n",
              "      <td>MSSA</td>\n",
              "    </tr>\n",
              "    <tr>\n",
              "      <th>3</th>\n",
              "      <td>3</td>\n",
              "      <td>8157202</td>\n",
              "      <td>we have taken a basic biologic RPA to elucidat...</td>\n",
              "      <td>26</td>\n",
              "      <td>parathyroid hormonerelated protein</td>\n",
              "      <td>PTHrP</td>\n",
              "    </tr>\n",
              "    <tr>\n",
              "      <th>4</th>\n",
              "      <td>4</td>\n",
              "      <td>6784974</td>\n",
              "      <td>lipoperoxidationderived aldehydes for example ...</td>\n",
              "      <td>157</td>\n",
              "      <td>lipoperoxidation</td>\n",
              "      <td>LPO</td>\n",
              "    </tr>\n",
              "  </tbody>\n",
              "</table>\n",
              "</div>\n",
              "    <div class=\"colab-df-buttons\">\n",
              "\n",
              "  <div class=\"colab-df-container\">\n",
              "    <button class=\"colab-df-convert\" onclick=\"convertToInteractive('df-fab18470-8fd5-4fb0-8708-b0f52d5a78b2')\"\n",
              "            title=\"Convert this dataframe to an interactive table.\"\n",
              "            style=\"display:none;\">\n",
              "\n",
              "  <svg xmlns=\"http://www.w3.org/2000/svg\" height=\"24px\" viewBox=\"0 -960 960 960\">\n",
              "    <path d=\"M120-120v-720h720v720H120Zm60-500h600v-160H180v160Zm220 220h160v-160H400v160Zm0 220h160v-160H400v160ZM180-400h160v-160H180v160Zm440 0h160v-160H620v160ZM180-180h160v-160H180v160Zm440 0h160v-160H620v160Z\"/>\n",
              "  </svg>\n",
              "    </button>\n",
              "\n",
              "  <style>\n",
              "    .colab-df-container {\n",
              "      display:flex;\n",
              "      gap: 12px;\n",
              "    }\n",
              "\n",
              "    .colab-df-convert {\n",
              "      background-color: #E8F0FE;\n",
              "      border: none;\n",
              "      border-radius: 50%;\n",
              "      cursor: pointer;\n",
              "      display: none;\n",
              "      fill: #1967D2;\n",
              "      height: 32px;\n",
              "      padding: 0 0 0 0;\n",
              "      width: 32px;\n",
              "    }\n",
              "\n",
              "    .colab-df-convert:hover {\n",
              "      background-color: #E2EBFA;\n",
              "      box-shadow: 0px 1px 2px rgba(60, 64, 67, 0.3), 0px 1px 3px 1px rgba(60, 64, 67, 0.15);\n",
              "      fill: #174EA6;\n",
              "    }\n",
              "\n",
              "    .colab-df-buttons div {\n",
              "      margin-bottom: 4px;\n",
              "    }\n",
              "\n",
              "    [theme=dark] .colab-df-convert {\n",
              "      background-color: #3B4455;\n",
              "      fill: #D2E3FC;\n",
              "    }\n",
              "\n",
              "    [theme=dark] .colab-df-convert:hover {\n",
              "      background-color: #434B5C;\n",
              "      box-shadow: 0px 1px 3px 1px rgba(0, 0, 0, 0.15);\n",
              "      filter: drop-shadow(0px 1px 2px rgba(0, 0, 0, 0.3));\n",
              "      fill: #FFFFFF;\n",
              "    }\n",
              "  </style>\n",
              "\n",
              "    <script>\n",
              "      const buttonEl =\n",
              "        document.querySelector('#df-fab18470-8fd5-4fb0-8708-b0f52d5a78b2 button.colab-df-convert');\n",
              "      buttonEl.style.display =\n",
              "        google.colab.kernel.accessAllowed ? 'block' : 'none';\n",
              "\n",
              "      async function convertToInteractive(key) {\n",
              "        const element = document.querySelector('#df-fab18470-8fd5-4fb0-8708-b0f52d5a78b2');\n",
              "        const dataTable =\n",
              "          await google.colab.kernel.invokeFunction('convertToInteractive',\n",
              "                                                    [key], {});\n",
              "        if (!dataTable) return;\n",
              "\n",
              "        const docLinkHtml = 'Like what you see? Visit the ' +\n",
              "          '<a target=\"_blank\" href=https://colab.research.google.com/notebooks/data_table.ipynb>data table notebook</a>'\n",
              "          + ' to learn more about interactive tables.';\n",
              "        element.innerHTML = '';\n",
              "        dataTable['output_type'] = 'display_data';\n",
              "        await google.colab.output.renderOutput(dataTable, element);\n",
              "        const docLink = document.createElement('div');\n",
              "        docLink.innerHTML = docLinkHtml;\n",
              "        element.appendChild(docLink);\n",
              "      }\n",
              "    </script>\n",
              "  </div>\n",
              "\n",
              "\n",
              "<div id=\"df-9df39e6e-7e64-4ee0-94b1-32bcee9d3fe4\">\n",
              "  <button class=\"colab-df-quickchart\" onclick=\"quickchart('df-9df39e6e-7e64-4ee0-94b1-32bcee9d3fe4')\"\n",
              "            title=\"Suggest charts\"\n",
              "            style=\"display:none;\">\n",
              "\n",
              "<svg xmlns=\"http://www.w3.org/2000/svg\" height=\"24px\"viewBox=\"0 0 24 24\"\n",
              "     width=\"24px\">\n",
              "    <g>\n",
              "        <path d=\"M19 3H5c-1.1 0-2 .9-2 2v14c0 1.1.9 2 2 2h14c1.1 0 2-.9 2-2V5c0-1.1-.9-2-2-2zM9 17H7v-7h2v7zm4 0h-2V7h2v10zm4 0h-2v-4h2v4z\"/>\n",
              "    </g>\n",
              "</svg>\n",
              "  </button>\n",
              "\n",
              "<style>\n",
              "  .colab-df-quickchart {\n",
              "      --bg-color: #E8F0FE;\n",
              "      --fill-color: #1967D2;\n",
              "      --hover-bg-color: #E2EBFA;\n",
              "      --hover-fill-color: #174EA6;\n",
              "      --disabled-fill-color: #AAA;\n",
              "      --disabled-bg-color: #DDD;\n",
              "  }\n",
              "\n",
              "  [theme=dark] .colab-df-quickchart {\n",
              "      --bg-color: #3B4455;\n",
              "      --fill-color: #D2E3FC;\n",
              "      --hover-bg-color: #434B5C;\n",
              "      --hover-fill-color: #FFFFFF;\n",
              "      --disabled-bg-color: #3B4455;\n",
              "      --disabled-fill-color: #666;\n",
              "  }\n",
              "\n",
              "  .colab-df-quickchart {\n",
              "    background-color: var(--bg-color);\n",
              "    border: none;\n",
              "    border-radius: 50%;\n",
              "    cursor: pointer;\n",
              "    display: none;\n",
              "    fill: var(--fill-color);\n",
              "    height: 32px;\n",
              "    padding: 0;\n",
              "    width: 32px;\n",
              "  }\n",
              "\n",
              "  .colab-df-quickchart:hover {\n",
              "    background-color: var(--hover-bg-color);\n",
              "    box-shadow: 0 1px 2px rgba(60, 64, 67, 0.3), 0 1px 3px 1px rgba(60, 64, 67, 0.15);\n",
              "    fill: var(--button-hover-fill-color);\n",
              "  }\n",
              "\n",
              "  .colab-df-quickchart-complete:disabled,\n",
              "  .colab-df-quickchart-complete:disabled:hover {\n",
              "    background-color: var(--disabled-bg-color);\n",
              "    fill: var(--disabled-fill-color);\n",
              "    box-shadow: none;\n",
              "  }\n",
              "\n",
              "  .colab-df-spinner {\n",
              "    border: 2px solid var(--fill-color);\n",
              "    border-color: transparent;\n",
              "    border-bottom-color: var(--fill-color);\n",
              "    animation:\n",
              "      spin 1s steps(1) infinite;\n",
              "  }\n",
              "\n",
              "  @keyframes spin {\n",
              "    0% {\n",
              "      border-color: transparent;\n",
              "      border-bottom-color: var(--fill-color);\n",
              "      border-left-color: var(--fill-color);\n",
              "    }\n",
              "    20% {\n",
              "      border-color: transparent;\n",
              "      border-left-color: var(--fill-color);\n",
              "      border-top-color: var(--fill-color);\n",
              "    }\n",
              "    30% {\n",
              "      border-color: transparent;\n",
              "      border-left-color: var(--fill-color);\n",
              "      border-top-color: var(--fill-color);\n",
              "      border-right-color: var(--fill-color);\n",
              "    }\n",
              "    40% {\n",
              "      border-color: transparent;\n",
              "      border-right-color: var(--fill-color);\n",
              "      border-top-color: var(--fill-color);\n",
              "    }\n",
              "    60% {\n",
              "      border-color: transparent;\n",
              "      border-right-color: var(--fill-color);\n",
              "    }\n",
              "    80% {\n",
              "      border-color: transparent;\n",
              "      border-right-color: var(--fill-color);\n",
              "      border-bottom-color: var(--fill-color);\n",
              "    }\n",
              "    90% {\n",
              "      border-color: transparent;\n",
              "      border-bottom-color: var(--fill-color);\n",
              "    }\n",
              "  }\n",
              "</style>\n",
              "\n",
              "  <script>\n",
              "    async function quickchart(key) {\n",
              "      const quickchartButtonEl =\n",
              "        document.querySelector('#' + key + ' button');\n",
              "      quickchartButtonEl.disabled = true;  // To prevent multiple clicks.\n",
              "      quickchartButtonEl.classList.add('colab-df-spinner');\n",
              "      try {\n",
              "        const charts = await google.colab.kernel.invokeFunction(\n",
              "            'suggestCharts', [key], {});\n",
              "      } catch (error) {\n",
              "        console.error('Error during call to suggestCharts:', error);\n",
              "      }\n",
              "      quickchartButtonEl.classList.remove('colab-df-spinner');\n",
              "      quickchartButtonEl.classList.add('colab-df-quickchart-complete');\n",
              "    }\n",
              "    (() => {\n",
              "      let quickchartButtonEl =\n",
              "        document.querySelector('#df-9df39e6e-7e64-4ee0-94b1-32bcee9d3fe4 button');\n",
              "      quickchartButtonEl.style.display =\n",
              "        google.colab.kernel.accessAllowed ? 'block' : 'none';\n",
              "    })();\n",
              "  </script>\n",
              "</div>\n",
              "\n",
              "    </div>\n",
              "  </div>\n"
            ],
            "application/vnd.google.colaboratory.intrinsic+json": {
              "type": "dataframe",
              "variable_name": "train"
            }
          },
          "metadata": {},
          "execution_count": 5
        }
      ]
    },
    {
      "cell_type": "code",
      "source": [
        "#plotting location\n",
        "plt.hist(train['location'], bins = 40)\n",
        "plt.title('Location Distribution')\n",
        "plt.xlabel('Location')\n",
        "plt.ylabel('Count')\n",
        "plt.show()"
      ],
      "metadata": {
        "colab": {
          "base_uri": "https://localhost:8080/",
          "height": 472
        },
        "id": "QAkUJH1Fu-Gt",
        "outputId": "8bf2890d-8f1b-4126-b32f-91ffb28db2f9"
      },
      "execution_count": 6,
      "outputs": [
        {
          "output_type": "display_data",
          "data": {
            "text/plain": [
              "<Figure size 640x480 with 1 Axes>"
            ],
            "image/png": "[encoded data removed]"
          },
          "metadata": {}
        }
      ]
    },
    {
      "cell_type": "code",
      "source": [
        "#Average length of abbreviation\n",
        "length = []\n",
        "for index in range(len(train)):\n",
        "  length.append(len(train['text'][index].split()[train['location'][index]]))\n",
        "print(np.average(length))\n"
      ],
      "metadata": {
        "colab": {
          "base_uri": "https://localhost:8080/"
        },
        "id": "wOz2DvALv7TI",
        "outputId": "8a7aee82-b06c-40e1-e7b7-e4cfe1ab92fd"
      },
      "execution_count": 11,
      "outputs": [
        {
          "output_type": "stream",
          "name": "stdout",
          "text": [
            "2.780022\n"
          ]
        }
      ]
    },
    {
      "cell_type": "code",
      "source": [
        "#Plotting distribution of abbreviation lengths\n",
        "plt.hist(length, bins = 15)\n",
        "plt.title('Abbreviation Length Distribution')\n",
        "plt.xlabel('Abbreviation Length')\n",
        "plt.ylabel('Count')\n",
        "plt.show()"
      ],
      "metadata": {
        "id": "uNOWolLLwG15",
        "colab": {
          "base_uri": "https://localhost:8080/",
          "height": 472
        },
        "outputId": "bb5ef18d-19e1-4502-c266-78b10930736c"
      },
      "execution_count": 12,
      "outputs": [
        {
          "output_type": "display_data",
          "data": {
            "text/plain": [
              "<Figure size 640x480 with 1 Axes>"
            ],
            "image/png": "[encoded data removed]"
          },
          "metadata": {}
        }
      ]
    },
    {
      "cell_type": "code",
      "source": [
        "# How many different labels are there?\n",
        "print(len(train['label'].unique()))"
      ],
      "metadata": {
        "id": "Gr7HKpt-wP2u",
        "colab": {
          "base_uri": "https://localhost:8080/"
        },
        "outputId": "a8c5e6f1-8b65-48f1-f327-0b2cd8e98028"
      },
      "execution_count": 8,
      "outputs": [
        {
          "output_type": "stream",
          "name": "stdout",
          "text": [
            "22555\n"
          ]
        }
      ]
    },
    {
      "cell_type": "code",
      "source": [
        "NUM_ABBREVIATIONS = 100\n",
        "RANDOM_SEED = 42\n",
        "\n",
        "random.seed(RANDOM_SEED)\n",
        "\n",
        "abbreviation_subset = random.sample(list(train.abbreviation.unique()), NUM_ABBREVIATIONS)"
      ],
      "metadata": {
        "id": "7p847lRcDJOT"
      },
      "execution_count": 6,
      "outputs": []
    },
    {
      "cell_type": "code",
      "source": [
        "#subset the dataset\n",
        "\n",
        "train_subset = train[train['abbreviation'].isin(abbreviation_subset)]\n",
        "test_subset = test[test['abbreviation'].isin(abbreviation_subset)]\n",
        "validation_subset = validation[validation['abbreviation'].isin(abbreviation_subset)]\n",
        "\n",
        "print(len(train_subset))\n",
        "print(len(validation_subset))\n",
        "print(len(test_subset))"
      ],
      "metadata": {
        "id": "D59ogwtXxbYA",
        "colab": {
          "base_uri": "https://localhost:8080/"
        },
        "outputId": "f1f18490-4fa5-4590-e81a-b4c4d31d7210"
      },
      "execution_count": 7,
      "outputs": [
        {
          "output_type": "stream",
          "name": "stdout",
          "text": [
            "49596\n",
            "16504\n",
            "16509\n"
          ]
        }
      ]
    },
    {
      "cell_type": "code",
      "source": [
        "label_names = sorted(train_subset.label.unique())\n",
        "print(f\"Size: {len(label_names)}\", label_names)"
      ],
      "metadata": {
        "colab": {
          "base_uri": "https://localhost:8080/"
        },
        "id": "73CkKMHbD-QS",
        "outputId": "f7876da9-475f-430c-f8f1-b0ba13709614"
      },
      "execution_count": 8,
      "outputs": [
        {
          "output_type": "stream",
          "name": "stdout",
          "text": [
            "Size: 390 ['active wakefulness', 'active waking', 'adjuvantinduced arthritis', 'aidsassociated retrovirus', 'allylisopropylacetamide', 'aminomethylhimidazofquinoline', 'aminomethylimidazofquinoline', 'anterior wall', 'antigeninduced arthritis', 'antiretroviral', 'ash weight', 'aspirininduced asthma', 'aspirinintolerant asthma', 'average rectified value', 'avian reovirus', 'beauvericin', 'beet yellows closterovirus', 'beet yellows virus', 'belowknee amputation', 'bence jones protein', 'bence jones proteinuria', 'bongkrekic acid', 'bromoethanamine', 'bromoethylamine hydrobromide', 'buffer capacity', 'buffering power', 'calponin homology', 'carbon paste electrode', 'carbonphosphorus', 'carboxypeptidase e', 'cardiac hypertrophy', 'cardiogenic pulmonary edema', 'cell proliferation kinetics', 'central hemodynamics', 'cerebral hemispheres', 'cerebral hemorrhage', 'chediakhigashi', 'chief executive officer', 'childpugh', 'chiral stationary phases', 'chloral hydrate', 'chloroethylene oxide', 'chloroperoxidase', 'chlorpyrifos oxon', 'chronic hepatitis', 'chronic hypoxia', 'chronic infantile neurological cutaneous and articular', 'chronic intermittent ethanol', 'chronic pulmonary emphysema', 'chronically hypoxic', 'clinical global impression of severity', 'clinical pastoral education', 'clostridium perfringens enterotoxin', 'cloudpoint extraction', 'cluster headache', 'cold shock proteins', 'coli oh', 'colorectal cancers', 'colorectal carcinomas', 'colorectal distention', 'community hospital', 'concentrationresponse curves', 'concentric hypertrophy', 'conerod dystrophy', 'congenital hydrocephalus', 'congenital hypothyroid', 'continuing professional education', 'coproporphyrinogen oxidase', 'creatine phosphate kinase', 'creatinephosphokinase', 'crossreacting determinant', 'crypt height', 'cumulus cellenclosed oocytes', 'cyanoethylene oxide', 'cyclic hematopoiesis', 'cysteine string proteins', 'cysteinerich domain', 'cytoplasmic polyadenylation element', 'decayed teeth', 'decidual tissue', 'definitive phage type', 'delirium tremens', 'densitometric units', 'depleted uranium', 'desimipramine', 'desmethylimipramine', 'desmoid tumor', 'developed tension', 'diabetic muscle infarction', 'dibutylnitrosamine', 'diffraction tomography', 'diphtheria and tetanus toxoids', 'diphtheriatetanus', 'dipole tracing', 'doppler myocardial imaging', 'downbeat nystagmus', 'drive for thinness', 'dry matter intake', 'duodenal', 'duodenal ulcer disease', 'duodenal ulcer patients', 'ecarin clotting time', 'electrochemotherapy', 'electroconvulsive therapy', 'electroconvulsive treatment', 'electrogastrographic', 'electrogastrography', 'electroglottograph', 'electroglottographic', 'electroglottography', 'elimination', 'endocurietherapy', 'endoscopic band ligation', 'enterohaemorrhagic e coli', 'enterohemorrhagic', 'enterohemorrhagic escherichia coli', 'enzootic bovine leukosis', 'escherichia coli heatstable toxin', 'estimated blood loss', 'experimental autoimmune myocarditis', 'experimental autoimmune myositis', 'external acoustic meatus', 'external auditory meatus', 'familial polyposis coli', 'family of repeats', 'family planning clinic', 'farred light', 'fasciculus retroflexus', 'fast fatigueresistant', 'fast resistant', 'fatigue resistant', 'fatty acid betaoxidation', 'fatty acid oxidation', 'fertilization rate', 'fibrolamellar carcinoma', 'firing rate', 'fish protein concentrate', 'flexor reflex', 'flowering locus c', 'food and agriculture organization of the united nations', 'food restriction', 'fourth larval stage', 'fourth lumbar', 'fquinoline', 'fractional reabsorption', 'framework', 'friend leukemia cells', 'functional reach', 'galactose elimination capacity', 'gas chromatographmass spectrometer', 'gas chromatography coupled with mass spectrometry', 'general medical services', 'geriatric mental state', 'geriatric mental state schedule', 'gianotticrosti syndrome', 'glasgow coma scale', 'glasgow coma scale score', 'glomerular volume', 'glucosylceramide synthase', 'glyceryl monostearate', 'glycine cleavage system', 'gomori methenamine silver', 'graduated compression stockings', 'graft', 'group health cooperative', 'group health cooperative of puget sound', 'h postfertilization', 'headdown rotation', 'heart rate variability', 'heart rate variation', 'heatstable enterotoxin of escherichia coli', 'heavy chain constant', 'heavy chain constant region', 'hedgehog', 'hemodynamic response', 'hemolysin bl', 'hemopoietic histocompatibility', 'hepatoblastoma', 'hexagonal bilayer', 'hexamethylpropyleneamineoxime', 'high frequency', 'highmolecularweight', 'history', 'homologydirected repair', 'homoserine lactone', 'hormonesensitive lipase', 'hours postfertilization', 'human fibroblast', 'human mast cell line', 'human rotavirus', 'human telomerase rna', 'hyperplasia', 'hypobetalipoproteinemia', 'hypothalamic ventromedial nucleus', 'ilimaquinone', 'immunoglobulinlike transcript', 'immunoreactive trypsin', 'immunoreactive trypsinogen', 'infectious canine hepatitis', 'infectious laryngotracheitis', 'infrared thermography', 'inhibitor of the campdependent protein kinase', 'inhibitorresistant tem', 'insulindependent diabetics', 'intelligence', 'interaural level differences', 'interglobular domain', 'international conference on harmonisation', 'interquartile', 'interstitial laser therapy', 'interstitial laser thermotherapy', 'interstitial lung diseases', 'intracerebral haemorrhage', 'intracoronary radiation therapy', 'intracranial haemorrhage', 'intraduodenal administration', 'iodine deficiency disorders', 'isolated gonadotropin deficiency', 'item response theory', 'lateral collateral ligament', 'lateral motor column', 'lebers hereditary optic neuropathy', 'liver regeneration after partial hepatectomy', 'localized cutaneous leishmaniasis', 'luminol chemiluminescence', 'lymphoblastoid cells', 'lymphocytemediated cytotoxicity', 'magnetic source imaging', 'masseter muscle', 'maternal mortality', 'maternalfetal medicine', 'maximum diameter', 'maximum dose', 'megakaryocytic', 'melphalan', 'meningococcal meningitis', 'menstrual migraine', 'mesangial matrix', 'metanephric mesenchyme', 'methadone maintenance', 'mevalonate kinase', 'mgkg intraduodenally', 'michaelismenten', 'microbial keratitis', 'microwave', 'midkine', 'millimeter waves', 'minimal medium', 'mirror movements', 'mitochondrial myopathy', 'mixed micelles', 'miyoshi myopathy', 'model', 'mouse erythroleukaemia', 'mouse erythroleukemic', 'mtchexamethylpropyleneamineoxime', 'mucus contact', 'multifocal electroretinography', 'multifocal erg', 'munichwistar', 'murine erythroleukaemia', 'murine erythroleukemia', 'murine erythroleukemic', 'muscarinic acetylcholine', 'muscarinic cholinergic', 'muscle mass', 'muscularis mucosae', 'mycoplasma meleagridis', 'myeloid metaplasia', 'myelomeningocele', 'myofibrillar myopathy', 'narcissistic personality disorder', 'nasal potential difference', 'natural family planning', 'nndibutylnitrosamine', 'nocturnal paroxysmal dystonia', 'normal protein diet', 'normal weight', 'normal wistar', 'normal women', 'normotensive wistar', 'notforprofit', 'occult lesion localization', 'paired filtration dialysis', 'palmar hyperhidrosis', 'partially hepatectomized', 'peak height', 'pelvic floor dysfunction', 'penicillinnonsusceptible s pneumoniae', 'penicillinnonsusceptible streptococcus pneumoniae', 'perfluorodecalin', 'perisynaptic schwann cells', 'periventricular heterotopia', 'phenol', 'phosphokinase activity', 'photon flux density', 'phydroxymercuribenzoic acid', 'plasma membranes', 'pleckstrin homology', 'polyhexamethylene biguanide', 'poor metabolisers', 'poor metabolizers', 'posterior hypothalamus', 'posterior subcapsular cataracts', 'postsynaptic currents', 'postural hypotension', 'prepositus hypoglossi', 'promyelocytic leukemia zinc finger', 'promyelocytic leukemia zinc finger protein', 'proportional hazards', 'proteinfree diet', 'pubic hair', 'public key infrastructure', 'pulmonary hemorrhage', 'pulmonary hypoplasia', 'radioimmunoscintigraphy', 'reaction time task', 'recombinant inbred strains', 'regression coefficient', 'rna component of human telomerase', 'rna component of telomerase', 'sabinfeldman dye test', 'salmonella typhimurium definitive type', 'sambucus nigra', 'sambucus nigra agglutinin', 'selective reminding test', 'semliki forest virus', 'sensitive to apoptosis gene', 'simian foamy viruses', 'simple reaction time', 'single fiber emg', 'single fibre electromyography', 'singlefiber electromyography', 'sinus node artery', 'skeletofusimotor', 'sludge retention time', 'sodium antimony gluconate', 'solids retention time', 'specific inhalation challenge', 'spectral exponent', 'spontaneous cellmediated cytotoxicity', 'spontaneous epscs', 'spontaneous excitatory postsynaptic currents', 'statoacoustic ganglion', 'stereotactic radiotherapy', 'stiffness index', 'stiffness parameter', 'streptococcal inhibitor of complement', 'sulfated cholecystokinin octapeptide', 'superficial femoral vein', 'surfactant replacement therapy', 'sustainedrelease theophylline', 'sympathetic nerve activity', 'symptom rating test', 'testosterone buciclate', 'theobromine', 'thiobenzamide', 'thoroughbred', 'tissue basophils', 'toluidine blue', 'total body', 'tracheobronchial', 'transcutaneous energy transfer', 'trapezoid body', 'treadmill exercise test', 'tributyrin', 'triceps brachii', 'triethyl tin', 'triethyltin', 'triethyltin bromide', 'trisborate', 'trypan blue', 'tubal embryo transfer', 'tuberculous', 'tumorbearing', 'under a fixedratio', 'undifferentiated embryonal sarcoma', 'upper esophageal sphincter', 'uridine', 'urinary retention', 'utilization review', 'vein grafts', 'ventriculography', 'ventromedial hypothalamic', 'ventromedial hypothalamic nuclei', 'ventromedial hypothalamus', 'vestibular ganglion', 'viral hemorrhagic fever', 'visual halffield', 'whey protein concentrate']\n"
          ]
        }
      ]
    },
    {
      "cell_type": "code",
      "source": [
        "del train\n",
        "del test\n",
        "del validation"
      ],
      "metadata": {
        "id": "_E8n7OC4RdV4"
      },
      "execution_count": 9,
      "outputs": []
    },
    {
      "cell_type": "markdown",
      "source": [
        "# BERT Base Model\n"
      ],
      "metadata": {
        "id": "6tyS6qJHewbX"
      }
    },
    {
      "cell_type": "code",
      "source": [
        "model_checkpoint = 'bert-base-cased'\n",
        "bert_tokenizer = BertTokenizer.from_pretrained(model_checkpoint)\n",
        "bert_model = TFBertModel.from_pretrained(model_checkpoint)"
      ],
      "metadata": {
        "colab": {
          "base_uri": "https://localhost:8080/"
        },
        "id": "tWtzzAOYe993",
        "outputId": "13b31b59-69fe-4557-ed26-0a7fd13e6cd0"
      },
      "execution_count": 10,
      "outputs": [
        {
          "output_type": "stream",
          "name": "stderr",
          "text": [
            "/usr/local/lib/python3.10/dist-packages/huggingface_hub/utils/_token.py:89: UserWarning: \n",
            "The secret `HF_TOKEN` does not exist in your Colab secrets.\n",
            "To authenticate with the Hugging Face Hub, create a token in your settings tab (https://huggingface.co/settings/tokens), set it as secret in your Google Colab and restart your session.\n",
            "You will be able to reuse this secret in all of your notebooks.\n",
            "Please note that authentication is recommended but still optional to access public models or datasets.\n",
            "  warnings.warn(\n",
            "Some weights of the PyTorch model were not used when initializing the TF 2.0 model TFBertModel: ['cls.predictions.transform.LayerNorm.bias', 'cls.predictions.transform.dense.bias', 'cls.seq_relationship.bias', 'cls.seq_relationship.weight', 'cls.predictions.transform.dense.weight', 'cls.predictions.transform.LayerNorm.weight', 'cls.predictions.bias']\n",
            "- This IS expected if you are initializing TFBertModel from a PyTorch model trained on another task or with another architecture (e.g. initializing a TFBertForSequenceClassification model from a BertForPreTraining model).\n",
            "- This IS NOT expected if you are initializing TFBertModel from a PyTorch model that you expect to be exactly identical (e.g. initializing a TFBertForSequenceClassification model from a BertForSequenceClassification model).\n",
            "All the weights of TFBertModel were initialized from the PyTorch model.\n",
            "If your task is similar to the task the model of the checkpoint was trained on, you can already use TFBertModel for predictions without further training.\n"
          ]
        }
      ]
    },
    {
      "cell_type": "code",
      "source": [
        "# tokenize the subset dataset, truncate at `max_length`,\n",
        "# and pad with 0's when less than `max_length` and return a tf Tensor\n",
        "def tokenize(text):\n",
        "    return bert_tokenizer(list(text), truncation=True, padding=True, max_length=max_length, return_tensors='tf')\n",
        "\n",
        "train_encodings = tokenize(train_subset.text)\n",
        "valid_encodings = tokenize(validation_subset.text)\n",
        "test_encodings = tokenize(test_subset.text)\n"
      ],
      "metadata": {
        "id": "I-wUyVEMgq5Q"
      },
      "execution_count": 11,
      "outputs": []
    },
    {
      "cell_type": "code",
      "source": [
        "def get_abbrev_token_positions(text, abbrev):\n",
        "    \"\"\"\n",
        "    Takes text and abbreviation and finds the start and end index of the\n",
        "    tokenized representation of that abbreviation in the text\n",
        "    \"\"\"\n",
        "    tokenized_text = bert_tokenizer.tokenize(text)\n",
        "    tokenized_abbrev = bert_tokenizer.tokenize(abbrev)\n",
        "    start = tokenized_text.index(tokenized_abbrev[0])\n",
        "    end = tokenized_text.index(tokenized_abbrev[-1])\n",
        "    return start, end\n",
        "\n",
        "\n",
        "def extract_abbrev_positions_from_dataset(dataset):\n",
        "    \"\"\"Extracts all the start and end position of each abbreviation in a dataset\"\"\"\n",
        "    start_positions = []\n",
        "    end_positions = []\n",
        "    for i, row in dataset.iterrows():\n",
        "        start, end = get_abbrev_token_positions(row.text, row.abbreviation)\n",
        "        start_positions.append(start + 1)  # add 1 to account for CLS token at start\n",
        "        end_positions.append(end + 1)\n",
        "\n",
        "    return start_positions, end_positions\n",
        "\n",
        "\n",
        "train_start_positions, train_end_positions = extract_abbrev_positions_from_dataset(train_subset)\n",
        "valid_start_positions, valid_end_positions = extract_abbrev_positions_from_dataset(validation_subset)\n",
        "test_start_positions, test_end_positions = extract_abbrev_positions_from_dataset(test_subset)"
      ],
      "metadata": {
        "id": "rUAqhgJsxzQg"
      },
      "execution_count": 12,
      "outputs": []
    },
    {
      "cell_type": "code",
      "source": [
        "def encode_labels(labels):\n",
        "    return [label_names.index(label) for label in labels]\n",
        "\n",
        "\n",
        "train_labels = encode_labels(train_subset.label)\n",
        "valid_labels = encode_labels(validation_subset.label)\n",
        "test_labels = encode_labels(test_subset.label)"
      ],
      "metadata": {
        "id": "H0ITEprfNnFC"
      },
      "execution_count": 13,
      "outputs": []
    },
    {
      "cell_type": "code",
      "source": [
        "# show original text\n",
        "print(\"Text:\\n\", \"\\n\".join(textwrap.wrap(list(train_subset.text)[0])), \"\\n\")\n",
        "print(\"Label:\", train_labels[0], label_names[train_labels[0]])\n",
        "\n",
        "# encoded abbreviation span decoded back to abbreviation text\n",
        "abbrev_encodings = train_encodings.input_ids[0][train_start_positions[0]:train_end_positions[0]+1]\n",
        "print(\"Abbreviation tokens:\", bert_tokenizer.decode(abbrev_encodings))"
      ],
      "metadata": {
        "colab": {
          "base_uri": "https://localhost:8080/"
        },
        "id": "O4vKDXNfIk4k",
        "outputId": "b45e4449-8ffd-4f31-c784-5aa49121033b"
      },
      "execution_count": 14,
      "outputs": [
        {
          "output_type": "stream",
          "name": "stdout",
          "text": [
            "Text:\n",
            " propafenone ppf is an antiarrhythmic class ic agent its metabolism is\n",
            "genetically controlled by a cytochrome p isoenzyme named cypd which\n",
            "shows polymorphism in human population the aim of this paper was to\n",
            "determine the correlation between the antiarrhythmic tau of ppf and\n",
            "the oxidation phenotype subjects and material the study group\n",
            "consisted of patients aged to years suffering from PAF af the\n",
            "oxidation phenotype was described by the metabolic ratio mr of\n",
            "sparteine the mr value separated the group of PMs mr from the group of\n",
            "extensive metabolizers mr with the subgroup of very extensive\n",
            "metabolizers mr \n",
            "\n",
            "Label: 301 poor metabolizers\n",
            "Abbreviation tokens: PMs\n"
          ]
        }
      ]
    },
    {
      "cell_type": "code",
      "execution_count": 15,
      "metadata": {
        "id": "RtWMrLi4tIun"
      },
      "outputs": [],
      "source": [
        "class ExtractAbbreviationHiddenStates(tf.keras.layers.Layer):\n",
        "    \"\"\"\n",
        "    Custom layer that extracts abbreviation embeddings from BERT\n",
        "    hidden layer state and position inputs\n",
        "    \"\"\"\n",
        "    def call(self, inputs):\n",
        "        last_hidden_state, start_abbrev_token_positions, end_abbrev_token_positions = inputs\n",
        "        batch_size = tf.shape(last_hidden_state)[0]\n",
        "\n",
        "        span_hidden_states = tf.TensorArray(tf.float32, size=0, dynamic_size=True)\n",
        "\n",
        "        for i in tf.range(batch_size):\n",
        "            start_pos = start_abbrev_token_positions[i, 0]\n",
        "            end_pos = end_abbrev_token_positions[i, 0]\n",
        "            span_hidden_state = last_hidden_state[i, start_pos:end_pos+1, :]\n",
        "            span_hidden_states = span_hidden_states.write(i, span_hidden_state)\n",
        "\n",
        "        return span_hidden_states.stack()\n",
        "\n",
        "\n",
        "def create_bert_multiclass_model(checkpoint = model_checkpoint,\n",
        "                                 num_classes = len(label_names),\n",
        "                                 learning_rate=0.00005):\n",
        "    \"\"\"\n",
        "    Build a simple classification model with BERT. Use the Pooler Output for classification purposes.\n",
        "    \"\"\"\n",
        "    tf.keras.backend.clear_session()\n",
        "    tf.random.set_seed(RANDOM_SEED)\n",
        "\n",
        "    input_ids = tf.keras.layers.Input(shape=(max_length,), dtype=tf.int64, name='input_ids_layer')\n",
        "    token_type_ids = tf.keras.layers.Input(shape=(max_length,), dtype=tf.int64, name='token_type_ids_layer')\n",
        "    attention_mask = tf.keras.layers.Input(shape=(max_length,), dtype=tf.int64, name='attention_mask_layer')\n",
        "    start_abbrev_token_positions = tf.keras.layers.Input(shape=(1,), dtype=tf.int32, name='start_abbreviation_token_positions_layer')\n",
        "    end_abbrev_token_positions = tf.keras.layers.Input(shape=(1,), dtype=tf.int32, name='end_abbreviation_token_positions_layer')\n",
        "\n",
        "    bert_inputs = {'input_ids': input_ids,\n",
        "                   'token_type_ids': token_type_ids,\n",
        "                   'attention_mask': attention_mask}\n",
        "\n",
        "    bert_model = TFBertModel.from_pretrained(checkpoint, from_pt=True)\n",
        "\n",
        "    bert_out = bert_model(bert_inputs)\n",
        "\n",
        "    last_hidden_state = bert_out.last_hidden_state\n",
        "\n",
        "    span_hidden_states = ExtractAbbreviationHiddenStates()([last_hidden_state, start_abbrev_token_positions, end_abbrev_token_positions])\n",
        "    pooled_output = tf.reduce_mean(span_hidden_states, axis=1)\n",
        "\n",
        "    classification = tf.keras.layers.Dense(num_classes, activation='softmax', name='classification_layer')(pooled_output)\n",
        "\n",
        "    classification_model = tf.keras.Model(\n",
        "        inputs=[input_ids, token_type_ids, attention_mask, start_abbrev_token_positions, end_abbrev_token_positions],\n",
        "        outputs=[classification],\n",
        "    )\n",
        "\n",
        "    classification_model.compile(optimizer=tf.keras.optimizers.Adam(learning_rate=learning_rate),\n",
        "                                 loss=tf.keras.losses.SparseCategoricalCrossentropy(from_logits=False),\n",
        "                                 metrics='accuracy')\n",
        "\n",
        "    return classification_model"
      ]
    },
    {
      "cell_type": "code",
      "source": [
        "model = create_bert_multiclass_model()\n",
        "model.summary()"
      ],
      "metadata": {
        "id": "wpVEBq88bSwY",
        "colab": {
          "base_uri": "https://localhost:8080/",
          "height": 998,
          "referenced_widgets": [
            "52acd83e161546ff8763528568ef117e",
            "74977fefbadd43839588f61d34f96df9",
            "1e6406b238c044e7844577b198be9db9",
            "3f1097bd97804a488c774cadac04bf83",
            "941828f73f5f4e6a9d9655d5ec06553a",
            "86c8deacee554756b342617595c0965f",
            "7328bdae20814e77b6a5bb21f3881ab7",
            "df0bde5dbbf0465bbe47e7c936f26033",
            "c48f31817c364d5fa411fef0c9c322a0",
            "e65d7ac65c034e7a9d59d98478e6f2ca",
            "32134469c1cd41f5abc9eeab8bd0fa32"
          ]
        },
        "outputId": "81c0acc1-3e88-4d1f-a7eb-c0c6b70b11a6"
      },
      "execution_count": 16,
      "outputs": [
        {
          "output_type": "display_data",
          "data": {
            "text/plain": [
              "pytorch_model.bin:   0%|          | 0.00/436M [00:00<?, ?B/s]"
            ],
            "application/vnd.jupyter.widget-view+json": {
              "version_major": 2,
              "version_minor": 0,
              "model_id": "52acd83e161546ff8763528568ef117e"
            }
          },
          "metadata": {}
        },
        {
          "output_type": "stream",
          "name": "stderr",
          "text": [
            "Some weights of the PyTorch model were not used when initializing the TF 2.0 model TFBertModel: ['cls.predictions.transform.LayerNorm.bias', 'cls.predictions.transform.dense.bias', 'cls.seq_relationship.weight', 'cls.seq_relationship.bias', 'cls.predictions.transform.dense.weight', 'cls.predictions.transform.LayerNorm.weight', 'cls.predictions.decoder.weight', 'cls.predictions.bias']\n",
            "- This IS expected if you are initializing TFBertModel from a PyTorch model trained on another task or with another architecture (e.g. initializing a TFBertForSequenceClassification model from a BertForPreTraining model).\n",
            "- This IS NOT expected if you are initializing TFBertModel from a PyTorch model that you expect to be exactly identical (e.g. initializing a TFBertForSequenceClassification model from a BertForSequenceClassification model).\n",
            "All the weights of TFBertModel were initialized from the PyTorch model.\n",
            "If your task is similar to the task the model of the checkpoint was trained on, you can already use TFBertModel for predictions without further training.\n"
          ]
        },
        {
          "output_type": "stream",
          "name": "stdout",
          "text": [
            "Model: \"model\"\n",
            "__________________________________________________________________________________________________\n",
            " Layer (type)                Output Shape                 Param #   Connected to                  \n",
            "==================================================================================================\n",
            " attention_mask_layer (Inpu  [(None, 200)]                0         []                            \n",
            " tLayer)                                                                                          \n",
            "                                                                                                  \n",
            " input_ids_layer (InputLaye  [(None, 200)]                0         []                            \n",
            " r)                                                                                               \n",
            "                                                                                                  \n",
            " token_type_ids_layer (Inpu  [(None, 200)]                0         []                            \n",
            " tLayer)                                                                                          \n",
            "                                                                                                  \n",
            " tf_bert_model (TFBertModel  TFBaseModelOutputWithPooli   1083102   ['attention_mask_layer[0][0]',\n",
            " )                           ngAndCrossAttentions(last_   72         'input_ids_layer[0][0]',     \n",
            "                             hidden_state=(None, 200, 7              'token_type_ids_layer[0][0]']\n",
            "                             68),                                                                 \n",
            "                              pooler_output=(None, 768)                                           \n",
            "                             , past_key_values=None, hi                                           \n",
            "                             dden_states=None, attentio                                           \n",
            "                             ns=None, cross_attentions=                                           \n",
            "                             None)                                                                \n",
            "                                                                                                  \n",
            " start_abbreviation_token_p  [(None, 1)]                  0         []                            \n",
            " ositions_layer (InputLayer                                                                       \n",
            " )                                                                                                \n",
            "                                                                                                  \n",
            " end_abbreviation_token_pos  [(None, 1)]                  0         []                            \n",
            " itions_layer (InputLayer)                                                                        \n",
            "                                                                                                  \n",
            " extract_abbreviation_hidde  (None, None, 768)            0         ['tf_bert_model[0][0]',       \n",
            " n_states (ExtractAbbreviat                                          'start_abbreviation_token_pos\n",
            " ionHiddenStates)                                                   itions_layer[0][0]',          \n",
            "                                                                     'end_abbreviation_token_posit\n",
            "                                                                    ions_layer[0][0]']            \n",
            "                                                                                                  \n",
            " tf.math.reduce_mean (TFOpL  (None, 768)                  0         ['extract_abbreviation_hidden_\n",
            " ambda)                                                             states[0][0]']                \n",
            "                                                                                                  \n",
            " classification_layer (Dens  (None, 390)                  299910    ['tf.math.reduce_mean[0][0]'] \n",
            " e)                                                                                               \n",
            "                                                                                                  \n",
            "==================================================================================================\n",
            "Total params: 108610182 (414.31 MB)\n",
            "Trainable params: 108610182 (414.31 MB)\n",
            "Non-trainable params: 0 (0.00 Byte)\n",
            "__________________________________________________________________________________________________\n"
          ]
        }
      ]
    },
    {
      "cell_type": "code",
      "source": [
        "train_inputs = [\n",
        "    train_encodings.input_ids,\n",
        "    train_encodings.token_type_ids,\n",
        "    train_encodings.attention_mask,\n",
        "    np.array(train_start_positions),\n",
        "    np.array(train_end_positions),\n",
        "]\n",
        "valid_inputs = [\n",
        "    valid_encodings.input_ids,\n",
        "    valid_encodings.token_type_ids,\n",
        "    valid_encodings.attention_mask,\n",
        "    valid_start_positions,\n",
        "    valid_end_positions,\n",
        "]\n",
        "history = model.fit(\n",
        "    train_inputs,\n",
        "    np.array(train_labels),\n",
        "    validation_data=(valid_inputs, np.array(valid_labels)),\n",
        "    batch_size=16,\n",
        "    shuffle=True,\n",
        "    verbose=1,\n",
        "    epochs=2,\n",
        ")"
      ],
      "metadata": {
        "colab": {
          "base_uri": "https://localhost:8080/"
        },
        "id": "B5g5HOmLWj1o",
        "outputId": "373a9ff3-1700-461c-c8ea-09918680237c"
      },
      "execution_count": null,
      "outputs": [
        {
          "output_type": "stream",
          "name": "stdout",
          "text": [
            "Epoch 1/2\n"
          ]
        },
        {
          "output_type": "stream",
          "name": "stderr",
          "text": [
            "WARNING:tensorflow:Gradients do not exist for variables ['tf_bert_model/bert/pooler/dense/kernel:0', 'tf_bert_model/bert/pooler/dense/bias:0'] when minimizing the loss. If you're using `model.compile()`, did you forget to provide a `loss` argument?\n",
            "WARNING:tensorflow:Gradients do not exist for variables ['tf_bert_model/bert/pooler/dense/kernel:0', 'tf_bert_model/bert/pooler/dense/bias:0'] when minimizing the loss. If you're using `model.compile()`, did you forget to provide a `loss` argument?\n",
            "WARNING:tensorflow:Gradients do not exist for variables ['tf_bert_model/bert/pooler/dense/kernel:0', 'tf_bert_model/bert/pooler/dense/bias:0'] when minimizing the loss. If you're using `model.compile()`, did you forget to provide a `loss` argument?\n",
            "WARNING:tensorflow:Gradients do not exist for variables ['tf_bert_model/bert/pooler/dense/kernel:0', 'tf_bert_model/bert/pooler/dense/bias:0'] when minimizing the loss. If you're using `model.compile()`, did you forget to provide a `loss` argument?\n"
          ]
        }
      ]
    }
  ]
}