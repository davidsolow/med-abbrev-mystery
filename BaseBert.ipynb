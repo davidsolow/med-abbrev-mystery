{
  "nbformat": 4,
  "nbformat_minor": 0,
  "metadata": {
    "colab": {
      "provenance": [],
      "gpuType": "T4"
    },
    "kernelspec": {
      "name": "python3",
      "display_name": "Python 3"
    },
    "language_info": {
      "name": "python"
    },
    "widgets": {
      "application/vnd.jupyter.widget-state+json": {
        "e6b1007f00e242f78879bdc12df33cdc": {
          "model_module": "@jupyter-widgets/controls",
          "model_name": "HBoxModel",
          "model_module_version": "1.5.0",
          "state": {
            "_dom_classes": [],
            "_model_module": "@jupyter-widgets/controls",
            "_model_module_version": "1.5.0",
            "_model_name": "HBoxModel",
            "_view_count": null,
            "_view_module": "@jupyter-widgets/controls",
            "_view_module_version": "1.5.0",
            "_view_name": "HBoxView",
            "box_style": "",
            "children": [
              "IPY_MODEL_1bf017afb50242b99a0406f297794a86",
              "IPY_MODEL_1d7070f17c604cdb8ab95bd8c4246b69",
              "IPY_MODEL_a57c4dbc44a3497d9a0606d9bfcd83b2"
            ],
            "layout": "IPY_MODEL_766a787ad640460792409f446348123d"
          }
        },
        "1bf017afb50242b99a0406f297794a86": {
          "model_module": "@jupyter-widgets/controls",
          "model_name": "HTMLModel",
          "model_module_version": "1.5.0",
          "state": {
            "_dom_classes": [],
            "_model_module": "@jupyter-widgets/controls",
            "_model_module_version": "1.5.0",
            "_model_name": "HTMLModel",
            "_view_count": null,
            "_view_module": "@jupyter-widgets/controls",
            "_view_module_version": "1.5.0",
            "_view_name": "HTMLView",
            "description": "",
            "description_tooltip": null,
            "layout": "IPY_MODEL_251901ed3fe54cb1a45c5c4a89e66c87",
            "placeholder": "​",
            "style": "IPY_MODEL_e1b3ff8cc40c4d7089dbf6ff2e99516e",
            "value": "tokenizer_config.json: 100%"
          }
        },
        "1d7070f17c604cdb8ab95bd8c4246b69": {
          "model_module": "@jupyter-widgets/controls",
          "model_name": "FloatProgressModel",
          "model_module_version": "1.5.0",
          "state": {
            "_dom_classes": [],
            "_model_module": "@jupyter-widgets/controls",
            "_model_module_version": "1.5.0",
            "_model_name": "FloatProgressModel",
            "_view_count": null,
            "_view_module": "@jupyter-widgets/controls",
            "_view_module_version": "1.5.0",
            "_view_name": "ProgressView",
            "bar_style": "success",
            "description": "",
            "description_tooltip": null,
            "layout": "IPY_MODEL_77a1e54a2e324a128139a62ba41076e8",
            "max": 49,
            "min": 0,
            "orientation": "horizontal",
            "style": "IPY_MODEL_0d6800afbca7479cb4859611bd878851",
            "value": 49
          }
        },
        "a57c4dbc44a3497d9a0606d9bfcd83b2": {
          "model_module": "@jupyter-widgets/controls",
          "model_name": "HTMLModel",
          "model_module_version": "1.5.0",
          "state": {
            "_dom_classes": [],
            "_model_module": "@jupyter-widgets/controls",
            "_model_module_version": "1.5.0",
            "_model_name": "HTMLModel",
            "_view_count": null,
            "_view_module": "@jupyter-widgets/controls",
            "_view_module_version": "1.5.0",
            "_view_name": "HTMLView",
            "description": "",
            "description_tooltip": null,
            "layout": "IPY_MODEL_0cd8d6a63ac24f649c82e0642ef3cd6d",
            "placeholder": "​",
            "style": "IPY_MODEL_b30cc89cad4b4d65959b2e3f64b179b5",
            "value": " 49.0/49.0 [00:00&lt;00:00, 1.28kB/s]"
          }
        },
        "766a787ad640460792409f446348123d": {
          "model_module": "@jupyter-widgets/base",
          "model_name": "LayoutModel",
          "model_module_version": "1.2.0",
          "state": {
            "_model_module": "@jupyter-widgets/base",
            "_model_module_version": "1.2.0",
            "_model_name": "LayoutModel",
            "_view_count": null,
            "_view_module": "@jupyter-widgets/base",
            "_view_module_version": "1.2.0",
            "_view_name": "LayoutView",
            "align_content": null,
            "align_items": null,
            "align_self": null,
            "border": null,
            "bottom": null,
            "display": null,
            "flex": null,
            "flex_flow": null,
            "grid_area": null,
            "grid_auto_columns": null,
            "grid_auto_flow": null,
            "grid_auto_rows": null,
            "grid_column": null,
            "grid_gap": null,
            "grid_row": null,
            "grid_template_areas": null,
            "grid_template_columns": null,
            "grid_template_rows": null,
            "height": null,
            "justify_content": null,
            "justify_items": null,
            "left": null,
            "margin": null,
            "max_height": null,
            "max_width": null,
            "min_height": null,
            "min_width": null,
            "object_fit": null,
            "object_position": null,
            "order": null,
            "overflow": null,
            "overflow_x": null,
            "overflow_y": null,
            "padding": null,
            "right": null,
            "top": null,
            "visibility": null,
            "width": null
          }
        },
        "251901ed3fe54cb1a45c5c4a89e66c87": {
          "model_module": "@jupyter-widgets/base",
          "model_name": "LayoutModel",
          "model_module_version": "1.2.0",
          "state": {
            "_model_module": "@jupyter-widgets/base",
            "_model_module_version": "1.2.0",
            "_model_name": "LayoutModel",
            "_view_count": null,
            "_view_module": "@jupyter-widgets/base",
            "_view_module_version": "1.2.0",
            "_view_name": "LayoutView",
            "align_content": null,
            "align_items": null,
            "align_self": null,
            "border": null,
            "bottom": null,
            "display": null,
            "flex": null,
            "flex_flow": null,
            "grid_area": null,
            "grid_auto_columns": null,
            "grid_auto_flow": null,
            "grid_auto_rows": null,
            "grid_column": null,
            "grid_gap": null,
            "grid_row": null,
            "grid_template_areas": null,
            "grid_template_columns": null,
            "grid_template_rows": null,
            "height": null,
            "justify_content": null,
            "justify_items": null,
            "left": null,
            "margin": null,
            "max_height": null,
            "max_width": null,
            "min_height": null,
            "min_width": null,
            "object_fit": null,
            "object_position": null,
            "order": null,
            "overflow": null,
            "overflow_x": null,
            "overflow_y": null,
            "padding": null,
            "right": null,
            "top": null,
            "visibility": null,
            "width": null
          }
        },
        "e1b3ff8cc40c4d7089dbf6ff2e99516e": {
          "model_module": "@jupyter-widgets/controls",
          "model_name": "DescriptionStyleModel",
          "model_module_version": "1.5.0",
          "state": {
            "_model_module": "@jupyter-widgets/controls",
            "_model_module_version": "1.5.0",
            "_model_name": "DescriptionStyleModel",
            "_view_count": null,
            "_view_module": "@jupyter-widgets/base",
            "_view_module_version": "1.2.0",
            "_view_name": "StyleView",
            "description_width": ""
          }
        },
        "77a1e54a2e324a128139a62ba41076e8": {
          "model_module": "@jupyter-widgets/base",
          "model_name": "LayoutModel",
          "model_module_version": "1.2.0",
          "state": {
            "_model_module": "@jupyter-widgets/base",
            "_model_module_version": "1.2.0",
            "_model_name": "LayoutModel",
            "_view_count": null,
            "_view_module": "@jupyter-widgets/base",
            "_view_module_version": "1.2.0",
            "_view_name": "LayoutView",
            "align_content": null,
            "align_items": null,
            "align_self": null,
            "border": null,
            "bottom": null,
            "display": null,
            "flex": null,
            "flex_flow": null,
            "grid_area": null,
            "grid_auto_columns": null,
            "grid_auto_flow": null,
            "grid_auto_rows": null,
            "grid_column": null,
            "grid_gap": null,
            "grid_row": null,
            "grid_template_areas": null,
            "grid_template_columns": null,
            "grid_template_rows": null,
            "height": null,
            "justify_content": null,
            "justify_items": null,
            "left": null,
            "margin": null,
            "max_height": null,
            "max_width": null,
            "min_height": null,
            "min_width": null,
            "object_fit": null,
            "object_position": null,
            "order": null,
            "overflow": null,
            "overflow_x": null,
            "overflow_y": null,
            "padding": null,
            "right": null,
            "top": null,
            "visibility": null,
            "width": null
          }
        },
        "0d6800afbca7479cb4859611bd878851": {
          "model_module": "@jupyter-widgets/controls",
          "model_name": "ProgressStyleModel",
          "model_module_version": "1.5.0",
          "state": {
            "_model_module": "@jupyter-widgets/controls",
            "_model_module_version": "1.5.0",
            "_model_name": "ProgressStyleModel",
            "_view_count": null,
            "_view_module": "@jupyter-widgets/base",
            "_view_module_version": "1.2.0",
            "_view_name": "StyleView",
            "bar_color": null,
            "description_width": ""
          }
        },
        "0cd8d6a63ac24f649c82e0642ef3cd6d": {
          "model_module": "@jupyter-widgets/base",
          "model_name": "LayoutModel",
          "model_module_version": "1.2.0",
          "state": {
            "_model_module": "@jupyter-widgets/base",
            "_model_module_version": "1.2.0",
            "_model_name": "LayoutModel",
            "_view_count": null,
            "_view_module": "@jupyter-widgets/base",
            "_view_module_version": "1.2.0",
            "_view_name": "LayoutView",
            "align_content": null,
            "align_items": null,
            "align_self": null,
            "border": null,
            "bottom": null,
            "display": null,
            "flex": null,
            "flex_flow": null,
            "grid_area": null,
            "grid_auto_columns": null,
            "grid_auto_flow": null,
            "grid_auto_rows": null,
            "grid_column": null,
            "grid_gap": null,
            "grid_row": null,
            "grid_template_areas": null,
            "grid_template_columns": null,
            "grid_template_rows": null,
            "height": null,
            "justify_content": null,
            "justify_items": null,
            "left": null,
            "margin": null,
            "max_height": null,
            "max_width": null,
            "min_height": null,
            "min_width": null,
            "object_fit": null,
            "object_position": null,
            "order": null,
            "overflow": null,
            "overflow_x": null,
            "overflow_y": null,
            "padding": null,
            "right": null,
            "top": null,
            "visibility": null,
            "width": null
          }
        },
        "b30cc89cad4b4d65959b2e3f64b179b5": {
          "model_module": "@jupyter-widgets/controls",
          "model_name": "DescriptionStyleModel",
          "model_module_version": "1.5.0",
          "state": {
            "_model_module": "@jupyter-widgets/controls",
            "_model_module_version": "1.5.0",
            "_model_name": "DescriptionStyleModel",
            "_view_count": null,
            "_view_module": "@jupyter-widgets/base",
            "_view_module_version": "1.2.0",
            "_view_name": "StyleView",
            "description_width": ""
          }
        },
        "f8d320cc5478425689213eb5145ff407": {
          "model_module": "@jupyter-widgets/controls",
          "model_name": "HBoxModel",
          "model_module_version": "1.5.0",
          "state": {
            "_dom_classes": [],
            "_model_module": "@jupyter-widgets/controls",
            "_model_module_version": "1.5.0",
            "_model_name": "HBoxModel",
            "_view_count": null,
            "_view_module": "@jupyter-widgets/controls",
            "_view_module_version": "1.5.0",
            "_view_name": "HBoxView",
            "box_style": "",
            "children": [
              "IPY_MODEL_742eee54a4864351a09278537862c2ab",
              "IPY_MODEL_27d72b9e1ec944c2a507c169807eb77e",
              "IPY_MODEL_4675db3a98ed4fd59e6c6ba5e64a9a1b"
            ],
            "layout": "IPY_MODEL_9d9f0a0e0a1647248192ea2c1a389b50"
          }
        },
        "742eee54a4864351a09278537862c2ab": {
          "model_module": "@jupyter-widgets/controls",
          "model_name": "HTMLModel",
          "model_module_version": "1.5.0",
          "state": {
            "_dom_classes": [],
            "_model_module": "@jupyter-widgets/controls",
            "_model_module_version": "1.5.0",
            "_model_name": "HTMLModel",
            "_view_count": null,
            "_view_module": "@jupyter-widgets/controls",
            "_view_module_version": "1.5.0",
            "_view_name": "HTMLView",
            "description": "",
            "description_tooltip": null,
            "layout": "IPY_MODEL_8fb1f789eeb94689b8695ba3d1c8ccaa",
            "placeholder": "​",
            "style": "IPY_MODEL_a08668f84ebc402b9e70f25ea42b9379",
            "value": "vocab.txt: 100%"
          }
        },
        "27d72b9e1ec944c2a507c169807eb77e": {
          "model_module": "@jupyter-widgets/controls",
          "model_name": "FloatProgressModel",
          "model_module_version": "1.5.0",
          "state": {
            "_dom_classes": [],
            "_model_module": "@jupyter-widgets/controls",
            "_model_module_version": "1.5.0",
            "_model_name": "FloatProgressModel",
            "_view_count": null,
            "_view_module": "@jupyter-widgets/controls",
            "_view_module_version": "1.5.0",
            "_view_name": "ProgressView",
            "bar_style": "success",
            "description": "",
            "description_tooltip": null,
            "layout": "IPY_MODEL_123a3b3fee164285bebb2438f342fd55",
            "max": 213450,
            "min": 0,
            "orientation": "horizontal",
            "style": "IPY_MODEL_eb1ad21a3b7f472daee90ae5e868b8b2",
            "value": 213450
          }
        },
        "4675db3a98ed4fd59e6c6ba5e64a9a1b": {
          "model_module": "@jupyter-widgets/controls",
          "model_name": "HTMLModel",
          "model_module_version": "1.5.0",
          "state": {
            "_dom_classes": [],
            "_model_module": "@jupyter-widgets/controls",
            "_model_module_version": "1.5.0",
            "_model_name": "HTMLModel",
            "_view_count": null,
            "_view_module": "@jupyter-widgets/controls",
            "_view_module_version": "1.5.0",
            "_view_name": "HTMLView",
            "description": "",
            "description_tooltip": null,
            "layout": "IPY_MODEL_0e13ff56a0b44e6e8b6a8ad635564bf2",
            "placeholder": "​",
            "style": "IPY_MODEL_32e8f508a02f4fb781e0ef0834bb000d",
            "value": " 213k/213k [00:00&lt;00:00, 2.63MB/s]"
          }
        },
        "9d9f0a0e0a1647248192ea2c1a389b50": {
          "model_module": "@jupyter-widgets/base",
          "model_name": "LayoutModel",
          "model_module_version": "1.2.0",
          "state": {
            "_model_module": "@jupyter-widgets/base",
            "_model_module_version": "1.2.0",
            "_model_name": "LayoutModel",
            "_view_count": null,
            "_view_module": "@jupyter-widgets/base",
            "_view_module_version": "1.2.0",
            "_view_name": "LayoutView",
            "align_content": null,
            "align_items": null,
            "align_self": null,
            "border": null,
            "bottom": null,
            "display": null,
            "flex": null,
            "flex_flow": null,
            "grid_area": null,
            "grid_auto_columns": null,
            "grid_auto_flow": null,
            "grid_auto_rows": null,
            "grid_column": null,
            "grid_gap": null,
            "grid_row": null,
            "grid_template_areas": null,
            "grid_template_columns": null,
            "grid_template_rows": null,
            "height": null,
            "justify_content": null,
            "justify_items": null,
            "left": null,
            "margin": null,
            "max_height": null,
            "max_width": null,
            "min_height": null,
            "min_width": null,
            "object_fit": null,
            "object_position": null,
            "order": null,
            "overflow": null,
            "overflow_x": null,
            "overflow_y": null,
            "padding": null,
            "right": null,
            "top": null,
            "visibility": null,
            "width": null
          }
        },
        "8fb1f789eeb94689b8695ba3d1c8ccaa": {
          "model_module": "@jupyter-widgets/base",
          "model_name": "LayoutModel",
          "model_module_version": "1.2.0",
          "state": {
            "_model_module": "@jupyter-widgets/base",
            "_model_module_version": "1.2.0",
            "_model_name": "LayoutModel",
            "_view_count": null,
            "_view_module": "@jupyter-widgets/base",
            "_view_module_version": "1.2.0",
            "_view_name": "LayoutView",
            "align_content": null,
            "align_items": null,
            "align_self": null,
            "border": null,
            "bottom": null,
            "display": null,
            "flex": null,
            "flex_flow": null,
            "grid_area": null,
            "grid_auto_columns": null,
            "grid_auto_flow": null,
            "grid_auto_rows": null,
            "grid_column": null,
            "grid_gap": null,
            "grid_row": null,
            "grid_template_areas": null,
            "grid_template_columns": null,
            "grid_template_rows": null,
            "height": null,
            "justify_content": null,
            "justify_items": null,
            "left": null,
            "margin": null,
            "max_height": null,
            "max_width": null,
            "min_height": null,
            "min_width": null,
            "object_fit": null,
            "object_position": null,
            "order": null,
            "overflow": null,
            "overflow_x": null,
            "overflow_y": null,
            "padding": null,
            "right": null,
            "top": null,
            "visibility": null,
            "width": null
          }
        },
        "a08668f84ebc402b9e70f25ea42b9379": {
          "model_module": "@jupyter-widgets/controls",
          "model_name": "DescriptionStyleModel",
          "model_module_version": "1.5.0",
          "state": {
            "_model_module": "@jupyter-widgets/controls",
            "_model_module_version": "1.5.0",
            "_model_name": "DescriptionStyleModel",
            "_view_count": null,
            "_view_module": "@jupyter-widgets/base",
            "_view_module_version": "1.2.0",
            "_view_name": "StyleView",
            "description_width": ""
          }
        },
        "123a3b3fee164285bebb2438f342fd55": {
          "model_module": "@jupyter-widgets/base",
          "model_name": "LayoutModel",
          "model_module_version": "1.2.0",
          "state": {
            "_model_module": "@jupyter-widgets/base",
            "_model_module_version": "1.2.0",
            "_model_name": "LayoutModel",
            "_view_count": null,
            "_view_module": "@jupyter-widgets/base",
            "_view_module_version": "1.2.0",
            "_view_name": "LayoutView",
            "align_content": null,
            "align_items": null,
            "align_self": null,
            "border": null,
            "bottom": null,
            "display": null,
            "flex": null,
            "flex_flow": null,
            "grid_area": null,
            "grid_auto_columns": null,
            "grid_auto_flow": null,
            "grid_auto_rows": null,
            "grid_column": null,
            "grid_gap": null,
            "grid_row": null,
            "grid_template_areas": null,
            "grid_template_columns": null,
            "grid_template_rows": null,
            "height": null,
            "justify_content": null,
            "justify_items": null,
            "left": null,
            "margin": null,
            "max_height": null,
            "max_width": null,
            "min_height": null,
            "min_width": null,
            "object_fit": null,
            "object_position": null,
            "order": null,
            "overflow": null,
            "overflow_x": null,
            "overflow_y": null,
            "padding": null,
            "right": null,
            "top": null,
            "visibility": null,
            "width": null
          }
        },
        "eb1ad21a3b7f472daee90ae5e868b8b2": {
          "model_module": "@jupyter-widgets/controls",
          "model_name": "ProgressStyleModel",
          "model_module_version": "1.5.0",
          "state": {
            "_model_module": "@jupyter-widgets/controls",
            "_model_module_version": "1.5.0",
            "_model_name": "ProgressStyleModel",
            "_view_count": null,
            "_view_module": "@jupyter-widgets/base",
            "_view_module_version": "1.2.0",
            "_view_name": "StyleView",
            "bar_color": null,
            "description_width": ""
          }
        },
        "0e13ff56a0b44e6e8b6a8ad635564bf2": {
          "model_module": "@jupyter-widgets/base",
          "model_name": "LayoutModel",
          "model_module_version": "1.2.0",
          "state": {
            "_model_module": "@jupyter-widgets/base",
            "_model_module_version": "1.2.0",
            "_model_name": "LayoutModel",
            "_view_count": null,
            "_view_module": "@jupyter-widgets/base",
            "_view_module_version": "1.2.0",
            "_view_name": "LayoutView",
            "align_content": null,
            "align_items": null,
            "align_self": null,
            "border": null,
            "bottom": null,
            "display": null,
            "flex": null,
            "flex_flow": null,
            "grid_area": null,
            "grid_auto_columns": null,
            "grid_auto_flow": null,
            "grid_auto_rows": null,
            "grid_column": null,
            "grid_gap": null,
            "grid_row": null,
            "grid_template_areas": null,
            "grid_template_columns": null,
            "grid_template_rows": null,
            "height": null,
            "justify_content": null,
            "justify_items": null,
            "left": null,
            "margin": null,
            "max_height": null,
            "max_width": null,
            "min_height": null,
            "min_width": null,
            "object_fit": null,
            "object_position": null,
            "order": null,
            "overflow": null,
            "overflow_x": null,
            "overflow_y": null,
            "padding": null,
            "right": null,
            "top": null,
            "visibility": null,
            "width": null
          }
        },
        "32e8f508a02f4fb781e0ef0834bb000d": {
          "model_module": "@jupyter-widgets/controls",
          "model_name": "DescriptionStyleModel",
          "model_module_version": "1.5.0",
          "state": {
            "_model_module": "@jupyter-widgets/controls",
            "_model_module_version": "1.5.0",
            "_model_name": "DescriptionStyleModel",
            "_view_count": null,
            "_view_module": "@jupyter-widgets/base",
            "_view_module_version": "1.2.0",
            "_view_name": "StyleView",
            "description_width": ""
          }
        },
        "494b84d5264b446cb99bf9e736de8ff2": {
          "model_module": "@jupyter-widgets/controls",
          "model_name": "HBoxModel",
          "model_module_version": "1.5.0",
          "state": {
            "_dom_classes": [],
            "_model_module": "@jupyter-widgets/controls",
            "_model_module_version": "1.5.0",
            "_model_name": "HBoxModel",
            "_view_count": null,
            "_view_module": "@jupyter-widgets/controls",
            "_view_module_version": "1.5.0",
            "_view_name": "HBoxView",
            "box_style": "",
            "children": [
              "IPY_MODEL_2ee39db1eb2d4708805c063eb3cb8ce9",
              "IPY_MODEL_6b44f36613534e799cd5801c91af990b",
              "IPY_MODEL_3b815324d2c44b02b8c735d648d249fa"
            ],
            "layout": "IPY_MODEL_471e1d7a1d634c73a800aecdb941f2fa"
          }
        },
        "2ee39db1eb2d4708805c063eb3cb8ce9": {
          "model_module": "@jupyter-widgets/controls",
          "model_name": "HTMLModel",
          "model_module_version": "1.5.0",
          "state": {
            "_dom_classes": [],
            "_model_module": "@jupyter-widgets/controls",
            "_model_module_version": "1.5.0",
            "_model_name": "HTMLModel",
            "_view_count": null,
            "_view_module": "@jupyter-widgets/controls",
            "_view_module_version": "1.5.0",
            "_view_name": "HTMLView",
            "description": "",
            "description_tooltip": null,
            "layout": "IPY_MODEL_612198f6949b4b8cb13f9ab29feb14ae",
            "placeholder": "​",
            "style": "IPY_MODEL_d1f9dc0969ac41f9a4f5515c614c0b2f",
            "value": "tokenizer.json: 100%"
          }
        },
        "6b44f36613534e799cd5801c91af990b": {
          "model_module": "@jupyter-widgets/controls",
          "model_name": "FloatProgressModel",
          "model_module_version": "1.5.0",
          "state": {
            "_dom_classes": [],
            "_model_module": "@jupyter-widgets/controls",
            "_model_module_version": "1.5.0",
            "_model_name": "FloatProgressModel",
            "_view_count": null,
            "_view_module": "@jupyter-widgets/controls",
            "_view_module_version": "1.5.0",
            "_view_name": "ProgressView",
            "bar_style": "success",
            "description": "",
            "description_tooltip": null,
            "layout": "IPY_MODEL_f201143eff90434ba30ff6862444006f",
            "max": 435797,
            "min": 0,
            "orientation": "horizontal",
            "style": "IPY_MODEL_773165357f00477da9e589c78a493d71",
            "value": 435797
          }
        },
        "3b815324d2c44b02b8c735d648d249fa": {
          "model_module": "@jupyter-widgets/controls",
          "model_name": "HTMLModel",
          "model_module_version": "1.5.0",
          "state": {
            "_dom_classes": [],
            "_model_module": "@jupyter-widgets/controls",
            "_model_module_version": "1.5.0",
            "_model_name": "HTMLModel",
            "_view_count": null,
            "_view_module": "@jupyter-widgets/controls",
            "_view_module_version": "1.5.0",
            "_view_name": "HTMLView",
            "description": "",
            "description_tooltip": null,
            "layout": "IPY_MODEL_084bfa1d29b94e12ac7e05b277501fbb",
            "placeholder": "​",
            "style": "IPY_MODEL_e7f952e87043446aa75783756a21ad4e",
            "value": " 436k/436k [00:00&lt;00:00, 3.13MB/s]"
          }
        },
        "471e1d7a1d634c73a800aecdb941f2fa": {
          "model_module": "@jupyter-widgets/base",
          "model_name": "LayoutModel",
          "model_module_version": "1.2.0",
          "state": {
            "_model_module": "@jupyter-widgets/base",
            "_model_module_version": "1.2.0",
            "_model_name": "LayoutModel",
            "_view_count": null,
            "_view_module": "@jupyter-widgets/base",
            "_view_module_version": "1.2.0",
            "_view_name": "LayoutView",
            "align_content": null,
            "align_items": null,
            "align_self": null,
            "border": null,
            "bottom": null,
            "display": null,
            "flex": null,
            "flex_flow": null,
            "grid_area": null,
            "grid_auto_columns": null,
            "grid_auto_flow": null,
            "grid_auto_rows": null,
            "grid_column": null,
            "grid_gap": null,
            "grid_row": null,
            "grid_template_areas": null,
            "grid_template_columns": null,
            "grid_template_rows": null,
            "height": null,
            "justify_content": null,
            "justify_items": null,
            "left": null,
            "margin": null,
            "max_height": null,
            "max_width": null,
            "min_height": null,
            "min_width": null,
            "object_fit": null,
            "object_position": null,
            "order": null,
            "overflow": null,
            "overflow_x": null,
            "overflow_y": null,
            "padding": null,
            "right": null,
            "top": null,
            "visibility": null,
            "width": null
          }
        },
        "612198f6949b4b8cb13f9ab29feb14ae": {
          "model_module": "@jupyter-widgets/base",
          "model_name": "LayoutModel",
          "model_module_version": "1.2.0",
          "state": {
            "_model_module": "@jupyter-widgets/base",
            "_model_module_version": "1.2.0",
            "_model_name": "LayoutModel",
            "_view_count": null,
            "_view_module": "@jupyter-widgets/base",
            "_view_module_version": "1.2.0",
            "_view_name": "LayoutView",
            "align_content": null,
            "align_items": null,
            "align_self": null,
            "border": null,
            "bottom": null,
            "display": null,
            "flex": null,
            "flex_flow": null,
            "grid_area": null,
            "grid_auto_columns": null,
            "grid_auto_flow": null,
            "grid_auto_rows": null,
            "grid_column": null,
            "grid_gap": null,
            "grid_row": null,
            "grid_template_areas": null,
            "grid_template_columns": null,
            "grid_template_rows": null,
            "height": null,
            "justify_content": null,
            "justify_items": null,
            "left": null,
            "margin": null,
            "max_height": null,
            "max_width": null,
            "min_height": null,
            "min_width": null,
            "object_fit": null,
            "object_position": null,
            "order": null,
            "overflow": null,
            "overflow_x": null,
            "overflow_y": null,
            "padding": null,
            "right": null,
            "top": null,
            "visibility": null,
            "width": null
          }
        },
        "d1f9dc0969ac41f9a4f5515c614c0b2f": {
          "model_module": "@jupyter-widgets/controls",
          "model_name": "DescriptionStyleModel",
          "model_module_version": "1.5.0",
          "state": {
            "_model_module": "@jupyter-widgets/controls",
            "_model_module_version": "1.5.0",
            "_model_name": "DescriptionStyleModel",
            "_view_count": null,
            "_view_module": "@jupyter-widgets/base",
            "_view_module_version": "1.2.0",
            "_view_name": "StyleView",
            "description_width": ""
          }
        },
        "f201143eff90434ba30ff6862444006f": {
          "model_module": "@jupyter-widgets/base",
          "model_name": "LayoutModel",
          "model_module_version": "1.2.0",
          "state": {
            "_model_module": "@jupyter-widgets/base",
            "_model_module_version": "1.2.0",
            "_model_name": "LayoutModel",
            "_view_count": null,
            "_view_module": "@jupyter-widgets/base",
            "_view_module_version": "1.2.0",
            "_view_name": "LayoutView",
            "align_content": null,
            "align_items": null,
            "align_self": null,
            "border": null,
            "bottom": null,
            "display": null,
            "flex": null,
            "flex_flow": null,
            "grid_area": null,
            "grid_auto_columns": null,
            "grid_auto_flow": null,
            "grid_auto_rows": null,
            "grid_column": null,
            "grid_gap": null,
            "grid_row": null,
            "grid_template_areas": null,
            "grid_template_columns": null,
            "grid_template_rows": null,
            "height": null,
            "justify_content": null,
            "justify_items": null,
            "left": null,
            "margin": null,
            "max_height": null,
            "max_width": null,
            "min_height": null,
            "min_width": null,
            "object_fit": null,
            "object_position": null,
            "order": null,
            "overflow": null,
            "overflow_x": null,
            "overflow_y": null,
            "padding": null,
            "right": null,
            "top": null,
            "visibility": null,
            "width": null
          }
        },
        "773165357f00477da9e589c78a493d71": {
          "model_module": "@jupyter-widgets/controls",
          "model_name": "ProgressStyleModel",
          "model_module_version": "1.5.0",
          "state": {
            "_model_module": "@jupyter-widgets/controls",
            "_model_module_version": "1.5.0",
            "_model_name": "ProgressStyleModel",
            "_view_count": null,
            "_view_module": "@jupyter-widgets/base",
            "_view_module_version": "1.2.0",
            "_view_name": "StyleView",
            "bar_color": null,
            "description_width": ""
          }
        },
        "084bfa1d29b94e12ac7e05b277501fbb": {
          "model_module": "@jupyter-widgets/base",
          "model_name": "LayoutModel",
          "model_module_version": "1.2.0",
          "state": {
            "_model_module": "@jupyter-widgets/base",
            "_model_module_version": "1.2.0",
            "_model_name": "LayoutModel",
            "_view_count": null,
            "_view_module": "@jupyter-widgets/base",
            "_view_module_version": "1.2.0",
            "_view_name": "LayoutView",
            "align_content": null,
            "align_items": null,
            "align_self": null,
            "border": null,
            "bottom": null,
            "display": null,
            "flex": null,
            "flex_flow": null,
            "grid_area": null,
            "grid_auto_columns": null,
            "grid_auto_flow": null,
            "grid_auto_rows": null,
            "grid_column": null,
            "grid_gap": null,
            "grid_row": null,
            "grid_template_areas": null,
            "grid_template_columns": null,
            "grid_template_rows": null,
            "height": null,
            "justify_content": null,
            "justify_items": null,
            "left": null,
            "margin": null,
            "max_height": null,
            "max_width": null,
            "min_height": null,
            "min_width": null,
            "object_fit": null,
            "object_position": null,
            "order": null,
            "overflow": null,
            "overflow_x": null,
            "overflow_y": null,
            "padding": null,
            "right": null,
            "top": null,
            "visibility": null,
            "width": null
          }
        },
        "e7f952e87043446aa75783756a21ad4e": {
          "model_module": "@jupyter-widgets/controls",
          "model_name": "DescriptionStyleModel",
          "model_module_version": "1.5.0",
          "state": {
            "_model_module": "@jupyter-widgets/controls",
            "_model_module_version": "1.5.0",
            "_model_name": "DescriptionStyleModel",
            "_view_count": null,
            "_view_module": "@jupyter-widgets/base",
            "_view_module_version": "1.2.0",
            "_view_name": "StyleView",
            "description_width": ""
          }
        },
        "948d2996adf947119ad3c3863ab8415e": {
          "model_module": "@jupyter-widgets/controls",
          "model_name": "HBoxModel",
          "model_module_version": "1.5.0",
          "state": {
            "_dom_classes": [],
            "_model_module": "@jupyter-widgets/controls",
            "_model_module_version": "1.5.0",
            "_model_name": "HBoxModel",
            "_view_count": null,
            "_view_module": "@jupyter-widgets/controls",
            "_view_module_version": "1.5.0",
            "_view_name": "HBoxView",
            "box_style": "",
            "children": [
              "IPY_MODEL_11c197212016413aba6f02188d282c06",
              "IPY_MODEL_d5da6c897b8948e7b416688905804d97",
              "IPY_MODEL_58954303fc414d6298d519ea05e2be16"
            ],
            "layout": "IPY_MODEL_09cd2049796a4f71a3842dd3619c9c46"
          }
        },
        "11c197212016413aba6f02188d282c06": {
          "model_module": "@jupyter-widgets/controls",
          "model_name": "HTMLModel",
          "model_module_version": "1.5.0",
          "state": {
            "_dom_classes": [],
            "_model_module": "@jupyter-widgets/controls",
            "_model_module_version": "1.5.0",
            "_model_name": "HTMLModel",
            "_view_count": null,
            "_view_module": "@jupyter-widgets/controls",
            "_view_module_version": "1.5.0",
            "_view_name": "HTMLView",
            "description": "",
            "description_tooltip": null,
            "layout": "IPY_MODEL_47c3f58b31dc465c9be81788a0bae034",
            "placeholder": "​",
            "style": "IPY_MODEL_3ea2059d97204c6baf71ff58ba98cd96",
            "value": "config.json: 100%"
          }
        },
        "d5da6c897b8948e7b416688905804d97": {
          "model_module": "@jupyter-widgets/controls",
          "model_name": "FloatProgressModel",
          "model_module_version": "1.5.0",
          "state": {
            "_dom_classes": [],
            "_model_module": "@jupyter-widgets/controls",
            "_model_module_version": "1.5.0",
            "_model_name": "FloatProgressModel",
            "_view_count": null,
            "_view_module": "@jupyter-widgets/controls",
            "_view_module_version": "1.5.0",
            "_view_name": "ProgressView",
            "bar_style": "success",
            "description": "",
            "description_tooltip": null,
            "layout": "IPY_MODEL_171fdae28025446bb016639722efedbc",
            "max": 570,
            "min": 0,
            "orientation": "horizontal",
            "style": "IPY_MODEL_530d18bf6a4348b3913ec1a81f00be62",
            "value": 570
          }
        },
        "58954303fc414d6298d519ea05e2be16": {
          "model_module": "@jupyter-widgets/controls",
          "model_name": "HTMLModel",
          "model_module_version": "1.5.0",
          "state": {
            "_dom_classes": [],
            "_model_module": "@jupyter-widgets/controls",
            "_model_module_version": "1.5.0",
            "_model_name": "HTMLModel",
            "_view_count": null,
            "_view_module": "@jupyter-widgets/controls",
            "_view_module_version": "1.5.0",
            "_view_name": "HTMLView",
            "description": "",
            "description_tooltip": null,
            "layout": "IPY_MODEL_75c4418301b6402b814b8aa17deaf9ee",
            "placeholder": "​",
            "style": "IPY_MODEL_366f4069308749d6909acb865e59870a",
            "value": " 570/570 [00:00&lt;00:00, 8.86kB/s]"
          }
        },
        "09cd2049796a4f71a3842dd3619c9c46": {
          "model_module": "@jupyter-widgets/base",
          "model_name": "LayoutModel",
          "model_module_version": "1.2.0",
          "state": {
            "_model_module": "@jupyter-widgets/base",
            "_model_module_version": "1.2.0",
            "_model_name": "LayoutModel",
            "_view_count": null,
            "_view_module": "@jupyter-widgets/base",
            "_view_module_version": "1.2.0",
            "_view_name": "LayoutView",
            "align_content": null,
            "align_items": null,
            "align_self": null,
            "border": null,
            "bottom": null,
            "display": null,
            "flex": null,
            "flex_flow": null,
            "grid_area": null,
            "grid_auto_columns": null,
            "grid_auto_flow": null,
            "grid_auto_rows": null,
            "grid_column": null,
            "grid_gap": null,
            "grid_row": null,
            "grid_template_areas": null,
            "grid_template_columns": null,
            "grid_template_rows": null,
            "height": null,
            "justify_content": null,
            "justify_items": null,
            "left": null,
            "margin": null,
            "max_height": null,
            "max_width": null,
            "min_height": null,
            "min_width": null,
            "object_fit": null,
            "object_position": null,
            "order": null,
            "overflow": null,
            "overflow_x": null,
            "overflow_y": null,
            "padding": null,
            "right": null,
            "top": null,
            "visibility": null,
            "width": null
          }
        },
        "47c3f58b31dc465c9be81788a0bae034": {
          "model_module": "@jupyter-widgets/base",
          "model_name": "LayoutModel",
          "model_module_version": "1.2.0",
          "state": {
            "_model_module": "@jupyter-widgets/base",
            "_model_module_version": "1.2.0",
            "_model_name": "LayoutModel",
            "_view_count": null,
            "_view_module": "@jupyter-widgets/base",
            "_view_module_version": "1.2.0",
            "_view_name": "LayoutView",
            "align_content": null,
            "align_items": null,
            "align_self": null,
            "border": null,
            "bottom": null,
            "display": null,
            "flex": null,
            "flex_flow": null,
            "grid_area": null,
            "grid_auto_columns": null,
            "grid_auto_flow": null,
            "grid_auto_rows": null,
            "grid_column": null,
            "grid_gap": null,
            "grid_row": null,
            "grid_template_areas": null,
            "grid_template_columns": null,
            "grid_template_rows": null,
            "height": null,
            "justify_content": null,
            "justify_items": null,
            "left": null,
            "margin": null,
            "max_height": null,
            "max_width": null,
            "min_height": null,
            "min_width": null,
            "object_fit": null,
            "object_position": null,
            "order": null,
            "overflow": null,
            "overflow_x": null,
            "overflow_y": null,
            "padding": null,
            "right": null,
            "top": null,
            "visibility": null,
            "width": null
          }
        },
        "3ea2059d97204c6baf71ff58ba98cd96": {
          "model_module": "@jupyter-widgets/controls",
          "model_name": "DescriptionStyleModel",
          "model_module_version": "1.5.0",
          "state": {
            "_model_module": "@jupyter-widgets/controls",
            "_model_module_version": "1.5.0",
            "_model_name": "DescriptionStyleModel",
            "_view_count": null,
            "_view_module": "@jupyter-widgets/base",
            "_view_module_version": "1.2.0",
            "_view_name": "StyleView",
            "description_width": ""
          }
        },
        "171fdae28025446bb016639722efedbc": {
          "model_module": "@jupyter-widgets/base",
          "model_name": "LayoutModel",
          "model_module_version": "1.2.0",
          "state": {
            "_model_module": "@jupyter-widgets/base",
            "_model_module_version": "1.2.0",
            "_model_name": "LayoutModel",
            "_view_count": null,
            "_view_module": "@jupyter-widgets/base",
            "_view_module_version": "1.2.0",
            "_view_name": "LayoutView",
            "align_content": null,
            "align_items": null,
            "align_self": null,
            "border": null,
            "bottom": null,
            "display": null,
            "flex": null,
            "flex_flow": null,
            "grid_area": null,
            "grid_auto_columns": null,
            "grid_auto_flow": null,
            "grid_auto_rows": null,
            "grid_column": null,
            "grid_gap": null,
            "grid_row": null,
            "grid_template_areas": null,
            "grid_template_columns": null,
            "grid_template_rows": null,
            "height": null,
            "justify_content": null,
            "justify_items": null,
            "left": null,
            "margin": null,
            "max_height": null,
            "max_width": null,
            "min_height": null,
            "min_width": null,
            "object_fit": null,
            "object_position": null,
            "order": null,
            "overflow": null,
            "overflow_x": null,
            "overflow_y": null,
            "padding": null,
            "right": null,
            "top": null,
            "visibility": null,
            "width": null
          }
        },
        "530d18bf6a4348b3913ec1a81f00be62": {
          "model_module": "@jupyter-widgets/controls",
          "model_name": "ProgressStyleModel",
          "model_module_version": "1.5.0",
          "state": {
            "_model_module": "@jupyter-widgets/controls",
            "_model_module_version": "1.5.0",
            "_model_name": "ProgressStyleModel",
            "_view_count": null,
            "_view_module": "@jupyter-widgets/base",
            "_view_module_version": "1.2.0",
            "_view_name": "StyleView",
            "bar_color": null,
            "description_width": ""
          }
        },
        "75c4418301b6402b814b8aa17deaf9ee": {
          "model_module": "@jupyter-widgets/base",
          "model_name": "LayoutModel",
          "model_module_version": "1.2.0",
          "state": {
            "_model_module": "@jupyter-widgets/base",
            "_model_module_version": "1.2.0",
            "_model_name": "LayoutModel",
            "_view_count": null,
            "_view_module": "@jupyter-widgets/base",
            "_view_module_version": "1.2.0",
            "_view_name": "LayoutView",
            "align_content": null,
            "align_items": null,
            "align_self": null,
            "border": null,
            "bottom": null,
            "display": null,
            "flex": null,
            "flex_flow": null,
            "grid_area": null,
            "grid_auto_columns": null,
            "grid_auto_flow": null,
            "grid_auto_rows": null,
            "grid_column": null,
            "grid_gap": null,
            "grid_row": null,
            "grid_template_areas": null,
            "grid_template_columns": null,
            "grid_template_rows": null,
            "height": null,
            "justify_content": null,
            "justify_items": null,
            "left": null,
            "margin": null,
            "max_height": null,
            "max_width": null,
            "min_height": null,
            "min_width": null,
            "object_fit": null,
            "object_position": null,
            "order": null,
            "overflow": null,
            "overflow_x": null,
            "overflow_y": null,
            "padding": null,
            "right": null,
            "top": null,
            "visibility": null,
            "width": null
          }
        },
        "366f4069308749d6909acb865e59870a": {
          "model_module": "@jupyter-widgets/controls",
          "model_name": "DescriptionStyleModel",
          "model_module_version": "1.5.0",
          "state": {
            "_model_module": "@jupyter-widgets/controls",
            "_model_module_version": "1.5.0",
            "_model_name": "DescriptionStyleModel",
            "_view_count": null,
            "_view_module": "@jupyter-widgets/base",
            "_view_module_version": "1.2.0",
            "_view_name": "StyleView",
            "description_width": ""
          }
        },
        "2e3aa4f3d36847b585419ac33f3d7150": {
          "model_module": "@jupyter-widgets/controls",
          "model_name": "HBoxModel",
          "model_module_version": "1.5.0",
          "state": {
            "_dom_classes": [],
            "_model_module": "@jupyter-widgets/controls",
            "_model_module_version": "1.5.0",
            "_model_name": "HBoxModel",
            "_view_count": null,
            "_view_module": "@jupyter-widgets/controls",
            "_view_module_version": "1.5.0",
            "_view_name": "HBoxView",
            "box_style": "",
            "children": [
              "IPY_MODEL_738fa43ddccc477dbf97ac8c15bd74dd",
              "IPY_MODEL_d78a8a605f3f4dc3885268d0958b53d6",
              "IPY_MODEL_9947b5ff86394275af85e7fda34d520b"
            ],
            "layout": "IPY_MODEL_ae180f3ad4cf4ea1a02bb0fe0adb3ec4"
          }
        },
        "738fa43ddccc477dbf97ac8c15bd74dd": {
          "model_module": "@jupyter-widgets/controls",
          "model_name": "HTMLModel",
          "model_module_version": "1.5.0",
          "state": {
            "_dom_classes": [],
            "_model_module": "@jupyter-widgets/controls",
            "_model_module_version": "1.5.0",
            "_model_name": "HTMLModel",
            "_view_count": null,
            "_view_module": "@jupyter-widgets/controls",
            "_view_module_version": "1.5.0",
            "_view_name": "HTMLView",
            "description": "",
            "description_tooltip": null,
            "layout": "IPY_MODEL_00d1f3bc6d734f8e839055b8cf134417",
            "placeholder": "​",
            "style": "IPY_MODEL_b22a5e3374c141209b3dcfa6129bd621",
            "value": "model.safetensors: 100%"
          }
        },
        "d78a8a605f3f4dc3885268d0958b53d6": {
          "model_module": "@jupyter-widgets/controls",
          "model_name": "FloatProgressModel",
          "model_module_version": "1.5.0",
          "state": {
            "_dom_classes": [],
            "_model_module": "@jupyter-widgets/controls",
            "_model_module_version": "1.5.0",
            "_model_name": "FloatProgressModel",
            "_view_count": null,
            "_view_module": "@jupyter-widgets/controls",
            "_view_module_version": "1.5.0",
            "_view_name": "ProgressView",
            "bar_style": "success",
            "description": "",
            "description_tooltip": null,
            "layout": "IPY_MODEL_d60eda932b8f432ebc72023b73757f58",
            "max": 435755784,
            "min": 0,
            "orientation": "horizontal",
            "style": "IPY_MODEL_dc5adfe6271046588fdd09e7beb492c9",
            "value": 435755784
          }
        },
        "9947b5ff86394275af85e7fda34d520b": {
          "model_module": "@jupyter-widgets/controls",
          "model_name": "HTMLModel",
          "model_module_version": "1.5.0",
          "state": {
            "_dom_classes": [],
            "_model_module": "@jupyter-widgets/controls",
            "_model_module_version": "1.5.0",
            "_model_name": "HTMLModel",
            "_view_count": null,
            "_view_module": "@jupyter-widgets/controls",
            "_view_module_version": "1.5.0",
            "_view_name": "HTMLView",
            "description": "",
            "description_tooltip": null,
            "layout": "IPY_MODEL_7b1c467b42f9410a9d752a1ff9bf12fb",
            "placeholder": "​",
            "style": "IPY_MODEL_75054b72adcc4c57b7e6cb72a658db18",
            "value": " 436M/436M [00:05&lt;00:00, 102MB/s]"
          }
        },
        "ae180f3ad4cf4ea1a02bb0fe0adb3ec4": {
          "model_module": "@jupyter-widgets/base",
          "model_name": "LayoutModel",
          "model_module_version": "1.2.0",
          "state": {
            "_model_module": "@jupyter-widgets/base",
            "_model_module_version": "1.2.0",
            "_model_name": "LayoutModel",
            "_view_count": null,
            "_view_module": "@jupyter-widgets/base",
            "_view_module_version": "1.2.0",
            "_view_name": "LayoutView",
            "align_content": null,
            "align_items": null,
            "align_self": null,
            "border": null,
            "bottom": null,
            "display": null,
            "flex": null,
            "flex_flow": null,
            "grid_area": null,
            "grid_auto_columns": null,
            "grid_auto_flow": null,
            "grid_auto_rows": null,
            "grid_column": null,
            "grid_gap": null,
            "grid_row": null,
            "grid_template_areas": null,
            "grid_template_columns": null,
            "grid_template_rows": null,
            "height": null,
            "justify_content": null,
            "justify_items": null,
            "left": null,
            "margin": null,
            "max_height": null,
            "max_width": null,
            "min_height": null,
            "min_width": null,
            "object_fit": null,
            "object_position": null,
            "order": null,
            "overflow": null,
            "overflow_x": null,
            "overflow_y": null,
            "padding": null,
            "right": null,
            "top": null,
            "visibility": null,
            "width": null
          }
        },
        "00d1f3bc6d734f8e839055b8cf134417": {
          "model_module": "@jupyter-widgets/base",
          "model_name": "LayoutModel",
          "model_module_version": "1.2.0",
          "state": {
            "_model_module": "@jupyter-widgets/base",
            "_model_module_version": "1.2.0",
            "_model_name": "LayoutModel",
            "_view_count": null,
            "_view_module": "@jupyter-widgets/base",
            "_view_module_version": "1.2.0",
            "_view_name": "LayoutView",
            "align_content": null,
            "align_items": null,
            "align_self": null,
            "border": null,
            "bottom": null,
            "display": null,
            "flex": null,
            "flex_flow": null,
            "grid_area": null,
            "grid_auto_columns": null,
            "grid_auto_flow": null,
            "grid_auto_rows": null,
            "grid_column": null,
            "grid_gap": null,
            "grid_row": null,
            "grid_template_areas": null,
            "grid_template_columns": null,
            "grid_template_rows": null,
            "height": null,
            "justify_content": null,
            "justify_items": null,
            "left": null,
            "margin": null,
            "max_height": null,
            "max_width": null,
            "min_height": null,
            "min_width": null,
            "object_fit": null,
            "object_position": null,
            "order": null,
            "overflow": null,
            "overflow_x": null,
            "overflow_y": null,
            "padding": null,
            "right": null,
            "top": null,
            "visibility": null,
            "width": null
          }
        },
        "b22a5e3374c141209b3dcfa6129bd621": {
          "model_module": "@jupyter-widgets/controls",
          "model_name": "DescriptionStyleModel",
          "model_module_version": "1.5.0",
          "state": {
            "_model_module": "@jupyter-widgets/controls",
            "_model_module_version": "1.5.0",
            "_model_name": "DescriptionStyleModel",
            "_view_count": null,
            "_view_module": "@jupyter-widgets/base",
            "_view_module_version": "1.2.0",
            "_view_name": "StyleView",
            "description_width": ""
          }
        },
        "d60eda932b8f432ebc72023b73757f58": {
          "model_module": "@jupyter-widgets/base",
          "model_name": "LayoutModel",
          "model_module_version": "1.2.0",
          "state": {
            "_model_module": "@jupyter-widgets/base",
            "_model_module_version": "1.2.0",
            "_model_name": "LayoutModel",
            "_view_count": null,
            "_view_module": "@jupyter-widgets/base",
            "_view_module_version": "1.2.0",
            "_view_name": "LayoutView",
            "align_content": null,
            "align_items": null,
            "align_self": null,
            "border": null,
            "bottom": null,
            "display": null,
            "flex": null,
            "flex_flow": null,
            "grid_area": null,
            "grid_auto_columns": null,
            "grid_auto_flow": null,
            "grid_auto_rows": null,
            "grid_column": null,
            "grid_gap": null,
            "grid_row": null,
            "grid_template_areas": null,
            "grid_template_columns": null,
            "grid_template_rows": null,
            "height": null,
            "justify_content": null,
            "justify_items": null,
            "left": null,
            "margin": null,
            "max_height": null,
            "max_width": null,
            "min_height": null,
            "min_width": null,
            "object_fit": null,
            "object_position": null,
            "order": null,
            "overflow": null,
            "overflow_x": null,
            "overflow_y": null,
            "padding": null,
            "right": null,
            "top": null,
            "visibility": null,
            "width": null
          }
        },
        "dc5adfe6271046588fdd09e7beb492c9": {
          "model_module": "@jupyter-widgets/controls",
          "model_name": "ProgressStyleModel",
          "model_module_version": "1.5.0",
          "state": {
            "_model_module": "@jupyter-widgets/controls",
            "_model_module_version": "1.5.0",
            "_model_name": "ProgressStyleModel",
            "_view_count": null,
            "_view_module": "@jupyter-widgets/base",
            "_view_module_version": "1.2.0",
            "_view_name": "StyleView",
            "bar_color": null,
            "description_width": ""
          }
        },
        "7b1c467b42f9410a9d752a1ff9bf12fb": {
          "model_module": "@jupyter-widgets/base",
          "model_name": "LayoutModel",
          "model_module_version": "1.2.0",
          "state": {
            "_model_module": "@jupyter-widgets/base",
            "_model_module_version": "1.2.0",
            "_model_name": "LayoutModel",
            "_view_count": null,
            "_view_module": "@jupyter-widgets/base",
            "_view_module_version": "1.2.0",
            "_view_name": "LayoutView",
            "align_content": null,
            "align_items": null,
            "align_self": null,
            "border": null,
            "bottom": null,
            "display": null,
            "flex": null,
            "flex_flow": null,
            "grid_area": null,
            "grid_auto_columns": null,
            "grid_auto_flow": null,
            "grid_auto_rows": null,
            "grid_column": null,
            "grid_gap": null,
            "grid_row": null,
            "grid_template_areas": null,
            "grid_template_columns": null,
            "grid_template_rows": null,
            "height": null,
            "justify_content": null,
            "justify_items": null,
            "left": null,
            "margin": null,
            "max_height": null,
            "max_width": null,
            "min_height": null,
            "min_width": null,
            "object_fit": null,
            "object_position": null,
            "order": null,
            "overflow": null,
            "overflow_x": null,
            "overflow_y": null,
            "padding": null,
            "right": null,
            "top": null,
            "visibility": null,
            "width": null
          }
        },
        "75054b72adcc4c57b7e6cb72a658db18": {
          "model_module": "@jupyter-widgets/controls",
          "model_name": "DescriptionStyleModel",
          "model_module_version": "1.5.0",
          "state": {
            "_model_module": "@jupyter-widgets/controls",
            "_model_module_version": "1.5.0",
            "_model_name": "DescriptionStyleModel",
            "_view_count": null,
            "_view_module": "@jupyter-widgets/base",
            "_view_module_version": "1.2.0",
            "_view_name": "StyleView",
            "description_width": ""
          }
        }
      }
    },
    "accelerator": "GPU"
  },
  "cells": [
    {
      "cell_type": "markdown",
      "source": [
        "# Import Statements and Loading Data"
      ],
      "metadata": {
        "id": "_1R447BZlh9q"
      }
    },
    {
      "cell_type": "code",
      "source": [
        "#Import statements\n",
        "import pandas as pd\n",
        "import numpy as np\n",
        "import matplotlib.pyplot as plt\n",
        "import seaborn as sns\n",
        "import random\n",
        "import re\n",
        "import textwrap\n",
        "\n",
        "from sklearn.model_selection import StratifiedShuffleSplit\n",
        "\n",
        "import tensorflow as tf\n",
        "from tensorflow import keras\n",
        "from transformers import BertTokenizer, TFBertModel"
      ],
      "metadata": {
        "id": "wBmVGnZ80kYd"
      },
      "execution_count": 1,
      "outputs": []
    },
    {
      "cell_type": "code",
      "source": [
        "from google.colab import drive\n",
        "drive.mount('/content/drive')"
      ],
      "metadata": {
        "colab": {
          "base_uri": "https://localhost:8080/"
        },
        "id": "UQ3M1_qjfK9K",
        "outputId": "af4e7e8e-eb24-4ea1-cb00-59197403bb7b"
      },
      "execution_count": 2,
      "outputs": [
        {
          "output_type": "stream",
          "name": "stdout",
          "text": [
            "Mounted at /content/drive\n"
          ]
        }
      ]
    },
    {
      "cell_type": "code",
      "source": [
        "train = pd.read_csv(\"drive/MyDrive/266Project/train-3.csv\")\n",
        "test = pd.read_csv(\"drive/MyDrive/266Project/test.csv\")\n",
        "validation = pd.read_csv(\"drive/MyDrive/266Project/validation.csv\")"
      ],
      "metadata": {
        "id": "UK_ZnV7KfUso"
      },
      "execution_count": 3,
      "outputs": []
    },
    {
      "cell_type": "code",
      "source": [
        "print(len(train))\n",
        "print(len(test))\n",
        "print(len(validation))"
      ],
      "metadata": {
        "colab": {
          "base_uri": "https://localhost:8080/"
        },
        "id": "LNTNQqgSlG8A",
        "outputId": "5965da0e-1671-4f33-c9fa-59896055bfcd"
      },
      "execution_count": 4,
      "outputs": [
        {
          "output_type": "stream",
          "name": "stdout",
          "text": [
            "3000000\n",
            "1000000\n",
            "1000000\n"
          ]
        }
      ]
    },
    {
      "cell_type": "markdown",
      "source": [
        "# Exploratory Data Analysis and Data Cleaning"
      ],
      "metadata": {
        "id": "OtZZX18klcLF"
      }
    },
    {
      "cell_type": "code",
      "source": [
        "#example of text\n",
        "train.text[0]"
      ],
      "metadata": {
        "colab": {
          "base_uri": "https://localhost:8080/",
          "height": 143
        },
        "id": "-QsO9we4lrp7",
        "outputId": "0866b5ab-8ec2-421b-bf7c-1225e1dbd375"
      },
      "execution_count": 5,
      "outputs": [
        {
          "output_type": "execute_result",
          "data": {
            "text/plain": [
              "'velvet antlers vas are commonly used in traditional chinese medicine and invigorant and contain many PET components for health promotion the velvet antler peptide svap is one of active components in vas based on structural study the svap interacts with tgfÎ² receptors and disrupts the tgfÎ² pathway we hypothesized that svap prevents cardiac fibrosis from pressure overload by blocking tgfÎ² signaling SDRs underwent TAC tac or a sham operation T3 one month rats received either svap mgkgday or vehicle for an additional one month tac surgery induced significant cardiac dysfunction FB activation and fibrosis these effects were improved by treatment with svap in the heart tissue tac remarkably increased the expression of tgfÎ² and connective tissue growth factor ctgf ROS species C2 and the phosphorylation C2 of smad and ERK kinases erk svap inhibited the increases in reactive oxygen species C2 ctgf expression and the phosphorylation of smad and erk but not tgfÎ² expression in cultured cardiac fibroblasts angiotensin ii ang ii had similar effects compared to tac surgery such as increases in Î±smapositive CFs and collagen synthesis svap eliminated these effects by disrupting tgfÎ² IB to its receptors and blocking ang iitgfÎ² downstream signaling these results demonstrated that svap has antifibrotic effects by blocking the tgfÎ² pathway in CFs'"
            ],
            "application/vnd.google.colaboratory.intrinsic+json": {
              "type": "string"
            }
          },
          "metadata": {},
          "execution_count": 5
        }
      ]
    },
    {
      "cell_type": "code",
      "source": [
        "#looking at abbreviation\n",
        "train.text[0].split()[63]"
      ],
      "metadata": {
        "colab": {
          "base_uri": "https://localhost:8080/",
          "height": 35
        },
        "id": "OAlzJ2qPl5sg",
        "outputId": "dabbd2d8-1f96-4dcd-c60f-13dd591fb3f7"
      },
      "execution_count": 6,
      "outputs": [
        {
          "output_type": "execute_result",
          "data": {
            "text/plain": [
              "'TAC'"
            ],
            "application/vnd.google.colaboratory.intrinsic+json": {
              "type": "string"
            }
          },
          "metadata": {},
          "execution_count": 6
        }
      ]
    },
    {
      "cell_type": "code",
      "source": [
        "#looking at structure of location column\n",
        "train['location'].value_counts()"
      ],
      "metadata": {
        "id": "Nlg_DYqBmFp_",
        "colab": {
          "base_uri": "https://localhost:8080/"
        },
        "outputId": "2a569ee6-10d5-4a0e-d649-2ce568402219"
      },
      "execution_count": 7,
      "outputs": [
        {
          "output_type": "execute_result",
          "data": {
            "text/plain": [
              "location\n",
              "[0]      84375\n",
              "[1]      38055\n",
              "[3]      33892\n",
              "[6]      33524\n",
              "[5]      33440\n",
              "         ...  \n",
              "[570]        1\n",
              "[691]        1\n",
              "[588]        1\n",
              "[861]        1\n",
              "[559]        1\n",
              "Name: count, Length: 767, dtype: int64"
            ]
          },
          "metadata": {},
          "execution_count": 7
        }
      ]
    },
    {
      "cell_type": "code",
      "source": [
        "#cleaning locations and labels\n",
        "max_length = 200\n",
        "max_location = max_length - 3 # minus [CLS] and [SEP] tokens added and index offset\n",
        "\n",
        "def clean_location(location):\n",
        "  \"\"\"Takes a number in brackets as input and returns the number as an int\"\"\"\n",
        "  return int(str(location).strip(\"[]\"))\n",
        "\n",
        "\n",
        "def clean_label(label):\n",
        "  \"\"\"Takes a label in brackets and quotes as input and returns the label as a string\"\"\"\n",
        "  return label.strip(\"[]'\")\n",
        "\n",
        "  [dataset['location'] <= max_location]\n",
        "\n",
        "\n",
        "def add_abbreviation_col(dataset):\n",
        "    \"\"\"Adds an abbreviation column to the dataset from the specified location in the text\"\"\"\n",
        "    dataset['abbreviation'] = dataset.apply(lambda row: row['text'].split()[row['location']], axis=1)\n",
        "    return dataset\n",
        "\n",
        "\n",
        "def clean_dataset(dataset):\n",
        "    dataset['location'] = dataset['location'].apply(clean_location)\n",
        "    dataset['label'] = dataset['label'].apply(clean_label)\n",
        "    dataset = dataset.loc[dataset['location'] <= max_location].copy()\n",
        "    add_abbreviation_col(dataset)\n",
        "    return dataset\n",
        "\n",
        "\n",
        "train = clean_dataset(train)\n",
        "test = clean_dataset(test)\n",
        "validation = clean_dataset(validation)\n",
        "\n",
        "train.head()"
      ],
      "metadata": {
        "colab": {
          "base_uri": "https://localhost:8080/",
          "height": 206
        },
        "id": "q4_o88VP1ady",
        "outputId": "217a6358-ef55-4888-90af-63c6d06f281c"
      },
      "execution_count": 4,
      "outputs": [
        {
          "output_type": "execute_result",
          "data": {
            "text/plain": [
              "   Unnamed: 0  abstract_id                                               text  \\\n",
              "0           0     14145090  velvet antlers vas are commonly used in tradit...   \n",
              "1           1      1900667  the clinical features of our cases demonstrate...   \n",
              "2           2      8625554  ceftobiprole bpr is an investigational cephalo...   \n",
              "3           3      8157202  we have taken a basic biologic RPA to elucidat...   \n",
              "4           4      6784974  lipoperoxidationderived aldehydes for example ...   \n",
              "\n",
              "   location                               label abbreviation  \n",
              "0        63      transverse aortic constriction          TAC  \n",
              "1        85                   hodgkins lymphoma           HD  \n",
              "2        90     methicillinsusceptible s aureus         MSSA  \n",
              "3        26  parathyroid hormonerelated protein        PTHrP  \n",
              "4       157                    lipoperoxidation          LPO  "
            ],
            "text/html": [
              "\n",
              "  <div id=\"df-a7b37e2e-2775-489f-bf6d-abcc73dd943e\" class=\"colab-df-container\">\n",
              "    <div>\n",
              "<style scoped>\n",
              "    .dataframe tbody tr th:only-of-type {\n",
              "        vertical-align: middle;\n",
              "    }\n",
              "\n",
              "    .dataframe tbody tr th {\n",
              "        vertical-align: top;\n",
              "    }\n",
              "\n",
              "    .dataframe thead th {\n",
              "        text-align: right;\n",
              "    }\n",
              "</style>\n",
              "<table border=\"1\" class=\"dataframe\">\n",
              "  <thead>\n",
              "    <tr style=\"text-align: right;\">\n",
              "      <th></th>\n",
              "      <th>Unnamed: 0</th>\n",
              "      <th>abstract_id</th>\n",
              "      <th>text</th>\n",
              "      <th>location</th>\n",
              "      <th>label</th>\n",
              "      <th>abbreviation</th>\n",
              "    </tr>\n",
              "  </thead>\n",
              "  <tbody>\n",
              "    <tr>\n",
              "      <th>0</th>\n",
              "      <td>0</td>\n",
              "      <td>14145090</td>\n",
              "      <td>velvet antlers vas are commonly used in tradit...</td>\n",
              "      <td>63</td>\n",
              "      <td>transverse aortic constriction</td>\n",
              "      <td>TAC</td>\n",
              "    </tr>\n",
              "    <tr>\n",
              "      <th>1</th>\n",
              "      <td>1</td>\n",
              "      <td>1900667</td>\n",
              "      <td>the clinical features of our cases demonstrate...</td>\n",
              "      <td>85</td>\n",
              "      <td>hodgkins lymphoma</td>\n",
              "      <td>HD</td>\n",
              "    </tr>\n",
              "    <tr>\n",
              "      <th>2</th>\n",
              "      <td>2</td>\n",
              "      <td>8625554</td>\n",
              "      <td>ceftobiprole bpr is an investigational cephalo...</td>\n",
              "      <td>90</td>\n",
              "      <td>methicillinsusceptible s aureus</td>\n",
              "      <td>MSSA</td>\n",
              "    </tr>\n",
              "    <tr>\n",
              "      <th>3</th>\n",
              "      <td>3</td>\n",
              "      <td>8157202</td>\n",
              "      <td>we have taken a basic biologic RPA to elucidat...</td>\n",
              "      <td>26</td>\n",
              "      <td>parathyroid hormonerelated protein</td>\n",
              "      <td>PTHrP</td>\n",
              "    </tr>\n",
              "    <tr>\n",
              "      <th>4</th>\n",
              "      <td>4</td>\n",
              "      <td>6784974</td>\n",
              "      <td>lipoperoxidationderived aldehydes for example ...</td>\n",
              "      <td>157</td>\n",
              "      <td>lipoperoxidation</td>\n",
              "      <td>LPO</td>\n",
              "    </tr>\n",
              "  </tbody>\n",
              "</table>\n",
              "</div>\n",
              "    <div class=\"colab-df-buttons\">\n",
              "\n",
              "  <div class=\"colab-df-container\">\n",
              "    <button class=\"colab-df-convert\" onclick=\"convertToInteractive('df-a7b37e2e-2775-489f-bf6d-abcc73dd943e')\"\n",
              "            title=\"Convert this dataframe to an interactive table.\"\n",
              "            style=\"display:none;\">\n",
              "\n",
              "  <svg xmlns=\"http://www.w3.org/2000/svg\" height=\"24px\" viewBox=\"0 -960 960 960\">\n",
              "    <path d=\"M120-120v-720h720v720H120Zm60-500h600v-160H180v160Zm220 220h160v-160H400v160Zm0 220h160v-160H400v160ZM180-400h160v-160H180v160Zm440 0h160v-160H620v160ZM180-180h160v-160H180v160Zm440 0h160v-160H620v160Z\"/>\n",
              "  </svg>\n",
              "    </button>\n",
              "\n",
              "  <style>\n",
              "    .colab-df-container {\n",
              "      display:flex;\n",
              "      gap: 12px;\n",
              "    }\n",
              "\n",
              "    .colab-df-convert {\n",
              "      background-color: #E8F0FE;\n",
              "      border: none;\n",
              "      border-radius: 50%;\n",
              "      cursor: pointer;\n",
              "      display: none;\n",
              "      fill: #1967D2;\n",
              "      height: 32px;\n",
              "      padding: 0 0 0 0;\n",
              "      width: 32px;\n",
              "    }\n",
              "\n",
              "    .colab-df-convert:hover {\n",
              "      background-color: #E2EBFA;\n",
              "      box-shadow: 0px 1px 2px rgba(60, 64, 67, 0.3), 0px 1px 3px 1px rgba(60, 64, 67, 0.15);\n",
              "      fill: #174EA6;\n",
              "    }\n",
              "\n",
              "    .colab-df-buttons div {\n",
              "      margin-bottom: 4px;\n",
              "    }\n",
              "\n",
              "    [theme=dark] .colab-df-convert {\n",
              "      background-color: #3B4455;\n",
              "      fill: #D2E3FC;\n",
              "    }\n",
              "\n",
              "    [theme=dark] .colab-df-convert:hover {\n",
              "      background-color: #434B5C;\n",
              "      box-shadow: 0px 1px 3px 1px rgba(0, 0, 0, 0.15);\n",
              "      filter: drop-shadow(0px 1px 2px rgba(0, 0, 0, 0.3));\n",
              "      fill: #FFFFFF;\n",
              "    }\n",
              "  </style>\n",
              "\n",
              "    <script>\n",
              "      const buttonEl =\n",
              "        document.querySelector('#df-a7b37e2e-2775-489f-bf6d-abcc73dd943e button.colab-df-convert');\n",
              "      buttonEl.style.display =\n",
              "        google.colab.kernel.accessAllowed ? 'block' : 'none';\n",
              "\n",
              "      async function convertToInteractive(key) {\n",
              "        const element = document.querySelector('#df-a7b37e2e-2775-489f-bf6d-abcc73dd943e');\n",
              "        const dataTable =\n",
              "          await google.colab.kernel.invokeFunction('convertToInteractive',\n",
              "                                                    [key], {});\n",
              "        if (!dataTable) return;\n",
              "\n",
              "        const docLinkHtml = 'Like what you see? Visit the ' +\n",
              "          '<a target=\"_blank\" href=https://colab.research.google.com/notebooks/data_table.ipynb>data table notebook</a>'\n",
              "          + ' to learn more about interactive tables.';\n",
              "        element.innerHTML = '';\n",
              "        dataTable['output_type'] = 'display_data';\n",
              "        await google.colab.output.renderOutput(dataTable, element);\n",
              "        const docLink = document.createElement('div');\n",
              "        docLink.innerHTML = docLinkHtml;\n",
              "        element.appendChild(docLink);\n",
              "      }\n",
              "    </script>\n",
              "  </div>\n",
              "\n",
              "\n",
              "<div id=\"df-6a51452a-ea98-4c80-8672-eae6f12abbc0\">\n",
              "  <button class=\"colab-df-quickchart\" onclick=\"quickchart('df-6a51452a-ea98-4c80-8672-eae6f12abbc0')\"\n",
              "            title=\"Suggest charts\"\n",
              "            style=\"display:none;\">\n",
              "\n",
              "<svg xmlns=\"http://www.w3.org/2000/svg\" height=\"24px\"viewBox=\"0 0 24 24\"\n",
              "     width=\"24px\">\n",
              "    <g>\n",
              "        <path d=\"M19 3H5c-1.1 0-2 .9-2 2v14c0 1.1.9 2 2 2h14c1.1 0 2-.9 2-2V5c0-1.1-.9-2-2-2zM9 17H7v-7h2v7zm4 0h-2V7h2v10zm4 0h-2v-4h2v4z\"/>\n",
              "    </g>\n",
              "</svg>\n",
              "  </button>\n",
              "\n",
              "<style>\n",
              "  .colab-df-quickchart {\n",
              "      --bg-color: #E8F0FE;\n",
              "      --fill-color: #1967D2;\n",
              "      --hover-bg-color: #E2EBFA;\n",
              "      --hover-fill-color: #174EA6;\n",
              "      --disabled-fill-color: #AAA;\n",
              "      --disabled-bg-color: #DDD;\n",
              "  }\n",
              "\n",
              "  [theme=dark] .colab-df-quickchart {\n",
              "      --bg-color: #3B4455;\n",
              "      --fill-color: #D2E3FC;\n",
              "      --hover-bg-color: #434B5C;\n",
              "      --hover-fill-color: #FFFFFF;\n",
              "      --disabled-bg-color: #3B4455;\n",
              "      --disabled-fill-color: #666;\n",
              "  }\n",
              "\n",
              "  .colab-df-quickchart {\n",
              "    background-color: var(--bg-color);\n",
              "    border: none;\n",
              "    border-radius: 50%;\n",
              "    cursor: pointer;\n",
              "    display: none;\n",
              "    fill: var(--fill-color);\n",
              "    height: 32px;\n",
              "    padding: 0;\n",
              "    width: 32px;\n",
              "  }\n",
              "\n",
              "  .colab-df-quickchart:hover {\n",
              "    background-color: var(--hover-bg-color);\n",
              "    box-shadow: 0 1px 2px rgba(60, 64, 67, 0.3), 0 1px 3px 1px rgba(60, 64, 67, 0.15);\n",
              "    fill: var(--button-hover-fill-color);\n",
              "  }\n",
              "\n",
              "  .colab-df-quickchart-complete:disabled,\n",
              "  .colab-df-quickchart-complete:disabled:hover {\n",
              "    background-color: var(--disabled-bg-color);\n",
              "    fill: var(--disabled-fill-color);\n",
              "    box-shadow: none;\n",
              "  }\n",
              "\n",
              "  .colab-df-spinner {\n",
              "    border: 2px solid var(--fill-color);\n",
              "    border-color: transparent;\n",
              "    border-bottom-color: var(--fill-color);\n",
              "    animation:\n",
              "      spin 1s steps(1) infinite;\n",
              "  }\n",
              "\n",
              "  @keyframes spin {\n",
              "    0% {\n",
              "      border-color: transparent;\n",
              "      border-bottom-color: var(--fill-color);\n",
              "      border-left-color: var(--fill-color);\n",
              "    }\n",
              "    20% {\n",
              "      border-color: transparent;\n",
              "      border-left-color: var(--fill-color);\n",
              "      border-top-color: var(--fill-color);\n",
              "    }\n",
              "    30% {\n",
              "      border-color: transparent;\n",
              "      border-left-color: var(--fill-color);\n",
              "      border-top-color: var(--fill-color);\n",
              "      border-right-color: var(--fill-color);\n",
              "    }\n",
              "    40% {\n",
              "      border-color: transparent;\n",
              "      border-right-color: var(--fill-color);\n",
              "      border-top-color: var(--fill-color);\n",
              "    }\n",
              "    60% {\n",
              "      border-color: transparent;\n",
              "      border-right-color: var(--fill-color);\n",
              "    }\n",
              "    80% {\n",
              "      border-color: transparent;\n",
              "      border-right-color: var(--fill-color);\n",
              "      border-bottom-color: var(--fill-color);\n",
              "    }\n",
              "    90% {\n",
              "      border-color: transparent;\n",
              "      border-bottom-color: var(--fill-color);\n",
              "    }\n",
              "  }\n",
              "</style>\n",
              "\n",
              "  <script>\n",
              "    async function quickchart(key) {\n",
              "      const quickchartButtonEl =\n",
              "        document.querySelector('#' + key + ' button');\n",
              "      quickchartButtonEl.disabled = true;  // To prevent multiple clicks.\n",
              "      quickchartButtonEl.classList.add('colab-df-spinner');\n",
              "      try {\n",
              "        const charts = await google.colab.kernel.invokeFunction(\n",
              "            'suggestCharts', [key], {});\n",
              "      } catch (error) {\n",
              "        console.error('Error during call to suggestCharts:', error);\n",
              "      }\n",
              "      quickchartButtonEl.classList.remove('colab-df-spinner');\n",
              "      quickchartButtonEl.classList.add('colab-df-quickchart-complete');\n",
              "    }\n",
              "    (() => {\n",
              "      let quickchartButtonEl =\n",
              "        document.querySelector('#df-6a51452a-ea98-4c80-8672-eae6f12abbc0 button');\n",
              "      quickchartButtonEl.style.display =\n",
              "        google.colab.kernel.accessAllowed ? 'block' : 'none';\n",
              "    })();\n",
              "  </script>\n",
              "</div>\n",
              "\n",
              "    </div>\n",
              "  </div>\n"
            ],
            "application/vnd.google.colaboratory.intrinsic+json": {
              "type": "dataframe",
              "variable_name": "train"
            }
          },
          "metadata": {},
          "execution_count": 4
        }
      ]
    },
    {
      "cell_type": "code",
      "source": [
        "#plotting location\n",
        "plt.hist(train['location'], bins = 40)\n",
        "plt.title('Location Distribution')\n",
        "plt.xlabel('Location')\n",
        "plt.ylabel('Count')\n",
        "plt.show()"
      ],
      "metadata": {
        "colab": {
          "base_uri": "https://localhost:8080/",
          "height": 472
        },
        "id": "QAkUJH1Fu-Gt",
        "outputId": "ab9af28f-8cc0-4c8c-8ccf-3d91cf977887"
      },
      "execution_count": 9,
      "outputs": [
        {
          "output_type": "display_data",
          "data": {
            "text/plain": [
              "<Figure size 640x480 with 1 Axes>"
            ],
            "image/png": "[encoded data removed]"
          },
          "metadata": {}
        }
      ]
    },
    {
      "cell_type": "code",
      "source": [
        "# #Average length of abbreviation\n",
        "# length = []\n",
        "# for index in range(len(train)):\n",
        "#   length.append(len(train['text'][index].split()[train['location'][index]]))\n",
        "# print(np.average(length))\n"
      ],
      "metadata": {
        "id": "wOz2DvALv7TI"
      },
      "execution_count": 11,
      "outputs": []
    },
    {
      "cell_type": "code",
      "source": [
        "#Plotting distribution of abbreviation lengths\n",
        "plt.hist(length, bins = 15)\n",
        "plt.title('Abbreviation Length Distribution')\n",
        "plt.xlabel('Abbreviation Length')\n",
        "plt.ylabel('Count')\n",
        "plt.show()"
      ],
      "metadata": {
        "id": "uNOWolLLwG15",
        "colab": {
          "base_uri": "https://localhost:8080/",
          "height": 472
        },
        "outputId": "2f5997a3-0574-498e-b6e1-0256b748affc"
      },
      "execution_count": 12,
      "outputs": [
        {
          "output_type": "display_data",
          "data": {
            "text/plain": [
              "<Figure size 640x480 with 1 Axes>"
            ],
            "image/png": "[encoded data removed]"
          },
          "metadata": {}
        }
      ]
    },
    {
      "cell_type": "code",
      "source": [
        "# How many different labels are there?\n",
        "print(len(train['label'].unique()))"
      ],
      "metadata": {
        "id": "Gr7HKpt-wP2u",
        "colab": {
          "base_uri": "https://localhost:8080/"
        },
        "outputId": "dd763786-778c-4c09-e921-4fc534b66a92"
      },
      "execution_count": 13,
      "outputs": [
        {
          "output_type": "stream",
          "name": "stdout",
          "text": [
            "22555\n"
          ]
        }
      ]
    },
    {
      "cell_type": "code",
      "source": [
        "NUM_ABBREVIATIONS = 100\n",
        "RANDOM_SEED = 42\n",
        "\n",
        "random.seed(RANDOM_SEED)\n",
        "\n",
        "abbreviation_subset = random.sample(list(train.abbreviation.unique()), NUM_ABBREVIATIONS)"
      ],
      "metadata": {
        "id": "7p847lRcDJOT"
      },
      "execution_count": 5,
      "outputs": []
    },
    {
      "cell_type": "code",
      "source": [
        "#subset the dataset\n",
        "\n",
        "train_subset = train[train['abbreviation'].isin(abbreviation_subset)]\n",
        "test_subset = test[test['abbreviation'].isin(abbreviation_subset)]\n",
        "validation_subset = validation[validation['abbreviation'].isin(abbreviation_subset)]\n",
        "\n",
        "print(len(train_subset))\n",
        "print(len(validation_subset))\n",
        "print(len(test_subset))"
      ],
      "metadata": {
        "id": "D59ogwtXxbYA",
        "colab": {
          "base_uri": "https://localhost:8080/"
        },
        "outputId": "31be7479-b1db-43dd-e39f-fc7ac33615d8"
      },
      "execution_count": 6,
      "outputs": [
        {
          "output_type": "stream",
          "name": "stdout",
          "text": [
            "49596\n",
            "16504\n",
            "16509\n"
          ]
        }
      ]
    },
    {
      "cell_type": "code",
      "source": [
        "label_names = sorted(train_subset.label.unique())\n",
        "print(f\"Size: {len(label_names)}\", label_names)"
      ],
      "metadata": {
        "colab": {
          "base_uri": "https://localhost:8080/"
        },
        "id": "73CkKMHbD-QS",
        "outputId": "4cf52582-e885-46c0-f59f-73a2178aeff1"
      },
      "execution_count": 7,
      "outputs": [
        {
          "output_type": "stream",
          "name": "stdout",
          "text": [
            "Size: 390 ['active wakefulness', 'active waking', 'adjuvantinduced arthritis', 'aidsassociated retrovirus', 'allylisopropylacetamide', 'aminomethylhimidazofquinoline', 'aminomethylimidazofquinoline', 'anterior wall', 'antigeninduced arthritis', 'antiretroviral', 'ash weight', 'aspirininduced asthma', 'aspirinintolerant asthma', 'average rectified value', 'avian reovirus', 'beauvericin', 'beet yellows closterovirus', 'beet yellows virus', 'belowknee amputation', 'bence jones protein', 'bence jones proteinuria', 'bongkrekic acid', 'bromoethanamine', 'bromoethylamine hydrobromide', 'buffer capacity', 'buffering power', 'calponin homology', 'carbon paste electrode', 'carbonphosphorus', 'carboxypeptidase e', 'cardiac hypertrophy', 'cardiogenic pulmonary edema', 'cell proliferation kinetics', 'central hemodynamics', 'cerebral hemispheres', 'cerebral hemorrhage', 'chediakhigashi', 'chief executive officer', 'childpugh', 'chiral stationary phases', 'chloral hydrate', 'chloroethylene oxide', 'chloroperoxidase', 'chlorpyrifos oxon', 'chronic hepatitis', 'chronic hypoxia', 'chronic infantile neurological cutaneous and articular', 'chronic intermittent ethanol', 'chronic pulmonary emphysema', 'chronically hypoxic', 'clinical global impression of severity', 'clinical pastoral education', 'clostridium perfringens enterotoxin', 'cloudpoint extraction', 'cluster headache', 'cold shock proteins', 'coli oh', 'colorectal cancers', 'colorectal carcinomas', 'colorectal distention', 'community hospital', 'concentrationresponse curves', 'concentric hypertrophy', 'conerod dystrophy', 'congenital hydrocephalus', 'congenital hypothyroid', 'continuing professional education', 'coproporphyrinogen oxidase', 'creatine phosphate kinase', 'creatinephosphokinase', 'crossreacting determinant', 'crypt height', 'cumulus cellenclosed oocytes', 'cyanoethylene oxide', 'cyclic hematopoiesis', 'cysteine string proteins', 'cysteinerich domain', 'cytoplasmic polyadenylation element', 'decayed teeth', 'decidual tissue', 'definitive phage type', 'delirium tremens', 'densitometric units', 'depleted uranium', 'desimipramine', 'desmethylimipramine', 'desmoid tumor', 'developed tension', 'diabetic muscle infarction', 'dibutylnitrosamine', 'diffraction tomography', 'diphtheria and tetanus toxoids', 'diphtheriatetanus', 'dipole tracing', 'doppler myocardial imaging', 'downbeat nystagmus', 'drive for thinness', 'dry matter intake', 'duodenal', 'duodenal ulcer disease', 'duodenal ulcer patients', 'ecarin clotting time', 'electrochemotherapy', 'electroconvulsive therapy', 'electroconvulsive treatment', 'electrogastrographic', 'electrogastrography', 'electroglottograph', 'electroglottographic', 'electroglottography', 'elimination', 'endocurietherapy', 'endoscopic band ligation', 'enterohaemorrhagic e coli', 'enterohemorrhagic', 'enterohemorrhagic escherichia coli', 'enzootic bovine leukosis', 'escherichia coli heatstable toxin', 'estimated blood loss', 'experimental autoimmune myocarditis', 'experimental autoimmune myositis', 'external acoustic meatus', 'external auditory meatus', 'familial polyposis coli', 'family of repeats', 'family planning clinic', 'farred light', 'fasciculus retroflexus', 'fast fatigueresistant', 'fast resistant', 'fatigue resistant', 'fatty acid betaoxidation', 'fatty acid oxidation', 'fertilization rate', 'fibrolamellar carcinoma', 'firing rate', 'fish protein concentrate', 'flexor reflex', 'flowering locus c', 'food and agriculture organization of the united nations', 'food restriction', 'fourth larval stage', 'fourth lumbar', 'fquinoline', 'fractional reabsorption', 'framework', 'friend leukemia cells', 'functional reach', 'galactose elimination capacity', 'gas chromatographmass spectrometer', 'gas chromatography coupled with mass spectrometry', 'general medical services', 'geriatric mental state', 'geriatric mental state schedule', 'gianotticrosti syndrome', 'glasgow coma scale', 'glasgow coma scale score', 'glomerular volume', 'glucosylceramide synthase', 'glyceryl monostearate', 'glycine cleavage system', 'gomori methenamine silver', 'graduated compression stockings', 'graft', 'group health cooperative', 'group health cooperative of puget sound', 'h postfertilization', 'headdown rotation', 'heart rate variability', 'heart rate variation', 'heatstable enterotoxin of escherichia coli', 'heavy chain constant', 'heavy chain constant region', 'hedgehog', 'hemodynamic response', 'hemolysin bl', 'hemopoietic histocompatibility', 'hepatoblastoma', 'hexagonal bilayer', 'hexamethylpropyleneamineoxime', 'high frequency', 'highmolecularweight', 'history', 'homologydirected repair', 'homoserine lactone', 'hormonesensitive lipase', 'hours postfertilization', 'human fibroblast', 'human mast cell line', 'human rotavirus', 'human telomerase rna', 'hyperplasia', 'hypobetalipoproteinemia', 'hypothalamic ventromedial nucleus', 'ilimaquinone', 'immunoglobulinlike transcript', 'immunoreactive trypsin', 'immunoreactive trypsinogen', 'infectious canine hepatitis', 'infectious laryngotracheitis', 'infrared thermography', 'inhibitor of the campdependent protein kinase', 'inhibitorresistant tem', 'insulindependent diabetics', 'intelligence', 'interaural level differences', 'interglobular domain', 'international conference on harmonisation', 'interquartile', 'interstitial laser therapy', 'interstitial laser thermotherapy', 'interstitial lung diseases', 'intracerebral haemorrhage', 'intracoronary radiation therapy', 'intracranial haemorrhage', 'intraduodenal administration', 'iodine deficiency disorders', 'isolated gonadotropin deficiency', 'item response theory', 'lateral collateral ligament', 'lateral motor column', 'lebers hereditary optic neuropathy', 'liver regeneration after partial hepatectomy', 'localized cutaneous leishmaniasis', 'luminol chemiluminescence', 'lymphoblastoid cells', 'lymphocytemediated cytotoxicity', 'magnetic source imaging', 'masseter muscle', 'maternal mortality', 'maternalfetal medicine', 'maximum diameter', 'maximum dose', 'megakaryocytic', 'melphalan', 'meningococcal meningitis', 'menstrual migraine', 'mesangial matrix', 'metanephric mesenchyme', 'methadone maintenance', 'mevalonate kinase', 'mgkg intraduodenally', 'michaelismenten', 'microbial keratitis', 'microwave', 'midkine', 'millimeter waves', 'minimal medium', 'mirror movements', 'mitochondrial myopathy', 'mixed micelles', 'miyoshi myopathy', 'model', 'mouse erythroleukaemia', 'mouse erythroleukemic', 'mtchexamethylpropyleneamineoxime', 'mucus contact', 'multifocal electroretinography', 'multifocal erg', 'munichwistar', 'murine erythroleukaemia', 'murine erythroleukemia', 'murine erythroleukemic', 'muscarinic acetylcholine', 'muscarinic cholinergic', 'muscle mass', 'muscularis mucosae', 'mycoplasma meleagridis', 'myeloid metaplasia', 'myelomeningocele', 'myofibrillar myopathy', 'narcissistic personality disorder', 'nasal potential difference', 'natural family planning', 'nndibutylnitrosamine', 'nocturnal paroxysmal dystonia', 'normal protein diet', 'normal weight', 'normal wistar', 'normal women', 'normotensive wistar', 'notforprofit', 'occult lesion localization', 'paired filtration dialysis', 'palmar hyperhidrosis', 'partially hepatectomized', 'peak height', 'pelvic floor dysfunction', 'penicillinnonsusceptible s pneumoniae', 'penicillinnonsusceptible streptococcus pneumoniae', 'perfluorodecalin', 'perisynaptic schwann cells', 'periventricular heterotopia', 'phenol', 'phosphokinase activity', 'photon flux density', 'phydroxymercuribenzoic acid', 'plasma membranes', 'pleckstrin homology', 'polyhexamethylene biguanide', 'poor metabolisers', 'poor metabolizers', 'posterior hypothalamus', 'posterior subcapsular cataracts', 'postsynaptic currents', 'postural hypotension', 'prepositus hypoglossi', 'promyelocytic leukemia zinc finger', 'promyelocytic leukemia zinc finger protein', 'proportional hazards', 'proteinfree diet', 'pubic hair', 'public key infrastructure', 'pulmonary hemorrhage', 'pulmonary hypoplasia', 'radioimmunoscintigraphy', 'reaction time task', 'recombinant inbred strains', 'regression coefficient', 'rna component of human telomerase', 'rna component of telomerase', 'sabinfeldman dye test', 'salmonella typhimurium definitive type', 'sambucus nigra', 'sambucus nigra agglutinin', 'selective reminding test', 'semliki forest virus', 'sensitive to apoptosis gene', 'simian foamy viruses', 'simple reaction time', 'single fiber emg', 'single fibre electromyography', 'singlefiber electromyography', 'sinus node artery', 'skeletofusimotor', 'sludge retention time', 'sodium antimony gluconate', 'solids retention time', 'specific inhalation challenge', 'spectral exponent', 'spontaneous cellmediated cytotoxicity', 'spontaneous epscs', 'spontaneous excitatory postsynaptic currents', 'statoacoustic ganglion', 'stereotactic radiotherapy', 'stiffness index', 'stiffness parameter', 'streptococcal inhibitor of complement', 'sulfated cholecystokinin octapeptide', 'superficial femoral vein', 'surfactant replacement therapy', 'sustainedrelease theophylline', 'sympathetic nerve activity', 'symptom rating test', 'testosterone buciclate', 'theobromine', 'thiobenzamide', 'thoroughbred', 'tissue basophils', 'toluidine blue', 'total body', 'tracheobronchial', 'transcutaneous energy transfer', 'trapezoid body', 'treadmill exercise test', 'tributyrin', 'triceps brachii', 'triethyl tin', 'triethyltin', 'triethyltin bromide', 'trisborate', 'trypan blue', 'tubal embryo transfer', 'tuberculous', 'tumorbearing', 'under a fixedratio', 'undifferentiated embryonal sarcoma', 'upper esophageal sphincter', 'uridine', 'urinary retention', 'utilization review', 'vein grafts', 'ventriculography', 'ventromedial hypothalamic', 'ventromedial hypothalamic nuclei', 'ventromedial hypothalamus', 'vestibular ganglion', 'viral hemorrhagic fever', 'visual halffield', 'whey protein concentrate']\n"
          ]
        }
      ]
    },
    {
      "cell_type": "code",
      "source": [
        "del train\n",
        "del test\n",
        "del validation"
      ],
      "metadata": {
        "id": "_E8n7OC4RdV4"
      },
      "execution_count": 8,
      "outputs": []
    },
    {
      "cell_type": "markdown",
      "source": [
        "# BERT Base Model\n"
      ],
      "metadata": {
        "id": "6tyS6qJHewbX"
      }
    },
    {
      "cell_type": "code",
      "source": [
        "model_checkpoint = 'bert-base-cased'\n",
        "bert_tokenizer = BertTokenizer.from_pretrained(model_checkpoint)\n",
        "bert_model = TFBertModel.from_pretrained(model_checkpoint)"
      ],
      "metadata": {
        "colab": {
          "base_uri": "https://localhost:8080/",
          "height": 429,
          "referenced_widgets": [
            "e6b1007f00e242f78879bdc12df33cdc",
            "1bf017afb50242b99a0406f297794a86",
            "1d7070f17c604cdb8ab95bd8c4246b69",
            "a57c4dbc44a3497d9a0606d9bfcd83b2",
            "766a787ad640460792409f446348123d",
            "251901ed3fe54cb1a45c5c4a89e66c87",
            "e1b3ff8cc40c4d7089dbf6ff2e99516e",
            "77a1e54a2e324a128139a62ba41076e8",
            "0d6800afbca7479cb4859611bd878851",
            "0cd8d6a63ac24f649c82e0642ef3cd6d",
            "b30cc89cad4b4d65959b2e3f64b179b5",
            "f8d320cc5478425689213eb5145ff407",
            "742eee54a4864351a09278537862c2ab",
            "27d72b9e1ec944c2a507c169807eb77e",
            "4675db3a98ed4fd59e6c6ba5e64a9a1b",
            "9d9f0a0e0a1647248192ea2c1a389b50",
            "8fb1f789eeb94689b8695ba3d1c8ccaa",
            "a08668f84ebc402b9e70f25ea42b9379",
            "123a3b3fee164285bebb2438f342fd55",
            "eb1ad21a3b7f472daee90ae5e868b8b2",
            "0e13ff56a0b44e6e8b6a8ad635564bf2",
            "32e8f508a02f4fb781e0ef0834bb000d",
            "494b84d5264b446cb99bf9e736de8ff2",
            "2ee39db1eb2d4708805c063eb3cb8ce9",
            "6b44f36613534e799cd5801c91af990b",
            "3b815324d2c44b02b8c735d648d249fa",
            "471e1d7a1d634c73a800aecdb941f2fa",
            "612198f6949b4b8cb13f9ab29feb14ae",
            "d1f9dc0969ac41f9a4f5515c614c0b2f",
            "f201143eff90434ba30ff6862444006f",
            "773165357f00477da9e589c78a493d71",
            "084bfa1d29b94e12ac7e05b277501fbb",
            "e7f952e87043446aa75783756a21ad4e",
            "948d2996adf947119ad3c3863ab8415e",
            "11c197212016413aba6f02188d282c06",
            "d5da6c897b8948e7b416688905804d97",
            "58954303fc414d6298d519ea05e2be16",
            "09cd2049796a4f71a3842dd3619c9c46",
            "47c3f58b31dc465c9be81788a0bae034",
            "3ea2059d97204c6baf71ff58ba98cd96",
            "171fdae28025446bb016639722efedbc",
            "530d18bf6a4348b3913ec1a81f00be62",
            "75c4418301b6402b814b8aa17deaf9ee",
            "366f4069308749d6909acb865e59870a",
            "2e3aa4f3d36847b585419ac33f3d7150",
            "738fa43ddccc477dbf97ac8c15bd74dd",
            "d78a8a605f3f4dc3885268d0958b53d6",
            "9947b5ff86394275af85e7fda34d520b",
            "ae180f3ad4cf4ea1a02bb0fe0adb3ec4",
            "00d1f3bc6d734f8e839055b8cf134417",
            "b22a5e3374c141209b3dcfa6129bd621",
            "d60eda932b8f432ebc72023b73757f58",
            "dc5adfe6271046588fdd09e7beb492c9",
            "7b1c467b42f9410a9d752a1ff9bf12fb",
            "75054b72adcc4c57b7e6cb72a658db18"
          ]
        },
        "id": "tWtzzAOYe993",
        "outputId": "5ece8323-61b1-4bbb-81a7-c7f0e3e0f765"
      },
      "execution_count": 9,
      "outputs": [
        {
          "output_type": "stream",
          "name": "stderr",
          "text": [
            "/usr/local/lib/python3.10/dist-packages/huggingface_hub/utils/_token.py:89: UserWarning: \n",
            "The secret `HF_TOKEN` does not exist in your Colab secrets.\n",
            "To authenticate with the Hugging Face Hub, create a token in your settings tab (https://huggingface.co/settings/tokens), set it as secret in your Google Colab and restart your session.\n",
            "You will be able to reuse this secret in all of your notebooks.\n",
            "Please note that authentication is recommended but still optional to access public models or datasets.\n",
            "  warnings.warn(\n"
          ]
        },
        {
          "output_type": "display_data",
          "data": {
            "text/plain": [
              "tokenizer_config.json:   0%|          | 0.00/49.0 [00:00<?, ?B/s]"
            ],
            "application/vnd.jupyter.widget-view+json": {
              "version_major": 2,
              "version_minor": 0,
              "model_id": "e6b1007f00e242f78879bdc12df33cdc"
            }
          },
          "metadata": {}
        },
        {
          "output_type": "display_data",
          "data": {
            "text/plain": [
              "vocab.txt:   0%|          | 0.00/213k [00:00<?, ?B/s]"
            ],
            "application/vnd.jupyter.widget-view+json": {
              "version_major": 2,
              "version_minor": 0,
              "model_id": "f8d320cc5478425689213eb5145ff407"
            }
          },
          "metadata": {}
        },
        {
          "output_type": "display_data",
          "data": {
            "text/plain": [
              "tokenizer.json:   0%|          | 0.00/436k [00:00<?, ?B/s]"
            ],
            "application/vnd.jupyter.widget-view+json": {
              "version_major": 2,
              "version_minor": 0,
              "model_id": "494b84d5264b446cb99bf9e736de8ff2"
            }
          },
          "metadata": {}
        },
        {
          "output_type": "stream",
          "name": "stderr",
          "text": [
            "/usr/local/lib/python3.10/dist-packages/huggingface_hub/file_download.py:1132: FutureWarning: `resume_download` is deprecated and will be removed in version 1.0.0. Downloads always resume when possible. If you want to force a new download, use `force_download=True`.\n",
            "  warnings.warn(\n"
          ]
        },
        {
          "output_type": "display_data",
          "data": {
            "text/plain": [
              "config.json:   0%|          | 0.00/570 [00:00<?, ?B/s]"
            ],
            "application/vnd.jupyter.widget-view+json": {
              "version_major": 2,
              "version_minor": 0,
              "model_id": "948d2996adf947119ad3c3863ab8415e"
            }
          },
          "metadata": {}
        },
        {
          "output_type": "display_data",
          "data": {
            "text/plain": [
              "model.safetensors:   0%|          | 0.00/436M [00:00<?, ?B/s]"
            ],
            "application/vnd.jupyter.widget-view+json": {
              "version_major": 2,
              "version_minor": 0,
              "model_id": "2e3aa4f3d36847b585419ac33f3d7150"
            }
          },
          "metadata": {}
        },
        {
          "output_type": "stream",
          "name": "stderr",
          "text": [
            "Some weights of the PyTorch model were not used when initializing the TF 2.0 model TFBertModel: ['cls.seq_relationship.bias', 'cls.seq_relationship.weight', 'cls.predictions.transform.dense.bias', 'cls.predictions.transform.LayerNorm.bias', 'cls.predictions.transform.LayerNorm.weight', 'cls.predictions.bias', 'cls.predictions.transform.dense.weight']\n",
            "- This IS expected if you are initializing TFBertModel from a PyTorch model trained on another task or with another architecture (e.g. initializing a TFBertForSequenceClassification model from a BertForPreTraining model).\n",
            "- This IS NOT expected if you are initializing TFBertModel from a PyTorch model that you expect to be exactly identical (e.g. initializing a TFBertForSequenceClassification model from a BertForSequenceClassification model).\n",
            "All the weights of TFBertModel were initialized from the PyTorch model.\n",
            "If your task is similar to the task the model of the checkpoint was trained on, you can already use TFBertModel for predictions without further training.\n"
          ]
        }
      ]
    },
    {
      "cell_type": "code",
      "source": [
        "# tokenize the subset dataset, truncate at `max_length`,\n",
        "# and pad with 0's when less than `max_length` and return a tf Tensor\n",
        "def tokenize(text):\n",
        "    return bert_tokenizer(\n",
        "        list(text),\n",
        "        truncation=True,\n",
        "        padding=\"max_length\",\n",
        "        max_length=max_length,\n",
        "        return_tensors='tf',\n",
        "    )\n",
        "\n",
        "train_encodings = tokenize(train_subset.text)\n",
        "valid_encodings = tokenize(validation_subset.text)\n",
        "test_encodings = tokenize(test_subset.text)\n"
      ],
      "metadata": {
        "id": "I-wUyVEMgq5Q"
      },
      "execution_count": 58,
      "outputs": []
    },
    {
      "cell_type": "code",
      "source": [
        "# double check all inputs are padded to the same length\n",
        "for i, encoded_text in enumerate(train_encodings.input_ids):\n",
        "   assert len(encoded_text) == max_length, f\"Index {i}: {len(encoded_text)}\""
      ],
      "metadata": {
        "id": "AQNILm2RnHhY"
      },
      "execution_count": 61,
      "outputs": []
    },
    {
      "cell_type": "code",
      "source": [
        "def get_abbrev_token_positions(text, abbrev):\n",
        "    \"\"\"\n",
        "    Takes text and abbreviation and finds the start and end index of the\n",
        "    tokenized representation of that abbreviation in the text\n",
        "    \"\"\"\n",
        "    tokenized_text = bert_tokenizer.tokenize(text)\n",
        "    tokenized_abbrev = bert_tokenizer.tokenize(abbrev)\n",
        "    token_ids_text = bert_tokenizer.convert_tokens_to_ids(tokenized_text)\n",
        "    token_ids_abbrev = bert_tokenizer.convert_tokens_to_ids(tokenized_abbrev)\n",
        "    start = -1\n",
        "    for i in range(len(token_ids_text) - len(token_ids_abbrev) + 1):\n",
        "        if token_ids_text[i:i+len(token_ids_abbrev)] == token_ids_abbrev:\n",
        "            start = i\n",
        "            break\n",
        "\n",
        "    if start == -1:\n",
        "        raise ValueError(f\"Abbreviation '{abbrev}' not found in text '{text}'\")\n",
        "\n",
        "    end = start + len(token_ids_abbrev) - 1\n",
        "    return start, end\n",
        "\n",
        "\n",
        "def extract_abbrev_positions_from_dataset(dataset):\n",
        "    \"\"\"Extracts all the start and end position of each abbreviation in a dataset\"\"\"\n",
        "    start_positions = []\n",
        "    end_positions = []\n",
        "    for i, row in dataset.iterrows():\n",
        "        start, end = get_abbrev_token_positions(row.text, row.abbreviation)\n",
        "        # add 1 to account for CLS token at start\n",
        "        # TODO: verify that this is actually needed and CLS token should be\n",
        "        #   accounted for like this\n",
        "        start_positions.append(start + 1)\n",
        "        end_positions.append(end + 1)\n",
        "\n",
        "    return start_positions, end_positions\n",
        "\n",
        "\n",
        "train_start_positions, train_end_positions = extract_abbrev_positions_from_dataset(train_subset)\n",
        "valid_start_positions, valid_end_positions = extract_abbrev_positions_from_dataset(validation_subset)\n",
        "test_start_positions, test_end_positions = extract_abbrev_positions_from_dataset(test_subset)"
      ],
      "metadata": {
        "id": "rUAqhgJsxzQg"
      },
      "execution_count": 59,
      "outputs": []
    },
    {
      "cell_type": "code",
      "source": [
        "def encode_labels(labels):\n",
        "    return [label_names.index(label) for label in labels]\n",
        "\n",
        "\n",
        "train_labels = encode_labels(train_subset.label)\n",
        "valid_labels = encode_labels(validation_subset.label)\n",
        "test_labels = encode_labels(test_subset.label)"
      ],
      "metadata": {
        "id": "H0ITEprfNnFC"
      },
      "execution_count": 60,
      "outputs": []
    },
    {
      "cell_type": "code",
      "source": [
        "# show original text\n",
        "example_index = 31\n",
        "print(\"Text:\\n\", \"\\n\".join(textwrap.wrap(list(train_subset.text)[example_index])), \"\\n\")\n",
        "print(\"Label:\", train_labels[example_index], label_names[train_labels[example_index]])\n",
        "\n",
        "# encoded abbreviation span decoded back to abbreviation text\n",
        "abbrev_encodings = train_encodings.input_ids[example_index][train_start_positions[example_index]:train_end_positions[example_index]+1]\n",
        "print(\"Abbreviation tokens:\", bert_tokenizer.decode(abbrev_encodings))"
      ],
      "metadata": {
        "colab": {
          "base_uri": "https://localhost:8080/"
        },
        "id": "O4vKDXNfIk4k",
        "outputId": "27b266eb-1230-4cef-e432-ded988387e31"
      },
      "execution_count": 62,
      "outputs": [
        {
          "output_type": "stream",
          "name": "stdout",
          "text": [
            "Text:\n",
            " this report describes three cases of an atypical variant of agnogenic\n",
            "myeloid metaplasia characterized by pancytopenia high IP blast cell\n",
            "count lack of significant splenomegaly or teardrop poikilocytosis and\n",
            "diffuse MF with an abnormal proliferation of megakaryocytes it is\n",
            "suggested that these cases represent an acute variant of agnogenic MM\n",
            "that is distinct from either the terminal blastic transformation of\n",
            "myelofibrosis or AGL \n",
            "\n",
            "Label: 268 myeloid metaplasia\n",
            "Abbreviation tokens: MM\n"
          ]
        }
      ]
    },
    {
      "cell_type": "code",
      "source": [
        "bert_tokenizer.tokenize(\"MM\")"
      ],
      "metadata": {
        "colab": {
          "base_uri": "https://localhost:8080/"
        },
        "id": "OmDE_L4_bBYt",
        "outputId": "8696e057-775c-415c-84be-e5e7656506c0"
      },
      "execution_count": 43,
      "outputs": [
        {
          "output_type": "execute_result",
          "data": {
            "text/plain": [
              "['M', '##M']"
            ]
          },
          "metadata": {},
          "execution_count": 43
        }
      ]
    },
    {
      "cell_type": "code",
      "execution_count": 69,
      "metadata": {
        "id": "RtWMrLi4tIun"
      },
      "outputs": [],
      "source": [
        "class ExtractAbbreviationHiddenStates(tf.keras.layers.Layer):\n",
        "    \"\"\"\n",
        "    Custom layer that extracts abbreviation embeddings from BERT\n",
        "    hidden layer state and position inputs\n",
        "    \"\"\"\n",
        "    def call(self, inputs):\n",
        "        last_hidden_state, start_abbrev_token_positions, end_abbrev_token_positions = inputs\n",
        "\n",
        "        batch_size = tf.shape(last_hidden_state)[0]\n",
        "        max_length = tf.shape(last_hidden_state)[1]\n",
        "        hidden_size = tf.shape(last_hidden_state)[2]\n",
        "\n",
        "        span_hidden_states = tf.TensorArray(tf.float32, size=batch_size)\n",
        "\n",
        "        for i in tf.range(batch_size):\n",
        "            start_pos = start_abbrev_token_positions[i, 0]\n",
        "            end_pos = end_abbrev_token_positions[i, 0]\n",
        "\n",
        "            # TODO: training fails without this... when do we expect start or end position to be\n",
        "            #   greater than 199?\n",
        "            start_pos = tf.clip_by_value(start_pos, 0, max_length - 1)\n",
        "            end_pos = tf.clip_by_value(end_pos, 0, max_length - 1)\n",
        "\n",
        "            span_hidden_state = last_hidden_state[i, start_pos:end_pos + 1, :]\n",
        "            span_length = end_pos - start_pos + 1\n",
        "\n",
        "            # pad to the maximum length\n",
        "            padded_span_hidden_state = tf.pad(span_hidden_state, [[0, max_length - span_length], [0, 0]])\n",
        "            span_hidden_states = span_hidden_states.write(i, padded_span_hidden_state)\n",
        "\n",
        "        return span_hidden_states.stack()\n",
        "\n",
        "\n",
        "def create_bert_multiclass_model(checkpoint = model_checkpoint,\n",
        "                                 num_classes = len(label_names),\n",
        "                                 learning_rate=0.00005):\n",
        "    \"\"\"\n",
        "    Build a simple classification model with BERT. Use the pooled abbreviation\n",
        "    token embeddings for classification purposes.\n",
        "    \"\"\"\n",
        "    tf.keras.backend.clear_session()\n",
        "    tf.random.set_seed(RANDOM_SEED)\n",
        "\n",
        "    input_ids = tf.keras.layers.Input(shape=(max_length,), dtype=tf.int32, name='input_ids_layer')\n",
        "    token_type_ids = tf.keras.layers.Input(shape=(max_length,), dtype=tf.int32, name='token_type_ids_layer')\n",
        "    attention_mask = tf.keras.layers.Input(shape=(max_length,), dtype=tf.int32, name='attention_mask_layer')\n",
        "    start_abbrev_token_positions = tf.keras.layers.Input(shape=(1,), dtype=tf.int32, name='start_abbreviation_token_positions_layer')\n",
        "    end_abbrev_token_positions = tf.keras.layers.Input(shape=(1,), dtype=tf.int32, name='end_abbreviation_token_positions_layer')\n",
        "\n",
        "    bert_inputs = {'input_ids': input_ids,\n",
        "                   'token_type_ids': token_type_ids,\n",
        "                   'attention_mask': attention_mask}\n",
        "\n",
        "    bert_model = TFBertModel.from_pretrained(checkpoint, from_pt=True)\n",
        "    bert_model.trainable = True\n",
        "\n",
        "    bert_out = bert_model(bert_inputs)\n",
        "\n",
        "    last_hidden_state = bert_out.last_hidden_state\n",
        "\n",
        "    span_hidden_states = ExtractAbbreviationHiddenStates()([last_hidden_state, start_abbrev_token_positions, end_abbrev_token_positions])\n",
        "\n",
        "    pooled_output = tf.reduce_mean(span_hidden_states, axis=1)\n",
        "\n",
        "    classification = tf.keras.layers.Dense(num_classes, activation='softmax', name='classification_layer')(pooled_output)\n",
        "\n",
        "    classification_model = tf.keras.Model(\n",
        "        inputs=[input_ids, token_type_ids, attention_mask, start_abbrev_token_positions, end_abbrev_token_positions],\n",
        "        outputs=[classification],\n",
        "    )\n",
        "\n",
        "    classification_model.compile(optimizer=tf.keras.optimizers.Adam(learning_rate=learning_rate),\n",
        "                                 loss=tf.keras.losses.SparseCategoricalCrossentropy(from_logits=False),\n",
        "                                 metrics='accuracy')\n",
        "\n",
        "    return classification_model"
      ]
    },
    {
      "cell_type": "code",
      "source": [
        "model = create_bert_multiclass_model()\n",
        "model.summary()"
      ],
      "metadata": {
        "id": "wpVEBq88bSwY",
        "colab": {
          "base_uri": "https://localhost:8080/"
        },
        "outputId": "1e637992-bf25-4f3a-cd15-53961c120ae0"
      },
      "execution_count": 71,
      "outputs": [
        {
          "output_type": "stream",
          "name": "stderr",
          "text": [
            "Some weights of the PyTorch model were not used when initializing the TF 2.0 model TFBertModel: ['cls.seq_relationship.bias', 'cls.seq_relationship.weight', 'cls.predictions.transform.dense.bias', 'cls.predictions.transform.LayerNorm.bias', 'cls.predictions.transform.LayerNorm.weight', 'cls.predictions.bias', 'cls.predictions.decoder.weight', 'cls.predictions.transform.dense.weight']\n",
            "- This IS expected if you are initializing TFBertModel from a PyTorch model trained on another task or with another architecture (e.g. initializing a TFBertForSequenceClassification model from a BertForPreTraining model).\n",
            "- This IS NOT expected if you are initializing TFBertModel from a PyTorch model that you expect to be exactly identical (e.g. initializing a TFBertForSequenceClassification model from a BertForSequenceClassification model).\n",
            "All the weights of TFBertModel were initialized from the PyTorch model.\n",
            "If your task is similar to the task the model of the checkpoint was trained on, you can already use TFBertModel for predictions without further training.\n"
          ]
        },
        {
          "output_type": "stream",
          "name": "stdout",
          "text": [
            "Model: \"model\"\n",
            "__________________________________________________________________________________________________\n",
            " Layer (type)                Output Shape                 Param #   Connected to                  \n",
            "==================================================================================================\n",
            " attention_mask_layer (Inpu  [(None, 200)]                0         []                            \n",
            " tLayer)                                                                                          \n",
            "                                                                                                  \n",
            " input_ids_layer (InputLaye  [(None, 200)]                0         []                            \n",
            " r)                                                                                               \n",
            "                                                                                                  \n",
            " token_type_ids_layer (Inpu  [(None, 200)]                0         []                            \n",
            " tLayer)                                                                                          \n",
            "                                                                                                  \n",
            " tf_bert_model (TFBertModel  TFBaseModelOutputWithPooli   1083102   ['attention_mask_layer[0][0]',\n",
            " )                           ngAndCrossAttentions(last_   72         'input_ids_layer[0][0]',     \n",
            "                             hidden_state=(None, 200, 7              'token_type_ids_layer[0][0]']\n",
            "                             68),                                                                 \n",
            "                              pooler_output=(None, 768)                                           \n",
            "                             , past_key_values=None, hi                                           \n",
            "                             dden_states=None, attentio                                           \n",
            "                             ns=None, cross_attentions=                                           \n",
            "                             None)                                                                \n",
            "                                                                                                  \n",
            " start_abbreviation_token_p  [(None, 1)]                  0         []                            \n",
            " ositions_layer (InputLayer                                                                       \n",
            " )                                                                                                \n",
            "                                                                                                  \n",
            " end_abbreviation_token_pos  [(None, 1)]                  0         []                            \n",
            " itions_layer (InputLayer)                                                                        \n",
            "                                                                                                  \n",
            " extract_abbreviation_hidde  (None, None, 768)            0         ['tf_bert_model[0][0]',       \n",
            " n_states (ExtractAbbreviat                                          'start_abbreviation_token_pos\n",
            " ionHiddenStates)                                                   itions_layer[0][0]',          \n",
            "                                                                     'end_abbreviation_token_posit\n",
            "                                                                    ions_layer[0][0]']            \n",
            "                                                                                                  \n",
            " tf.math.reduce_mean (TFOpL  (None, 768)                  0         ['extract_abbreviation_hidden_\n",
            " ambda)                                                             states[0][0]']                \n",
            "                                                                                                  \n",
            " classification_layer (Dens  (None, 390)                  299910    ['tf.math.reduce_mean[0][0]'] \n",
            " e)                                                                                               \n",
            "                                                                                                  \n",
            "==================================================================================================\n",
            "Total params: 108610182 (414.31 MB)\n",
            "Trainable params: 108610182 (414.31 MB)\n",
            "Non-trainable params: 0 (0.00 Byte)\n",
            "__________________________________________________________________________________________________\n"
          ]
        }
      ]
    },
    {
      "cell_type": "code",
      "source": [
        "train_inputs = [\n",
        "    np.array(train_encodings.input_ids),\n",
        "    np.array(train_encodings.token_type_ids),\n",
        "    np.array(train_encodings.attention_mask),\n",
        "    np.array(train_start_positions),\n",
        "    np.array(train_end_positions),\n",
        "]\n",
        "valid_inputs = [\n",
        "    np.array(valid_encodings.input_ids),\n",
        "    np.array(valid_encodings.token_type_ids),\n",
        "    np.array(valid_encodings.attention_mask),\n",
        "    np.array(valid_start_positions),\n",
        "    np.array(valid_end_positions)\n",
        "]\n",
        "history = model.fit(\n",
        "    train_inputs,\n",
        "    np.array(train_labels),\n",
        "    validation_data=(valid_inputs, np.array(valid_labels)),\n",
        "    batch_size=16,\n",
        "    shuffle=True,\n",
        "    verbose=1,\n",
        "    epochs=2,\n",
        ")"
      ],
      "metadata": {
        "colab": {
          "base_uri": "https://localhost:8080/"
        },
        "id": "B5g5HOmLWj1o",
        "outputId": "ea939981-9aed-4322-cdda-65383074b0ee"
      },
      "execution_count": null,
      "outputs": [
        {
          "output_type": "stream",
          "name": "stdout",
          "text": [
            "Epoch 1/2\n",
            "3100/3100 [==============================] - 2318s 748ms/step - loss: 5.3938 - accuracy: 0.7306 - val_loss: 5.1821 - val_accuracy: 0.7385\n",
            "Epoch 2/2\n",
            "2870/3100 [==========================>...] - ETA: 2:33 - loss: 4.9963 - accuracy: 0.7609"
          ]
        }
      ]
    }
  ]
}