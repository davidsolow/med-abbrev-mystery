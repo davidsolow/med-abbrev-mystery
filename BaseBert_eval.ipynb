{
 "cells": [
  {
   "cell_type": "code",
   "execution_count": null,
   "metadata": {},
   "outputs": [],
   "source": [
    "test_inputs = [\n",
    "    test_input_ids,\n",
    "    test_token_type_ids,\n",
    "    test_attention_masks,\n",
    "    test_start_positions,\n",
    "    test_end_positions,\n",
    "]\n",
    "\n",
    "predictions = model.predict(test_inputs)\n",
    "y_pred = np.argmax(predictions, axis=-1)\n",
    "y_true = test_labels\n"
   ]
  },
  {
   "cell_type": "code",
   "execution_count": null,
   "metadata": {},
   "outputs": [],
   "source": [
    "sample = np.random.randint(0, test_labels.shape[0])\n",
    "print(\"Sample:\", sample)\n",
    "print(\"First X Test:\\n\", bert_tokenizer.convert_tokens_to_string(bert_tokenizer.convert_ids_to_tokens(test_inputs[0][sample])))\n",
    "print(y_true[sample])\n",
    "print(\"First Y True:\\n\", reverse_label_dict[y_true[sample]])\n",
    "print(\"First Y Pred:\\n\", label_names[y_pred[sample]])\n"
   ]
  }
 ],
 "metadata": {
  "language_info": {
   "name": "python"
  }
 },
 "nbformat": 4,
 "nbformat_minor": 2
}
