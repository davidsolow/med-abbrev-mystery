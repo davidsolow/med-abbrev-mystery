{
  "nbformat": 4,
  "nbformat_minor": 0,
  "metadata": {
    "colab": {
      "provenance": [],
      "gpuType": "L4",
      "machine_shape": "hm"
    },
    "kernelspec": {
      "name": "python3",
      "display_name": "Python 3"
    },
    "language_info": {
      "name": "python"
    },
    "accelerator": "GPU",
    "widgets": {
      "application/vnd.jupyter.widget-state+json": {
        "9f8d4b18dcba4bd5a1184bbbb3d3c6e4": {
          "model_module": "@jupyter-widgets/controls",
          "model_name": "HBoxModel",
          "model_module_version": "1.5.0",
          "state": {
            "_dom_classes": [],
            "_model_module": "@jupyter-widgets/controls",
            "_model_module_version": "1.5.0",
            "_model_name": "HBoxModel",
            "_view_count": null,
            "_view_module": "@jupyter-widgets/controls",
            "_view_module_version": "1.5.0",
            "_view_name": "HBoxView",
            "box_style": "",
            "children": [
              "IPY_MODEL_051d2d47ac7542398b3b2976a529421b",
              "IPY_MODEL_268fab9837a9427fbd4bf1a1a9e263eb",
              "IPY_MODEL_b675797857a94921bfbf372a04d08f1a"
            ],
            "layout": "IPY_MODEL_8abeb152f458458aa4894bb88db7c150"
          }
        },
        "051d2d47ac7542398b3b2976a529421b": {
          "model_module": "@jupyter-widgets/controls",
          "model_name": "HTMLModel",
          "model_module_version": "1.5.0",
          "state": {
            "_dom_classes": [],
            "_model_module": "@jupyter-widgets/controls",
            "_model_module_version": "1.5.0",
            "_model_name": "HTMLModel",
            "_view_count": null,
            "_view_module": "@jupyter-widgets/controls",
            "_view_module_version": "1.5.0",
            "_view_name": "HTMLView",
            "description": "",
            "description_tooltip": null,
            "layout": "IPY_MODEL_7a0b1f0b178d497d8cd47df8fd1bd067",
            "placeholder": "​",
            "style": "IPY_MODEL_7b0878d3dcba4353b0fc64cb1b28c703",
            "value": "vocab.txt: 100%"
          }
        },
        "268fab9837a9427fbd4bf1a1a9e263eb": {
          "model_module": "@jupyter-widgets/controls",
          "model_name": "FloatProgressModel",
          "model_module_version": "1.5.0",
          "state": {
            "_dom_classes": [],
            "_model_module": "@jupyter-widgets/controls",
            "_model_module_version": "1.5.0",
            "_model_name": "FloatProgressModel",
            "_view_count": null,
            "_view_module": "@jupyter-widgets/controls",
            "_view_module_version": "1.5.0",
            "_view_name": "ProgressView",
            "bar_style": "success",
            "description": "",
            "description_tooltip": null,
            "layout": "IPY_MODEL_33d268aca23d4980a5c127bffd706e28",
            "max": 231508,
            "min": 0,
            "orientation": "horizontal",
            "style": "IPY_MODEL_ddd2d9c54b02460395d68f7aa34dd23c",
            "value": 231508
          }
        },
        "b675797857a94921bfbf372a04d08f1a": {
          "model_module": "@jupyter-widgets/controls",
          "model_name": "HTMLModel",
          "model_module_version": "1.5.0",
          "state": {
            "_dom_classes": [],
            "_model_module": "@jupyter-widgets/controls",
            "_model_module_version": "1.5.0",
            "_model_name": "HTMLModel",
            "_view_count": null,
            "_view_module": "@jupyter-widgets/controls",
            "_view_module_version": "1.5.0",
            "_view_name": "HTMLView",
            "description": "",
            "description_tooltip": null,
            "layout": "IPY_MODEL_ca84e75ee1d64d25852e3f7ac80cdf70",
            "placeholder": "​",
            "style": "IPY_MODEL_27ec8d20ea534433b9599b4467915237",
            "value": " 232k/232k [00:00&lt;00:00, 1.74MB/s]"
          }
        },
        "8abeb152f458458aa4894bb88db7c150": {
          "model_module": "@jupyter-widgets/base",
          "model_name": "LayoutModel",
          "model_module_version": "1.2.0",
          "state": {
            "_model_module": "@jupyter-widgets/base",
            "_model_module_version": "1.2.0",
            "_model_name": "LayoutModel",
            "_view_count": null,
            "_view_module": "@jupyter-widgets/base",
            "_view_module_version": "1.2.0",
            "_view_name": "LayoutView",
            "align_content": null,
            "align_items": null,
            "align_self": null,
            "border": null,
            "bottom": null,
            "display": null,
            "flex": null,
            "flex_flow": null,
            "grid_area": null,
            "grid_auto_columns": null,
            "grid_auto_flow": null,
            "grid_auto_rows": null,
            "grid_column": null,
            "grid_gap": null,
            "grid_row": null,
            "grid_template_areas": null,
            "grid_template_columns": null,
            "grid_template_rows": null,
            "height": null,
            "justify_content": null,
            "justify_items": null,
            "left": null,
            "margin": null,
            "max_height": null,
            "max_width": null,
            "min_height": null,
            "min_width": null,
            "object_fit": null,
            "object_position": null,
            "order": null,
            "overflow": null,
            "overflow_x": null,
            "overflow_y": null,
            "padding": null,
            "right": null,
            "top": null,
            "visibility": null,
            "width": null
          }
        },
        "7a0b1f0b178d497d8cd47df8fd1bd067": {
          "model_module": "@jupyter-widgets/base",
          "model_name": "LayoutModel",
          "model_module_version": "1.2.0",
          "state": {
            "_model_module": "@jupyter-widgets/base",
            "_model_module_version": "1.2.0",
            "_model_name": "LayoutModel",
            "_view_count": null,
            "_view_module": "@jupyter-widgets/base",
            "_view_module_version": "1.2.0",
            "_view_name": "LayoutView",
            "align_content": null,
            "align_items": null,
            "align_self": null,
            "border": null,
            "bottom": null,
            "display": null,
            "flex": null,
            "flex_flow": null,
            "grid_area": null,
            "grid_auto_columns": null,
            "grid_auto_flow": null,
            "grid_auto_rows": null,
            "grid_column": null,
            "grid_gap": null,
            "grid_row": null,
            "grid_template_areas": null,
            "grid_template_columns": null,
            "grid_template_rows": null,
            "height": null,
            "justify_content": null,
            "justify_items": null,
            "left": null,
            "margin": null,
            "max_height": null,
            "max_width": null,
            "min_height": null,
            "min_width": null,
            "object_fit": null,
            "object_position": null,
            "order": null,
            "overflow": null,
            "overflow_x": null,
            "overflow_y": null,
            "padding": null,
            "right": null,
            "top": null,
            "visibility": null,
            "width": null
          }
        },
        "7b0878d3dcba4353b0fc64cb1b28c703": {
          "model_module": "@jupyter-widgets/controls",
          "model_name": "DescriptionStyleModel",
          "model_module_version": "1.5.0",
          "state": {
            "_model_module": "@jupyter-widgets/controls",
            "_model_module_version": "1.5.0",
            "_model_name": "DescriptionStyleModel",
            "_view_count": null,
            "_view_module": "@jupyter-widgets/base",
            "_view_module_version": "1.2.0",
            "_view_name": "StyleView",
            "description_width": ""
          }
        },
        "33d268aca23d4980a5c127bffd706e28": {
          "model_module": "@jupyter-widgets/base",
          "model_name": "LayoutModel",
          "model_module_version": "1.2.0",
          "state": {
            "_model_module": "@jupyter-widgets/base",
            "_model_module_version": "1.2.0",
            "_model_name": "LayoutModel",
            "_view_count": null,
            "_view_module": "@jupyter-widgets/base",
            "_view_module_version": "1.2.0",
            "_view_name": "LayoutView",
            "align_content": null,
            "align_items": null,
            "align_self": null,
            "border": null,
            "bottom": null,
            "display": null,
            "flex": null,
            "flex_flow": null,
            "grid_area": null,
            "grid_auto_columns": null,
            "grid_auto_flow": null,
            "grid_auto_rows": null,
            "grid_column": null,
            "grid_gap": null,
            "grid_row": null,
            "grid_template_areas": null,
            "grid_template_columns": null,
            "grid_template_rows": null,
            "height": null,
            "justify_content": null,
            "justify_items": null,
            "left": null,
            "margin": null,
            "max_height": null,
            "max_width": null,
            "min_height": null,
            "min_width": null,
            "object_fit": null,
            "object_position": null,
            "order": null,
            "overflow": null,
            "overflow_x": null,
            "overflow_y": null,
            "padding": null,
            "right": null,
            "top": null,
            "visibility": null,
            "width": null
          }
        },
        "ddd2d9c54b02460395d68f7aa34dd23c": {
          "model_module": "@jupyter-widgets/controls",
          "model_name": "ProgressStyleModel",
          "model_module_version": "1.5.0",
          "state": {
            "_model_module": "@jupyter-widgets/controls",
            "_model_module_version": "1.5.0",
            "_model_name": "ProgressStyleModel",
            "_view_count": null,
            "_view_module": "@jupyter-widgets/base",
            "_view_module_version": "1.2.0",
            "_view_name": "StyleView",
            "bar_color": null,
            "description_width": ""
          }
        },
        "ca84e75ee1d64d25852e3f7ac80cdf70": {
          "model_module": "@jupyter-widgets/base",
          "model_name": "LayoutModel",
          "model_module_version": "1.2.0",
          "state": {
            "_model_module": "@jupyter-widgets/base",
            "_model_module_version": "1.2.0",
            "_model_name": "LayoutModel",
            "_view_count": null,
            "_view_module": "@jupyter-widgets/base",
            "_view_module_version": "1.2.0",
            "_view_name": "LayoutView",
            "align_content": null,
            "align_items": null,
            "align_self": null,
            "border": null,
            "bottom": null,
            "display": null,
            "flex": null,
            "flex_flow": null,
            "grid_area": null,
            "grid_auto_columns": null,
            "grid_auto_flow": null,
            "grid_auto_rows": null,
            "grid_column": null,
            "grid_gap": null,
            "grid_row": null,
            "grid_template_areas": null,
            "grid_template_columns": null,
            "grid_template_rows": null,
            "height": null,
            "justify_content": null,
            "justify_items": null,
            "left": null,
            "margin": null,
            "max_height": null,
            "max_width": null,
            "min_height": null,
            "min_width": null,
            "object_fit": null,
            "object_position": null,
            "order": null,
            "overflow": null,
            "overflow_x": null,
            "overflow_y": null,
            "padding": null,
            "right": null,
            "top": null,
            "visibility": null,
            "width": null
          }
        },
        "27ec8d20ea534433b9599b4467915237": {
          "model_module": "@jupyter-widgets/controls",
          "model_name": "DescriptionStyleModel",
          "model_module_version": "1.5.0",
          "state": {
            "_model_module": "@jupyter-widgets/controls",
            "_model_module_version": "1.5.0",
            "_model_name": "DescriptionStyleModel",
            "_view_count": null,
            "_view_module": "@jupyter-widgets/base",
            "_view_module_version": "1.2.0",
            "_view_name": "StyleView",
            "description_width": ""
          }
        },
        "dddf52b6a06d47a1a70629b0ab20447e": {
          "model_module": "@jupyter-widgets/controls",
          "model_name": "HBoxModel",
          "model_module_version": "1.5.0",
          "state": {
            "_dom_classes": [],
            "_model_module": "@jupyter-widgets/controls",
            "_model_module_version": "1.5.0",
            "_model_name": "HBoxModel",
            "_view_count": null,
            "_view_module": "@jupyter-widgets/controls",
            "_view_module_version": "1.5.0",
            "_view_name": "HBoxView",
            "box_style": "",
            "children": [
              "IPY_MODEL_51e968c237ce44beaf32809dbc56a6fa",
              "IPY_MODEL_e5c3289515b743bb81f286f970ddcc76",
              "IPY_MODEL_5da3c68c0af74d1eaac1f3dba35d5e4c"
            ],
            "layout": "IPY_MODEL_821d5f24de1247a3adf12319ae62ecd9"
          }
        },
        "51e968c237ce44beaf32809dbc56a6fa": {
          "model_module": "@jupyter-widgets/controls",
          "model_name": "HTMLModel",
          "model_module_version": "1.5.0",
          "state": {
            "_dom_classes": [],
            "_model_module": "@jupyter-widgets/controls",
            "_model_module_version": "1.5.0",
            "_model_name": "HTMLModel",
            "_view_count": null,
            "_view_module": "@jupyter-widgets/controls",
            "_view_module_version": "1.5.0",
            "_view_name": "HTMLView",
            "description": "",
            "description_tooltip": null,
            "layout": "IPY_MODEL_d56b468168b94893bdb06cb88cdb6a0c",
            "placeholder": "​",
            "style": "IPY_MODEL_1ad1e734a9234510af168472facba698",
            "value": "config.json: 100%"
          }
        },
        "e5c3289515b743bb81f286f970ddcc76": {
          "model_module": "@jupyter-widgets/controls",
          "model_name": "FloatProgressModel",
          "model_module_version": "1.5.0",
          "state": {
            "_dom_classes": [],
            "_model_module": "@jupyter-widgets/controls",
            "_model_module_version": "1.5.0",
            "_model_name": "FloatProgressModel",
            "_view_count": null,
            "_view_module": "@jupyter-widgets/controls",
            "_view_module_version": "1.5.0",
            "_view_name": "ProgressView",
            "bar_style": "success",
            "description": "",
            "description_tooltip": null,
            "layout": "IPY_MODEL_c6f2b0c05eeb400084e7a9c0f5d32ac1",
            "max": 499,
            "min": 0,
            "orientation": "horizontal",
            "style": "IPY_MODEL_d865956564d84bfb828ecda50dbce29d",
            "value": 499
          }
        },
        "5da3c68c0af74d1eaac1f3dba35d5e4c": {
          "model_module": "@jupyter-widgets/controls",
          "model_name": "HTMLModel",
          "model_module_version": "1.5.0",
          "state": {
            "_dom_classes": [],
            "_model_module": "@jupyter-widgets/controls",
            "_model_module_version": "1.5.0",
            "_model_name": "HTMLModel",
            "_view_count": null,
            "_view_module": "@jupyter-widgets/controls",
            "_view_module_version": "1.5.0",
            "_view_name": "HTMLView",
            "description": "",
            "description_tooltip": null,
            "layout": "IPY_MODEL_db5d78aa586f415286c066c8f7e09480",
            "placeholder": "​",
            "style": "IPY_MODEL_46fb3b4c179c4a1696621522cd88c0eb",
            "value": " 499/499 [00:00&lt;00:00, 44.7kB/s]"
          }
        },
        "821d5f24de1247a3adf12319ae62ecd9": {
          "model_module": "@jupyter-widgets/base",
          "model_name": "LayoutModel",
          "model_module_version": "1.2.0",
          "state": {
            "_model_module": "@jupyter-widgets/base",
            "_model_module_version": "1.2.0",
            "_model_name": "LayoutModel",
            "_view_count": null,
            "_view_module": "@jupyter-widgets/base",
            "_view_module_version": "1.2.0",
            "_view_name": "LayoutView",
            "align_content": null,
            "align_items": null,
            "align_self": null,
            "border": null,
            "bottom": null,
            "display": null,
            "flex": null,
            "flex_flow": null,
            "grid_area": null,
            "grid_auto_columns": null,
            "grid_auto_flow": null,
            "grid_auto_rows": null,
            "grid_column": null,
            "grid_gap": null,
            "grid_row": null,
            "grid_template_areas": null,
            "grid_template_columns": null,
            "grid_template_rows": null,
            "height": null,
            "justify_content": null,
            "justify_items": null,
            "left": null,
            "margin": null,
            "max_height": null,
            "max_width": null,
            "min_height": null,
            "min_width": null,
            "object_fit": null,
            "object_position": null,
            "order": null,
            "overflow": null,
            "overflow_x": null,
            "overflow_y": null,
            "padding": null,
            "right": null,
            "top": null,
            "visibility": null,
            "width": null
          }
        },
        "d56b468168b94893bdb06cb88cdb6a0c": {
          "model_module": "@jupyter-widgets/base",
          "model_name": "LayoutModel",
          "model_module_version": "1.2.0",
          "state": {
            "_model_module": "@jupyter-widgets/base",
            "_model_module_version": "1.2.0",
            "_model_name": "LayoutModel",
            "_view_count": null,
            "_view_module": "@jupyter-widgets/base",
            "_view_module_version": "1.2.0",
            "_view_name": "LayoutView",
            "align_content": null,
            "align_items": null,
            "align_self": null,
            "border": null,
            "bottom": null,
            "display": null,
            "flex": null,
            "flex_flow": null,
            "grid_area": null,
            "grid_auto_columns": null,
            "grid_auto_flow": null,
            "grid_auto_rows": null,
            "grid_column": null,
            "grid_gap": null,
            "grid_row": null,
            "grid_template_areas": null,
            "grid_template_columns": null,
            "grid_template_rows": null,
            "height": null,
            "justify_content": null,
            "justify_items": null,
            "left": null,
            "margin": null,
            "max_height": null,
            "max_width": null,
            "min_height": null,
            "min_width": null,
            "object_fit": null,
            "object_position": null,
            "order": null,
            "overflow": null,
            "overflow_x": null,
            "overflow_y": null,
            "padding": null,
            "right": null,
            "top": null,
            "visibility": null,
            "width": null
          }
        },
        "1ad1e734a9234510af168472facba698": {
          "model_module": "@jupyter-widgets/controls",
          "model_name": "DescriptionStyleModel",
          "model_module_version": "1.5.0",
          "state": {
            "_model_module": "@jupyter-widgets/controls",
            "_model_module_version": "1.5.0",
            "_model_name": "DescriptionStyleModel",
            "_view_count": null,
            "_view_module": "@jupyter-widgets/base",
            "_view_module_version": "1.2.0",
            "_view_name": "StyleView",
            "description_width": ""
          }
        },
        "c6f2b0c05eeb400084e7a9c0f5d32ac1": {
          "model_module": "@jupyter-widgets/base",
          "model_name": "LayoutModel",
          "model_module_version": "1.2.0",
          "state": {
            "_model_module": "@jupyter-widgets/base",
            "_model_module_version": "1.2.0",
            "_model_name": "LayoutModel",
            "_view_count": null,
            "_view_module": "@jupyter-widgets/base",
            "_view_module_version": "1.2.0",
            "_view_name": "LayoutView",
            "align_content": null,
            "align_items": null,
            "align_self": null,
            "border": null,
            "bottom": null,
            "display": null,
            "flex": null,
            "flex_flow": null,
            "grid_area": null,
            "grid_auto_columns": null,
            "grid_auto_flow": null,
            "grid_auto_rows": null,
            "grid_column": null,
            "grid_gap": null,
            "grid_row": null,
            "grid_template_areas": null,
            "grid_template_columns": null,
            "grid_template_rows": null,
            "height": null,
            "justify_content": null,
            "justify_items": null,
            "left": null,
            "margin": null,
            "max_height": null,
            "max_width": null,
            "min_height": null,
            "min_width": null,
            "object_fit": null,
            "object_position": null,
            "order": null,
            "overflow": null,
            "overflow_x": null,
            "overflow_y": null,
            "padding": null,
            "right": null,
            "top": null,
            "visibility": null,
            "width": null
          }
        },
        "d865956564d84bfb828ecda50dbce29d": {
          "model_module": "@jupyter-widgets/controls",
          "model_name": "ProgressStyleModel",
          "model_module_version": "1.5.0",
          "state": {
            "_model_module": "@jupyter-widgets/controls",
            "_model_module_version": "1.5.0",
            "_model_name": "ProgressStyleModel",
            "_view_count": null,
            "_view_module": "@jupyter-widgets/base",
            "_view_module_version": "1.2.0",
            "_view_name": "StyleView",
            "bar_color": null,
            "description_width": ""
          }
        },
        "db5d78aa586f415286c066c8f7e09480": {
          "model_module": "@jupyter-widgets/base",
          "model_name": "LayoutModel",
          "model_module_version": "1.2.0",
          "state": {
            "_model_module": "@jupyter-widgets/base",
            "_model_module_version": "1.2.0",
            "_model_name": "LayoutModel",
            "_view_count": null,
            "_view_module": "@jupyter-widgets/base",
            "_view_module_version": "1.2.0",
            "_view_name": "LayoutView",
            "align_content": null,
            "align_items": null,
            "align_self": null,
            "border": null,
            "bottom": null,
            "display": null,
            "flex": null,
            "flex_flow": null,
            "grid_area": null,
            "grid_auto_columns": null,
            "grid_auto_flow": null,
            "grid_auto_rows": null,
            "grid_column": null,
            "grid_gap": null,
            "grid_row": null,
            "grid_template_areas": null,
            "grid_template_columns": null,
            "grid_template_rows": null,
            "height": null,
            "justify_content": null,
            "justify_items": null,
            "left": null,
            "margin": null,
            "max_height": null,
            "max_width": null,
            "min_height": null,
            "min_width": null,
            "object_fit": null,
            "object_position": null,
            "order": null,
            "overflow": null,
            "overflow_x": null,
            "overflow_y": null,
            "padding": null,
            "right": null,
            "top": null,
            "visibility": null,
            "width": null
          }
        },
        "46fb3b4c179c4a1696621522cd88c0eb": {
          "model_module": "@jupyter-widgets/controls",
          "model_name": "DescriptionStyleModel",
          "model_module_version": "1.5.0",
          "state": {
            "_model_module": "@jupyter-widgets/controls",
            "_model_module_version": "1.5.0",
            "_model_name": "DescriptionStyleModel",
            "_view_count": null,
            "_view_module": "@jupyter-widgets/base",
            "_view_module_version": "1.2.0",
            "_view_name": "StyleView",
            "description_width": ""
          }
        },
        "a1036fcc809e4801af5644d0c85fc198": {
          "model_module": "@jupyter-widgets/controls",
          "model_name": "HBoxModel",
          "model_module_version": "1.5.0",
          "state": {
            "_dom_classes": [],
            "_model_module": "@jupyter-widgets/controls",
            "_model_module_version": "1.5.0",
            "_model_name": "HBoxModel",
            "_view_count": null,
            "_view_module": "@jupyter-widgets/controls",
            "_view_module_version": "1.5.0",
            "_view_name": "HBoxView",
            "box_style": "",
            "children": [
              "IPY_MODEL_1ba71d941cd04e9ca13ba4360c3b9b47",
              "IPY_MODEL_e48fad574625456d923562de7ada0df8",
              "IPY_MODEL_71bca05bc6084dc88900e5b13583907a"
            ],
            "layout": "IPY_MODEL_49acca9e475e470aba4b336ff34566e2"
          }
        },
        "1ba71d941cd04e9ca13ba4360c3b9b47": {
          "model_module": "@jupyter-widgets/controls",
          "model_name": "HTMLModel",
          "model_module_version": "1.5.0",
          "state": {
            "_dom_classes": [],
            "_model_module": "@jupyter-widgets/controls",
            "_model_module_version": "1.5.0",
            "_model_name": "HTMLModel",
            "_view_count": null,
            "_view_module": "@jupyter-widgets/controls",
            "_view_module_version": "1.5.0",
            "_view_name": "HTMLView",
            "description": "",
            "description_tooltip": null,
            "layout": "IPY_MODEL_b05af79e3fcc4e9ca1456a0858d774cd",
            "placeholder": "​",
            "style": "IPY_MODEL_9e377f31d5fd4f7bbfcf7944ee75098f",
            "value": "model.safetensors: 100%"
          }
        },
        "e48fad574625456d923562de7ada0df8": {
          "model_module": "@jupyter-widgets/controls",
          "model_name": "FloatProgressModel",
          "model_module_version": "1.5.0",
          "state": {
            "_dom_classes": [],
            "_model_module": "@jupyter-widgets/controls",
            "_model_module_version": "1.5.0",
            "_model_name": "FloatProgressModel",
            "_view_count": null,
            "_view_module": "@jupyter-widgets/controls",
            "_view_module_version": "1.5.0",
            "_view_name": "ProgressView",
            "bar_style": "success",
            "description": "",
            "description_tooltip": null,
            "layout": "IPY_MODEL_10dce761ee2049f6b3573e6aaf1a17f8",
            "max": 440443452,
            "min": 0,
            "orientation": "horizontal",
            "style": "IPY_MODEL_b1539ab1ae254a1c9c99a3f6c10bee77",
            "value": 440443452
          }
        },
        "71bca05bc6084dc88900e5b13583907a": {
          "model_module": "@jupyter-widgets/controls",
          "model_name": "HTMLModel",
          "model_module_version": "1.5.0",
          "state": {
            "_dom_classes": [],
            "_model_module": "@jupyter-widgets/controls",
            "_model_module_version": "1.5.0",
            "_model_name": "HTMLModel",
            "_view_count": null,
            "_view_module": "@jupyter-widgets/controls",
            "_view_module_version": "1.5.0",
            "_view_name": "HTMLView",
            "description": "",
            "description_tooltip": null,
            "layout": "IPY_MODEL_a5ac02750cf54da29b7dc636c716dfff",
            "placeholder": "​",
            "style": "IPY_MODEL_db1579dd07dd4fd29c2612d7271ccf84",
            "value": " 440M/440M [00:09&lt;00:00, 39.5MB/s]"
          }
        },
        "49acca9e475e470aba4b336ff34566e2": {
          "model_module": "@jupyter-widgets/base",
          "model_name": "LayoutModel",
          "model_module_version": "1.2.0",
          "state": {
            "_model_module": "@jupyter-widgets/base",
            "_model_module_version": "1.2.0",
            "_model_name": "LayoutModel",
            "_view_count": null,
            "_view_module": "@jupyter-widgets/base",
            "_view_module_version": "1.2.0",
            "_view_name": "LayoutView",
            "align_content": null,
            "align_items": null,
            "align_self": null,
            "border": null,
            "bottom": null,
            "display": null,
            "flex": null,
            "flex_flow": null,
            "grid_area": null,
            "grid_auto_columns": null,
            "grid_auto_flow": null,
            "grid_auto_rows": null,
            "grid_column": null,
            "grid_gap": null,
            "grid_row": null,
            "grid_template_areas": null,
            "grid_template_columns": null,
            "grid_template_rows": null,
            "height": null,
            "justify_content": null,
            "justify_items": null,
            "left": null,
            "margin": null,
            "max_height": null,
            "max_width": null,
            "min_height": null,
            "min_width": null,
            "object_fit": null,
            "object_position": null,
            "order": null,
            "overflow": null,
            "overflow_x": null,
            "overflow_y": null,
            "padding": null,
            "right": null,
            "top": null,
            "visibility": null,
            "width": null
          }
        },
        "b05af79e3fcc4e9ca1456a0858d774cd": {
          "model_module": "@jupyter-widgets/base",
          "model_name": "LayoutModel",
          "model_module_version": "1.2.0",
          "state": {
            "_model_module": "@jupyter-widgets/base",
            "_model_module_version": "1.2.0",
            "_model_name": "LayoutModel",
            "_view_count": null,
            "_view_module": "@jupyter-widgets/base",
            "_view_module_version": "1.2.0",
            "_view_name": "LayoutView",
            "align_content": null,
            "align_items": null,
            "align_self": null,
            "border": null,
            "bottom": null,
            "display": null,
            "flex": null,
            "flex_flow": null,
            "grid_area": null,
            "grid_auto_columns": null,
            "grid_auto_flow": null,
            "grid_auto_rows": null,
            "grid_column": null,
            "grid_gap": null,
            "grid_row": null,
            "grid_template_areas": null,
            "grid_template_columns": null,
            "grid_template_rows": null,
            "height": null,
            "justify_content": null,
            "justify_items": null,
            "left": null,
            "margin": null,
            "max_height": null,
            "max_width": null,
            "min_height": null,
            "min_width": null,
            "object_fit": null,
            "object_position": null,
            "order": null,
            "overflow": null,
            "overflow_x": null,
            "overflow_y": null,
            "padding": null,
            "right": null,
            "top": null,
            "visibility": null,
            "width": null
          }
        },
        "9e377f31d5fd4f7bbfcf7944ee75098f": {
          "model_module": "@jupyter-widgets/controls",
          "model_name": "DescriptionStyleModel",
          "model_module_version": "1.5.0",
          "state": {
            "_model_module": "@jupyter-widgets/controls",
            "_model_module_version": "1.5.0",
            "_model_name": "DescriptionStyleModel",
            "_view_count": null,
            "_view_module": "@jupyter-widgets/base",
            "_view_module_version": "1.2.0",
            "_view_name": "StyleView",
            "description_width": ""
          }
        },
        "10dce761ee2049f6b3573e6aaf1a17f8": {
          "model_module": "@jupyter-widgets/base",
          "model_name": "LayoutModel",
          "model_module_version": "1.2.0",
          "state": {
            "_model_module": "@jupyter-widgets/base",
            "_model_module_version": "1.2.0",
            "_model_name": "LayoutModel",
            "_view_count": null,
            "_view_module": "@jupyter-widgets/base",
            "_view_module_version": "1.2.0",
            "_view_name": "LayoutView",
            "align_content": null,
            "align_items": null,
            "align_self": null,
            "border": null,
            "bottom": null,
            "display": null,
            "flex": null,
            "flex_flow": null,
            "grid_area": null,
            "grid_auto_columns": null,
            "grid_auto_flow": null,
            "grid_auto_rows": null,
            "grid_column": null,
            "grid_gap": null,
            "grid_row": null,
            "grid_template_areas": null,
            "grid_template_columns": null,
            "grid_template_rows": null,
            "height": null,
            "justify_content": null,
            "justify_items": null,
            "left": null,
            "margin": null,
            "max_height": null,
            "max_width": null,
            "min_height": null,
            "min_width": null,
            "object_fit": null,
            "object_position": null,
            "order": null,
            "overflow": null,
            "overflow_x": null,
            "overflow_y": null,
            "padding": null,
            "right": null,
            "top": null,
            "visibility": null,
            "width": null
          }
        },
        "b1539ab1ae254a1c9c99a3f6c10bee77": {
          "model_module": "@jupyter-widgets/controls",
          "model_name": "ProgressStyleModel",
          "model_module_version": "1.5.0",
          "state": {
            "_model_module": "@jupyter-widgets/controls",
            "_model_module_version": "1.5.0",
            "_model_name": "ProgressStyleModel",
            "_view_count": null,
            "_view_module": "@jupyter-widgets/base",
            "_view_module_version": "1.2.0",
            "_view_name": "StyleView",
            "bar_color": null,
            "description_width": ""
          }
        },
        "a5ac02750cf54da29b7dc636c716dfff": {
          "model_module": "@jupyter-widgets/base",
          "model_name": "LayoutModel",
          "model_module_version": "1.2.0",
          "state": {
            "_model_module": "@jupyter-widgets/base",
            "_model_module_version": "1.2.0",
            "_model_name": "LayoutModel",
            "_view_count": null,
            "_view_module": "@jupyter-widgets/base",
            "_view_module_version": "1.2.0",
            "_view_name": "LayoutView",
            "align_content": null,
            "align_items": null,
            "align_self": null,
            "border": null,
            "bottom": null,
            "display": null,
            "flex": null,
            "flex_flow": null,
            "grid_area": null,
            "grid_auto_columns": null,
            "grid_auto_flow": null,
            "grid_auto_rows": null,
            "grid_column": null,
            "grid_gap": null,
            "grid_row": null,
            "grid_template_areas": null,
            "grid_template_columns": null,
            "grid_template_rows": null,
            "height": null,
            "justify_content": null,
            "justify_items": null,
            "left": null,
            "margin": null,
            "max_height": null,
            "max_width": null,
            "min_height": null,
            "min_width": null,
            "object_fit": null,
            "object_position": null,
            "order": null,
            "overflow": null,
            "overflow_x": null,
            "overflow_y": null,
            "padding": null,
            "right": null,
            "top": null,
            "visibility": null,
            "width": null
          }
        },
        "db1579dd07dd4fd29c2612d7271ccf84": {
          "model_module": "@jupyter-widgets/controls",
          "model_name": "DescriptionStyleModel",
          "model_module_version": "1.5.0",
          "state": {
            "_model_module": "@jupyter-widgets/controls",
            "_model_module_version": "1.5.0",
            "_model_name": "DescriptionStyleModel",
            "_view_count": null,
            "_view_module": "@jupyter-widgets/base",
            "_view_module_version": "1.2.0",
            "_view_name": "StyleView",
            "description_width": ""
          }
        }
      }
    }
  },
  "cells": [
    {
      "cell_type": "code",
      "execution_count": 1,
      "metadata": {
        "id": "eXBko6gSF3c5"
      },
      "outputs": [],
      "source": [
        "import pandas as pd\n",
        "import numpy as np\n",
        "import csv\n",
        "import textwrap\n",
        "from sklearn.metrics import classification_report\n",
        "from pprint import pprint\n",
        "\n",
        "\n",
        "import tensorflow as tf\n",
        "from tensorflow import keras\n",
        "from transformers import BertTokenizer, TFBertModel, AutoTokenizer\n"
      ]
    },
    {
      "cell_type": "code",
      "source": [
        "from google.colab import drive\n",
        "drive.mount('/content/drive')"
      ],
      "metadata": {
        "colab": {
          "base_uri": "https://localhost:8080/"
        },
        "id": "u7bAFFyFKkTf",
        "outputId": "14f282a1-d0e7-4d09-cdc8-0c2fe3e3ae61"
      },
      "execution_count": 2,
      "outputs": [
        {
          "output_type": "stream",
          "name": "stdout",
          "text": [
            "Mounted at /content/drive\n"
          ]
        }
      ]
    },
    {
      "cell_type": "code",
      "source": [
        "diagnoses_train = pd.read_csv(\"drive/MyDrive/MIDS/medal_mimic_subset/diagnoses/train.csv\")\n",
        "diagnoses_validation = pd.read_csv(\"drive/MyDrive/MIDS/medal_mimic_subset/diagnoses/valid.csv\")\n",
        "diagnoses_test = pd.read_csv(\"drive/MyDrive/MIDS/medal_mimic_subset/diagnoses/test.csv\")"
      ],
      "metadata": {
        "id": "zXewHXmbLOGB"
      },
      "execution_count": 3,
      "outputs": []
    },
    {
      "cell_type": "code",
      "source": [
        "total_abbreviations = pd.read_csv(\"drive/MyDrive/MIDS/medal_mimic_subset/total_abbreviations.csv\")"
      ],
      "metadata": {
        "id": "CY7aZZwAdwgk"
      },
      "execution_count": 4,
      "outputs": []
    },
    {
      "cell_type": "code",
      "source": [
        "print(len(diagnoses_train))\n",
        "print(len(diagnoses_validation))\n",
        "print(len(diagnoses_test))"
      ],
      "metadata": {
        "id": "Z2OnS3LaEiV9",
        "colab": {
          "base_uri": "https://localhost:8080/"
        },
        "outputId": "843d7b5e-06ea-4d5c-9aba-97aacbec3ea6"
      },
      "execution_count": 5,
      "outputs": [
        {
          "output_type": "stream",
          "name": "stdout",
          "text": [
            "61079\n",
            "9258\n",
            "14287\n"
          ]
        }
      ]
    },
    {
      "cell_type": "code",
      "source": [
        "# diagnoses_train.head()\n",
        "# print(diagnoses_train[diagnoses_train.SUBJECT_ID == 29487].TEXT[0])\n",
        "print(diagnoses_train[diagnoses_train.SUBJECT_ID == 29487].TEXT.values[-1])\n",
        "# diagnoses_train.HOSPITAL_EXPIRE_FLAG.value_counts()"
      ],
      "metadata": {
        "id": "SYspOEarL7fd",
        "colab": {
          "base_uri": "https://localhost:8080/"
        },
        "outputId": "00acd8b8-e3e2-4aae-bf92-27dd23c51f87"
      },
      "execution_count": null,
      "outputs": [
        {
          "output_type": "stream",
          "name": "stdout",
          "text": [
            "Chief Complaint : \n",
            "   24 Hour Events : \n",
            "    -  BP stable off pressors ,  no bolus requirement\n",
            "    -  UOP adequate ,  still net positive\n",
            "    -  tolerated 8 - 28 for 5 hrs ,  ABGs improved\n",
            "    -  admin Lasix 40mg IV this am\n",
            "   Pt intubated ,  sedated ,  opening eyes but only intermittently responding\n",
            "   to commands . \n",
            "   Allergies : \n",
            "   Iodine\n",
            "   Anaphylaxis ; \n",
            "   Cipro  ( Oral )   ( Ciprofloxacin Hcl ) \n",
            "   Rash ; \n",
            "   Sulfonamides\n",
            "   Rash ; \n",
            "   Morphine\n",
            "   Nausea / Vomiting\n",
            "   Codeine\n",
            "   Nausea / Vomiting\n",
            "   Levofloxacin\n",
            "   Anaphylaxis ; \n",
            "   Last dose of Antibiotics : \n",
            "   Vancomycin  -  2163 - 1 - 19 12 : 45 PM\n",
            "   Piperacillin / Tazobactam  ( Zosyn )   -  2163 - 1 - 22 04 : 20 AM\n",
            "   Infusions : \n",
            "   Fentanyl  -  25 mcg / hour\n",
            "   Other ICU medications : \n",
            "   Other medications : \n",
            "   Flowsheet Data as of  2163 - 1 - 22 06 : 28 AM\n",
            "   Vital signs\n",
            "   Hemodynamic monitoring\n",
            "   Fluid balance\n",
            "                                                                  24 hours\n",
            "                                                               Since 12 AM\n",
            "   Tmax :  36 . 3\n",
            "C  ( 97 . 3\n",
            "   Tcurrent :  35 . 9\n",
            "C  ( 96 . 6\n",
            "   HR :  74  ( 67  -  92 )  bpm\n",
            "   BP :  132 / 39 ( 69 )   { 96 / 32 ( 53 )   -  154 / 58 ( 90 )  }  mmHg\n",
            "   RR :  16  ( 8  -  21 )  insp / min\n",
            "   SpO2 :  100 % \n",
            "   Heart rhythm :  SR  ( Sinus Rhythm ) \n",
            "   Wgt  ( current )  :  70 kg  ( admission )  :  62 kg\n",
            "   Height :  60 Inch\n",
            "    CVP :  9  ( 2  -  12 ) mmHg\n",
            "   Total In : \n",
            "                                                                  1 , 068 mL\n",
            "                                                                    306 mL\n",
            "   PO : \n",
            "   TF : \n",
            "                                                                    470 mL\n",
            "                                                                    220 mL\n",
            "   IVF : \n",
            "                                                                    258 mL\n",
            "                                                                     66 mL\n",
            "   Blood products : \n",
            "   Total out : \n",
            "                                                                    510 mL\n",
            "                                                                     45 mL\n",
            "   Urine : \n",
            "                                                                    510 mL\n",
            "                                                                     45 mL\n",
            "   NG : \n",
            "   Stool : \n",
            "   Drains : \n",
            "   Balance : \n",
            "                                                                    558 mL\n",
            "                                                                    261 mL\n",
            "   Respiratory support\n",
            "   Ventilator mode :  CMV / ASSIST / AutoFlow\n",
            "   Vt  ( Set )  :  450  ( 450  -  450 )  mL\n",
            "   Vt  ( Spontaneous )  :  363  ( 363  -  405 )  mL\n",
            "   PS  :  12 cmH2O\n",
            "   RR  ( Set )  :  16\n",
            "   RR  ( Spontaneous )  :  0\n",
            "   PEEP :  5 cmH2O\n",
            "   FiO2 :  30 % \n",
            "   RSBI Deferred :  No Spon Resp\n",
            "   PIP :  26 cmH2O\n",
            "   Plateau :  23 cmH2O\n",
            "   SpO2 :  100 % \n",
            "   ABG :  7 . 37 / 37 / 136 / 22 /  - 3\n",
            "   Ve :  7 . 7 L / min\n",
            "   PaO2  /  FiO2 :  453\n",
            "   Physical Examination\n",
            "   GEN :  NAD ,  intubated ,  opening eyes to commands\n",
            "   HEENT :  swollen ,  edematous face\n",
            "   CV :  irreg / irreg gr 3 SEM over LSB\n",
            "   RESP :  crackles bilaterally at bases ,  no w / r\n",
            "   ABD :  soft , NT / ND / NABS\n",
            "   Extr :  2 +  pitting edema bilaterally\n",
            "   Labs  /  Radiology\n",
            "   BONE\n",
            "   SCAN :  No scintigraphic evidence of hip metastasis or pathologic fractur\n",
            "   e . \n",
            "   2163 - 1 - 21 Portable CXR : \n",
            "   FINDINGS :   In comparison with study of 1 - 20 ,  there is no change in the\n",
            "   appearance of the endotracheal and nasogastric tubes and central venous\n",
            "   catheter and Port - A - Cath .   No change in the appearance of the\n",
            "   cardiomediastinal silhouette .   Large right and smaller left pleural eff\n",
            "   usions\n",
            "   persist .   No evidence of acute focal pneumonia . \n",
            "   IMPRESSION :   Little change . \n",
            "   51 K / uL\n",
            "   8 . 7 g / dL\n",
            "   132 mg / dL\n",
            "   2 . 9 mg / dL\n",
            "   22 mEq / L\n",
            "   4 . 2 mEq / L\n",
            "   65 mg / dL\n",
            "   111 mEq / L\n",
            "   140 mEq / L\n",
            "   27 . 4  % \n",
            "   7 . 8 K / uL\n",
            "        image002 . jpg\n",
            "                             2163 - 1 - 20  05 : 21 PM\n",
            "                             2163 - 1 - 20  05 : 48 PM\n",
            "                             2163 - 1 - 20  10 : 31 PM\n",
            "                             2163 - 1 - 21  12 : 18 AM\n",
            "                             2163 - 1 - 21  04 : 56 AM\n",
            "                             2163 - 1 - 21  05 : 04 AM\n",
            "                             2163 - 1 - 21  03 : 43 PM\n",
            "                             2163 - 1 - 21  06 : 34 PM\n",
            "                             2163 - 1 - 22  05 : 00 AM\n",
            "                             2163 - 1 - 22  05 : 14 AM\n",
            "   WBC\n",
            "   14 . 7\n",
            "   7 . 8\n",
            "   Hct\n",
            "   28 . 9\n",
            "   27 . 4\n",
            "   Plt\n",
            "   72\n",
            "   51\n",
            "   Cr\n",
            "   3 . 0\n",
            "   3 . 1\n",
            "   2 . 9\n",
            "   TCO2\n",
            "   21\n",
            "   22\n",
            "   21\n",
            "   21\n",
            "   22\n",
            "   24\n",
            "   22\n",
            "   Glucose\n",
            "   127\n",
            "   161\n",
            "   132\n",
            "   Other labs :  PT  /  PTT  /  INR : 12 . 9 / 33 . 2 / 1 . 1 ,  CK  /  CKMB  / \n",
            "   Troponin - T : 39 / 8 / 0 . 11 ,  ALT  /  AST : 20 / 25 ,  Alk Phos  /  T Bili : 54 / 0 . 5 , \n",
            "   Differential - Neuts : 91 . 2  %  ,  Band : 0 . 0  %  ,  Lymph : 4 . 2  %  ,  Mono : 4 . 5  %  ,  Eos : 0 . 1\n",
            "    %  ,  Fibrinogen : 603 mg / dL ,  Lactic Acid : 1 . 0 mmol / L ,  Albumin : 2 . 1 g / dL , \n",
            "   LDH : 124 IU / L ,  Ca +  +  : 8 . 8 mg / dL ,  Mg +  +  : 2 . 2 mg / dL ,  PO4 : 3 . 5 mg / dL\n",
            "   C Diff negative x 4 ,  Blood Cx NGTD\n",
            "   Urine Culture  +  Pseudomonas pan sensitive\n",
            "   Sputum Culture  +  yeast\n",
            "   Assessment and Plan\n",
            "   86 y / o F with PMHx of severe AS  &  CHF p / w Left hip pain ,  adm to Hospital Unit Name 44\n",
            "   for presumed urosepsis ,   intubated on 1 - 18 for worsening acidosis and\n",
            "   MS changes . \n",
            "    . \n",
            "    # SEPSIS ,  SEVERE  ( WITH ORGAN DYSFUNCTION )  :  etiology presumed urosepsis\n",
            "   with positive UA growing out pan sensitive Pseudomonas ,  now day 7 of\n",
            "   Zosyn .   Pt is s / p Intubation on 1 - 18 for worsening acidosis / MS\n",
            "   changes .   Pt had transient hypotensive episode with worsening acidosis\n",
            "   on 1 - 20 - intermittently requiring pressors .  WBC now trending down , \n",
            "   afebrile ,  no recurrence of hypotension .   Further infectious work up neg\n",
            "   to date ,  L chest U / S neg for abscess , Bone scan negative . \n",
            "    -  apprec ID consult ,  continue Zosyn day 6 - 2\n",
            "    -  bone scan -  no lytic lesions or metastatic dz\n",
            "    -  Blood Cx NGTD ,  Urine culture  +  2 diff pseudomonas ,  both pan\n",
            "   sensitive .   Sputum  +  yeast\n",
            "    -  gentle bolus of 250 LR prn to maintain Maps > 65\n",
            "    -  will repeat cultures if any recurrence of hypotension\n",
            "    . \n",
            "    # SHOCK ,  CARDIOGENIC :  Pt with severe AS  &  CHF with EF 45 %  developed Afib\n",
            "   with RVR and became hypotensive on 1 - 18 .  Pressure responded to IVF  & \n",
            "   pressors .   Pt was intubated and pressors weaned .  Pt has been in / out of\n",
            "   Afib but HR better controlled on digoxin .   Transiently hypotensive on\n",
            "   1 - 20 ,  required pressors approx 5hrs ,  likely due to severe AS and\n",
            "   preload dependence .  Pt with extravasc volume overload and complicated\n",
            "   fluid balance . \n",
            "    -  continue Digoxing 0 . 125mg every other day ,  avoid CCB / BBs\n",
            "    -  no plan for systemic anticoagulation currently ,  daily risk of CVA\n",
            "   very low\n",
            "    -  attempt aggressive diuresis today ,  goal  - 500cc\n",
            "    . \n",
            "    #  RESP FAILURE :  Pt was intubated on 1 - 18 due to worsening acidosis  &  MS\n",
            "   changes .   CXR with effusions R > L  &  pulm edema .   CT showed possible\n",
            "   airspace disease in Last Name  ( LF )  1056 ,  First Name3  ( LF )   have been 12 - 25 aspiration peri - intubation . \n",
            "   WBC ct down ,  it is unlikely that this due to a new PNA ,  but will\n",
            "   reculture and broaden Abx if pt clinically deteriorates .   Pulm edema\n",
            "   and extravascular volume overload may be a barrier to extubation .   Goal\n",
            "   to run i / os negative 500cc today\n",
            "    -  tolerated 8 - 28 well for 5hrs o / n .   ABGs show normal acid base status , \n",
            "   oxygenating  &  ventilating well . \n",
            "    -  f / u RSBI in am ,  possible extubation over weekend\n",
            "    . \n",
            "    #  RENAL FAILURE ,  ACUTE  ( ACUTE RENAL FAILURE ,  ARF )  :  Pt with oliguric\n",
            "   renal failure likely 12 - 25 hypoperfusion vs ATN in setting of shock . \n",
            "   Creatinine improved  &  having increased UOP .  Acidosis improved on vent\n",
            "   with AC ,  unclear etiology of metabolic acidosis leading to intubation . \n",
            "   Apprec renal recs ,   will admin Lasix  &  Metolazone this am to attempt\n",
            "   diuresis\n",
            "    -  monitor i / os ,  goal net negative 500cc\n",
            "    -  renally dose all meds\n",
            "    -  continue phoslo TID\n",
            "    . \n",
            "    #  AORTIC STENOSIS :  AS with valve area of 0 . 7cm ,  very preload dependant\n",
            "    &  delicate fluid balance .   Gentle bolus with 250cc LR prn to maintain\n",
            "   MAP > 60\n",
            "    -  continue digoxin ,  monitor daily CXR  &  resp status ,  avoid volume\n",
            "   overload preventing successful extubation\n",
            "    . \n",
            "    #  URINARY TRACT INFECTION  ( UTI )  :  presumed source of infection with UA  + \n",
            "   pseudomonas ,  pan sensitive\n",
            "    -  continue Zosyn day 6 - 2 renally dosed\n",
            "    #  LEFT HIP PAIN :  Etiology unclear but not an infectious source .  Not a\n",
            "   septic joint on admission ,  but clearly painful on manipulation now .   CT\n",
            "   neg for joint effusion ,  bone scan neg for pathologic\n",
            "   fracture / metastatic lesion\n",
            "    -  continue Fentanyl for pain control\n",
            "   ICU Care\n",
            "   Nutrition : \n",
            "   Nutren Pulmonary  ( Full )   -  2163 - 1 - 22 12 : 51 AM 35 mL / hour\n",
            "   Glycemic Control : \n",
            "   Lines :  Indwelling Port  ( PortaCath )   -  2163 - 1 - 16 07 : 04 PM\n",
            "   Presep Catheter  -  2163 - 1 - 16 07 : 05 PM\n",
            "   Arterial Line  -  2163 - 1 - 17 04 : 15 PM\n",
            "   Prophylaxis : \n",
            "   DVT :   Heparin sc TID\n",
            "   Stress ulcer :   H2 blocker\n",
            "   VAP :  Chlorhexidine\n",
            "   Code status :  DNR  ( do not resuscitate ) \n",
            "   Disposition :  ICU\n",
            "\n"
          ]
        }
      ]
    },
    {
      "cell_type": "code",
      "source": [
        "abbreviations = set(total_abbreviations.abbreviation)\n",
        "\n",
        "def has_any_abbreviation(text):\n",
        "    words = set(text.split())\n",
        "    found = words.intersection(abbreviations)\n",
        "    return bool(found)\n",
        "\n",
        "diagnoses_train_subset = diagnoses_train.loc[diagnoses_train.TEXT.apply(has_any_abbreviation)].reset_index(drop=True)\n",
        "diagnoses_validation_subset = diagnoses_validation.loc[diagnoses_validation.TEXT.apply(has_any_abbreviation)].reset_index(drop=True)\n",
        "diagnoses_test_subset = diagnoses_test.loc[diagnoses_test.TEXT.apply(has_any_abbreviation)].reset_index(drop=True)"
      ],
      "metadata": {
        "id": "hKcodmG-dy_r"
      },
      "execution_count": 6,
      "outputs": []
    },
    {
      "cell_type": "code",
      "source": [
        "print(f\"Train: {len(diagnoses_train_subset)} out of {len(diagnoses_train)}\")\n",
        "print(f\"Validation: {len(diagnoses_validation_subset)} out of {len(diagnoses_validation)}\")\n",
        "print(f\"Test: {len(diagnoses_test_subset)} out of {len(diagnoses_test)}\")"
      ],
      "metadata": {
        "id": "HOhfZdxNebyI",
        "colab": {
          "base_uri": "https://localhost:8080/"
        },
        "outputId": "40805418-30c2-4a80-cabd-c4dfa9643dc0"
      },
      "execution_count": null,
      "outputs": [
        {
          "output_type": "stream",
          "name": "stdout",
          "text": [
            "Train: 60444 out of 61079\n",
            "Validation: 9147 out of 9258\n",
            "Test: 14132 out of 14287\n"
          ]
        }
      ]
    },
    {
      "cell_type": "code",
      "source": [
        "with open(\"drive/MyDrive/MIDS/medal_mimic_subset/diagnoses/diag_to_idx.csv\") as f:\n",
        "    diagnosis_to_idx = {diag: int(idx) for diag, idx in csv.reader(f)}\n",
        "    idx_to_diagnosis = {int(idx): diag for diag, idx in diagnosis_to_idx.items()}\n",
        "\n",
        "print(f\"{len(diagnosis_to_idx)} unique diagnosis codes\")"
      ],
      "metadata": {
        "colab": {
          "base_uri": "https://localhost:8080/"
        },
        "id": "C6j06SYWmVBD",
        "outputId": "61dc5a86-511c-4599-ed23-b658a925aa6e"
      },
      "execution_count": 7,
      "outputs": [
        {
          "output_type": "stream",
          "name": "stdout",
          "text": [
            "1204 unique diagnosis codes\n"
          ]
        }
      ]
    },
    {
      "cell_type": "markdown",
      "source": [],
      "metadata": {
        "id": "_1hLJfNKmbF1"
      }
    },
    {
      "cell_type": "code",
      "source": [
        "model_checkpoint = 'NLP4H/ms_bert'\n",
        "bert_tokenizer = BertTokenizer.from_pretrained(model_checkpoint)"
      ],
      "metadata": {
        "id": "qpX26n6YMKzm",
        "colab": {
          "base_uri": "https://localhost:8080/",
          "height": 208,
          "referenced_widgets": [
            "9f8d4b18dcba4bd5a1184bbbb3d3c6e4",
            "051d2d47ac7542398b3b2976a529421b",
            "268fab9837a9427fbd4bf1a1a9e263eb",
            "b675797857a94921bfbf372a04d08f1a",
            "8abeb152f458458aa4894bb88db7c150",
            "7a0b1f0b178d497d8cd47df8fd1bd067",
            "7b0878d3dcba4353b0fc64cb1b28c703",
            "33d268aca23d4980a5c127bffd706e28",
            "ddd2d9c54b02460395d68f7aa34dd23c",
            "ca84e75ee1d64d25852e3f7ac80cdf70",
            "27ec8d20ea534433b9599b4467915237",
            "dddf52b6a06d47a1a70629b0ab20447e",
            "51e968c237ce44beaf32809dbc56a6fa",
            "e5c3289515b743bb81f286f970ddcc76",
            "5da3c68c0af74d1eaac1f3dba35d5e4c",
            "821d5f24de1247a3adf12319ae62ecd9",
            "d56b468168b94893bdb06cb88cdb6a0c",
            "1ad1e734a9234510af168472facba698",
            "c6f2b0c05eeb400084e7a9c0f5d32ac1",
            "d865956564d84bfb828ecda50dbce29d",
            "db5d78aa586f415286c066c8f7e09480",
            "46fb3b4c179c4a1696621522cd88c0eb"
          ]
        },
        "outputId": "28c240b1-b005-457f-b553-6fd15bc0f096"
      },
      "execution_count": 8,
      "outputs": [
        {
          "output_type": "stream",
          "name": "stderr",
          "text": [
            "/usr/local/lib/python3.10/dist-packages/huggingface_hub/utils/_token.py:89: UserWarning: \n",
            "The secret `HF_TOKEN` does not exist in your Colab secrets.\n",
            "To authenticate with the Hugging Face Hub, create a token in your settings tab (https://huggingface.co/settings/tokens), set it as secret in your Google Colab and restart your session.\n",
            "You will be able to reuse this secret in all of your notebooks.\n",
            "Please note that authentication is recommended but still optional to access public models or datasets.\n",
            "  warnings.warn(\n"
          ]
        },
        {
          "output_type": "display_data",
          "data": {
            "text/plain": [
              "vocab.txt:   0%|          | 0.00/232k [00:00<?, ?B/s]"
            ],
            "application/vnd.jupyter.widget-view+json": {
              "version_major": 2,
              "version_minor": 0,
              "model_id": "9f8d4b18dcba4bd5a1184bbbb3d3c6e4"
            }
          },
          "metadata": {}
        },
        {
          "output_type": "display_data",
          "data": {
            "text/plain": [
              "config.json:   0%|          | 0.00/499 [00:00<?, ?B/s]"
            ],
            "application/vnd.jupyter.widget-view+json": {
              "version_major": 2,
              "version_minor": 0,
              "model_id": "dddf52b6a06d47a1a70629b0ab20447e"
            }
          },
          "metadata": {}
        }
      ]
    },
    {
      "cell_type": "code",
      "source": [
        "MAX_LENGTH = 512\n",
        "\n",
        "\n",
        "def head_and_tail(tokens, total_size=MAX_LENGTH):\n",
        "    \"\"\"Build an array of size <total_size> using the head and tail ends of the input array\"\"\"\n",
        "    half = int(total_size / 2)\n",
        "    if len(tokens) <= total_size:\n",
        "        return tokens\n",
        "    head = tokens[:half]\n",
        "    tail = tokens[-half:]\n",
        "    return np.concatenate([head, tail])\n",
        "\n",
        "\n",
        "def tokenize(texts):\n",
        "    \"\"\"\n",
        "    Tokenize an array of text inputs for bert, and take the head and tail of\n",
        "    each set of bert inputs. Returns a tuple of three arrays: input_ids, token_type_ids,\n",
        "    and attention_mask.\n",
        "    \"\"\"\n",
        "    input_ids_list = []\n",
        "    token_type_ids_list = []\n",
        "    attention_mask_list = []\n",
        "\n",
        "    for text in texts:\n",
        "        bert_output = bert_tokenizer(\n",
        "            text, padding=\"max_length\", return_tensors=\"tf\", max_length=MAX_LENGTH\n",
        "        )\n",
        "        input_ids = bert_output[\"input_ids\"][0].numpy()\n",
        "        token_type_ids = bert_output[\"token_type_ids\"][0].numpy()\n",
        "        attention_mask = bert_output[\"attention_mask\"][0].numpy()\n",
        "\n",
        "        input_ids_list.append(head_and_tail(input_ids))\n",
        "        token_type_ids_list.append(head_and_tail(token_type_ids))\n",
        "        attention_mask_list.append(head_and_tail(attention_mask))\n",
        "\n",
        "    return np.array(input_ids_list), np.array(token_type_ids_list), np.array(attention_mask_list)\n",
        "\n",
        "\n",
        "def get_labels(df):\n",
        "    \"\"\"\n",
        "    Get array of labels for each record in the dataframe as a one-hot encoded array, e.g.\n",
        "    each ICD9 code appears as a 0 or 1 mapping to the diagnosis_labels array. If the ICD9\n",
        "    code does not appear in the training set, it is ignored.\n",
        "    \"\"\"\n",
        "    labels_by_hadm_id = {row.HADM_ID: row.ICD9_ID for _, row in df.iterrows()}\n",
        "    output = np.zeros((len(df), len(diagnosis_to_idx)))\n",
        "    for sample_idx, row in enumerate(df.iterrows()):\n",
        "        for icd9 in row[1].ICD9_ID.split(';'):\n",
        "            # skip codes that are not present in the train set\n",
        "            grouped_icd9 = icd9[:4] if icd9.startswith(\"V\") or icd9.startswith(\"E\") else icd9[:3]\n",
        "            if (index := diagnosis_to_idx.get(grouped_icd9)) is None:\n",
        "                continue\n",
        "\n",
        "            output[sample_idx, index] = 1\n",
        "\n",
        "    return output\n",
        "\n",
        "\n",
        "def preprocess_data(batch_df):\n",
        "    return tokenize(batch_df.TEXT), get_labels(batch_df)\n",
        "\n",
        "\n",
        "input_examples, label_examples = preprocess_data(diagnoses_train_subset[:3])\n",
        "print(\"Labels:\", [idx_to_diagnosis[idx] for idx in np.where(label_examples[1] == 1)[0]])\n",
        "print(\"Inputs:\", bert_tokenizer.decode(input_examples[0][1]))"
      ],
      "metadata": {
        "colab": {
          "base_uri": "https://localhost:8080/"
        },
        "id": "WweLlKT8uMcF",
        "outputId": "96ed1835-07e7-41a4-8b03-4ddaf468c621"
      },
      "execution_count": 9,
      "outputs": [
        {
          "output_type": "stream",
          "name": "stdout",
          "text": [
            "Labels: ['584', '707', '428', '276', '403', '293', '585', '427', '530', '197', '486', '038', '785', '995', '518', '599', '424', 'V104', 'V105', '274', 'V436']\n",
            "Inputs: [CLS] chief complaint : 24 hour events : ekg - at 2163 - 1 - 17 11 : 30 am - afib, rbbb, no acute st - t waves changes arterial line - start 2163 - 1 - 17 04 : 15 pm - ce negative - vanc added - urine grew out pseudomonas, did not double cover per id - mri hip ordered, not performed - uable to wean pressors overnight pt doing okay this am, still some l hip pain, but otherwise, breathing comfortably, no cp / sob / abd pain. allergies : iodine anaphylaxis ; cipro ( oral ) ( ciprofloxacin hcl ) rash ; sulfonamides rash ; morphine nausea / vomiting codeine nausea / vomiting levofloxacin anaphylaxis ; last dose of antibiotics : vancomycin - 2163 - 1 - 17 09 : 45 am piperacillin / tazobactam ( zosyn ) - 2163 - 1 - 18 04 : 12 am infusions : other icu medications : heparin tid, allopurinol, famotidine, tamoxifen, dilaudid, zofran, insulin, : as with valve area 0. 7cm, very preload dependant, bolus fluid prn and avoid bb / ccbs. - continue digoxin, monitor for worsening chf urinary tract infection ( uti ) : presumed source of sepsis, currently in oliguric rf, foley in place - continue vanc / zosyn for coverage of pseudomonas species, waiting on sensitivities left hip pain : unknown etiology, concern for fluid collection / septic joint. apprec ortho consult - f / u ct pelvis and continue vanc / zosyn. intubated with fentanyl for sedation & pain control. icu care nutrition : npo with og in place for meds glycemic control : iss lines : indwelling port ( portacath ) - 2163 - 1 - 16 07 : 04 pm presep catheter - 2163 - 1 - 16 07 : 05 pm arterial line - 2163 - 1 - 17 04 : 15 pm prophylaxis : dvt : heparin 5000 tid stress ulcer : ppi vap : comments : communication : comments : code status : full code disposition : icu [SEP]\n"
          ]
        }
      ]
    },
    {
      "cell_type": "code",
      "source": [
        "BATCH_SIZE = 32\n",
        "\n",
        "\n",
        "class DataGeneratorFromDataframe(tf.keras.utils.Sequence):\n",
        "\n",
        "    def __init__(self, df, batch_size=BATCH_SIZE, shuffle=True):\n",
        "        self.df = df\n",
        "        self.n_examples = len(df)\n",
        "        self.batch_size = batch_size\n",
        "        self.shuffle = shuffle\n",
        "\n",
        "        # Initialize row order, call on_epoch_end to shuffle row indices\n",
        "        self.row_order = np.arange(self.n_examples)\n",
        "        self.on_epoch_end()\n",
        "\n",
        "    def __len__(self):\n",
        "        # Return the number of batches in the full dataset\n",
        "        return self.n_examples // self.batch_size\n",
        "\n",
        "    def __getitem__(self, idx):\n",
        "        batch_start = idx * self.batch_size\n",
        "        batch_end = (idx + 1) * self.batch_size\n",
        "\n",
        "        # Indices to skip are the ones in the shuffled row_order before and\n",
        "        # after the chunk we'll use for this batch\n",
        "        batch_idx_skip = self.row_order[:batch_start] + self.row_order[batch_end:]\n",
        "        batch_df = self.df.loc[batch_start : batch_end].copy()\n",
        "        return preprocess_data(batch_df)\n",
        "\n",
        "    def on_epoch_end(self):\n",
        "        if self.shuffle:\n",
        "            self.row_order = list(np.random.permutation(self.row_order))"
      ],
      "metadata": {
        "id": "hxmaBj1OgGz0"
      },
      "execution_count": 10,
      "outputs": []
    },
    {
      "cell_type": "code",
      "source": [
        "# Create an instance of our data generator, for our training data file and size\n",
        "\n",
        "train_data_generator = DataGeneratorFromDataframe(diagnoses_train_subset)\n",
        "valid_data_generator = DataGeneratorFromDataframe(diagnoses_validation_subset)\n",
        "test_data_generator = DataGeneratorFromDataframe(diagnoses_test_subset)"
      ],
      "metadata": {
        "id": "lRNUFpVTy-RE"
      },
      "execution_count": 11,
      "outputs": []
    },
    {
      "cell_type": "code",
      "source": [
        "print(len(train_data_generator[0][0]))"
      ],
      "metadata": {
        "colab": {
          "base_uri": "https://localhost:8080/"
        },
        "id": "tsL_T2twsqgK",
        "outputId": "de23dadb-4abe-44d4-dbbe-7e83bb79fcc2"
      },
      "execution_count": null,
      "outputs": [
        {
          "output_type": "stream",
          "name": "stdout",
          "text": [
            "3\n"
          ]
        }
      ]
    },
    {
      "cell_type": "code",
      "source": [
        "def create_diagnosis_ms_bert_model(\n",
        "    model_checkpoint=model_checkpoint,\n",
        "    n_classes=len(diagnosis_to_idx),\n",
        "    hidden_size=256,\n",
        "    dropout=0.3,\n",
        "    learning_rate=0.00005,\n",
        "):\n",
        "    \"\"\"\n",
        "    Classification model with BERT that uses the Pooler Output for classification.\n",
        "    \"\"\"\n",
        "    keras.backend.clear_session()\n",
        "\n",
        "    input_ids = tf.keras.layers.Input(shape=(MAX_LENGTH,), dtype=tf.int32, name='input_ids_layer')\n",
        "    token_type_ids = tf.keras.layers.Input(shape=(MAX_LENGTH,), dtype=tf.int32, name='token_type_ids_layer')\n",
        "    attention_mask = tf.keras.layers.Input(shape=(MAX_LENGTH,), dtype=tf.int32, name='attention_mask_layer')\n",
        "\n",
        "    # bert_inputs = {'input_ids': input_ids,\n",
        "    #                'token_type_ids': token_type_ids,\n",
        "    #                'attention_mask': attention_mask}\n",
        "\n",
        "    bert_model = TFBertModel.from_pretrained(model_checkpoint)\n",
        "    bert_out = bert_model(input_ids=input_ids, token_type_ids=token_type_ids, attention_mask=attention_mask)\n",
        "\n",
        "    pooler_token = bert_out.pooler_output\n",
        "\n",
        "    hidden = tf.keras.layers.Dense(hidden_size, activation='relu', name='hidden_layer')(pooler_token)\n",
        "    hidden = tf.keras.layers.Dropout(dropout)(hidden)\n",
        "\n",
        "    classification = tf.keras.layers.Dense(n_classes, activation='sigmoid', name='classification_layer')(hidden)\n",
        "\n",
        "    classification_model = tf.keras.Model(inputs=[input_ids, token_type_ids, attention_mask], outputs=[classification])\n",
        "\n",
        "    classification_model.compile(optimizer=tf.keras.optimizers.Adam(learning_rate=learning_rate),\n",
        "                                 loss=tf.keras.losses.BinaryCrossentropy(from_logits=False),\n",
        "                                 metrics='accuracy')\n",
        "\n",
        "    return classification_model"
      ],
      "metadata": {
        "id": "6-_CdIElAWUw"
      },
      "execution_count": 12,
      "outputs": []
    },
    {
      "cell_type": "code",
      "source": [
        "diagnosis_ms_bert_model = create_diagnosis_ms_bert_model()\n",
        "diagnosis_ms_bert_model.summary()"
      ],
      "metadata": {
        "id": "K4Sgw7gfMWh4",
        "colab": {
          "base_uri": "https://localhost:8080/",
          "height": 783,
          "referenced_widgets": [
            "a1036fcc809e4801af5644d0c85fc198",
            "1ba71d941cd04e9ca13ba4360c3b9b47",
            "e48fad574625456d923562de7ada0df8",
            "71bca05bc6084dc88900e5b13583907a",
            "49acca9e475e470aba4b336ff34566e2",
            "b05af79e3fcc4e9ca1456a0858d774cd",
            "9e377f31d5fd4f7bbfcf7944ee75098f",
            "10dce761ee2049f6b3573e6aaf1a17f8",
            "b1539ab1ae254a1c9c99a3f6c10bee77",
            "a5ac02750cf54da29b7dc636c716dfff",
            "db1579dd07dd4fd29c2612d7271ccf84"
          ]
        },
        "outputId": "b2246c5e-850a-4baf-dd98-719193081c99"
      },
      "execution_count": 13,
      "outputs": [
        {
          "output_type": "display_data",
          "data": {
            "text/plain": [
              "model.safetensors:   0%|          | 0.00/440M [00:00<?, ?B/s]"
            ],
            "application/vnd.jupyter.widget-view+json": {
              "version_major": 2,
              "version_minor": 0,
              "model_id": "a1036fcc809e4801af5644d0c85fc198"
            }
          },
          "metadata": {}
        },
        {
          "output_type": "stream",
          "name": "stderr",
          "text": [
            "Some weights of the PyTorch model were not used when initializing the TF 2.0 model TFBertModel: ['cls.predictions.transform.LayerNorm.weight', 'cls.predictions.bias', 'cls.predictions.transform.LayerNorm.bias', 'cls.predictions.transform.dense.weight', 'cls.predictions.transform.dense.bias']\n",
            "- This IS expected if you are initializing TFBertModel from a PyTorch model trained on another task or with another architecture (e.g. initializing a TFBertForSequenceClassification model from a BertForPreTraining model).\n",
            "- This IS NOT expected if you are initializing TFBertModel from a PyTorch model that you expect to be exactly identical (e.g. initializing a TFBertForSequenceClassification model from a BertForSequenceClassification model).\n",
            "All the weights of TFBertModel were initialized from the PyTorch model.\n",
            "If your task is similar to the task the model of the checkpoint was trained on, you can already use TFBertModel for predictions without further training.\n"
          ]
        },
        {
          "output_type": "stream",
          "name": "stdout",
          "text": [
            "Model: \"model\"\n",
            "__________________________________________________________________________________________________\n",
            " Layer (type)                Output Shape                 Param #   Connected to                  \n",
            "==================================================================================================\n",
            " input_ids_layer (InputLaye  [(None, 512)]                0         []                            \n",
            " r)                                                                                               \n",
            "                                                                                                  \n",
            " attention_mask_layer (Inpu  [(None, 512)]                0         []                            \n",
            " tLayer)                                                                                          \n",
            "                                                                                                  \n",
            " token_type_ids_layer (Inpu  [(None, 512)]                0         []                            \n",
            " tLayer)                                                                                          \n",
            "                                                                                                  \n",
            " tf_bert_model (TFBertModel  TFBaseModelOutputWithPooli   1094822   ['input_ids_layer[0][0]',     \n",
            " )                           ngAndCrossAttentions(last_   40         'attention_mask_layer[0][0]',\n",
            "                             hidden_state=(None, 512, 7              'token_type_ids_layer[0][0]']\n",
            "                             68),                                                                 \n",
            "                              pooler_output=(None, 768)                                           \n",
            "                             , past_key_values=None, hi                                           \n",
            "                             dden_states=None, attentio                                           \n",
            "                             ns=None, cross_attentions=                                           \n",
            "                             None)                                                                \n",
            "                                                                                                  \n",
            " hidden_layer (Dense)        (None, 256)                  196864    ['tf_bert_model[0][1]']       \n",
            "                                                                                                  \n",
            " dropout_37 (Dropout)        (None, 256)                  0         ['hidden_layer[0][0]']        \n",
            "                                                                                                  \n",
            " classification_layer (Dens  (None, 1204)                 309428    ['dropout_37[0][0]']          \n",
            " e)                                                                                               \n",
            "                                                                                                  \n",
            "==================================================================================================\n",
            "Total params: 109988532 (419.57 MB)\n",
            "Trainable params: 109988532 (419.57 MB)\n",
            "Non-trainable params: 0 (0.00 Byte)\n",
            "__________________________________________________________________________________________________\n"
          ]
        }
      ]
    },
    {
      "cell_type": "code",
      "source": [
        "checkpoint_dir = 'drive/MyDrive/MIDS/model_checkpoints/diagnosis_ms_base/'\n",
        "checkpoint_filepath = checkpoint_dir + 'weights.{epoch:02d}-{val_accuracy:.2f}.model.keras'\n",
        "model_checkpoint_callback = tf.keras.callbacks.ModelCheckpoint(\n",
        "    filepath=checkpoint_filepath,\n",
        "    save_weights_only=False,\n",
        ")"
      ],
      "metadata": {
        "id": "7o_WPk_I7OqJ"
      },
      "execution_count": 14,
      "outputs": []
    },
    {
      "cell_type": "code",
      "source": [
        "# diagnosis_history = diagnosis_ms_bert_model.fit(\n",
        "#     train_data_generator,\n",
        "#     validation_data=valid_data_generator,\n",
        "#     batch_size=BATCH_SIZE,\n",
        "#     epochs=5,\n",
        "#     callbacks=[model_checkpoint_callback],\n",
        "# )\n"
      ],
      "metadata": {
        "id": "FacYx10NNcOj",
        "colab": {
          "base_uri": "https://localhost:8080/"
        },
        "outputId": "988141ed-a691-44d0-e843-084cb37b69de"
      },
      "execution_count": null,
      "outputs": [
        {
          "metadata": {
            "tags": null
          },
          "name": "stdout",
          "output_type": "stream",
          "text": [
            "Epoch 1/5\n",
            "1888/1888 [==============================] - ETA: 0s - loss: 0.0776 - accuracy: 0.0456"
          ]
        },
        {
          "metadata": {
            "tags": null
          },
          "name": "stderr",
          "output_type": "stream",
          "text": [
            "/usr/local/lib/python3.10/dist-packages/transformers/generation/tf_utils.py:465: UserWarning: `seed_generator` is deprecated and will be removed in a future version.\n",
            "  warnings.warn(\"`seed_generator` is deprecated and will be removed in a future version.\", UserWarning)\n"
          ]
        },
        {
          "output_type": "stream",
          "name": "stdout",
          "text": [
            "1888/1888 [==============================] - 1818s 928ms/step - loss: 0.0776 - accuracy: 0.0456 - val_loss: 0.0464 - val_accuracy: 0.0694\n",
            "Epoch 2/5\n",
            "1888/1888 [==============================] - 1742s 922ms/step - loss: 0.0470 - accuracy: 0.0804 - val_loss: 0.0450 - val_accuracy: 0.0805\n",
            "Epoch 3/5\n",
            "1888/1888 [==============================] - 1740s 921ms/step - loss: 0.0433 - accuracy: 0.0990 - val_loss: 0.0430 - val_accuracy: 0.1161\n",
            "Epoch 4/5\n",
            "1888/1888 [==============================] - 1740s 921ms/step - loss: 0.0397 - accuracy: 0.1061 - val_loss: 0.0415 - val_accuracy: 0.1337\n",
            "Epoch 5/5\n",
            "1888/1888 [==============================] - 1740s 922ms/step - loss: 0.0361 - accuracy: 0.1121 - val_loss: 0.0397 - val_accuracy: 0.1205\n"
          ]
        }
      ]
    },
    {
      "cell_type": "code",
      "source": [
        "# Skip training by running this cell\n",
        "checkpoint_name = \"weights.05-0.12.model.keras\"\n",
        "diagnosis_ms_bert_model = tf.keras.models.load_model(\n",
        "    f\"{checkpoint_dir}{checkpoint_name}\",\n",
        "    custom_objects={\"TFBertModel\": TFBertModel},\n",
        ")"
      ],
      "metadata": {
        "id": "10Xav8RL5_x_",
        "colab": {
          "base_uri": "https://localhost:8080/"
        },
        "outputId": "4530f17e-c958-4987-dd7b-6f706aaee871"
      },
      "execution_count": 15,
      "outputs": [
        {
          "output_type": "stream",
          "name": "stderr",
          "text": [
            "/usr/local/lib/python3.10/dist-packages/transformers/generation/tf_utils.py:465: UserWarning: `seed_generator` is deprecated and will be removed in a future version.\n",
            "  warnings.warn(\"`seed_generator` is deprecated and will be removed in a future version.\", UserWarning)\n"
          ]
        }
      ]
    },
    {
      "cell_type": "code",
      "source": [
        "def compute_top_k_recall(labels, predictions, k=10):\n",
        "    # Get indices of top-k predictions\n",
        "    idxs = np.argsort(predictions, axis=1)[:, ::-1][:, :k]\n",
        "\n",
        "    # Gather top-k labels\n",
        "    top_k_labels = labels[np.arange(labels.shape[0])[:, np.newaxis], idxs]\n",
        "\n",
        "    # Compute recall for each sample\n",
        "    sum_top_k_labels = np.sum(top_k_labels, axis=1)\n",
        "    sum_labels = np.sum(labels, axis=1)\n",
        "    recall_per_sample = sum_top_k_labels / sum_labels\n",
        "\n",
        "    # Compute mean recall across all samples\n",
        "    return np.mean(recall_per_sample)\n",
        "\n",
        "\n",
        "def evaluate(model, test_data):\n",
        "    top_5_recall = 0\n",
        "    top_10_recall = 0\n",
        "    top_30_recall = 0\n",
        "    count = 0\n",
        "\n",
        "    print(f\"Evaluating top k recall of {len(test_data)} batches\")\n",
        "\n",
        "    for i, (inputs, labels) in enumerate(test_data, start=1):\n",
        "        predictions = model.predict(inputs, verbose=0)\n",
        "        top_5_recall += compute_top_k_recall(labels, predictions, k=5)\n",
        "        top_10_recall += compute_top_k_recall(labels, predictions, k=10)\n",
        "        top_30_recall += compute_top_k_recall(labels, predictions, k=30)\n",
        "        count += 1\n",
        "        if count % 10 == 0:\n",
        "            print(f\"{count} batches evaluated\")\n",
        "\n",
        "    return {\n",
        "        \"top_5_recall\": top_5_recall / count,\n",
        "        \"top_10_recall\": top_10_recall / count,\n",
        "        \"top_30_recall\": top_30_recall / count,\n",
        "    }\n",
        "\n",
        "evaluate(diagnosis_ms_bert_model, valid_data_generator)"
      ],
      "metadata": {
        "id": "7SVJBqWCpB69",
        "colab": {
          "base_uri": "https://localhost:8080/"
        },
        "outputId": "08823a81-e327-474f-f6ca-be2c41e1758e"
      },
      "execution_count": 16,
      "outputs": [
        {
          "output_type": "stream",
          "name": "stdout",
          "text": [
            "Evaluating top k recall of 285 batches\n",
            "10 batches evaluated\n",
            "20 batches evaluated\n",
            "30 batches evaluated\n",
            "40 batches evaluated\n",
            "50 batches evaluated\n",
            "60 batches evaluated\n",
            "70 batches evaluated\n",
            "80 batches evaluated\n",
            "90 batches evaluated\n",
            "100 batches evaluated\n",
            "110 batches evaluated\n",
            "120 batches evaluated\n",
            "130 batches evaluated\n",
            "140 batches evaluated\n",
            "150 batches evaluated\n",
            "160 batches evaluated\n",
            "170 batches evaluated\n",
            "180 batches evaluated\n",
            "190 batches evaluated\n",
            "200 batches evaluated\n",
            "210 batches evaluated\n",
            "220 batches evaluated\n",
            "230 batches evaluated\n",
            "240 batches evaluated\n",
            "250 batches evaluated\n",
            "260 batches evaluated\n",
            "270 batches evaluated\n",
            "280 batches evaluated\n"
          ]
        },
        {
          "output_type": "execute_result",
          "data": {
            "text/plain": [
              "{'top_5_recall': 0.20421426049467356,\n",
              " 'top_10_recall': 0.3282939119406223,\n",
              " 'top_30_recall': 0.5853365680247258}"
            ]
          },
          "metadata": {},
          "execution_count": 16
        }
      ]
    }
  ]
}