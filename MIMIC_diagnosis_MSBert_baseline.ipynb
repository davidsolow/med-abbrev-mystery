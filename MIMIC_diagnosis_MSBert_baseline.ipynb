{
  "nbformat": 4,
  "nbformat_minor": 0,
  "metadata": {
    "colab": {
      "provenance": [],
      "gpuType": "A100",
      "machine_shape": "hm"
    },
    "kernelspec": {
      "name": "python3",
      "display_name": "Python 3"
    },
    "language_info": {
      "name": "python"
    },
    "accelerator": "GPU",
    "widgets": {
      "application/vnd.jupyter.widget-state+json": {
        "892e1ffd7afd4689854f286e46da52d7": {
          "model_module": "@jupyter-widgets/controls",
          "model_name": "HBoxModel",
          "model_module_version": "1.5.0",
          "state": {
            "_dom_classes": [],
            "_model_module": "@jupyter-widgets/controls",
            "_model_module_version": "1.5.0",
            "_model_name": "HBoxModel",
            "_view_count": null,
            "_view_module": "@jupyter-widgets/controls",
            "_view_module_version": "1.5.0",
            "_view_name": "HBoxView",
            "box_style": "",
            "children": [
              "IPY_MODEL_b2ed0e4ad5de42d28f754b1b4ab1c25b",
              "IPY_MODEL_1558d375706541ff89c159c152f98eea",
              "IPY_MODEL_5b45f35650474996ace41df7c7ca0818"
            ],
            "layout": "IPY_MODEL_b09f93bb17924c28859c68f848484dc2"
          }
        },
        "b2ed0e4ad5de42d28f754b1b4ab1c25b": {
          "model_module": "@jupyter-widgets/controls",
          "model_name": "HTMLModel",
          "model_module_version": "1.5.0",
          "state": {
            "_dom_classes": [],
            "_model_module": "@jupyter-widgets/controls",
            "_model_module_version": "1.5.0",
            "_model_name": "HTMLModel",
            "_view_count": null,
            "_view_module": "@jupyter-widgets/controls",
            "_view_module_version": "1.5.0",
            "_view_name": "HTMLView",
            "description": "",
            "description_tooltip": null,
            "layout": "IPY_MODEL_6dd563f17ec04db69c48cf365c8e758d",
            "placeholder": "​",
            "style": "IPY_MODEL_83889293c9b84e5b8d1490b1b4efb2d9",
            "value": "vocab.txt: 100%"
          }
        },
        "1558d375706541ff89c159c152f98eea": {
          "model_module": "@jupyter-widgets/controls",
          "model_name": "FloatProgressModel",
          "model_module_version": "1.5.0",
          "state": {
            "_dom_classes": [],
            "_model_module": "@jupyter-widgets/controls",
            "_model_module_version": "1.5.0",
            "_model_name": "FloatProgressModel",
            "_view_count": null,
            "_view_module": "@jupyter-widgets/controls",
            "_view_module_version": "1.5.0",
            "_view_name": "ProgressView",
            "bar_style": "success",
            "description": "",
            "description_tooltip": null,
            "layout": "IPY_MODEL_8d68c731312241c196fcfc7d76b63ad4",
            "max": 231508,
            "min": 0,
            "orientation": "horizontal",
            "style": "IPY_MODEL_f3a7ceb7e46a4a6789b75c99e999fe07",
            "value": 231508
          }
        },
        "5b45f35650474996ace41df7c7ca0818": {
          "model_module": "@jupyter-widgets/controls",
          "model_name": "HTMLModel",
          "model_module_version": "1.5.0",
          "state": {
            "_dom_classes": [],
            "_model_module": "@jupyter-widgets/controls",
            "_model_module_version": "1.5.0",
            "_model_name": "HTMLModel",
            "_view_count": null,
            "_view_module": "@jupyter-widgets/controls",
            "_view_module_version": "1.5.0",
            "_view_name": "HTMLView",
            "description": "",
            "description_tooltip": null,
            "layout": "IPY_MODEL_e520b40e7d0d462fad3c0c24e021706b",
            "placeholder": "​",
            "style": "IPY_MODEL_2fdad66a091a454e85ac0500fbdd5de9",
            "value": " 232k/232k [00:00&lt;00:00, 12.7MB/s]"
          }
        },
        "b09f93bb17924c28859c68f848484dc2": {
          "model_module": "@jupyter-widgets/base",
          "model_name": "LayoutModel",
          "model_module_version": "1.2.0",
          "state": {
            "_model_module": "@jupyter-widgets/base",
            "_model_module_version": "1.2.0",
            "_model_name": "LayoutModel",
            "_view_count": null,
            "_view_module": "@jupyter-widgets/base",
            "_view_module_version": "1.2.0",
            "_view_name": "LayoutView",
            "align_content": null,
            "align_items": null,
            "align_self": null,
            "border": null,
            "bottom": null,
            "display": null,
            "flex": null,
            "flex_flow": null,
            "grid_area": null,
            "grid_auto_columns": null,
            "grid_auto_flow": null,
            "grid_auto_rows": null,
            "grid_column": null,
            "grid_gap": null,
            "grid_row": null,
            "grid_template_areas": null,
            "grid_template_columns": null,
            "grid_template_rows": null,
            "height": null,
            "justify_content": null,
            "justify_items": null,
            "left": null,
            "margin": null,
            "max_height": null,
            "max_width": null,
            "min_height": null,
            "min_width": null,
            "object_fit": null,
            "object_position": null,
            "order": null,
            "overflow": null,
            "overflow_x": null,
            "overflow_y": null,
            "padding": null,
            "right": null,
            "top": null,
            "visibility": null,
            "width": null
          }
        },
        "6dd563f17ec04db69c48cf365c8e758d": {
          "model_module": "@jupyter-widgets/base",
          "model_name": "LayoutModel",
          "model_module_version": "1.2.0",
          "state": {
            "_model_module": "@jupyter-widgets/base",
            "_model_module_version": "1.2.0",
            "_model_name": "LayoutModel",
            "_view_count": null,
            "_view_module": "@jupyter-widgets/base",
            "_view_module_version": "1.2.0",
            "_view_name": "LayoutView",
            "align_content": null,
            "align_items": null,
            "align_self": null,
            "border": null,
            "bottom": null,
            "display": null,
            "flex": null,
            "flex_flow": null,
            "grid_area": null,
            "grid_auto_columns": null,
            "grid_auto_flow": null,
            "grid_auto_rows": null,
            "grid_column": null,
            "grid_gap": null,
            "grid_row": null,
            "grid_template_areas": null,
            "grid_template_columns": null,
            "grid_template_rows": null,
            "height": null,
            "justify_content": null,
            "justify_items": null,
            "left": null,
            "margin": null,
            "max_height": null,
            "max_width": null,
            "min_height": null,
            "min_width": null,
            "object_fit": null,
            "object_position": null,
            "order": null,
            "overflow": null,
            "overflow_x": null,
            "overflow_y": null,
            "padding": null,
            "right": null,
            "top": null,
            "visibility": null,
            "width": null
          }
        },
        "83889293c9b84e5b8d1490b1b4efb2d9": {
          "model_module": "@jupyter-widgets/controls",
          "model_name": "DescriptionStyleModel",
          "model_module_version": "1.5.0",
          "state": {
            "_model_module": "@jupyter-widgets/controls",
            "_model_module_version": "1.5.0",
            "_model_name": "DescriptionStyleModel",
            "_view_count": null,
            "_view_module": "@jupyter-widgets/base",
            "_view_module_version": "1.2.0",
            "_view_name": "StyleView",
            "description_width": ""
          }
        },
        "8d68c731312241c196fcfc7d76b63ad4": {
          "model_module": "@jupyter-widgets/base",
          "model_name": "LayoutModel",
          "model_module_version": "1.2.0",
          "state": {
            "_model_module": "@jupyter-widgets/base",
            "_model_module_version": "1.2.0",
            "_model_name": "LayoutModel",
            "_view_count": null,
            "_view_module": "@jupyter-widgets/base",
            "_view_module_version": "1.2.0",
            "_view_name": "LayoutView",
            "align_content": null,
            "align_items": null,
            "align_self": null,
            "border": null,
            "bottom": null,
            "display": null,
            "flex": null,
            "flex_flow": null,
            "grid_area": null,
            "grid_auto_columns": null,
            "grid_auto_flow": null,
            "grid_auto_rows": null,
            "grid_column": null,
            "grid_gap": null,
            "grid_row": null,
            "grid_template_areas": null,
            "grid_template_columns": null,
            "grid_template_rows": null,
            "height": null,
            "justify_content": null,
            "justify_items": null,
            "left": null,
            "margin": null,
            "max_height": null,
            "max_width": null,
            "min_height": null,
            "min_width": null,
            "object_fit": null,
            "object_position": null,
            "order": null,
            "overflow": null,
            "overflow_x": null,
            "overflow_y": null,
            "padding": null,
            "right": null,
            "top": null,
            "visibility": null,
            "width": null
          }
        },
        "f3a7ceb7e46a4a6789b75c99e999fe07": {
          "model_module": "@jupyter-widgets/controls",
          "model_name": "ProgressStyleModel",
          "model_module_version": "1.5.0",
          "state": {
            "_model_module": "@jupyter-widgets/controls",
            "_model_module_version": "1.5.0",
            "_model_name": "ProgressStyleModel",
            "_view_count": null,
            "_view_module": "@jupyter-widgets/base",
            "_view_module_version": "1.2.0",
            "_view_name": "StyleView",
            "bar_color": null,
            "description_width": ""
          }
        },
        "e520b40e7d0d462fad3c0c24e021706b": {
          "model_module": "@jupyter-widgets/base",
          "model_name": "LayoutModel",
          "model_module_version": "1.2.0",
          "state": {
            "_model_module": "@jupyter-widgets/base",
            "_model_module_version": "1.2.0",
            "_model_name": "LayoutModel",
            "_view_count": null,
            "_view_module": "@jupyter-widgets/base",
            "_view_module_version": "1.2.0",
            "_view_name": "LayoutView",
            "align_content": null,
            "align_items": null,
            "align_self": null,
            "border": null,
            "bottom": null,
            "display": null,
            "flex": null,
            "flex_flow": null,
            "grid_area": null,
            "grid_auto_columns": null,
            "grid_auto_flow": null,
            "grid_auto_rows": null,
            "grid_column": null,
            "grid_gap": null,
            "grid_row": null,
            "grid_template_areas": null,
            "grid_template_columns": null,
            "grid_template_rows": null,
            "height": null,
            "justify_content": null,
            "justify_items": null,
            "left": null,
            "margin": null,
            "max_height": null,
            "max_width": null,
            "min_height": null,
            "min_width": null,
            "object_fit": null,
            "object_position": null,
            "order": null,
            "overflow": null,
            "overflow_x": null,
            "overflow_y": null,
            "padding": null,
            "right": null,
            "top": null,
            "visibility": null,
            "width": null
          }
        },
        "2fdad66a091a454e85ac0500fbdd5de9": {
          "model_module": "@jupyter-widgets/controls",
          "model_name": "DescriptionStyleModel",
          "model_module_version": "1.5.0",
          "state": {
            "_model_module": "@jupyter-widgets/controls",
            "_model_module_version": "1.5.0",
            "_model_name": "DescriptionStyleModel",
            "_view_count": null,
            "_view_module": "@jupyter-widgets/base",
            "_view_module_version": "1.2.0",
            "_view_name": "StyleView",
            "description_width": ""
          }
        },
        "1bc8046057204094bf3b1f2547015b4c": {
          "model_module": "@jupyter-widgets/controls",
          "model_name": "HBoxModel",
          "model_module_version": "1.5.0",
          "state": {
            "_dom_classes": [],
            "_model_module": "@jupyter-widgets/controls",
            "_model_module_version": "1.5.0",
            "_model_name": "HBoxModel",
            "_view_count": null,
            "_view_module": "@jupyter-widgets/controls",
            "_view_module_version": "1.5.0",
            "_view_name": "HBoxView",
            "box_style": "",
            "children": [
              "IPY_MODEL_02225e6fd8eb422885e32d22f0162df0",
              "IPY_MODEL_9fc8280db45f4b90899e1bcf37a4493b",
              "IPY_MODEL_0dfaeb71acf14fe6ae8bafdd576fb33c"
            ],
            "layout": "IPY_MODEL_ac8da2410a5b45a2bfb067ba59abbca4"
          }
        },
        "02225e6fd8eb422885e32d22f0162df0": {
          "model_module": "@jupyter-widgets/controls",
          "model_name": "HTMLModel",
          "model_module_version": "1.5.0",
          "state": {
            "_dom_classes": [],
            "_model_module": "@jupyter-widgets/controls",
            "_model_module_version": "1.5.0",
            "_model_name": "HTMLModel",
            "_view_count": null,
            "_view_module": "@jupyter-widgets/controls",
            "_view_module_version": "1.5.0",
            "_view_name": "HTMLView",
            "description": "",
            "description_tooltip": null,
            "layout": "IPY_MODEL_147f3f61cc95447385f72445e86fbfb1",
            "placeholder": "​",
            "style": "IPY_MODEL_4e7948691f324a9b80372fe499c24a53",
            "value": "config.json: 100%"
          }
        },
        "9fc8280db45f4b90899e1bcf37a4493b": {
          "model_module": "@jupyter-widgets/controls",
          "model_name": "FloatProgressModel",
          "model_module_version": "1.5.0",
          "state": {
            "_dom_classes": [],
            "_model_module": "@jupyter-widgets/controls",
            "_model_module_version": "1.5.0",
            "_model_name": "FloatProgressModel",
            "_view_count": null,
            "_view_module": "@jupyter-widgets/controls",
            "_view_module_version": "1.5.0",
            "_view_name": "ProgressView",
            "bar_style": "success",
            "description": "",
            "description_tooltip": null,
            "layout": "IPY_MODEL_5d838e92fabc409b9b061457d702f798",
            "max": 499,
            "min": 0,
            "orientation": "horizontal",
            "style": "IPY_MODEL_8d92c0afc67a4062a6e28509986dac5e",
            "value": 499
          }
        },
        "0dfaeb71acf14fe6ae8bafdd576fb33c": {
          "model_module": "@jupyter-widgets/controls",
          "model_name": "HTMLModel",
          "model_module_version": "1.5.0",
          "state": {
            "_dom_classes": [],
            "_model_module": "@jupyter-widgets/controls",
            "_model_module_version": "1.5.0",
            "_model_name": "HTMLModel",
            "_view_count": null,
            "_view_module": "@jupyter-widgets/controls",
            "_view_module_version": "1.5.0",
            "_view_name": "HTMLView",
            "description": "",
            "description_tooltip": null,
            "layout": "IPY_MODEL_9a754788c09b41aab4f61fc8fd4bb8c9",
            "placeholder": "​",
            "style": "IPY_MODEL_972361c789764c3d9095d1f08e642a4b",
            "value": " 499/499 [00:00&lt;00:00, 43.3kB/s]"
          }
        },
        "ac8da2410a5b45a2bfb067ba59abbca4": {
          "model_module": "@jupyter-widgets/base",
          "model_name": "LayoutModel",
          "model_module_version": "1.2.0",
          "state": {
            "_model_module": "@jupyter-widgets/base",
            "_model_module_version": "1.2.0",
            "_model_name": "LayoutModel",
            "_view_count": null,
            "_view_module": "@jupyter-widgets/base",
            "_view_module_version": "1.2.0",
            "_view_name": "LayoutView",
            "align_content": null,
            "align_items": null,
            "align_self": null,
            "border": null,
            "bottom": null,
            "display": null,
            "flex": null,
            "flex_flow": null,
            "grid_area": null,
            "grid_auto_columns": null,
            "grid_auto_flow": null,
            "grid_auto_rows": null,
            "grid_column": null,
            "grid_gap": null,
            "grid_row": null,
            "grid_template_areas": null,
            "grid_template_columns": null,
            "grid_template_rows": null,
            "height": null,
            "justify_content": null,
            "justify_items": null,
            "left": null,
            "margin": null,
            "max_height": null,
            "max_width": null,
            "min_height": null,
            "min_width": null,
            "object_fit": null,
            "object_position": null,
            "order": null,
            "overflow": null,
            "overflow_x": null,
            "overflow_y": null,
            "padding": null,
            "right": null,
            "top": null,
            "visibility": null,
            "width": null
          }
        },
        "147f3f61cc95447385f72445e86fbfb1": {
          "model_module": "@jupyter-widgets/base",
          "model_name": "LayoutModel",
          "model_module_version": "1.2.0",
          "state": {
            "_model_module": "@jupyter-widgets/base",
            "_model_module_version": "1.2.0",
            "_model_name": "LayoutModel",
            "_view_count": null,
            "_view_module": "@jupyter-widgets/base",
            "_view_module_version": "1.2.0",
            "_view_name": "LayoutView",
            "align_content": null,
            "align_items": null,
            "align_self": null,
            "border": null,
            "bottom": null,
            "display": null,
            "flex": null,
            "flex_flow": null,
            "grid_area": null,
            "grid_auto_columns": null,
            "grid_auto_flow": null,
            "grid_auto_rows": null,
            "grid_column": null,
            "grid_gap": null,
            "grid_row": null,
            "grid_template_areas": null,
            "grid_template_columns": null,
            "grid_template_rows": null,
            "height": null,
            "justify_content": null,
            "justify_items": null,
            "left": null,
            "margin": null,
            "max_height": null,
            "max_width": null,
            "min_height": null,
            "min_width": null,
            "object_fit": null,
            "object_position": null,
            "order": null,
            "overflow": null,
            "overflow_x": null,
            "overflow_y": null,
            "padding": null,
            "right": null,
            "top": null,
            "visibility": null,
            "width": null
          }
        },
        "4e7948691f324a9b80372fe499c24a53": {
          "model_module": "@jupyter-widgets/controls",
          "model_name": "DescriptionStyleModel",
          "model_module_version": "1.5.0",
          "state": {
            "_model_module": "@jupyter-widgets/controls",
            "_model_module_version": "1.5.0",
            "_model_name": "DescriptionStyleModel",
            "_view_count": null,
            "_view_module": "@jupyter-widgets/base",
            "_view_module_version": "1.2.0",
            "_view_name": "StyleView",
            "description_width": ""
          }
        },
        "5d838e92fabc409b9b061457d702f798": {
          "model_module": "@jupyter-widgets/base",
          "model_name": "LayoutModel",
          "model_module_version": "1.2.0",
          "state": {
            "_model_module": "@jupyter-widgets/base",
            "_model_module_version": "1.2.0",
            "_model_name": "LayoutModel",
            "_view_count": null,
            "_view_module": "@jupyter-widgets/base",
            "_view_module_version": "1.2.0",
            "_view_name": "LayoutView",
            "align_content": null,
            "align_items": null,
            "align_self": null,
            "border": null,
            "bottom": null,
            "display": null,
            "flex": null,
            "flex_flow": null,
            "grid_area": null,
            "grid_auto_columns": null,
            "grid_auto_flow": null,
            "grid_auto_rows": null,
            "grid_column": null,
            "grid_gap": null,
            "grid_row": null,
            "grid_template_areas": null,
            "grid_template_columns": null,
            "grid_template_rows": null,
            "height": null,
            "justify_content": null,
            "justify_items": null,
            "left": null,
            "margin": null,
            "max_height": null,
            "max_width": null,
            "min_height": null,
            "min_width": null,
            "object_fit": null,
            "object_position": null,
            "order": null,
            "overflow": null,
            "overflow_x": null,
            "overflow_y": null,
            "padding": null,
            "right": null,
            "top": null,
            "visibility": null,
            "width": null
          }
        },
        "8d92c0afc67a4062a6e28509986dac5e": {
          "model_module": "@jupyter-widgets/controls",
          "model_name": "ProgressStyleModel",
          "model_module_version": "1.5.0",
          "state": {
            "_model_module": "@jupyter-widgets/controls",
            "_model_module_version": "1.5.0",
            "_model_name": "ProgressStyleModel",
            "_view_count": null,
            "_view_module": "@jupyter-widgets/base",
            "_view_module_version": "1.2.0",
            "_view_name": "StyleView",
            "bar_color": null,
            "description_width": ""
          }
        },
        "9a754788c09b41aab4f61fc8fd4bb8c9": {
          "model_module": "@jupyter-widgets/base",
          "model_name": "LayoutModel",
          "model_module_version": "1.2.0",
          "state": {
            "_model_module": "@jupyter-widgets/base",
            "_model_module_version": "1.2.0",
            "_model_name": "LayoutModel",
            "_view_count": null,
            "_view_module": "@jupyter-widgets/base",
            "_view_module_version": "1.2.0",
            "_view_name": "LayoutView",
            "align_content": null,
            "align_items": null,
            "align_self": null,
            "border": null,
            "bottom": null,
            "display": null,
            "flex": null,
            "flex_flow": null,
            "grid_area": null,
            "grid_auto_columns": null,
            "grid_auto_flow": null,
            "grid_auto_rows": null,
            "grid_column": null,
            "grid_gap": null,
            "grid_row": null,
            "grid_template_areas": null,
            "grid_template_columns": null,
            "grid_template_rows": null,
            "height": null,
            "justify_content": null,
            "justify_items": null,
            "left": null,
            "margin": null,
            "max_height": null,
            "max_width": null,
            "min_height": null,
            "min_width": null,
            "object_fit": null,
            "object_position": null,
            "order": null,
            "overflow": null,
            "overflow_x": null,
            "overflow_y": null,
            "padding": null,
            "right": null,
            "top": null,
            "visibility": null,
            "width": null
          }
        },
        "972361c789764c3d9095d1f08e642a4b": {
          "model_module": "@jupyter-widgets/controls",
          "model_name": "DescriptionStyleModel",
          "model_module_version": "1.5.0",
          "state": {
            "_model_module": "@jupyter-widgets/controls",
            "_model_module_version": "1.5.0",
            "_model_name": "DescriptionStyleModel",
            "_view_count": null,
            "_view_module": "@jupyter-widgets/base",
            "_view_module_version": "1.2.0",
            "_view_name": "StyleView",
            "description_width": ""
          }
        },
        "72144ede3e7c48ea961fdf64c5b63d47": {
          "model_module": "@jupyter-widgets/controls",
          "model_name": "HBoxModel",
          "model_module_version": "1.5.0",
          "state": {
            "_dom_classes": [],
            "_model_module": "@jupyter-widgets/controls",
            "_model_module_version": "1.5.0",
            "_model_name": "HBoxModel",
            "_view_count": null,
            "_view_module": "@jupyter-widgets/controls",
            "_view_module_version": "1.5.0",
            "_view_name": "HBoxView",
            "box_style": "",
            "children": [
              "IPY_MODEL_42a06ab9973f41339c712b51eee5c7ea",
              "IPY_MODEL_1c806105e5fc4cc9953f837a8751df6f",
              "IPY_MODEL_db69e2e625324254a991884ebba3c602"
            ],
            "layout": "IPY_MODEL_7acd8891e89e47828c40d9ba037835af"
          }
        },
        "42a06ab9973f41339c712b51eee5c7ea": {
          "model_module": "@jupyter-widgets/controls",
          "model_name": "HTMLModel",
          "model_module_version": "1.5.0",
          "state": {
            "_dom_classes": [],
            "_model_module": "@jupyter-widgets/controls",
            "_model_module_version": "1.5.0",
            "_model_name": "HTMLModel",
            "_view_count": null,
            "_view_module": "@jupyter-widgets/controls",
            "_view_module_version": "1.5.0",
            "_view_name": "HTMLView",
            "description": "",
            "description_tooltip": null,
            "layout": "IPY_MODEL_c9225ef425c54d5aa320bb2960623b78",
            "placeholder": "​",
            "style": "IPY_MODEL_12d7f52bc5d1406c99d684fcc6602c81",
            "value": "model.safetensors: 100%"
          }
        },
        "1c806105e5fc4cc9953f837a8751df6f": {
          "model_module": "@jupyter-widgets/controls",
          "model_name": "FloatProgressModel",
          "model_module_version": "1.5.0",
          "state": {
            "_dom_classes": [],
            "_model_module": "@jupyter-widgets/controls",
            "_model_module_version": "1.5.0",
            "_model_name": "FloatProgressModel",
            "_view_count": null,
            "_view_module": "@jupyter-widgets/controls",
            "_view_module_version": "1.5.0",
            "_view_name": "ProgressView",
            "bar_style": "success",
            "description": "",
            "description_tooltip": null,
            "layout": "IPY_MODEL_31d8708fe82c455a839ac710197ed9c5",
            "max": 440443452,
            "min": 0,
            "orientation": "horizontal",
            "style": "IPY_MODEL_1a264951933f48179bc0dc8a12270cc0",
            "value": 440443452
          }
        },
        "db69e2e625324254a991884ebba3c602": {
          "model_module": "@jupyter-widgets/controls",
          "model_name": "HTMLModel",
          "model_module_version": "1.5.0",
          "state": {
            "_dom_classes": [],
            "_model_module": "@jupyter-widgets/controls",
            "_model_module_version": "1.5.0",
            "_model_name": "HTMLModel",
            "_view_count": null,
            "_view_module": "@jupyter-widgets/controls",
            "_view_module_version": "1.5.0",
            "_view_name": "HTMLView",
            "description": "",
            "description_tooltip": null,
            "layout": "IPY_MODEL_cd66a8a6334440d99f03f2c21f1a39c4",
            "placeholder": "​",
            "style": "IPY_MODEL_183ac195175942829effcac5e67a9dee",
            "value": " 440M/440M [00:26&lt;00:00, 17.3MB/s]"
          }
        },
        "7acd8891e89e47828c40d9ba037835af": {
          "model_module": "@jupyter-widgets/base",
          "model_name": "LayoutModel",
          "model_module_version": "1.2.0",
          "state": {
            "_model_module": "@jupyter-widgets/base",
            "_model_module_version": "1.2.0",
            "_model_name": "LayoutModel",
            "_view_count": null,
            "_view_module": "@jupyter-widgets/base",
            "_view_module_version": "1.2.0",
            "_view_name": "LayoutView",
            "align_content": null,
            "align_items": null,
            "align_self": null,
            "border": null,
            "bottom": null,
            "display": null,
            "flex": null,
            "flex_flow": null,
            "grid_area": null,
            "grid_auto_columns": null,
            "grid_auto_flow": null,
            "grid_auto_rows": null,
            "grid_column": null,
            "grid_gap": null,
            "grid_row": null,
            "grid_template_areas": null,
            "grid_template_columns": null,
            "grid_template_rows": null,
            "height": null,
            "justify_content": null,
            "justify_items": null,
            "left": null,
            "margin": null,
            "max_height": null,
            "max_width": null,
            "min_height": null,
            "min_width": null,
            "object_fit": null,
            "object_position": null,
            "order": null,
            "overflow": null,
            "overflow_x": null,
            "overflow_y": null,
            "padding": null,
            "right": null,
            "top": null,
            "visibility": null,
            "width": null
          }
        },
        "c9225ef425c54d5aa320bb2960623b78": {
          "model_module": "@jupyter-widgets/base",
          "model_name": "LayoutModel",
          "model_module_version": "1.2.0",
          "state": {
            "_model_module": "@jupyter-widgets/base",
            "_model_module_version": "1.2.0",
            "_model_name": "LayoutModel",
            "_view_count": null,
            "_view_module": "@jupyter-widgets/base",
            "_view_module_version": "1.2.0",
            "_view_name": "LayoutView",
            "align_content": null,
            "align_items": null,
            "align_self": null,
            "border": null,
            "bottom": null,
            "display": null,
            "flex": null,
            "flex_flow": null,
            "grid_area": null,
            "grid_auto_columns": null,
            "grid_auto_flow": null,
            "grid_auto_rows": null,
            "grid_column": null,
            "grid_gap": null,
            "grid_row": null,
            "grid_template_areas": null,
            "grid_template_columns": null,
            "grid_template_rows": null,
            "height": null,
            "justify_content": null,
            "justify_items": null,
            "left": null,
            "margin": null,
            "max_height": null,
            "max_width": null,
            "min_height": null,
            "min_width": null,
            "object_fit": null,
            "object_position": null,
            "order": null,
            "overflow": null,
            "overflow_x": null,
            "overflow_y": null,
            "padding": null,
            "right": null,
            "top": null,
            "visibility": null,
            "width": null
          }
        },
        "12d7f52bc5d1406c99d684fcc6602c81": {
          "model_module": "@jupyter-widgets/controls",
          "model_name": "DescriptionStyleModel",
          "model_module_version": "1.5.0",
          "state": {
            "_model_module": "@jupyter-widgets/controls",
            "_model_module_version": "1.5.0",
            "_model_name": "DescriptionStyleModel",
            "_view_count": null,
            "_view_module": "@jupyter-widgets/base",
            "_view_module_version": "1.2.0",
            "_view_name": "StyleView",
            "description_width": ""
          }
        },
        "31d8708fe82c455a839ac710197ed9c5": {
          "model_module": "@jupyter-widgets/base",
          "model_name": "LayoutModel",
          "model_module_version": "1.2.0",
          "state": {
            "_model_module": "@jupyter-widgets/base",
            "_model_module_version": "1.2.0",
            "_model_name": "LayoutModel",
            "_view_count": null,
            "_view_module": "@jupyter-widgets/base",
            "_view_module_version": "1.2.0",
            "_view_name": "LayoutView",
            "align_content": null,
            "align_items": null,
            "align_self": null,
            "border": null,
            "bottom": null,
            "display": null,
            "flex": null,
            "flex_flow": null,
            "grid_area": null,
            "grid_auto_columns": null,
            "grid_auto_flow": null,
            "grid_auto_rows": null,
            "grid_column": null,
            "grid_gap": null,
            "grid_row": null,
            "grid_template_areas": null,
            "grid_template_columns": null,
            "grid_template_rows": null,
            "height": null,
            "justify_content": null,
            "justify_items": null,
            "left": null,
            "margin": null,
            "max_height": null,
            "max_width": null,
            "min_height": null,
            "min_width": null,
            "object_fit": null,
            "object_position": null,
            "order": null,
            "overflow": null,
            "overflow_x": null,
            "overflow_y": null,
            "padding": null,
            "right": null,
            "top": null,
            "visibility": null,
            "width": null
          }
        },
        "1a264951933f48179bc0dc8a12270cc0": {
          "model_module": "@jupyter-widgets/controls",
          "model_name": "ProgressStyleModel",
          "model_module_version": "1.5.0",
          "state": {
            "_model_module": "@jupyter-widgets/controls",
            "_model_module_version": "1.5.0",
            "_model_name": "ProgressStyleModel",
            "_view_count": null,
            "_view_module": "@jupyter-widgets/base",
            "_view_module_version": "1.2.0",
            "_view_name": "StyleView",
            "bar_color": null,
            "description_width": ""
          }
        },
        "cd66a8a6334440d99f03f2c21f1a39c4": {
          "model_module": "@jupyter-widgets/base",
          "model_name": "LayoutModel",
          "model_module_version": "1.2.0",
          "state": {
            "_model_module": "@jupyter-widgets/base",
            "_model_module_version": "1.2.0",
            "_model_name": "LayoutModel",
            "_view_count": null,
            "_view_module": "@jupyter-widgets/base",
            "_view_module_version": "1.2.0",
            "_view_name": "LayoutView",
            "align_content": null,
            "align_items": null,
            "align_self": null,
            "border": null,
            "bottom": null,
            "display": null,
            "flex": null,
            "flex_flow": null,
            "grid_area": null,
            "grid_auto_columns": null,
            "grid_auto_flow": null,
            "grid_auto_rows": null,
            "grid_column": null,
            "grid_gap": null,
            "grid_row": null,
            "grid_template_areas": null,
            "grid_template_columns": null,
            "grid_template_rows": null,
            "height": null,
            "justify_content": null,
            "justify_items": null,
            "left": null,
            "margin": null,
            "max_height": null,
            "max_width": null,
            "min_height": null,
            "min_width": null,
            "object_fit": null,
            "object_position": null,
            "order": null,
            "overflow": null,
            "overflow_x": null,
            "overflow_y": null,
            "padding": null,
            "right": null,
            "top": null,
            "visibility": null,
            "width": null
          }
        },
        "183ac195175942829effcac5e67a9dee": {
          "model_module": "@jupyter-widgets/controls",
          "model_name": "DescriptionStyleModel",
          "model_module_version": "1.5.0",
          "state": {
            "_model_module": "@jupyter-widgets/controls",
            "_model_module_version": "1.5.0",
            "_model_name": "DescriptionStyleModel",
            "_view_count": null,
            "_view_module": "@jupyter-widgets/base",
            "_view_module_version": "1.2.0",
            "_view_name": "StyleView",
            "description_width": ""
          }
        }
      }
    }
  },
  "cells": [
    {
      "cell_type": "code",
      "execution_count": null,
      "metadata": {
        "id": "eXBko6gSF3c5"
      },
      "outputs": [],
      "source": [
        "import pandas as pd\n",
        "import numpy as np\n",
        "import csv\n",
        "import textwrap\n",
        "from sklearn.metrics import classification_report\n",
        "from pprint import pprint\n",
        "\n",
        "\n",
        "import tensorflow as tf\n",
        "from tensorflow import keras\n",
        "from transformers import BertTokenizer, TFBertModel, AutoTokenizer\n"
      ]
    },
    {
      "cell_type": "code",
      "source": [
        "from google.colab import drive\n",
        "drive.mount('/content/drive')"
      ],
      "metadata": {
        "colab": {
          "base_uri": "https://localhost:8080/"
        },
        "id": "u7bAFFyFKkTf",
        "outputId": "0ab1537f-83ab-4d4d-a510-02cbb71d82a2"
      },
      "execution_count": null,
      "outputs": [
        {
          "output_type": "stream",
          "name": "stdout",
          "text": [
            "Mounted at /content/drive\n"
          ]
        }
      ]
    },
    {
      "cell_type": "code",
      "source": [
        "diagnoses_train = pd.read_csv(\"drive/MyDrive/MIDS/medal_mimic_subset/diagnoses/train.csv\")\n",
        "diagnoses_validation = pd.read_csv(\"drive/MyDrive/MIDS/medal_mimic_subset/diagnoses/valid.csv\")\n",
        "diagnoses_test = pd.read_csv(\"drive/MyDrive/MIDS/medal_mimic_subset/diagnoses/test.csv\")"
      ],
      "metadata": {
        "id": "zXewHXmbLOGB"
      },
      "execution_count": null,
      "outputs": []
    },
    {
      "cell_type": "code",
      "source": [
        "total_abbreviations = pd.read_csv(\"drive/MyDrive/MIDS/medal_mimic_subset/total_abbreviations.csv\")"
      ],
      "metadata": {
        "id": "CY7aZZwAdwgk"
      },
      "execution_count": null,
      "outputs": []
    },
    {
      "cell_type": "code",
      "source": [
        "print(len(diagnoses_train))\n",
        "print(len(diagnoses_validation))\n",
        "print(len(diagnoses_test))"
      ],
      "metadata": {
        "id": "Z2OnS3LaEiV9",
        "colab": {
          "base_uri": "https://localhost:8080/"
        },
        "outputId": "742dc449-7159-4959-859e-d5b933b7db30"
      },
      "execution_count": null,
      "outputs": [
        {
          "output_type": "stream",
          "name": "stdout",
          "text": [
            "61079\n",
            "9258\n",
            "14287\n"
          ]
        }
      ]
    },
    {
      "cell_type": "code",
      "source": [
        "abbreviations = set(total_abbreviations.abbreviation)\n",
        "\n",
        "def has_any_abbreviation(text):\n",
        "    words = set(text.split())\n",
        "    found = words.intersection(abbreviations)\n",
        "    return bool(found)\n",
        "\n",
        "diagnoses_train_subset = diagnoses_train.loc[diagnoses_train.TEXT.apply(has_any_abbreviation)].reset_index(drop=True)\n",
        "diagnoses_validation_subset = diagnoses_validation.loc[diagnoses_validation.TEXT.apply(has_any_abbreviation)].reset_index(drop=True)\n",
        "diagnoses_test_subset = diagnoses_test.loc[diagnoses_test.TEXT.apply(has_any_abbreviation)].reset_index(drop=True)"
      ],
      "metadata": {
        "id": "hKcodmG-dy_r"
      },
      "execution_count": null,
      "outputs": []
    },
    {
      "cell_type": "code",
      "source": [
        "print(f\"Train: {len(diagnoses_train_subset)} out of {len(diagnoses_train)}\")\n",
        "print(f\"Validation: {len(diagnoses_validation_subset)} out of {len(diagnoses_validation)}\")\n",
        "print(f\"Test: {len(diagnoses_test_subset)} out of {len(diagnoses_test)}\")"
      ],
      "metadata": {
        "id": "HOhfZdxNebyI",
        "colab": {
          "base_uri": "https://localhost:8080/"
        },
        "outputId": "1c5f4eca-adc7-460e-bcc3-398461421a3f"
      },
      "execution_count": null,
      "outputs": [
        {
          "output_type": "stream",
          "name": "stdout",
          "text": [
            "Train: 60444 out of 61079\n",
            "Validation: 9147 out of 9258\n",
            "Test: 14132 out of 14287\n"
          ]
        }
      ]
    },
    {
      "cell_type": "code",
      "source": [
        "with open(\"drive/MyDrive/MIDS/medal_mimic_subset/diagnoses/diag_to_idx.csv\") as f:\n",
        "    diagnosis_to_idx = {diag: int(idx) for diag, idx in csv.reader(f)}\n",
        "    idx_to_diagnosis = {int(idx): diag for diag, idx in diagnosis_to_idx.items()}\n",
        "\n",
        "print(f\"{len(diagnosis_to_idx)} unique diagnosis codes\")"
      ],
      "metadata": {
        "colab": {
          "base_uri": "https://localhost:8080/"
        },
        "id": "C6j06SYWmVBD",
        "outputId": "3d5431fb-8c83-4c4d-c26d-60d9ab57ecd7"
      },
      "execution_count": null,
      "outputs": [
        {
          "output_type": "stream",
          "name": "stdout",
          "text": [
            "1204 unique diagnosis codes\n"
          ]
        }
      ]
    },
    {
      "cell_type": "markdown",
      "source": [],
      "metadata": {
        "id": "_1hLJfNKmbF1"
      }
    },
    {
      "cell_type": "code",
      "source": [
        "model_checkpoint = 'NLP4H/ms_bert'\n",
        "bert_tokenizer = BertTokenizer.from_pretrained(model_checkpoint)"
      ],
      "metadata": {
        "id": "qpX26n6YMKzm",
        "colab": {
          "base_uri": "https://localhost:8080/",
          "height": 208,
          "referenced_widgets": [
            "892e1ffd7afd4689854f286e46da52d7",
            "b2ed0e4ad5de42d28f754b1b4ab1c25b",
            "1558d375706541ff89c159c152f98eea",
            "5b45f35650474996ace41df7c7ca0818",
            "b09f93bb17924c28859c68f848484dc2",
            "6dd563f17ec04db69c48cf365c8e758d",
            "83889293c9b84e5b8d1490b1b4efb2d9",
            "8d68c731312241c196fcfc7d76b63ad4",
            "f3a7ceb7e46a4a6789b75c99e999fe07",
            "e520b40e7d0d462fad3c0c24e021706b",
            "2fdad66a091a454e85ac0500fbdd5de9",
            "1bc8046057204094bf3b1f2547015b4c",
            "02225e6fd8eb422885e32d22f0162df0",
            "9fc8280db45f4b90899e1bcf37a4493b",
            "0dfaeb71acf14fe6ae8bafdd576fb33c",
            "ac8da2410a5b45a2bfb067ba59abbca4",
            "147f3f61cc95447385f72445e86fbfb1",
            "4e7948691f324a9b80372fe499c24a53",
            "5d838e92fabc409b9b061457d702f798",
            "8d92c0afc67a4062a6e28509986dac5e",
            "9a754788c09b41aab4f61fc8fd4bb8c9",
            "972361c789764c3d9095d1f08e642a4b"
          ]
        },
        "outputId": "d47162dd-2897-4fdd-a5ef-bea97672fe61"
      },
      "execution_count": null,
      "outputs": [
        {
          "output_type": "stream",
          "name": "stderr",
          "text": [
            "/usr/local/lib/python3.10/dist-packages/huggingface_hub/utils/_token.py:89: UserWarning: \n",
            "The secret `HF_TOKEN` does not exist in your Colab secrets.\n",
            "To authenticate with the Hugging Face Hub, create a token in your settings tab (https://huggingface.co/settings/tokens), set it as secret in your Google Colab and restart your session.\n",
            "You will be able to reuse this secret in all of your notebooks.\n",
            "Please note that authentication is recommended but still optional to access public models or datasets.\n",
            "  warnings.warn(\n"
          ]
        },
        {
          "output_type": "display_data",
          "data": {
            "text/plain": [
              "vocab.txt:   0%|          | 0.00/232k [00:00<?, ?B/s]"
            ],
            "application/vnd.jupyter.widget-view+json": {
              "version_major": 2,
              "version_minor": 0,
              "model_id": "892e1ffd7afd4689854f286e46da52d7"
            }
          },
          "metadata": {}
        },
        {
          "output_type": "display_data",
          "data": {
            "text/plain": [
              "config.json:   0%|          | 0.00/499 [00:00<?, ?B/s]"
            ],
            "application/vnd.jupyter.widget-view+json": {
              "version_major": 2,
              "version_minor": 0,
              "model_id": "1bc8046057204094bf3b1f2547015b4c"
            }
          },
          "metadata": {}
        }
      ]
    },
    {
      "cell_type": "code",
      "source": [
        "MAX_LENGTH = 512\n",
        "\n",
        "\n",
        "def head_and_tail(tokens, total_size=MAX_LENGTH):\n",
        "    \"\"\"Build an array of size <total_size> using the head and tail ends of the input array\"\"\"\n",
        "    half = int(total_size / 2)\n",
        "    if len(tokens) <= total_size:\n",
        "        return tokens\n",
        "    head = tokens[:half]\n",
        "    tail = tokens[-half:]\n",
        "    return np.concatenate([head, tail])\n",
        "\n",
        "\n",
        "def tokenize(texts):\n",
        "    \"\"\"\n",
        "    Tokenize an array of text inputs for bert, and take the head and tail of\n",
        "    each set of bert inputs. Returns a tuple of three arrays: input_ids, token_type_ids,\n",
        "    and attention_mask.\n",
        "    \"\"\"\n",
        "    input_ids_list = []\n",
        "    token_type_ids_list = []\n",
        "    attention_mask_list = []\n",
        "\n",
        "    for text in texts:\n",
        "        bert_output = bert_tokenizer(\n",
        "            text, padding=\"max_length\", return_tensors=\"tf\", max_length=MAX_LENGTH\n",
        "        )\n",
        "        input_ids = bert_output[\"input_ids\"][0].numpy()\n",
        "        token_type_ids = bert_output[\"token_type_ids\"][0].numpy()\n",
        "        attention_mask = bert_output[\"attention_mask\"][0].numpy()\n",
        "\n",
        "        input_ids_list.append(head_and_tail(input_ids))\n",
        "        token_type_ids_list.append(head_and_tail(token_type_ids))\n",
        "        attention_mask_list.append(head_and_tail(attention_mask))\n",
        "\n",
        "    return np.array(input_ids_list), np.array(token_type_ids_list), np.array(attention_mask_list)\n",
        "\n",
        "\n",
        "def get_labels(df):\n",
        "    \"\"\"\n",
        "    Get array of labels for each record in the dataframe as a one-hot encoded array, e.g.\n",
        "    each ICD9 code appears as a 0 or 1 mapping to the diagnosis_labels array. If the ICD9\n",
        "    code does not appear in the training set, it is ignored.\n",
        "    \"\"\"\n",
        "    labels_by_hadm_id = {row.HADM_ID: row.ICD9_ID for _, row in df.iterrows()}\n",
        "    output = np.zeros((len(df), len(diagnosis_to_idx)))\n",
        "    for sample_idx, row in enumerate(df.iterrows()):\n",
        "        for icd9 in row[1].ICD9_ID.split(';'):\n",
        "            # skip codes that are not present in the train set\n",
        "            grouped_icd9 = icd9[:4] if icd9.startswith(\"V\") or icd9.startswith(\"E\") else icd9[:3]\n",
        "            if (index := diagnosis_to_idx.get(grouped_icd9)) is None:\n",
        "                continue\n",
        "\n",
        "            output[sample_idx, index] = 1\n",
        "\n",
        "    return output\n",
        "\n",
        "\n",
        "def preprocess_data(batch_df):\n",
        "    return tokenize(batch_df.TEXT), get_labels(batch_df)\n",
        "\n",
        "\n",
        "input_examples, label_examples = preprocess_data(diagnoses_train_subset[:3])\n",
        "print(\"Labels:\", [idx_to_diagnosis[idx] for idx in np.where(label_examples[1] == 1)[0]])\n",
        "print(\"Inputs:\", bert_tokenizer.decode(input_examples[0][1]))"
      ],
      "metadata": {
        "colab": {
          "base_uri": "https://localhost:8080/"
        },
        "id": "WweLlKT8uMcF",
        "outputId": "1f642da9-b228-4e58-ef9f-79f2922df147"
      },
      "execution_count": null,
      "outputs": [
        {
          "output_type": "stream",
          "name": "stdout",
          "text": [
            "Labels: ['584', '707', '428', '276', '403', '293', '585', '427', '530', '197', '486', '038', '785', '995', '518', '599', '424', 'V104', 'V105', '274', 'V436']\n",
            "Inputs: [CLS] chief complaint : 24 hour events : ekg - at 2163 - 1 - 17 11 : 30 am - afib, rbbb, no acute st - t waves changes arterial line - start 2163 - 1 - 17 04 : 15 pm - ce negative - vanc added - urine grew out pseudomonas, did not double cover per id - mri hip ordered, not performed - uable to wean pressors overnight pt doing okay this am, still some l hip pain, but otherwise, breathing comfortably, no cp / sob / abd pain. allergies : iodine anaphylaxis ; cipro ( oral ) ( ciprofloxacin hcl ) rash ; sulfonamides rash ; morphine nausea / vomiting codeine nausea / vomiting levofloxacin anaphylaxis ; last dose of antibiotics : vancomycin - 2163 - 1 - 17 09 : 45 am piperacillin / tazobactam ( zosyn ) - 2163 - 1 - 18 04 : 12 am infusions : other icu medications : heparin tid, allopurinol, famotidine, tamoxifen, dilaudid, zofran, insulin, : as with valve area 0. 7cm, very preload dependant, bolus fluid prn and avoid bb / ccbs. - continue digoxin, monitor for worsening chf urinary tract infection ( uti ) : presumed source of sepsis, currently in oliguric rf, foley in place - continue vanc / zosyn for coverage of pseudomonas species, waiting on sensitivities left hip pain : unknown etiology, concern for fluid collection / septic joint. apprec ortho consult - f / u ct pelvis and continue vanc / zosyn. intubated with fentanyl for sedation & pain control. icu care nutrition : npo with og in place for meds glycemic control : iss lines : indwelling port ( portacath ) - 2163 - 1 - 16 07 : 04 pm presep catheter - 2163 - 1 - 16 07 : 05 pm arterial line - 2163 - 1 - 17 04 : 15 pm prophylaxis : dvt : heparin 5000 tid stress ulcer : ppi vap : comments : communication : comments : code status : full code disposition : icu [SEP]\n"
          ]
        }
      ]
    },
    {
      "cell_type": "code",
      "source": [
        "BATCH_SIZE = 32\n",
        "\n",
        "\n",
        "class DataGeneratorFromDataframe(tf.keras.utils.Sequence):\n",
        "\n",
        "    def __init__(self, df, batch_size=BATCH_SIZE, shuffle=True):\n",
        "        self.df = df\n",
        "        self.n_examples = len(df)\n",
        "        self.batch_size = batch_size\n",
        "        self.shuffle = shuffle\n",
        "\n",
        "        # Initialize row order, call on_epoch_end to shuffle row indices\n",
        "        self.row_order = np.arange(self.n_examples)\n",
        "        self.on_epoch_end()\n",
        "\n",
        "    def __len__(self):\n",
        "        # Return the number of batches in the full dataset\n",
        "        return self.n_examples // self.batch_size\n",
        "\n",
        "    def __getitem__(self, idx):\n",
        "        batch_start = idx * self.batch_size\n",
        "        batch_end = (idx + 1) * self.batch_size\n",
        "\n",
        "        # Indices to skip are the ones in the shuffled row_order before and\n",
        "        # after the chunk we'll use for this batch\n",
        "        batch_idx = self.row_order[batch_start : batch_end]\n",
        "        batch_df = self.df.iloc[batch_idx, :].copy()\n",
        "        batch_data = preprocess_data(batch_df)\n",
        "\n",
        "        return batch_data\n",
        "\n",
        "    def on_epoch_end(self):\n",
        "        if self.shuffle:\n",
        "            self.row_order = list(np.random.permutation(self.row_order))"
      ],
      "metadata": {
        "id": "md8a8WCDBJkb"
      },
      "execution_count": null,
      "outputs": []
    },
    {
      "cell_type": "code",
      "source": [
        "# Create an instance of our data generator, for our training data file and size\n",
        "\n",
        "train_data_generator = DataGeneratorFromDataframe(diagnoses_train_subset)\n",
        "valid_data_generator = DataGeneratorFromDataframe(diagnoses_validation_subset)\n",
        "test_data_generator = DataGeneratorFromDataframe(diagnoses_test_subset)"
      ],
      "metadata": {
        "id": "lRNUFpVTy-RE"
      },
      "execution_count": null,
      "outputs": []
    },
    {
      "cell_type": "code",
      "source": [
        "print(len(train_data_generator[0][0]))"
      ],
      "metadata": {
        "colab": {
          "base_uri": "https://localhost:8080/"
        },
        "id": "tsL_T2twsqgK",
        "outputId": "8b588007-0f4a-4726-f88b-edf24e83b758"
      },
      "execution_count": null,
      "outputs": [
        {
          "output_type": "stream",
          "name": "stdout",
          "text": [
            "3\n"
          ]
        }
      ]
    },
    {
      "cell_type": "code",
      "source": [
        "def create_diagnosis_ms_bert_model(\n",
        "    model_checkpoint=model_checkpoint,\n",
        "    n_classes=len(diagnosis_to_idx),\n",
        "    hidden_size=256,\n",
        "    dropout=0.3,\n",
        "    learning_rate=0.00005,\n",
        "):\n",
        "    \"\"\"\n",
        "    Classification model with BERT that uses the Pooler Output for classification.\n",
        "    \"\"\"\n",
        "    keras.backend.clear_session()\n",
        "\n",
        "    input_ids = tf.keras.layers.Input(shape=(MAX_LENGTH,), dtype=tf.int32, name='input_ids_layer')\n",
        "    token_type_ids = tf.keras.layers.Input(shape=(MAX_LENGTH,), dtype=tf.int32, name='token_type_ids_layer')\n",
        "    attention_mask = tf.keras.layers.Input(shape=(MAX_LENGTH,), dtype=tf.int32, name='attention_mask_layer')\n",
        "\n",
        "    # bert_inputs = {'input_ids': input_ids,\n",
        "    #                'token_type_ids': token_type_ids,\n",
        "    #                'attention_mask': attention_mask}\n",
        "\n",
        "    bert_model = TFBertModel.from_pretrained(model_checkpoint)\n",
        "    bert_out = bert_model(input_ids=input_ids, token_type_ids=token_type_ids, attention_mask=attention_mask)\n",
        "\n",
        "    pooler_token = bert_out.pooler_output\n",
        "\n",
        "    hidden = tf.keras.layers.Dense(hidden_size, activation='relu', name='hidden_layer')(pooler_token)\n",
        "    hidden = tf.keras.layers.Dropout(dropout)(hidden)\n",
        "\n",
        "    classification = tf.keras.layers.Dense(n_classes, activation='sigmoid', name='classification_layer')(hidden)\n",
        "\n",
        "    classification_model = tf.keras.Model(inputs=[input_ids, token_type_ids, attention_mask], outputs=[classification])\n",
        "\n",
        "    classification_model.compile(optimizer=tf.keras.optimizers.Adam(learning_rate=learning_rate),\n",
        "                                 loss=tf.keras.losses.BinaryCrossentropy(from_logits=False),\n",
        "                                 metrics='accuracy')\n",
        "\n",
        "    return classification_model"
      ],
      "metadata": {
        "id": "6-_CdIElAWUw"
      },
      "execution_count": null,
      "outputs": []
    },
    {
      "cell_type": "code",
      "source": [
        "diagnosis_ms_bert_model = create_diagnosis_ms_bert_model()\n",
        "diagnosis_ms_bert_model.summary()"
      ],
      "metadata": {
        "id": "K4Sgw7gfMWh4",
        "colab": {
          "base_uri": "https://localhost:8080/",
          "height": 783,
          "referenced_widgets": [
            "72144ede3e7c48ea961fdf64c5b63d47",
            "42a06ab9973f41339c712b51eee5c7ea",
            "1c806105e5fc4cc9953f837a8751df6f",
            "db69e2e625324254a991884ebba3c602",
            "7acd8891e89e47828c40d9ba037835af",
            "c9225ef425c54d5aa320bb2960623b78",
            "12d7f52bc5d1406c99d684fcc6602c81",
            "31d8708fe82c455a839ac710197ed9c5",
            "1a264951933f48179bc0dc8a12270cc0",
            "cd66a8a6334440d99f03f2c21f1a39c4",
            "183ac195175942829effcac5e67a9dee"
          ]
        },
        "outputId": "ee465b80-fe37-45f5-8ecc-47d0b79e93e6"
      },
      "execution_count": null,
      "outputs": [
        {
          "output_type": "display_data",
          "data": {
            "text/plain": [
              "model.safetensors:   0%|          | 0.00/440M [00:00<?, ?B/s]"
            ],
            "application/vnd.jupyter.widget-view+json": {
              "version_major": 2,
              "version_minor": 0,
              "model_id": "72144ede3e7c48ea961fdf64c5b63d47"
            }
          },
          "metadata": {}
        },
        {
          "output_type": "stream",
          "name": "stderr",
          "text": [
            "Some weights of the PyTorch model were not used when initializing the TF 2.0 model TFBertModel: ['cls.predictions.transform.LayerNorm.bias', 'cls.predictions.bias', 'cls.predictions.transform.dense.bias', 'cls.predictions.transform.LayerNorm.weight', 'cls.predictions.transform.dense.weight']\n",
            "- This IS expected if you are initializing TFBertModel from a PyTorch model trained on another task or with another architecture (e.g. initializing a TFBertForSequenceClassification model from a BertForPreTraining model).\n",
            "- This IS NOT expected if you are initializing TFBertModel from a PyTorch model that you expect to be exactly identical (e.g. initializing a TFBertForSequenceClassification model from a BertForSequenceClassification model).\n",
            "All the weights of TFBertModel were initialized from the PyTorch model.\n",
            "If your task is similar to the task the model of the checkpoint was trained on, you can already use TFBertModel for predictions without further training.\n"
          ]
        },
        {
          "output_type": "stream",
          "name": "stdout",
          "text": [
            "Model: \"model\"\n",
            "__________________________________________________________________________________________________\n",
            " Layer (type)                Output Shape                 Param #   Connected to                  \n",
            "==================================================================================================\n",
            " input_ids_layer (InputLaye  [(None, 512)]                0         []                            \n",
            " r)                                                                                               \n",
            "                                                                                                  \n",
            " attention_mask_layer (Inpu  [(None, 512)]                0         []                            \n",
            " tLayer)                                                                                          \n",
            "                                                                                                  \n",
            " token_type_ids_layer (Inpu  [(None, 512)]                0         []                            \n",
            " tLayer)                                                                                          \n",
            "                                                                                                  \n",
            " tf_bert_model (TFBertModel  TFBaseModelOutputWithPooli   1094822   ['input_ids_layer[0][0]',     \n",
            " )                           ngAndCrossAttentions(last_   40         'attention_mask_layer[0][0]',\n",
            "                             hidden_state=(None, 512, 7              'token_type_ids_layer[0][0]']\n",
            "                             68),                                                                 \n",
            "                              pooler_output=(None, 768)                                           \n",
            "                             , past_key_values=None, hi                                           \n",
            "                             dden_states=None, attentio                                           \n",
            "                             ns=None, cross_attentions=                                           \n",
            "                             None)                                                                \n",
            "                                                                                                  \n",
            " hidden_layer (Dense)        (None, 256)                  196864    ['tf_bert_model[0][1]']       \n",
            "                                                                                                  \n",
            " dropout_37 (Dropout)        (None, 256)                  0         ['hidden_layer[0][0]']        \n",
            "                                                                                                  \n",
            " classification_layer (Dens  (None, 1204)                 309428    ['dropout_37[0][0]']          \n",
            " e)                                                                                               \n",
            "                                                                                                  \n",
            "==================================================================================================\n",
            "Total params: 109988532 (419.57 MB)\n",
            "Trainable params: 109988532 (419.57 MB)\n",
            "Non-trainable params: 0 (0.00 Byte)\n",
            "__________________________________________________________________________________________________\n"
          ]
        }
      ]
    },
    {
      "cell_type": "code",
      "source": [
        "checkpoint_dir = 'drive/MyDrive/MIDS/model_checkpoints/diagnosis_ms_base/'\n",
        "checkpoint_filepath = checkpoint_dir + 'weights.{epoch:02d}-{val_accuracy:.2f}.model.keras'\n",
        "model_checkpoint_callback = tf.keras.callbacks.ModelCheckpoint(\n",
        "    filepath=checkpoint_filepath,\n",
        "    save_weights_only=False,\n",
        ")"
      ],
      "metadata": {
        "id": "7o_WPk_I7OqJ"
      },
      "execution_count": null,
      "outputs": []
    },
    {
      "cell_type": "code",
      "source": [
        "diagnosis_history = diagnosis_ms_bert_model.fit(\n",
        "    train_data_generator,\n",
        "    validation_data=valid_data_generator,\n",
        "    batch_size=BATCH_SIZE,\n",
        "    epochs=3,\n",
        "    callbacks=[model_checkpoint_callback],\n",
        ")\n"
      ],
      "metadata": {
        "id": "FacYx10NNcOj",
        "colab": {
          "base_uri": "https://localhost:8080/"
        },
        "outputId": "d21df1bc-7a35-4629-f195-acd2c92fbdfd"
      },
      "execution_count": null,
      "outputs": [
        {
          "output_type": "stream",
          "name": "stdout",
          "text": [
            "Epoch 1/3\n",
            "1888/1888 [==============================] - ETA: 0s - loss: 0.0729 - accuracy: 0.0645"
          ]
        },
        {
          "output_type": "stream",
          "name": "stderr",
          "text": [
            "/usr/local/lib/python3.10/dist-packages/transformers/generation/tf_utils.py:465: UserWarning: `seed_generator` is deprecated and will be removed in a future version.\n",
            "  warnings.warn(\"`seed_generator` is deprecated and will be removed in a future version.\", UserWarning)\n"
          ]
        },
        {
          "output_type": "stream",
          "name": "stdout",
          "text": [
            "\b\b\b\b\b\b\b\b\b\b\b\b\b\b\b\b\b\b\b\b\b\b\b\b\b\b\b\b\b\b\b\b\b\b\b\b\b\b\b\b\b\b\b\b\b\b\b\b\b\b\b\b\b\b\b\b\b\b\b\b\b\b\b\b\b\b\b\b\b\b\b\b\b\b\b\b\b\b\b\b\b\b\b\b\b\b\r1888/1888 [==============================] - 1251s 641ms/step - loss: 0.0729 - accuracy: 0.0645 - val_loss: 0.0424 - val_accuracy: 0.1660\n",
            "Epoch 2/3\n",
            "1888/1888 [==============================] - 1208s 639ms/step - loss: 0.0355 - accuracy: 0.1155 - val_loss: 0.0384 - val_accuracy: 0.1234\n",
            "Epoch 3/3\n",
            "1888/1888 [==============================] - 1209s 640ms/step - loss: 0.0279 - accuracy: 0.1146 - val_loss: 0.0375 - val_accuracy: 0.1169\n"
          ]
        }
      ]
    },
    {
      "cell_type": "code",
      "source": [
        "# Skip training by running this cell\n",
        "# checkpoint_name = \"weights.05-0.12.model.keras\"\n",
        "# diagnosis_ms_bert_model = tf.keras.models.load_model(\n",
        "#     f\"{checkpoint_dir}{checkpoint_name}\",\n",
        "#     custom_objects={\"TFBertModel\": TFBertModel},\n",
        "# )"
      ],
      "metadata": {
        "id": "10Xav8RL5_x_",
        "colab": {
          "base_uri": "https://localhost:8080/"
        },
        "outputId": "4530f17e-c958-4987-dd7b-6f706aaee871"
      },
      "execution_count": null,
      "outputs": [
        {
          "output_type": "stream",
          "name": "stderr",
          "text": [
            "/usr/local/lib/python3.10/dist-packages/transformers/generation/tf_utils.py:465: UserWarning: `seed_generator` is deprecated and will be removed in a future version.\n",
            "  warnings.warn(\"`seed_generator` is deprecated and will be removed in a future version.\", UserWarning)\n"
          ]
        }
      ]
    },
    {
      "cell_type": "code",
      "source": [
        "import json\n",
        "with open('drive/MyDrive/MIDS/model_checkpoints/diagnosis_ms_base/history.json', 'w') as f:\n",
        "    json.dump(diagnosis_history.history, f)"
      ],
      "metadata": {
        "id": "eTBgv3_9DiU-"
      },
      "execution_count": null,
      "outputs": []
    },
    {
      "cell_type": "code",
      "source": [
        "def compute_top_k_recall(labels, predictions, k=10):\n",
        "    # Get indices of top-k predictions\n",
        "    idxs = np.argsort(predictions, axis=1)[:, ::-1][:, :k]\n",
        "\n",
        "    # Gather top-k labels\n",
        "    top_k_labels = labels[np.arange(labels.shape[0])[:, np.newaxis], idxs]\n",
        "\n",
        "    # Compute recall for each sample\n",
        "    sum_top_k_labels = np.sum(top_k_labels, axis=1)\n",
        "    sum_labels = np.sum(labels, axis=1)\n",
        "    recall_per_sample = sum_top_k_labels / sum_labels\n",
        "\n",
        "    # Compute mean recall across all samples\n",
        "    return np.mean(recall_per_sample)\n",
        "\n",
        "\n",
        "def evaluate(model, test_data):\n",
        "    top_5_recall = 0\n",
        "    top_10_recall = 0\n",
        "    top_30_recall = 0\n",
        "    count = 0\n",
        "\n",
        "    print(f\"Evaluating top k recall of {len(test_data)} batches\")\n",
        "\n",
        "    for i, (inputs, labels) in enumerate(test_data, start=1):\n",
        "        predictions = model.predict(inputs, verbose=0)\n",
        "        top_5_recall += compute_top_k_recall(labels, predictions, k=5)\n",
        "        top_10_recall += compute_top_k_recall(labels, predictions, k=10)\n",
        "        top_30_recall += compute_top_k_recall(labels, predictions, k=30)\n",
        "        count += 1\n",
        "        if count % 10 == 0:\n",
        "            print(f\"{count} batches evaluated\")\n",
        "\n",
        "    return {\n",
        "        \"top_5_recall\": top_5_recall / count,\n",
        "        \"top_10_recall\": top_10_recall / count,\n",
        "        \"top_30_recall\": top_30_recall / count,\n",
        "    }\n",
        "\n",
        "evaluate(diagnosis_ms_bert_model, valid_data_generator)"
      ],
      "metadata": {
        "id": "7SVJBqWCpB69",
        "colab": {
          "base_uri": "https://localhost:8080/"
        },
        "outputId": "60eca6c8-bd7b-4d9f-89eb-aa5f6d5bfb26"
      },
      "execution_count": null,
      "outputs": [
        {
          "output_type": "stream",
          "name": "stdout",
          "text": [
            "Evaluating top k recall of 285 batches\n",
            "10 batches evaluated\n",
            "20 batches evaluated\n",
            "30 batches evaluated\n",
            "40 batches evaluated\n",
            "50 batches evaluated\n",
            "60 batches evaluated\n",
            "70 batches evaluated\n",
            "80 batches evaluated\n",
            "90 batches evaluated\n",
            "100 batches evaluated\n",
            "110 batches evaluated\n",
            "120 batches evaluated\n",
            "130 batches evaluated\n",
            "140 batches evaluated\n",
            "150 batches evaluated\n",
            "160 batches evaluated\n",
            "170 batches evaluated\n",
            "180 batches evaluated\n",
            "190 batches evaluated\n",
            "200 batches evaluated\n",
            "210 batches evaluated\n",
            "220 batches evaluated\n",
            "230 batches evaluated\n",
            "240 batches evaluated\n",
            "250 batches evaluated\n",
            "260 batches evaluated\n",
            "270 batches evaluated\n",
            "280 batches evaluated\n"
          ]
        },
        {
          "output_type": "execute_result",
          "data": {
            "text/plain": [
              "{'top_5_recall': 0.22148184317374206,\n",
              " 'top_10_recall': 0.3570197424423252,\n",
              " 'top_30_recall': 0.6240802596160826}"
            ]
          },
          "metadata": {},
          "execution_count": 19
        }
      ]
    }
  ]
}