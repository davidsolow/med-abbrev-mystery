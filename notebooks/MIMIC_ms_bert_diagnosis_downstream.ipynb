{
  "nbformat": 4,
  "nbformat_minor": 0,
  "metadata": {
    "colab": {
      "provenance": [],
      "gpuType": "A100",
      "machine_shape": "hm"
    },
    "kernelspec": {
      "name": "python3",
      "display_name": "Python 3"
    },
    "language_info": {
      "name": "python"
    },
    "accelerator": "GPU",
    "widgets": {
      "application/vnd.jupyter.widget-state+json": {
        "912d283dbf4a432da5fb3214b8786e0d": {
          "model_module": "@jupyter-widgets/controls",
          "model_name": "HBoxModel",
          "model_module_version": "1.5.0",
          "state": {
            "_dom_classes": [],
            "_model_module": "@jupyter-widgets/controls",
            "_model_module_version": "1.5.0",
            "_model_name": "HBoxModel",
            "_view_count": null,
            "_view_module": "@jupyter-widgets/controls",
            "_view_module_version": "1.5.0",
            "_view_name": "HBoxView",
            "box_style": "",
            "children": [
              "IPY_MODEL_157b8b3ebafa404ba92918c898262adf",
              "IPY_MODEL_ca5d981e582a4511a0b53c72d07e8b17",
              "IPY_MODEL_0aa4b8289cee4b998a203180780fa32b"
            ],
            "layout": "IPY_MODEL_e5cea45159934dcda07ddeaa6e6bf1f1"
          }
        },
        "157b8b3ebafa404ba92918c898262adf": {
          "model_module": "@jupyter-widgets/controls",
          "model_name": "HTMLModel",
          "model_module_version": "1.5.0",
          "state": {
            "_dom_classes": [],
            "_model_module": "@jupyter-widgets/controls",
            "_model_module_version": "1.5.0",
            "_model_name": "HTMLModel",
            "_view_count": null,
            "_view_module": "@jupyter-widgets/controls",
            "_view_module_version": "1.5.0",
            "_view_name": "HTMLView",
            "description": "",
            "description_tooltip": null,
            "layout": "IPY_MODEL_44ae3667bfea4f0eb02a66db17028e84",
            "placeholder": "​",
            "style": "IPY_MODEL_66672b71f8e64539bf0b16bfb741ad91",
            "value": "vocab.txt: 100%"
          }
        },
        "ca5d981e582a4511a0b53c72d07e8b17": {
          "model_module": "@jupyter-widgets/controls",
          "model_name": "FloatProgressModel",
          "model_module_version": "1.5.0",
          "state": {
            "_dom_classes": [],
            "_model_module": "@jupyter-widgets/controls",
            "_model_module_version": "1.5.0",
            "_model_name": "FloatProgressModel",
            "_view_count": null,
            "_view_module": "@jupyter-widgets/controls",
            "_view_module_version": "1.5.0",
            "_view_name": "ProgressView",
            "bar_style": "success",
            "description": "",
            "description_tooltip": null,
            "layout": "IPY_MODEL_ef0e9983002946c3bdbda15cc9102e65",
            "max": 231508,
            "min": 0,
            "orientation": "horizontal",
            "style": "IPY_MODEL_f352a2de65244d41a36ffa494df728c8",
            "value": 231508
          }
        },
        "0aa4b8289cee4b998a203180780fa32b": {
          "model_module": "@jupyter-widgets/controls",
          "model_name": "HTMLModel",
          "model_module_version": "1.5.0",
          "state": {
            "_dom_classes": [],
            "_model_module": "@jupyter-widgets/controls",
            "_model_module_version": "1.5.0",
            "_model_name": "HTMLModel",
            "_view_count": null,
            "_view_module": "@jupyter-widgets/controls",
            "_view_module_version": "1.5.0",
            "_view_name": "HTMLView",
            "description": "",
            "description_tooltip": null,
            "layout": "IPY_MODEL_efb25664bfac46a89d4978e98c225209",
            "placeholder": "​",
            "style": "IPY_MODEL_234c12d391344779926bfdd408a33a15",
            "value": " 232k/232k [00:00&lt;00:00, 6.34MB/s]"
          }
        },
        "e5cea45159934dcda07ddeaa6e6bf1f1": {
          "model_module": "@jupyter-widgets/base",
          "model_name": "LayoutModel",
          "model_module_version": "1.2.0",
          "state": {
            "_model_module": "@jupyter-widgets/base",
            "_model_module_version": "1.2.0",
            "_model_name": "LayoutModel",
            "_view_count": null,
            "_view_module": "@jupyter-widgets/base",
            "_view_module_version": "1.2.0",
            "_view_name": "LayoutView",
            "align_content": null,
            "align_items": null,
            "align_self": null,
            "border": null,
            "bottom": null,
            "display": null,
            "flex": null,
            "flex_flow": null,
            "grid_area": null,
            "grid_auto_columns": null,
            "grid_auto_flow": null,
            "grid_auto_rows": null,
            "grid_column": null,
            "grid_gap": null,
            "grid_row": null,
            "grid_template_areas": null,
            "grid_template_columns": null,
            "grid_template_rows": null,
            "height": null,
            "justify_content": null,
            "justify_items": null,
            "left": null,
            "margin": null,
            "max_height": null,
            "max_width": null,
            "min_height": null,
            "min_width": null,
            "object_fit": null,
            "object_position": null,
            "order": null,
            "overflow": null,
            "overflow_x": null,
            "overflow_y": null,
            "padding": null,
            "right": null,
            "top": null,
            "visibility": null,
            "width": null
          }
        },
        "44ae3667bfea4f0eb02a66db17028e84": {
          "model_module": "@jupyter-widgets/base",
          "model_name": "LayoutModel",
          "model_module_version": "1.2.0",
          "state": {
            "_model_module": "@jupyter-widgets/base",
            "_model_module_version": "1.2.0",
            "_model_name": "LayoutModel",
            "_view_count": null,
            "_view_module": "@jupyter-widgets/base",
            "_view_module_version": "1.2.0",
            "_view_name": "LayoutView",
            "align_content": null,
            "align_items": null,
            "align_self": null,
            "border": null,
            "bottom": null,
            "display": null,
            "flex": null,
            "flex_flow": null,
            "grid_area": null,
            "grid_auto_columns": null,
            "grid_auto_flow": null,
            "grid_auto_rows": null,
            "grid_column": null,
            "grid_gap": null,
            "grid_row": null,
            "grid_template_areas": null,
            "grid_template_columns": null,
            "grid_template_rows": null,
            "height": null,
            "justify_content": null,
            "justify_items": null,
            "left": null,
            "margin": null,
            "max_height": null,
            "max_width": null,
            "min_height": null,
            "min_width": null,
            "object_fit": null,
            "object_position": null,
            "order": null,
            "overflow": null,
            "overflow_x": null,
            "overflow_y": null,
            "padding": null,
            "right": null,
            "top": null,
            "visibility": null,
            "width": null
          }
        },
        "66672b71f8e64539bf0b16bfb741ad91": {
          "model_module": "@jupyter-widgets/controls",
          "model_name": "DescriptionStyleModel",
          "model_module_version": "1.5.0",
          "state": {
            "_model_module": "@jupyter-widgets/controls",
            "_model_module_version": "1.5.0",
            "_model_name": "DescriptionStyleModel",
            "_view_count": null,
            "_view_module": "@jupyter-widgets/base",
            "_view_module_version": "1.2.0",
            "_view_name": "StyleView",
            "description_width": ""
          }
        },
        "ef0e9983002946c3bdbda15cc9102e65": {
          "model_module": "@jupyter-widgets/base",
          "model_name": "LayoutModel",
          "model_module_version": "1.2.0",
          "state": {
            "_model_module": "@jupyter-widgets/base",
            "_model_module_version": "1.2.0",
            "_model_name": "LayoutModel",
            "_view_count": null,
            "_view_module": "@jupyter-widgets/base",
            "_view_module_version": "1.2.0",
            "_view_name": "LayoutView",
            "align_content": null,
            "align_items": null,
            "align_self": null,
            "border": null,
            "bottom": null,
            "display": null,
            "flex": null,
            "flex_flow": null,
            "grid_area": null,
            "grid_auto_columns": null,
            "grid_auto_flow": null,
            "grid_auto_rows": null,
            "grid_column": null,
            "grid_gap": null,
            "grid_row": null,
            "grid_template_areas": null,
            "grid_template_columns": null,
            "grid_template_rows": null,
            "height": null,
            "justify_content": null,
            "justify_items": null,
            "left": null,
            "margin": null,
            "max_height": null,
            "max_width": null,
            "min_height": null,
            "min_width": null,
            "object_fit": null,
            "object_position": null,
            "order": null,
            "overflow": null,
            "overflow_x": null,
            "overflow_y": null,
            "padding": null,
            "right": null,
            "top": null,
            "visibility": null,
            "width": null
          }
        },
        "f352a2de65244d41a36ffa494df728c8": {
          "model_module": "@jupyter-widgets/controls",
          "model_name": "ProgressStyleModel",
          "model_module_version": "1.5.0",
          "state": {
            "_model_module": "@jupyter-widgets/controls",
            "_model_module_version": "1.5.0",
            "_model_name": "ProgressStyleModel",
            "_view_count": null,
            "_view_module": "@jupyter-widgets/base",
            "_view_module_version": "1.2.0",
            "_view_name": "StyleView",
            "bar_color": null,
            "description_width": ""
          }
        },
        "efb25664bfac46a89d4978e98c225209": {
          "model_module": "@jupyter-widgets/base",
          "model_name": "LayoutModel",
          "model_module_version": "1.2.0",
          "state": {
            "_model_module": "@jupyter-widgets/base",
            "_model_module_version": "1.2.0",
            "_model_name": "LayoutModel",
            "_view_count": null,
            "_view_module": "@jupyter-widgets/base",
            "_view_module_version": "1.2.0",
            "_view_name": "LayoutView",
            "align_content": null,
            "align_items": null,
            "align_self": null,
            "border": null,
            "bottom": null,
            "display": null,
            "flex": null,
            "flex_flow": null,
            "grid_area": null,
            "grid_auto_columns": null,
            "grid_auto_flow": null,
            "grid_auto_rows": null,
            "grid_column": null,
            "grid_gap": null,
            "grid_row": null,
            "grid_template_areas": null,
            "grid_template_columns": null,
            "grid_template_rows": null,
            "height": null,
            "justify_content": null,
            "justify_items": null,
            "left": null,
            "margin": null,
            "max_height": null,
            "max_width": null,
            "min_height": null,
            "min_width": null,
            "object_fit": null,
            "object_position": null,
            "order": null,
            "overflow": null,
            "overflow_x": null,
            "overflow_y": null,
            "padding": null,
            "right": null,
            "top": null,
            "visibility": null,
            "width": null
          }
        },
        "234c12d391344779926bfdd408a33a15": {
          "model_module": "@jupyter-widgets/controls",
          "model_name": "DescriptionStyleModel",
          "model_module_version": "1.5.0",
          "state": {
            "_model_module": "@jupyter-widgets/controls",
            "_model_module_version": "1.5.0",
            "_model_name": "DescriptionStyleModel",
            "_view_count": null,
            "_view_module": "@jupyter-widgets/base",
            "_view_module_version": "1.2.0",
            "_view_name": "StyleView",
            "description_width": ""
          }
        },
        "42099c756c444bbc8ce8370797c341b7": {
          "model_module": "@jupyter-widgets/controls",
          "model_name": "HBoxModel",
          "model_module_version": "1.5.0",
          "state": {
            "_dom_classes": [],
            "_model_module": "@jupyter-widgets/controls",
            "_model_module_version": "1.5.0",
            "_model_name": "HBoxModel",
            "_view_count": null,
            "_view_module": "@jupyter-widgets/controls",
            "_view_module_version": "1.5.0",
            "_view_name": "HBoxView",
            "box_style": "",
            "children": [
              "IPY_MODEL_43bfd5b4f05d4f938329ebff8885ce7c",
              "IPY_MODEL_18fd87aaf3e54a9d86c240a290d5e281",
              "IPY_MODEL_f324917a5323482cb16877275953b1c1"
            ],
            "layout": "IPY_MODEL_59ea6621b2044c9c83062593a2f2d32e"
          }
        },
        "43bfd5b4f05d4f938329ebff8885ce7c": {
          "model_module": "@jupyter-widgets/controls",
          "model_name": "HTMLModel",
          "model_module_version": "1.5.0",
          "state": {
            "_dom_classes": [],
            "_model_module": "@jupyter-widgets/controls",
            "_model_module_version": "1.5.0",
            "_model_name": "HTMLModel",
            "_view_count": null,
            "_view_module": "@jupyter-widgets/controls",
            "_view_module_version": "1.5.0",
            "_view_name": "HTMLView",
            "description": "",
            "description_tooltip": null,
            "layout": "IPY_MODEL_77b9531a82784d27bca705475d4ffaec",
            "placeholder": "​",
            "style": "IPY_MODEL_642b48b77b4341dbaf216da4e45ee234",
            "value": "config.json: 100%"
          }
        },
        "18fd87aaf3e54a9d86c240a290d5e281": {
          "model_module": "@jupyter-widgets/controls",
          "model_name": "FloatProgressModel",
          "model_module_version": "1.5.0",
          "state": {
            "_dom_classes": [],
            "_model_module": "@jupyter-widgets/controls",
            "_model_module_version": "1.5.0",
            "_model_name": "FloatProgressModel",
            "_view_count": null,
            "_view_module": "@jupyter-widgets/controls",
            "_view_module_version": "1.5.0",
            "_view_name": "ProgressView",
            "bar_style": "success",
            "description": "",
            "description_tooltip": null,
            "layout": "IPY_MODEL_5e8ff3cae36b4f5398bb3f35c7470257",
            "max": 499,
            "min": 0,
            "orientation": "horizontal",
            "style": "IPY_MODEL_1de26ec277f74b9aa978e50945df1a8a",
            "value": 499
          }
        },
        "f324917a5323482cb16877275953b1c1": {
          "model_module": "@jupyter-widgets/controls",
          "model_name": "HTMLModel",
          "model_module_version": "1.5.0",
          "state": {
            "_dom_classes": [],
            "_model_module": "@jupyter-widgets/controls",
            "_model_module_version": "1.5.0",
            "_model_name": "HTMLModel",
            "_view_count": null,
            "_view_module": "@jupyter-widgets/controls",
            "_view_module_version": "1.5.0",
            "_view_name": "HTMLView",
            "description": "",
            "description_tooltip": null,
            "layout": "IPY_MODEL_4e31eb3febd640fa94ecc7805b134fc8",
            "placeholder": "​",
            "style": "IPY_MODEL_cb9065b2a5c640bb825d9cf0381fb6fe",
            "value": " 499/499 [00:00&lt;00:00, 45.6kB/s]"
          }
        },
        "59ea6621b2044c9c83062593a2f2d32e": {
          "model_module": "@jupyter-widgets/base",
          "model_name": "LayoutModel",
          "model_module_version": "1.2.0",
          "state": {
            "_model_module": "@jupyter-widgets/base",
            "_model_module_version": "1.2.0",
            "_model_name": "LayoutModel",
            "_view_count": null,
            "_view_module": "@jupyter-widgets/base",
            "_view_module_version": "1.2.0",
            "_view_name": "LayoutView",
            "align_content": null,
            "align_items": null,
            "align_self": null,
            "border": null,
            "bottom": null,
            "display": null,
            "flex": null,
            "flex_flow": null,
            "grid_area": null,
            "grid_auto_columns": null,
            "grid_auto_flow": null,
            "grid_auto_rows": null,
            "grid_column": null,
            "grid_gap": null,
            "grid_row": null,
            "grid_template_areas": null,
            "grid_template_columns": null,
            "grid_template_rows": null,
            "height": null,
            "justify_content": null,
            "justify_items": null,
            "left": null,
            "margin": null,
            "max_height": null,
            "max_width": null,
            "min_height": null,
            "min_width": null,
            "object_fit": null,
            "object_position": null,
            "order": null,
            "overflow": null,
            "overflow_x": null,
            "overflow_y": null,
            "padding": null,
            "right": null,
            "top": null,
            "visibility": null,
            "width": null
          }
        },
        "77b9531a82784d27bca705475d4ffaec": {
          "model_module": "@jupyter-widgets/base",
          "model_name": "LayoutModel",
          "model_module_version": "1.2.0",
          "state": {
            "_model_module": "@jupyter-widgets/base",
            "_model_module_version": "1.2.0",
            "_model_name": "LayoutModel",
            "_view_count": null,
            "_view_module": "@jupyter-widgets/base",
            "_view_module_version": "1.2.0",
            "_view_name": "LayoutView",
            "align_content": null,
            "align_items": null,
            "align_self": null,
            "border": null,
            "bottom": null,
            "display": null,
            "flex": null,
            "flex_flow": null,
            "grid_area": null,
            "grid_auto_columns": null,
            "grid_auto_flow": null,
            "grid_auto_rows": null,
            "grid_column": null,
            "grid_gap": null,
            "grid_row": null,
            "grid_template_areas": null,
            "grid_template_columns": null,
            "grid_template_rows": null,
            "height": null,
            "justify_content": null,
            "justify_items": null,
            "left": null,
            "margin": null,
            "max_height": null,
            "max_width": null,
            "min_height": null,
            "min_width": null,
            "object_fit": null,
            "object_position": null,
            "order": null,
            "overflow": null,
            "overflow_x": null,
            "overflow_y": null,
            "padding": null,
            "right": null,
            "top": null,
            "visibility": null,
            "width": null
          }
        },
        "642b48b77b4341dbaf216da4e45ee234": {
          "model_module": "@jupyter-widgets/controls",
          "model_name": "DescriptionStyleModel",
          "model_module_version": "1.5.0",
          "state": {
            "_model_module": "@jupyter-widgets/controls",
            "_model_module_version": "1.5.0",
            "_model_name": "DescriptionStyleModel",
            "_view_count": null,
            "_view_module": "@jupyter-widgets/base",
            "_view_module_version": "1.2.0",
            "_view_name": "StyleView",
            "description_width": ""
          }
        },
        "5e8ff3cae36b4f5398bb3f35c7470257": {
          "model_module": "@jupyter-widgets/base",
          "model_name": "LayoutModel",
          "model_module_version": "1.2.0",
          "state": {
            "_model_module": "@jupyter-widgets/base",
            "_model_module_version": "1.2.0",
            "_model_name": "LayoutModel",
            "_view_count": null,
            "_view_module": "@jupyter-widgets/base",
            "_view_module_version": "1.2.0",
            "_view_name": "LayoutView",
            "align_content": null,
            "align_items": null,
            "align_self": null,
            "border": null,
            "bottom": null,
            "display": null,
            "flex": null,
            "flex_flow": null,
            "grid_area": null,
            "grid_auto_columns": null,
            "grid_auto_flow": null,
            "grid_auto_rows": null,
            "grid_column": null,
            "grid_gap": null,
            "grid_row": null,
            "grid_template_areas": null,
            "grid_template_columns": null,
            "grid_template_rows": null,
            "height": null,
            "justify_content": null,
            "justify_items": null,
            "left": null,
            "margin": null,
            "max_height": null,
            "max_width": null,
            "min_height": null,
            "min_width": null,
            "object_fit": null,
            "object_position": null,
            "order": null,
            "overflow": null,
            "overflow_x": null,
            "overflow_y": null,
            "padding": null,
            "right": null,
            "top": null,
            "visibility": null,
            "width": null
          }
        },
        "1de26ec277f74b9aa978e50945df1a8a": {
          "model_module": "@jupyter-widgets/controls",
          "model_name": "ProgressStyleModel",
          "model_module_version": "1.5.0",
          "state": {
            "_model_module": "@jupyter-widgets/controls",
            "_model_module_version": "1.5.0",
            "_model_name": "ProgressStyleModel",
            "_view_count": null,
            "_view_module": "@jupyter-widgets/base",
            "_view_module_version": "1.2.0",
            "_view_name": "StyleView",
            "bar_color": null,
            "description_width": ""
          }
        },
        "4e31eb3febd640fa94ecc7805b134fc8": {
          "model_module": "@jupyter-widgets/base",
          "model_name": "LayoutModel",
          "model_module_version": "1.2.0",
          "state": {
            "_model_module": "@jupyter-widgets/base",
            "_model_module_version": "1.2.0",
            "_model_name": "LayoutModel",
            "_view_count": null,
            "_view_module": "@jupyter-widgets/base",
            "_view_module_version": "1.2.0",
            "_view_name": "LayoutView",
            "align_content": null,
            "align_items": null,
            "align_self": null,
            "border": null,
            "bottom": null,
            "display": null,
            "flex": null,
            "flex_flow": null,
            "grid_area": null,
            "grid_auto_columns": null,
            "grid_auto_flow": null,
            "grid_auto_rows": null,
            "grid_column": null,
            "grid_gap": null,
            "grid_row": null,
            "grid_template_areas": null,
            "grid_template_columns": null,
            "grid_template_rows": null,
            "height": null,
            "justify_content": null,
            "justify_items": null,
            "left": null,
            "margin": null,
            "max_height": null,
            "max_width": null,
            "min_height": null,
            "min_width": null,
            "object_fit": null,
            "object_position": null,
            "order": null,
            "overflow": null,
            "overflow_x": null,
            "overflow_y": null,
            "padding": null,
            "right": null,
            "top": null,
            "visibility": null,
            "width": null
          }
        },
        "cb9065b2a5c640bb825d9cf0381fb6fe": {
          "model_module": "@jupyter-widgets/controls",
          "model_name": "DescriptionStyleModel",
          "model_module_version": "1.5.0",
          "state": {
            "_model_module": "@jupyter-widgets/controls",
            "_model_module_version": "1.5.0",
            "_model_name": "DescriptionStyleModel",
            "_view_count": null,
            "_view_module": "@jupyter-widgets/base",
            "_view_module_version": "1.2.0",
            "_view_name": "StyleView",
            "description_width": ""
          }
        }
      }
    }
  },
  "cells": [
    {
      "cell_type": "code",
      "execution_count": 1,
      "metadata": {
        "id": "eXBko6gSF3c5"
      },
      "outputs": [],
      "source": [
        "import pandas as pd\n",
        "import numpy as np\n",
        "import csv\n",
        "import matplotlib.pyplot as plt\n",
        "import seaborn as sns\n",
        "import random\n",
        "import re\n",
        "import textwrap\n",
        "from sklearn.metrics import classification_report\n",
        "from pprint import pprint\n",
        "\n",
        "\n",
        "import tensorflow as tf\n",
        "from tensorflow import keras\n",
        "from transformers import TFBertModel, BertTokenizerFast\n"
      ]
    },
    {
      "cell_type": "code",
      "source": [
        "from google.colab import drive\n",
        "drive.mount('/content/drive')"
      ],
      "metadata": {
        "colab": {
          "base_uri": "https://localhost:8080/"
        },
        "id": "u7bAFFyFKkTf",
        "outputId": "f6631dc0-2636-484e-afb6-732325288bcb"
      },
      "execution_count": 2,
      "outputs": [
        {
          "output_type": "stream",
          "name": "stdout",
          "text": [
            "Mounted at /content/drive\n"
          ]
        }
      ]
    },
    {
      "cell_type": "code",
      "source": [
        "diagnoses_train = pd.read_csv(\"drive/MyDrive/MIDS/medal_mimic_subset/diagnoses/train.csv\")\n",
        "diagnoses_validation = pd.read_csv(\"drive/MyDrive/MIDS/medal_mimic_subset/diagnoses/valid.csv\")\n",
        "diagnoses_test = pd.read_csv(\"drive/MyDrive/MIDS/medal_mimic_subset/diagnoses/test.csv\")"
      ],
      "metadata": {
        "id": "zXewHXmbLOGB"
      },
      "execution_count": 3,
      "outputs": []
    },
    {
      "cell_type": "code",
      "source": [
        "total_abbreviations = pd.read_csv(\"drive/MyDrive/MIDS/medal_mimic_subset/total_abbreviations.csv\")"
      ],
      "metadata": {
        "id": "CY7aZZwAdwgk"
      },
      "execution_count": 4,
      "outputs": []
    },
    {
      "cell_type": "code",
      "source": [
        "print(len(diagnoses_train))\n",
        "print(len(diagnoses_validation))\n",
        "print(len(diagnoses_test))"
      ],
      "metadata": {
        "id": "Z2OnS3LaEiV9",
        "colab": {
          "base_uri": "https://localhost:8080/"
        },
        "outputId": "61ee7c86-5ccc-486d-e63b-47c3097c5581"
      },
      "execution_count": 5,
      "outputs": [
        {
          "output_type": "stream",
          "name": "stdout",
          "text": [
            "61079\n",
            "9258\n",
            "14287\n"
          ]
        }
      ]
    },
    {
      "cell_type": "code",
      "source": [
        "# diagnoses_train.head()\n",
        "# print(diagnoses_train[diagnoses_train.SUBJECT_ID == 29487].TEXT[0])\n",
        "print(diagnoses_train[diagnoses_train.SUBJECT_ID == 29487].TEXT.values[-1])\n",
        "# diagnoses_train.HOSPITAL_EXPIRE_FLAG.value_counts()"
      ],
      "metadata": {
        "id": "SYspOEarL7fd",
        "colab": {
          "base_uri": "https://localhost:8080/"
        },
        "outputId": "c8751df9-68d2-4041-f512-d43f4209fc2f"
      },
      "execution_count": 6,
      "outputs": [
        {
          "output_type": "stream",
          "name": "stdout",
          "text": [
            "Chief Complaint : \n",
            "   24 Hour Events : \n",
            "    -  BP stable off pressors ,  no bolus requirement\n",
            "    -  UOP adequate ,  still net positive\n",
            "    -  tolerated 8 - 28 for 5 hrs ,  ABGs improved\n",
            "    -  admin Lasix 40mg IV this am\n",
            "   Pt intubated ,  sedated ,  opening eyes but only intermittently responding\n",
            "   to commands . \n",
            "   Allergies : \n",
            "   Iodine\n",
            "   Anaphylaxis ; \n",
            "   Cipro  ( Oral )   ( Ciprofloxacin Hcl ) \n",
            "   Rash ; \n",
            "   Sulfonamides\n",
            "   Rash ; \n",
            "   Morphine\n",
            "   Nausea / Vomiting\n",
            "   Codeine\n",
            "   Nausea / Vomiting\n",
            "   Levofloxacin\n",
            "   Anaphylaxis ; \n",
            "   Last dose of Antibiotics : \n",
            "   Vancomycin  -  2163 - 1 - 19 12 : 45 PM\n",
            "   Piperacillin / Tazobactam  ( Zosyn )   -  2163 - 1 - 22 04 : 20 AM\n",
            "   Infusions : \n",
            "   Fentanyl  -  25 mcg / hour\n",
            "   Other ICU medications : \n",
            "   Other medications : \n",
            "   Flowsheet Data as of  2163 - 1 - 22 06 : 28 AM\n",
            "   Vital signs\n",
            "   Hemodynamic monitoring\n",
            "   Fluid balance\n",
            "                                                                  24 hours\n",
            "                                                               Since 12 AM\n",
            "   Tmax :  36 . 3\n",
            "C  ( 97 . 3\n",
            "   Tcurrent :  35 . 9\n",
            "C  ( 96 . 6\n",
            "   HR :  74  ( 67  -  92 )  bpm\n",
            "   BP :  132 / 39 ( 69 )   { 96 / 32 ( 53 )   -  154 / 58 ( 90 )  }  mmHg\n",
            "   RR :  16  ( 8  -  21 )  insp / min\n",
            "   SpO2 :  100 % \n",
            "   Heart rhythm :  SR  ( Sinus Rhythm ) \n",
            "   Wgt  ( current )  :  70 kg  ( admission )  :  62 kg\n",
            "   Height :  60 Inch\n",
            "    CVP :  9  ( 2  -  12 ) mmHg\n",
            "   Total In : \n",
            "                                                                  1 , 068 mL\n",
            "                                                                    306 mL\n",
            "   PO : \n",
            "   TF : \n",
            "                                                                    470 mL\n",
            "                                                                    220 mL\n",
            "   IVF : \n",
            "                                                                    258 mL\n",
            "                                                                     66 mL\n",
            "   Blood products : \n",
            "   Total out : \n",
            "                                                                    510 mL\n",
            "                                                                     45 mL\n",
            "   Urine : \n",
            "                                                                    510 mL\n",
            "                                                                     45 mL\n",
            "   NG : \n",
            "   Stool : \n",
            "   Drains : \n",
            "   Balance : \n",
            "                                                                    558 mL\n",
            "                                                                    261 mL\n",
            "   Respiratory support\n",
            "   Ventilator mode :  CMV / ASSIST / AutoFlow\n",
            "   Vt  ( Set )  :  450  ( 450  -  450 )  mL\n",
            "   Vt  ( Spontaneous )  :  363  ( 363  -  405 )  mL\n",
            "   PS  :  12 cmH2O\n",
            "   RR  ( Set )  :  16\n",
            "   RR  ( Spontaneous )  :  0\n",
            "   PEEP :  5 cmH2O\n",
            "   FiO2 :  30 % \n",
            "   RSBI Deferred :  No Spon Resp\n",
            "   PIP :  26 cmH2O\n",
            "   Plateau :  23 cmH2O\n",
            "   SpO2 :  100 % \n",
            "   ABG :  7 . 37 / 37 / 136 / 22 /  - 3\n",
            "   Ve :  7 . 7 L / min\n",
            "   PaO2  /  FiO2 :  453\n",
            "   Physical Examination\n",
            "   GEN :  NAD ,  intubated ,  opening eyes to commands\n",
            "   HEENT :  swollen ,  edematous face\n",
            "   CV :  irreg / irreg gr 3 SEM over LSB\n",
            "   RESP :  crackles bilaterally at bases ,  no w / r\n",
            "   ABD :  soft , NT / ND / NABS\n",
            "   Extr :  2 +  pitting edema bilaterally\n",
            "   Labs  /  Radiology\n",
            "   BONE\n",
            "   SCAN :  No scintigraphic evidence of hip metastasis or pathologic fractur\n",
            "   e . \n",
            "   2163 - 1 - 21 Portable CXR : \n",
            "   FINDINGS :   In comparison with study of 1 - 20 ,  there is no change in the\n",
            "   appearance of the endotracheal and nasogastric tubes and central venous\n",
            "   catheter and Port - A - Cath .   No change in the appearance of the\n",
            "   cardiomediastinal silhouette .   Large right and smaller left pleural eff\n",
            "   usions\n",
            "   persist .   No evidence of acute focal pneumonia . \n",
            "   IMPRESSION :   Little change . \n",
            "   51 K / uL\n",
            "   8 . 7 g / dL\n",
            "   132 mg / dL\n",
            "   2 . 9 mg / dL\n",
            "   22 mEq / L\n",
            "   4 . 2 mEq / L\n",
            "   65 mg / dL\n",
            "   111 mEq / L\n",
            "   140 mEq / L\n",
            "   27 . 4  % \n",
            "   7 . 8 K / uL\n",
            "        image002 . jpg\n",
            "                             2163 - 1 - 20  05 : 21 PM\n",
            "                             2163 - 1 - 20  05 : 48 PM\n",
            "                             2163 - 1 - 20  10 : 31 PM\n",
            "                             2163 - 1 - 21  12 : 18 AM\n",
            "                             2163 - 1 - 21  04 : 56 AM\n",
            "                             2163 - 1 - 21  05 : 04 AM\n",
            "                             2163 - 1 - 21  03 : 43 PM\n",
            "                             2163 - 1 - 21  06 : 34 PM\n",
            "                             2163 - 1 - 22  05 : 00 AM\n",
            "                             2163 - 1 - 22  05 : 14 AM\n",
            "   WBC\n",
            "   14 . 7\n",
            "   7 . 8\n",
            "   Hct\n",
            "   28 . 9\n",
            "   27 . 4\n",
            "   Plt\n",
            "   72\n",
            "   51\n",
            "   Cr\n",
            "   3 . 0\n",
            "   3 . 1\n",
            "   2 . 9\n",
            "   TCO2\n",
            "   21\n",
            "   22\n",
            "   21\n",
            "   21\n",
            "   22\n",
            "   24\n",
            "   22\n",
            "   Glucose\n",
            "   127\n",
            "   161\n",
            "   132\n",
            "   Other labs :  PT  /  PTT  /  INR : 12 . 9 / 33 . 2 / 1 . 1 ,  CK  /  CKMB  / \n",
            "   Troponin - T : 39 / 8 / 0 . 11 ,  ALT  /  AST : 20 / 25 ,  Alk Phos  /  T Bili : 54 / 0 . 5 , \n",
            "   Differential - Neuts : 91 . 2  %  ,  Band : 0 . 0  %  ,  Lymph : 4 . 2  %  ,  Mono : 4 . 5  %  ,  Eos : 0 . 1\n",
            "    %  ,  Fibrinogen : 603 mg / dL ,  Lactic Acid : 1 . 0 mmol / L ,  Albumin : 2 . 1 g / dL , \n",
            "   LDH : 124 IU / L ,  Ca +  +  : 8 . 8 mg / dL ,  Mg +  +  : 2 . 2 mg / dL ,  PO4 : 3 . 5 mg / dL\n",
            "   C Diff negative x 4 ,  Blood Cx NGTD\n",
            "   Urine Culture  +  Pseudomonas pan sensitive\n",
            "   Sputum Culture  +  yeast\n",
            "   Assessment and Plan\n",
            "   86 y / o F with PMHx of severe AS  &  CHF p / w Left hip pain ,  adm to Hospital Unit Name 44\n",
            "   for presumed urosepsis ,   intubated on 1 - 18 for worsening acidosis and\n",
            "   MS changes . \n",
            "    . \n",
            "    # SEPSIS ,  SEVERE  ( WITH ORGAN DYSFUNCTION )  :  etiology presumed urosepsis\n",
            "   with positive UA growing out pan sensitive Pseudomonas ,  now day 7 of\n",
            "   Zosyn .   Pt is s / p Intubation on 1 - 18 for worsening acidosis / MS\n",
            "   changes .   Pt had transient hypotensive episode with worsening acidosis\n",
            "   on 1 - 20 - intermittently requiring pressors .  WBC now trending down , \n",
            "   afebrile ,  no recurrence of hypotension .   Further infectious work up neg\n",
            "   to date ,  L chest U / S neg for abscess , Bone scan negative . \n",
            "    -  apprec ID consult ,  continue Zosyn day 6 - 2\n",
            "    -  bone scan -  no lytic lesions or metastatic dz\n",
            "    -  Blood Cx NGTD ,  Urine culture  +  2 diff pseudomonas ,  both pan\n",
            "   sensitive .   Sputum  +  yeast\n",
            "    -  gentle bolus of 250 LR prn to maintain Maps > 65\n",
            "    -  will repeat cultures if any recurrence of hypotension\n",
            "    . \n",
            "    # SHOCK ,  CARDIOGENIC :  Pt with severe AS  &  CHF with EF 45 %  developed Afib\n",
            "   with RVR and became hypotensive on 1 - 18 .  Pressure responded to IVF  & \n",
            "   pressors .   Pt was intubated and pressors weaned .  Pt has been in / out of\n",
            "   Afib but HR better controlled on digoxin .   Transiently hypotensive on\n",
            "   1 - 20 ,  required pressors approx 5hrs ,  likely due to severe AS and\n",
            "   preload dependence .  Pt with extravasc volume overload and complicated\n",
            "   fluid balance . \n",
            "    -  continue Digoxing 0 . 125mg every other day ,  avoid CCB / BBs\n",
            "    -  no plan for systemic anticoagulation currently ,  daily risk of CVA\n",
            "   very low\n",
            "    -  attempt aggressive diuresis today ,  goal  - 500cc\n",
            "    . \n",
            "    #  RESP FAILURE :  Pt was intubated on 1 - 18 due to worsening acidosis  &  MS\n",
            "   changes .   CXR with effusions R > L  &  pulm edema .   CT showed possible\n",
            "   airspace disease in Last Name  ( LF )  1056 ,  First Name3  ( LF )   have been 12 - 25 aspiration peri - intubation . \n",
            "   WBC ct down ,  it is unlikely that this due to a new PNA ,  but will\n",
            "   reculture and broaden Abx if pt clinically deteriorates .   Pulm edema\n",
            "   and extravascular volume overload may be a barrier to extubation .   Goal\n",
            "   to run i / os negative 500cc today\n",
            "    -  tolerated 8 - 28 well for 5hrs o / n .   ABGs show normal acid base status , \n",
            "   oxygenating  &  ventilating well . \n",
            "    -  f / u RSBI in am ,  possible extubation over weekend\n",
            "    . \n",
            "    #  RENAL FAILURE ,  ACUTE  ( ACUTE RENAL FAILURE ,  ARF )  :  Pt with oliguric\n",
            "   renal failure likely 12 - 25 hypoperfusion vs ATN in setting of shock . \n",
            "   Creatinine improved  &  having increased UOP .  Acidosis improved on vent\n",
            "   with AC ,  unclear etiology of metabolic acidosis leading to intubation . \n",
            "   Apprec renal recs ,   will admin Lasix  &  Metolazone this am to attempt\n",
            "   diuresis\n",
            "    -  monitor i / os ,  goal net negative 500cc\n",
            "    -  renally dose all meds\n",
            "    -  continue phoslo TID\n",
            "    . \n",
            "    #  AORTIC STENOSIS :  AS with valve area of 0 . 7cm ,  very preload dependant\n",
            "    &  delicate fluid balance .   Gentle bolus with 250cc LR prn to maintain\n",
            "   MAP > 60\n",
            "    -  continue digoxin ,  monitor daily CXR  &  resp status ,  avoid volume\n",
            "   overload preventing successful extubation\n",
            "    . \n",
            "    #  URINARY TRACT INFECTION  ( UTI )  :  presumed source of infection with UA  + \n",
            "   pseudomonas ,  pan sensitive\n",
            "    -  continue Zosyn day 6 - 2 renally dosed\n",
            "    #  LEFT HIP PAIN :  Etiology unclear but not an infectious source .  Not a\n",
            "   septic joint on admission ,  but clearly painful on manipulation now .   CT\n",
            "   neg for joint effusion ,  bone scan neg for pathologic\n",
            "   fracture / metastatic lesion\n",
            "    -  continue Fentanyl for pain control\n",
            "   ICU Care\n",
            "   Nutrition : \n",
            "   Nutren Pulmonary  ( Full )   -  2163 - 1 - 22 12 : 51 AM 35 mL / hour\n",
            "   Glycemic Control : \n",
            "   Lines :  Indwelling Port  ( PortaCath )   -  2163 - 1 - 16 07 : 04 PM\n",
            "   Presep Catheter  -  2163 - 1 - 16 07 : 05 PM\n",
            "   Arterial Line  -  2163 - 1 - 17 04 : 15 PM\n",
            "   Prophylaxis : \n",
            "   DVT :   Heparin sc TID\n",
            "   Stress ulcer :   H2 blocker\n",
            "   VAP :  Chlorhexidine\n",
            "   Code status :  DNR  ( do not resuscitate ) \n",
            "   Disposition :  ICU\n",
            "\n"
          ]
        }
      ]
    },
    {
      "cell_type": "code",
      "source": [
        "abbreviations = set(total_abbreviations.abbreviation)\n",
        "\n",
        "def has_any_abbreviation(text):\n",
        "    words = set(text.split())\n",
        "    found = words.intersection(abbreviations)\n",
        "    return bool(found)\n",
        "\n",
        "diagnoses_train_subset = diagnoses_train.loc[diagnoses_train.TEXT.apply(has_any_abbreviation)].reset_index(drop=True)\n",
        "diagnoses_validation_subset = diagnoses_validation.loc[diagnoses_validation.TEXT.apply(has_any_abbreviation)].reset_index(drop=True)\n",
        "diagnoses_test_subset = diagnoses_test.loc[diagnoses_test.TEXT.apply(has_any_abbreviation)].reset_index(drop=True)"
      ],
      "metadata": {
        "id": "hKcodmG-dy_r"
      },
      "execution_count": 7,
      "outputs": []
    },
    {
      "cell_type": "code",
      "source": [
        "print(f\"Train: {len(diagnoses_train_subset)} out of {len(diagnoses_train)}\")\n",
        "print(f\"Validation: {len(diagnoses_validation_subset)} out of {len(diagnoses_validation)}\")\n",
        "print(f\"Test: {len(diagnoses_test_subset)} out of {len(diagnoses_test)}\")"
      ],
      "metadata": {
        "id": "HOhfZdxNebyI",
        "colab": {
          "base_uri": "https://localhost:8080/"
        },
        "outputId": "0fe3c287-7cd2-4176-b46a-fc19943e6f9b"
      },
      "execution_count": 8,
      "outputs": [
        {
          "output_type": "stream",
          "name": "stdout",
          "text": [
            "Train: 60444 out of 61079\n",
            "Validation: 9147 out of 9258\n",
            "Test: 14132 out of 14287\n"
          ]
        }
      ]
    },
    {
      "cell_type": "code",
      "source": [
        "with open(\"drive/MyDrive/MIDS/medal_mimic_subset/diagnoses/diag_to_idx.csv\") as f:\n",
        "    diagnosis_to_idx = {diag: int(idx) for diag, idx in csv.reader(f)}\n",
        "    idx_to_diagnosis = {int(idx): diag for diag, idx in diagnosis_to_idx.items()}\n",
        "\n",
        "print(f\"{len(diagnosis_to_idx)} unique diagnosis codes\")"
      ],
      "metadata": {
        "colab": {
          "base_uri": "https://localhost:8080/"
        },
        "id": "C6j06SYWmVBD",
        "outputId": "8ede483a-a1b1-46a1-9cea-44f6bd61e3dd"
      },
      "execution_count": 9,
      "outputs": [
        {
          "output_type": "stream",
          "name": "stdout",
          "text": [
            "1204 unique diagnosis codes\n"
          ]
        }
      ]
    },
    {
      "cell_type": "markdown",
      "source": [],
      "metadata": {
        "id": "_1hLJfNKmbF1"
      }
    },
    {
      "cell_type": "code",
      "source": [
        "model_checkpoint = 'NLP4H/ms_bert'\n",
        "bert_tokenizer = BertTokenizerFast.from_pretrained(model_checkpoint)"
      ],
      "metadata": {
        "id": "qpX26n6YMKzm",
        "colab": {
          "base_uri": "https://localhost:8080/",
          "height": 208,
          "referenced_widgets": [
            "912d283dbf4a432da5fb3214b8786e0d",
            "157b8b3ebafa404ba92918c898262adf",
            "ca5d981e582a4511a0b53c72d07e8b17",
            "0aa4b8289cee4b998a203180780fa32b",
            "e5cea45159934dcda07ddeaa6e6bf1f1",
            "44ae3667bfea4f0eb02a66db17028e84",
            "66672b71f8e64539bf0b16bfb741ad91",
            "ef0e9983002946c3bdbda15cc9102e65",
            "f352a2de65244d41a36ffa494df728c8",
            "efb25664bfac46a89d4978e98c225209",
            "234c12d391344779926bfdd408a33a15",
            "42099c756c444bbc8ce8370797c341b7",
            "43bfd5b4f05d4f938329ebff8885ce7c",
            "18fd87aaf3e54a9d86c240a290d5e281",
            "f324917a5323482cb16877275953b1c1",
            "59ea6621b2044c9c83062593a2f2d32e",
            "77b9531a82784d27bca705475d4ffaec",
            "642b48b77b4341dbaf216da4e45ee234",
            "5e8ff3cae36b4f5398bb3f35c7470257",
            "1de26ec277f74b9aa978e50945df1a8a",
            "4e31eb3febd640fa94ecc7805b134fc8",
            "cb9065b2a5c640bb825d9cf0381fb6fe"
          ]
        },
        "outputId": "8f9a7e3d-9fe3-4262-93f7-0d4d1305de17"
      },
      "execution_count": 10,
      "outputs": [
        {
          "output_type": "stream",
          "name": "stderr",
          "text": [
            "/usr/local/lib/python3.10/dist-packages/huggingface_hub/utils/_token.py:89: UserWarning: \n",
            "The secret `HF_TOKEN` does not exist in your Colab secrets.\n",
            "To authenticate with the Hugging Face Hub, create a token in your settings tab (https://huggingface.co/settings/tokens), set it as secret in your Google Colab and restart your session.\n",
            "You will be able to reuse this secret in all of your notebooks.\n",
            "Please note that authentication is recommended but still optional to access public models or datasets.\n",
            "  warnings.warn(\n"
          ]
        },
        {
          "output_type": "display_data",
          "data": {
            "text/plain": [
              "vocab.txt:   0%|          | 0.00/232k [00:00<?, ?B/s]"
            ],
            "application/vnd.jupyter.widget-view+json": {
              "version_major": 2,
              "version_minor": 0,
              "model_id": "912d283dbf4a432da5fb3214b8786e0d"
            }
          },
          "metadata": {}
        },
        {
          "output_type": "display_data",
          "data": {
            "text/plain": [
              "config.json:   0%|          | 0.00/499 [00:00<?, ?B/s]"
            ],
            "application/vnd.jupyter.widget-view+json": {
              "version_major": 2,
              "version_minor": 0,
              "model_id": "42099c756c444bbc8ce8370797c341b7"
            }
          },
          "metadata": {}
        }
      ]
    },
    {
      "cell_type": "code",
      "source": [
        "MAX_LENGTH = 512\n",
        "\n",
        "\n",
        "def head_and_tail(tokens, total_size=MAX_LENGTH):\n",
        "    \"\"\"Build an array of size <total_size> using the head and tail ends of the input array\"\"\"\n",
        "    half = int(total_size / 2)\n",
        "    if len(tokens) <= total_size:\n",
        "        return tokens\n",
        "    head = tokens[:half]\n",
        "    tail = tokens[-half:]\n",
        "    return np.concatenate([head, tail])\n",
        "\n",
        "\n",
        "def tokenize(texts):\n",
        "    \"\"\"\n",
        "    Tokenize an array of text inputs for bert, and take the head and tail of\n",
        "    each set of bert inputs. Returns a tuple of three arrays: input_ids, token_type_ids,\n",
        "    and attention_mask.\n",
        "    \"\"\"\n",
        "    input_ids_list = []\n",
        "    token_type_ids_list = []\n",
        "    attention_mask_list = []\n",
        "\n",
        "    for text in texts:\n",
        "        bert_output = bert_tokenizer(\n",
        "            text, padding=\"max_length\", return_tensors=\"tf\", max_length=MAX_LENGTH\n",
        "        )\n",
        "        input_ids = bert_output[\"input_ids\"][0]\n",
        "        token_type_ids = bert_output[\"token_type_ids\"][0]\n",
        "        attention_mask = bert_output[\"attention_mask\"][0]\n",
        "\n",
        "        input_ids_list.append(head_and_tail(input_ids))\n",
        "        token_type_ids_list.append(head_and_tail(token_type_ids))\n",
        "        attention_mask_list.append(head_and_tail(attention_mask))\n",
        "\n",
        "    return np.array(input_ids_list), np.array(token_type_ids_list), np.array(attention_mask_list)\n",
        "\n",
        "\n",
        "def get_labels(df):\n",
        "    \"\"\"\n",
        "    Get array of labels for each record in the dataframe as a one-hot encoded array, e.g.\n",
        "    each ICD9 code appears as a 0 or 1 mapping to the diagnosis_labels array. If the ICD9\n",
        "    code does not appear in the training set, it is ignored.\n",
        "    \"\"\"\n",
        "    labels_by_hadm_id = {row.HADM_ID: row.ICD9_ID for _, row in df.iterrows()}\n",
        "    output = np.zeros((len(df), len(diagnosis_to_idx)))\n",
        "    for sample_idx, row in enumerate(df.iterrows()):\n",
        "        for icd9 in row[1].ICD9_ID.split(';'):\n",
        "            # skip codes that are not present in the train set\n",
        "            grouped_icd9 = icd9[:4] if icd9.startswith(\"V\") or icd9.startswith(\"E\") else icd9[:3]\n",
        "            if (index := diagnosis_to_idx.get(grouped_icd9)) is None:\n",
        "                continue\n",
        "\n",
        "            output[sample_idx, index] = 1\n",
        "\n",
        "    return output\n",
        "\n",
        "\n",
        "def preprocess_data(batch_df):\n",
        "    return tokenize(batch_df.TEXT), get_labels(batch_df)\n",
        "\n",
        "\n",
        "input_examples, label_examples = preprocess_data(diagnoses_train_subset[:3])\n",
        "print(\"Labels:\", [idx_to_diagnosis[idx] for idx in np.where(label_examples[1] == 1)[0]])\n",
        "print(\"Inputs:\", bert_tokenizer.decode(input_examples[0][1]))"
      ],
      "metadata": {
        "colab": {
          "base_uri": "https://localhost:8080/"
        },
        "id": "WweLlKT8uMcF",
        "outputId": "9fc5656d-56d5-409b-9a3e-e6a0071c04cf"
      },
      "execution_count": 11,
      "outputs": [
        {
          "output_type": "stream",
          "name": "stdout",
          "text": [
            "Labels: ['584', '707', '428', '276', '403', '293', '585', '427', '530', '197', '486', '038', '785', '995', '518', '599', '424', 'V104', 'V105', '274', 'V436']\n",
            "Inputs: [CLS] chief complaint : 24 hour events : ekg - at 2163 - 1 - 17 11 : 30 am - afib, rbbb, no acute st - t waves changes arterial line - start 2163 - 1 - 17 04 : 15 pm - ce negative - vanc added - urine grew out pseudomonas, did not double cover per id - mri hip ordered, not performed - uable to wean pressors overnight pt doing okay this am, still some l hip pain, but otherwise, breathing comfortably, no cp / sob / abd pain. allergies : iodine anaphylaxis ; cipro ( oral ) ( ciprofloxacin hcl ) rash ; sulfonamides rash ; morphine nausea / vomiting codeine nausea / vomiting levofloxacin anaphylaxis ; last dose of antibiotics : vancomycin - 2163 - 1 - 17 09 : 45 am piperacillin / tazobactam ( zosyn ) - 2163 - 1 - 18 04 : 12 am infusions : other icu medications : heparin tid, allopurinol, famotidine, tamoxifen, dilaudid, zofran, insulin, : as with valve area 0. 7cm, very preload dependant, bolus fluid prn and avoid bb / ccbs. - continue digoxin, monitor for worsening chf urinary tract infection ( uti ) : presumed source of sepsis, currently in oliguric rf, foley in place - continue vanc / zosyn for coverage of pseudomonas species, waiting on sensitivities left hip pain : unknown etiology, concern for fluid collection / septic joint. apprec ortho consult - f / u ct pelvis and continue vanc / zosyn. intubated with fentanyl for sedation & pain control. icu care nutrition : npo with og in place for meds glycemic control : iss lines : indwelling port ( portacath ) - 2163 - 1 - 16 07 : 04 pm presep catheter - 2163 - 1 - 16 07 : 05 pm arterial line - 2163 - 1 - 17 04 : 15 pm prophylaxis : dvt : heparin 5000 tid stress ulcer : ppi vap : comments : communication : comments : code status : full code disposition : icu [SEP]\n"
          ]
        }
      ]
    },
    {
      "cell_type": "code",
      "source": [
        "BATCH_SIZE = 32\n",
        "\n",
        "\n",
        "class DataGeneratorFromDataframe(tf.keras.utils.Sequence):\n",
        "\n",
        "    def __init__(self, df, batch_size=BATCH_SIZE, shuffle=True):\n",
        "        self.df = df\n",
        "        self.n_examples = len(df)\n",
        "        self.batch_size = batch_size\n",
        "        self.shuffle = shuffle\n",
        "\n",
        "        # Initialize row order, call on_epoch_end to shuffle row indices\n",
        "        self.row_order = np.arange(self.n_examples)\n",
        "        self.on_epoch_end()\n",
        "\n",
        "    def __len__(self):\n",
        "        # Return the number of batches in the full dataset\n",
        "        return self.n_examples // self.batch_size\n",
        "\n",
        "    def __getitem__(self, idx):\n",
        "        batch_start = idx * self.batch_size\n",
        "        batch_end = (idx + 1) * self.batch_size\n",
        "\n",
        "        # Indices to skip are the ones in the shuffled row_order before and\n",
        "        # after the chunk we'll use for this batch\n",
        "        batch_idx = self.row_order[batch_start : batch_end]\n",
        "        batch_df = self.df.iloc[batch_idx, :].copy()\n",
        "        batch_data = preprocess_data(batch_df)\n",
        "\n",
        "        return batch_data\n",
        "\n",
        "    def on_epoch_end(self):\n",
        "        if self.shuffle:\n",
        "            self.row_order = list(np.random.permutation(self.row_order))"
      ],
      "metadata": {
        "id": "hxmaBj1OgGz0"
      },
      "execution_count": 12,
      "outputs": []
    },
    {
      "cell_type": "code",
      "source": [
        "# Create an instance of our data generator, for our training data file and size\n",
        "\n",
        "train_data_generator = DataGeneratorFromDataframe(diagnoses_train_subset)\n",
        "valid_data_generator = DataGeneratorFromDataframe(diagnoses_validation_subset)\n",
        "test_data_generator = DataGeneratorFromDataframe(diagnoses_test_subset)\n",
        "\n",
        "train_data_generator[0]"
      ],
      "metadata": {
        "id": "lRNUFpVTy-RE",
        "colab": {
          "base_uri": "https://localhost:8080/"
        },
        "outputId": "9c7bb273-f9f9-4427-a455-daec4aeb1d99"
      },
      "execution_count": 13,
      "outputs": [
        {
          "output_type": "execute_result",
          "data": {
            "text/plain": [
              "((array([[  101,  2516,  1024, ..., 22137,  1024,   102],\n",
              "         [  101,  3438, 10930, ...,     0,     0,     0],\n",
              "         [  101,  3515,  1061, ...,  1013,  1051,   102],\n",
              "         ...,\n",
              "         [  101,  2423,  1061, ...,     0,     0,     0],\n",
              "         [  101, 18234,  3096, ...,     0,     0,     0],\n",
              "         [  101, 13866,  2003, ...,  3431,  1012,   102]], dtype=int32),\n",
              "  array([[0, 0, 0, ..., 0, 0, 0],\n",
              "         [0, 0, 0, ..., 0, 0, 0],\n",
              "         [0, 0, 0, ..., 0, 0, 0],\n",
              "         ...,\n",
              "         [0, 0, 0, ..., 0, 0, 0],\n",
              "         [0, 0, 0, ..., 0, 0, 0],\n",
              "         [0, 0, 0, ..., 0, 0, 0]], dtype=int32),\n",
              "  array([[1, 1, 1, ..., 1, 1, 1],\n",
              "         [1, 1, 1, ..., 0, 0, 0],\n",
              "         [1, 1, 1, ..., 1, 1, 1],\n",
              "         ...,\n",
              "         [1, 1, 1, ..., 0, 0, 0],\n",
              "         [1, 1, 1, ..., 0, 0, 0],\n",
              "         [1, 1, 1, ..., 1, 1, 1]], dtype=int32)),\n",
              " array([[0., 1., 1., ..., 0., 0., 0.],\n",
              "        [0., 1., 0., ..., 0., 0., 0.],\n",
              "        [1., 1., 0., ..., 0., 0., 0.],\n",
              "        ...,\n",
              "        [0., 0., 0., ..., 0., 0., 0.],\n",
              "        [1., 1., 0., ..., 0., 0., 0.],\n",
              "        [0., 1., 1., ..., 0., 0., 0.]]))"
            ]
          },
          "metadata": {},
          "execution_count": 13
        }
      ]
    },
    {
      "cell_type": "code",
      "source": [
        "def create_diagnosis_bert_model(\n",
        "    model_checkpoint=model_checkpoint,\n",
        "    n_classes=len(diagnosis_to_idx),\n",
        "    hidden_size=256,\n",
        "    dropout=0.3,\n",
        "    learning_rate=0.00005,\n",
        "):\n",
        "    \"\"\"\n",
        "    Classification model with BERT that uses the Pooler Output for classification.\n",
        "    \"\"\"\n",
        "    keras.backend.clear_session()\n",
        "\n",
        "    input_ids = tf.keras.layers.Input(shape=(MAX_LENGTH,), dtype=tf.int64, name='input_ids_layer')\n",
        "    token_type_ids = tf.keras.layers.Input(shape=(MAX_LENGTH,), dtype=tf.int64, name='token_type_ids_layer')\n",
        "    attention_mask = tf.keras.layers.Input(shape=(MAX_LENGTH,), dtype=tf.int64, name='attention_mask_layer')\n",
        "\n",
        "    bert_inputs = {'input_ids': input_ids,\n",
        "                   'token_type_ids': token_type_ids,\n",
        "                   'attention_mask': attention_mask}\n",
        "\n",
        "    bert_model = TFBertModel.from_pretrained(model_checkpoint)\n",
        "    bert_out = bert_model(bert_inputs)\n",
        "\n",
        "    pooler_token = bert_out[1]\n",
        "\n",
        "    hidden = tf.keras.layers.Dense(hidden_size, activation='relu', name='hidden_layer')(pooler_token)\n",
        "    hidden = tf.keras.layers.Dropout(dropout)(hidden)\n",
        "\n",
        "    classification = tf.keras.layers.Dense(n_classes, activation='sigmoid', name='classification_layer')(hidden)\n",
        "\n",
        "    classification_model = tf.keras.Model(inputs=[input_ids, token_type_ids, attention_mask], outputs=[classification])\n",
        "\n",
        "    classification_model.compile(optimizer=tf.keras.optimizers.Adam(learning_rate=learning_rate),\n",
        "                                 loss=tf.keras.losses.BinaryCrossentropy(from_logits=False),\n",
        "                                 metrics='accuracy')\n",
        "\n",
        "    return classification_model"
      ],
      "metadata": {
        "id": "6-_CdIElAWUw"
      },
      "execution_count": 14,
      "outputs": []
    },
    {
      "cell_type": "code",
      "source": [
        "diagnosis_bert_model = create_diagnosis_bert_model(model_checkpoint='drive/MyDrive/MIDS/model_checkpoints/embeddings_ms/msbert_model_pretrained')\n",
        "diagnosis_bert_model.summary()"
      ],
      "metadata": {
        "id": "K4Sgw7gfMWh4",
        "colab": {
          "base_uri": "https://localhost:8080/"
        },
        "outputId": "ab3e35bc-51a0-4705-cc3c-dd31e9b5332a"
      },
      "execution_count": 15,
      "outputs": [
        {
          "output_type": "stream",
          "name": "stderr",
          "text": [
            "All model checkpoint layers were used when initializing TFBertModel.\n",
            "\n",
            "All the layers of TFBertModel were initialized from the model checkpoint at drive/MyDrive/MIDS/model_checkpoints/embeddings_ms/msbert_model_pretrained.\n",
            "If your task is similar to the task the model of the checkpoint was trained on, you can already use TFBertModel for predictions without further training.\n"
          ]
        },
        {
          "output_type": "stream",
          "name": "stdout",
          "text": [
            "Model: \"model\"\n",
            "__________________________________________________________________________________________________\n",
            " Layer (type)                Output Shape                 Param #   Connected to                  \n",
            "==================================================================================================\n",
            " attention_mask_layer (Inpu  [(None, 512)]                0         []                            \n",
            " tLayer)                                                                                          \n",
            "                                                                                                  \n",
            " input_ids_layer (InputLaye  [(None, 512)]                0         []                            \n",
            " r)                                                                                               \n",
            "                                                                                                  \n",
            " token_type_ids_layer (Inpu  [(None, 512)]                0         []                            \n",
            " tLayer)                                                                                          \n",
            "                                                                                                  \n",
            " tf_bert_model (TFBertModel  TFBaseModelOutputWithPooli   1094822   ['attention_mask_layer[0][0]',\n",
            " )                           ngAndCrossAttentions(last_   40         'input_ids_layer[0][0]',     \n",
            "                             hidden_state=(None, 512, 7              'token_type_ids_layer[0][0]']\n",
            "                             68),                                                                 \n",
            "                              pooler_output=(None, 768)                                           \n",
            "                             , past_key_values=None, hi                                           \n",
            "                             dden_states=None, attentio                                           \n",
            "                             ns=None, cross_attentions=                                           \n",
            "                             None)                                                                \n",
            "                                                                                                  \n",
            " hidden_layer (Dense)        (None, 256)                  196864    ['tf_bert_model[0][1]']       \n",
            "                                                                                                  \n",
            " dropout_37 (Dropout)        (None, 256)                  0         ['hidden_layer[0][0]']        \n",
            "                                                                                                  \n",
            " classification_layer (Dens  (None, 1204)                 309428    ['dropout_37[0][0]']          \n",
            " e)                                                                                               \n",
            "                                                                                                  \n",
            "==================================================================================================\n",
            "Total params: 109988532 (419.57 MB)\n",
            "Trainable params: 109988532 (419.57 MB)\n",
            "Non-trainable params: 0 (0.00 Byte)\n",
            "__________________________________________________________________________________________________\n"
          ]
        }
      ]
    },
    {
      "cell_type": "code",
      "source": [
        "checkpoint_dir = 'drive/MyDrive/MIDS/model_checkpoints/diagnosis_ms_downstream/'\n",
        "checkpoint_filepath = checkpoint_dir + 'weights.{epoch:02d}-{val_accuracy:.2f}.model.keras'\n",
        "model_checkpoint_callback = tf.keras.callbacks.ModelCheckpoint(\n",
        "    filepath=checkpoint_filepath,\n",
        "    save_weights_only=False,\n",
        ")"
      ],
      "metadata": {
        "id": "7o_WPk_I7OqJ"
      },
      "execution_count": 16,
      "outputs": []
    },
    {
      "cell_type": "code",
      "source": [
        "diagnosis_history = diagnosis_bert_model.fit(\n",
        "    train_data_generator,\n",
        "    validation_data=valid_data_generator,\n",
        "    batch_size=BATCH_SIZE,\n",
        "    epochs=3,\n",
        "    callbacks=[model_checkpoint_callback],\n",
        ")"
      ],
      "metadata": {
        "id": "FacYx10NNcOj",
        "colab": {
          "base_uri": "https://localhost:8080/"
        },
        "outputId": "113e0147-9003-4903-d9cc-31372dd1af0e"
      },
      "execution_count": 17,
      "outputs": [
        {
          "output_type": "stream",
          "name": "stdout",
          "text": [
            "Epoch 1/3\n",
            "1888/1888 [==============================] - ETA: 0s - loss: 0.0731 - accuracy: 0.0621"
          ]
        },
        {
          "output_type": "stream",
          "name": "stderr",
          "text": [
            "/usr/local/lib/python3.10/dist-packages/transformers/generation/tf_utils.py:465: UserWarning: `seed_generator` is deprecated and will be removed in a future version.\n",
            "  warnings.warn(\"`seed_generator` is deprecated and will be removed in a future version.\", UserWarning)\n"
          ]
        },
        {
          "output_type": "stream",
          "name": "stdout",
          "text": [
            "\b\b\b\b\b\b\b\b\b\b\b\b\b\b\b\b\b\b\b\b\b\b\b\b\b\b\b\b\b\b\b\b\b\b\b\b\b\b\b\b\b\b\b\b\b\b\b\b\b\b\b\b\b\b\b\b\b\b\b\b\b\b\b\b\b\b\b\b\b\b\b\b\b\b\b\b\b\b\b\b\b\b\b\b\b\b\r1888/1888 [==============================] - 888s 451ms/step - loss: 0.0731 - accuracy: 0.0621 - val_loss: 0.0413 - val_accuracy: 0.1095\n",
            "Epoch 2/3\n",
            "1888/1888 [==============================] - 848s 449ms/step - loss: 0.0339 - accuracy: 0.1011 - val_loss: 0.0375 - val_accuracy: 0.1057\n",
            "Epoch 3/3\n",
            "1888/1888 [==============================] - 850s 450ms/step - loss: 0.0265 - accuracy: 0.1049 - val_loss: 0.0364 - val_accuracy: 0.1236\n"
          ]
        }
      ]
    },
    {
      "cell_type": "code",
      "source": [
        "import json\n",
        "with open('drive/MyDrive/MIDS/model_checkpoints/diagnosis_ms_downstream/history.json', 'w') as f:\n",
        "    json.dump(diagnosis_history.history, f)"
      ],
      "metadata": {
        "id": "CRuCwUOBnqcY"
      },
      "execution_count": 18,
      "outputs": []
    },
    {
      "cell_type": "code",
      "source": [
        "# # Skip training by running this cell\n",
        "# checkpoint_name = \"weights.04-0.13.model.keras\"\n",
        "# diagnosis_bert_model = tf.keras.models.load_model(\n",
        "#     f\"{checkpoint_dir}{checkpoint_name}\",\n",
        "#     custom_objects={\"TFBertModel\": TFBertModel},\n",
        "# )"
      ],
      "metadata": {
        "id": "10Xav8RL5_x_"
      },
      "execution_count": null,
      "outputs": []
    },
    {
      "cell_type": "code",
      "source": [
        "def compute_top_k_recall(labels, predictions, k=10):\n",
        "    # Get indices of top-k predictions\n",
        "    idxs = np.argsort(predictions, axis=1)[:, ::-1][:, :k]\n",
        "\n",
        "    # Gather top-k labels\n",
        "    top_k_labels = labels[np.arange(labels.shape[0])[:, np.newaxis], idxs]\n",
        "\n",
        "    # Compute recall for each sample\n",
        "    sum_top_k_labels = np.sum(top_k_labels, axis=1)\n",
        "    sum_labels = np.sum(labels, axis=1)\n",
        "    recall_per_sample = sum_top_k_labels / sum_labels\n",
        "\n",
        "    # Compute mean recall across all samples\n",
        "    return np.mean(recall_per_sample)\n",
        "\n",
        "\n",
        "def evaluate(model, test_data):\n",
        "    top_5_recall = 0\n",
        "    top_10_recall = 0\n",
        "    top_30_recall = 0\n",
        "    count = 0\n",
        "\n",
        "    print(f\"Evaluating top k recall of {len(test_data)} batches\")\n",
        "\n",
        "    for i, (inputs, labels) in enumerate(test_data, start=1):\n",
        "        predictions = model.predict(inputs, verbose=0)\n",
        "        top_5_recall += compute_top_k_recall(labels, predictions, k=5)\n",
        "        top_10_recall += compute_top_k_recall(labels, predictions, k=10)\n",
        "        top_30_recall += compute_top_k_recall(labels, predictions, k=30)\n",
        "        count += 1\n",
        "        if count % 10 == 0:\n",
        "            print(f\"{count} batches evaluated\")\n",
        "\n",
        "    return {\n",
        "        \"top_5_recall\": top_5_recall / count,\n",
        "        \"top_10_recall\": top_10_recall / count,\n",
        "        \"top_30_recall\": top_30_recall / count,\n",
        "    }\n",
        "\n",
        "evaluate(diagnosis_bert_model, test_data_generator)"
      ],
      "metadata": {
        "colab": {
          "base_uri": "https://localhost:8080/"
        },
        "id": "7SVJBqWCpB69",
        "outputId": "d4fd0834-f429-4310-a1d8-6f76e6182c58"
      },
      "execution_count": 19,
      "outputs": [
        {
          "output_type": "stream",
          "name": "stdout",
          "text": [
            "Evaluating top k recall of 441 batches\n",
            "10 batches evaluated\n",
            "20 batches evaluated\n",
            "30 batches evaluated\n",
            "40 batches evaluated\n",
            "50 batches evaluated\n",
            "60 batches evaluated\n",
            "70 batches evaluated\n",
            "80 batches evaluated\n",
            "90 batches evaluated\n",
            "100 batches evaluated\n",
            "110 batches evaluated\n",
            "120 batches evaluated\n",
            "130 batches evaluated\n",
            "140 batches evaluated\n",
            "150 batches evaluated\n",
            "160 batches evaluated\n",
            "170 batches evaluated\n",
            "180 batches evaluated\n",
            "190 batches evaluated\n",
            "200 batches evaluated\n",
            "210 batches evaluated\n",
            "220 batches evaluated\n",
            "230 batches evaluated\n",
            "240 batches evaluated\n",
            "250 batches evaluated\n",
            "260 batches evaluated\n",
            "270 batches evaluated\n",
            "280 batches evaluated\n",
            "290 batches evaluated\n",
            "300 batches evaluated\n",
            "310 batches evaluated\n",
            "320 batches evaluated\n",
            "330 batches evaluated\n",
            "340 batches evaluated\n",
            "350 batches evaluated\n",
            "360 batches evaluated\n",
            "370 batches evaluated\n",
            "380 batches evaluated\n",
            "390 batches evaluated\n",
            "400 batches evaluated\n",
            "410 batches evaluated\n",
            "420 batches evaluated\n",
            "430 batches evaluated\n",
            "440 batches evaluated\n"
          ]
        },
        {
          "output_type": "execute_result",
          "data": {
            "text/plain": [
              "{'top_5_recall': 0.21063682174126674,\n",
              " 'top_10_recall': 0.3462350079343712,\n",
              " 'top_30_recall': 0.6173280643321545}"
            ]
          },
          "metadata": {},
          "execution_count": 19
        }
      ]
    }
  ]
}