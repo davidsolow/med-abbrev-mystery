{
  "nbformat": 4,
  "nbformat_minor": 0,
  "metadata": {
    "colab": {
      "provenance": [],
      "gpuType": "A100",
      "machine_shape": "hm",
      "include_colab_link": true
    },
    "kernelspec": {
      "name": "python3",
      "display_name": "Python 3"
    },
    "language_info": {
      "name": "python"
    },
    "accelerator": "GPU"
  },
  "cells": [
    {
      "cell_type": "markdown",
      "metadata": {
        "id": "view-in-github",
        "colab_type": "text"
      },
      "source": [
        "<a href=\"https://colab.research.google.com/github/davidsolow/med-abbrev-mystery/blob/base-bert/MIMIC_mortality.ipynb\" target=\"_parent\"><img src=\"https://colab.research.google.com/assets/colab-badge.svg\" alt=\"Open In Colab\"/></a>"
      ]
    },
    {
      "cell_type": "code",
      "execution_count": 1,
      "metadata": {
        "id": "eXBko6gSF3c5"
      },
      "outputs": [],
      "source": [
        "import pandas as pd\n",
        "import numpy as np\n",
        "import matplotlib.pyplot as plt\n",
        "import seaborn as sns\n",
        "import random\n",
        "import re\n",
        "import textwrap\n",
        "\n",
        "from sklearn.model_selection import StratifiedShuffleSplit\n",
        "\n",
        "import tensorflow as tf\n",
        "from tensorflow import keras\n",
        "from transformers import BertTokenizer, TFBertModel"
      ]
    },
    {
      "cell_type": "code",
      "source": [
        "!pip install transformers"
      ],
      "metadata": {
        "colab": {
          "base_uri": "https://localhost:8080/"
        },
        "id": "re7H7_tQ6xu9",
        "outputId": "f2a2db4a-cf4c-4957-ec7a-86348c0e859a"
      },
      "execution_count": 9,
      "outputs": [
        {
          "output_type": "stream",
          "name": "stdout",
          "text": [
            "Requirement already satisfied: transformers in /usr/local/lib/python3.10/dist-packages (4.37.2)\n",
            "Requirement already satisfied: filelock in /usr/local/lib/python3.10/dist-packages (from transformers) (3.15.4)\n",
            "Requirement already satisfied: huggingface-hub<1.0,>=0.19.3 in /usr/local/lib/python3.10/dist-packages (from transformers) (0.23.5)\n",
            "Requirement already satisfied: numpy>=1.17 in /usr/local/lib/python3.10/dist-packages (from transformers) (1.26.4)\n",
            "Requirement already satisfied: packaging>=20.0 in /usr/local/lib/python3.10/dist-packages (from transformers) (24.1)\n",
            "Requirement already satisfied: pyyaml>=5.1 in /usr/local/lib/python3.10/dist-packages (from transformers) (6.0.1)\n",
            "Requirement already satisfied: regex!=2019.12.17 in /usr/local/lib/python3.10/dist-packages (from transformers) (2024.5.15)\n",
            "Requirement already satisfied: requests in /usr/local/lib/python3.10/dist-packages (from transformers) (2.31.0)\n",
            "Requirement already satisfied: tokenizers<0.19,>=0.14 in /usr/local/lib/python3.10/dist-packages (from transformers) (0.15.2)\n",
            "Requirement already satisfied: safetensors>=0.4.1 in /usr/local/lib/python3.10/dist-packages (from transformers) (0.4.3)\n",
            "Requirement already satisfied: tqdm>=4.27 in /usr/local/lib/python3.10/dist-packages (from transformers) (4.66.4)\n",
            "Requirement already satisfied: fsspec>=2023.5.0 in /usr/local/lib/python3.10/dist-packages (from huggingface-hub<1.0,>=0.19.3->transformers) (2024.6.1)\n",
            "Requirement already satisfied: typing-extensions>=3.7.4.3 in /usr/local/lib/python3.10/dist-packages (from huggingface-hub<1.0,>=0.19.3->transformers) (4.12.2)\n",
            "Requirement already satisfied: charset-normalizer<4,>=2 in /usr/local/lib/python3.10/dist-packages (from requests->transformers) (3.3.2)\n",
            "Requirement already satisfied: idna<4,>=2.5 in /usr/local/lib/python3.10/dist-packages (from requests->transformers) (3.7)\n",
            "Requirement already satisfied: urllib3<3,>=1.21.1 in /usr/local/lib/python3.10/dist-packages (from requests->transformers) (2.0.7)\n",
            "Requirement already satisfied: certifi>=2017.4.17 in /usr/local/lib/python3.10/dist-packages (from requests->transformers) (2024.7.4)\n"
          ]
        }
      ]
    },
    {
      "cell_type": "code",
      "source": [
        "transformers = __import__('transformers')\n",
        "print(\"Transformers version:\", transformers.__version__)"
      ],
      "metadata": {
        "colab": {
          "base_uri": "https://localhost:8080/"
        },
        "id": "iRYlidtS6b1v",
        "outputId": "19e77cda-caa2-44f2-8e99-10e8ad7f91c0"
      },
      "execution_count": 2,
      "outputs": [
        {
          "output_type": "stream",
          "name": "stdout",
          "text": [
            "Transformers version: 4.42.4\n"
          ]
        }
      ]
    },
    {
      "cell_type": "code",
      "source": [
        "!pip install transformers==4.37.2"
      ],
      "metadata": {
        "colab": {
          "base_uri": "https://localhost:8080/"
        },
        "id": "V81_83EgQD5u",
        "outputId": "5f920080-5e8b-4e0b-e7bc-524625d5aaa5"
      },
      "execution_count": 4,
      "outputs": [
        {
          "output_type": "stream",
          "name": "stdout",
          "text": [
            "Requirement already satisfied: transformers==4.37.2 in /usr/local/lib/python3.10/dist-packages (4.37.2)\n",
            "Requirement already satisfied: filelock in /usr/local/lib/python3.10/dist-packages (from transformers==4.37.2) (3.15.4)\n",
            "Requirement already satisfied: huggingface-hub<1.0,>=0.19.3 in /usr/local/lib/python3.10/dist-packages (from transformers==4.37.2) (0.23.5)\n",
            "Requirement already satisfied: numpy>=1.17 in /usr/local/lib/python3.10/dist-packages (from transformers==4.37.2) (1.26.4)\n",
            "Requirement already satisfied: packaging>=20.0 in /usr/local/lib/python3.10/dist-packages (from transformers==4.37.2) (24.1)\n",
            "Requirement already satisfied: pyyaml>=5.1 in /usr/local/lib/python3.10/dist-packages (from transformers==4.37.2) (6.0.1)\n",
            "Requirement already satisfied: regex!=2019.12.17 in /usr/local/lib/python3.10/dist-packages (from transformers==4.37.2) (2024.5.15)\n",
            "Requirement already satisfied: requests in /usr/local/lib/python3.10/dist-packages (from transformers==4.37.2) (2.31.0)\n",
            "Requirement already satisfied: tokenizers<0.19,>=0.14 in /usr/local/lib/python3.10/dist-packages (from transformers==4.37.2) (0.15.2)\n",
            "Requirement already satisfied: safetensors>=0.4.1 in /usr/local/lib/python3.10/dist-packages (from transformers==4.37.2) (0.4.3)\n",
            "Requirement already satisfied: tqdm>=4.27 in /usr/local/lib/python3.10/dist-packages (from transformers==4.37.2) (4.66.4)\n",
            "Requirement already satisfied: fsspec>=2023.5.0 in /usr/local/lib/python3.10/dist-packages (from huggingface-hub<1.0,>=0.19.3->transformers==4.37.2) (2024.6.1)\n",
            "Requirement already satisfied: typing-extensions>=3.7.4.3 in /usr/local/lib/python3.10/dist-packages (from huggingface-hub<1.0,>=0.19.3->transformers==4.37.2) (4.12.2)\n",
            "Requirement already satisfied: charset-normalizer<4,>=2 in /usr/local/lib/python3.10/dist-packages (from requests->transformers==4.37.2) (3.3.2)\n",
            "Requirement already satisfied: idna<4,>=2.5 in /usr/local/lib/python3.10/dist-packages (from requests->transformers==4.37.2) (3.7)\n",
            "Requirement already satisfied: urllib3<3,>=1.21.1 in /usr/local/lib/python3.10/dist-packages (from requests->transformers==4.37.2) (2.0.7)\n",
            "Requirement already satisfied: certifi>=2017.4.17 in /usr/local/lib/python3.10/dist-packages (from requests->transformers==4.37.2) (2024.7.4)\n"
          ]
        }
      ]
    },
    {
      "cell_type": "code",
      "source": [
        "from google.colab import drive\n",
        "drive.mount('/content/drive')"
      ],
      "metadata": {
        "colab": {
          "base_uri": "https://localhost:8080/"
        },
        "id": "u7bAFFyFKkTf",
        "outputId": "215132aa-a7f0-43af-de53-b10361bd37f2"
      },
      "execution_count": 4,
      "outputs": [
        {
          "output_type": "stream",
          "name": "stdout",
          "text": [
            "Mounted at /content/drive\n"
          ]
        }
      ]
    },
    {
      "cell_type": "code",
      "source": [
        "total_abbreviations = pd.read_csv(\"drive/MyDrive/266Project/medal_mimic_subset/total_abbreviations.csv\")"
      ],
      "metadata": {
        "id": "nuk9ITuCGRut"
      },
      "execution_count": 20,
      "outputs": []
    },
    {
      "cell_type": "code",
      "source": [
        "total_abbreviations.head()"
      ],
      "metadata": {
        "colab": {
          "base_uri": "https://localhost:8080/",
          "height": 204
        },
        "id": "FkwHEpmWvrgt",
        "outputId": "4b97f9a9-aef1-4117-b721-8472f5d9d673"
      },
      "execution_count": null,
      "outputs": [
        {
          "output_type": "execute_result",
          "data": {
            "text/plain": [
              "  abbreviation\n",
              "0          SFG\n",
              "1          CTP\n",
              "2         HSES\n",
              "3        MMPIs\n",
              "4        ATP7B"
            ],
            "text/html": [
              "\n",
              "  <div id=\"df-139f52bd-e814-49f1-a72f-ad3956ff7619\" class=\"colab-df-container\">\n",
              "    <div>\n",
              "<style scoped>\n",
              "    .dataframe tbody tr th:only-of-type {\n",
              "        vertical-align: middle;\n",
              "    }\n",
              "\n",
              "    .dataframe tbody tr th {\n",
              "        vertical-align: top;\n",
              "    }\n",
              "\n",
              "    .dataframe thead th {\n",
              "        text-align: right;\n",
              "    }\n",
              "</style>\n",
              "<table border=\"1\" class=\"dataframe\">\n",
              "  <thead>\n",
              "    <tr style=\"text-align: right;\">\n",
              "      <th></th>\n",
              "      <th>abbreviation</th>\n",
              "    </tr>\n",
              "  </thead>\n",
              "  <tbody>\n",
              "    <tr>\n",
              "      <th>0</th>\n",
              "      <td>SFG</td>\n",
              "    </tr>\n",
              "    <tr>\n",
              "      <th>1</th>\n",
              "      <td>CTP</td>\n",
              "    </tr>\n",
              "    <tr>\n",
              "      <th>2</th>\n",
              "      <td>HSES</td>\n",
              "    </tr>\n",
              "    <tr>\n",
              "      <th>3</th>\n",
              "      <td>MMPIs</td>\n",
              "    </tr>\n",
              "    <tr>\n",
              "      <th>4</th>\n",
              "      <td>ATP7B</td>\n",
              "    </tr>\n",
              "  </tbody>\n",
              "</table>\n",
              "</div>\n",
              "    <div class=\"colab-df-buttons\">\n",
              "\n",
              "  <div class=\"colab-df-container\">\n",
              "    <button class=\"colab-df-convert\" onclick=\"convertToInteractive('df-139f52bd-e814-49f1-a72f-ad3956ff7619')\"\n",
              "            title=\"Convert this dataframe to an interactive table.\"\n",
              "            style=\"display:none;\">\n",
              "\n",
              "  <svg xmlns=\"http://www.w3.org/2000/svg\" height=\"24px\" viewBox=\"0 -960 960 960\">\n",
              "    <path d=\"M120-120v-720h720v720H120Zm60-500h600v-160H180v160Zm220 220h160v-160H400v160Zm0 220h160v-160H400v160ZM180-400h160v-160H180v160Zm440 0h160v-160H620v160ZM180-180h160v-160H180v160Zm440 0h160v-160H620v160Z\"/>\n",
              "  </svg>\n",
              "    </button>\n",
              "\n",
              "  <style>\n",
              "    .colab-df-container {\n",
              "      display:flex;\n",
              "      gap: 12px;\n",
              "    }\n",
              "\n",
              "    .colab-df-convert {\n",
              "      background-color: #E8F0FE;\n",
              "      border: none;\n",
              "      border-radius: 50%;\n",
              "      cursor: pointer;\n",
              "      display: none;\n",
              "      fill: #1967D2;\n",
              "      height: 32px;\n",
              "      padding: 0 0 0 0;\n",
              "      width: 32px;\n",
              "    }\n",
              "\n",
              "    .colab-df-convert:hover {\n",
              "      background-color: #E2EBFA;\n",
              "      box-shadow: 0px 1px 2px rgba(60, 64, 67, 0.3), 0px 1px 3px 1px rgba(60, 64, 67, 0.15);\n",
              "      fill: #174EA6;\n",
              "    }\n",
              "\n",
              "    .colab-df-buttons div {\n",
              "      margin-bottom: 4px;\n",
              "    }\n",
              "\n",
              "    [theme=dark] .colab-df-convert {\n",
              "      background-color: #3B4455;\n",
              "      fill: #D2E3FC;\n",
              "    }\n",
              "\n",
              "    [theme=dark] .colab-df-convert:hover {\n",
              "      background-color: #434B5C;\n",
              "      box-shadow: 0px 1px 3px 1px rgba(0, 0, 0, 0.15);\n",
              "      filter: drop-shadow(0px 1px 2px rgba(0, 0, 0, 0.3));\n",
              "      fill: #FFFFFF;\n",
              "    }\n",
              "  </style>\n",
              "\n",
              "    <script>\n",
              "      const buttonEl =\n",
              "        document.querySelector('#df-139f52bd-e814-49f1-a72f-ad3956ff7619 button.colab-df-convert');\n",
              "      buttonEl.style.display =\n",
              "        google.colab.kernel.accessAllowed ? 'block' : 'none';\n",
              "\n",
              "      async function convertToInteractive(key) {\n",
              "        const element = document.querySelector('#df-139f52bd-e814-49f1-a72f-ad3956ff7619');\n",
              "        const dataTable =\n",
              "          await google.colab.kernel.invokeFunction('convertToInteractive',\n",
              "                                                    [key], {});\n",
              "        if (!dataTable) return;\n",
              "\n",
              "        const docLinkHtml = 'Like what you see? Visit the ' +\n",
              "          '<a target=\"_blank\" href=https://colab.research.google.com/notebooks/data_table.ipynb>data table notebook</a>'\n",
              "          + ' to learn more about interactive tables.';\n",
              "        element.innerHTML = '';\n",
              "        dataTable['output_type'] = 'display_data';\n",
              "        await google.colab.output.renderOutput(dataTable, element);\n",
              "        const docLink = document.createElement('div');\n",
              "        docLink.innerHTML = docLinkHtml;\n",
              "        element.appendChild(docLink);\n",
              "      }\n",
              "    </script>\n",
              "  </div>\n",
              "\n",
              "\n",
              "<div id=\"df-b5e98594-1b67-438a-b7ee-5099a2b068dd\">\n",
              "  <button class=\"colab-df-quickchart\" onclick=\"quickchart('df-b5e98594-1b67-438a-b7ee-5099a2b068dd')\"\n",
              "            title=\"Suggest charts\"\n",
              "            style=\"display:none;\">\n",
              "\n",
              "<svg xmlns=\"http://www.w3.org/2000/svg\" height=\"24px\"viewBox=\"0 0 24 24\"\n",
              "     width=\"24px\">\n",
              "    <g>\n",
              "        <path d=\"M19 3H5c-1.1 0-2 .9-2 2v14c0 1.1.9 2 2 2h14c1.1 0 2-.9 2-2V5c0-1.1-.9-2-2-2zM9 17H7v-7h2v7zm4 0h-2V7h2v10zm4 0h-2v-4h2v4z\"/>\n",
              "    </g>\n",
              "</svg>\n",
              "  </button>\n",
              "\n",
              "<style>\n",
              "  .colab-df-quickchart {\n",
              "      --bg-color: #E8F0FE;\n",
              "      --fill-color: #1967D2;\n",
              "      --hover-bg-color: #E2EBFA;\n",
              "      --hover-fill-color: #174EA6;\n",
              "      --disabled-fill-color: #AAA;\n",
              "      --disabled-bg-color: #DDD;\n",
              "  }\n",
              "\n",
              "  [theme=dark] .colab-df-quickchart {\n",
              "      --bg-color: #3B4455;\n",
              "      --fill-color: #D2E3FC;\n",
              "      --hover-bg-color: #434B5C;\n",
              "      --hover-fill-color: #FFFFFF;\n",
              "      --disabled-bg-color: #3B4455;\n",
              "      --disabled-fill-color: #666;\n",
              "  }\n",
              "\n",
              "  .colab-df-quickchart {\n",
              "    background-color: var(--bg-color);\n",
              "    border: none;\n",
              "    border-radius: 50%;\n",
              "    cursor: pointer;\n",
              "    display: none;\n",
              "    fill: var(--fill-color);\n",
              "    height: 32px;\n",
              "    padding: 0;\n",
              "    width: 32px;\n",
              "  }\n",
              "\n",
              "  .colab-df-quickchart:hover {\n",
              "    background-color: var(--hover-bg-color);\n",
              "    box-shadow: 0 1px 2px rgba(60, 64, 67, 0.3), 0 1px 3px 1px rgba(60, 64, 67, 0.15);\n",
              "    fill: var(--button-hover-fill-color);\n",
              "  }\n",
              "\n",
              "  .colab-df-quickchart-complete:disabled,\n",
              "  .colab-df-quickchart-complete:disabled:hover {\n",
              "    background-color: var(--disabled-bg-color);\n",
              "    fill: var(--disabled-fill-color);\n",
              "    box-shadow: none;\n",
              "  }\n",
              "\n",
              "  .colab-df-spinner {\n",
              "    border: 2px solid var(--fill-color);\n",
              "    border-color: transparent;\n",
              "    border-bottom-color: var(--fill-color);\n",
              "    animation:\n",
              "      spin 1s steps(1) infinite;\n",
              "  }\n",
              "\n",
              "  @keyframes spin {\n",
              "    0% {\n",
              "      border-color: transparent;\n",
              "      border-bottom-color: var(--fill-color);\n",
              "      border-left-color: var(--fill-color);\n",
              "    }\n",
              "    20% {\n",
              "      border-color: transparent;\n",
              "      border-left-color: var(--fill-color);\n",
              "      border-top-color: var(--fill-color);\n",
              "    }\n",
              "    30% {\n",
              "      border-color: transparent;\n",
              "      border-left-color: var(--fill-color);\n",
              "      border-top-color: var(--fill-color);\n",
              "      border-right-color: var(--fill-color);\n",
              "    }\n",
              "    40% {\n",
              "      border-color: transparent;\n",
              "      border-right-color: var(--fill-color);\n",
              "      border-top-color: var(--fill-color);\n",
              "    }\n",
              "    60% {\n",
              "      border-color: transparent;\n",
              "      border-right-color: var(--fill-color);\n",
              "    }\n",
              "    80% {\n",
              "      border-color: transparent;\n",
              "      border-right-color: var(--fill-color);\n",
              "      border-bottom-color: var(--fill-color);\n",
              "    }\n",
              "    90% {\n",
              "      border-color: transparent;\n",
              "      border-bottom-color: var(--fill-color);\n",
              "    }\n",
              "  }\n",
              "</style>\n",
              "\n",
              "  <script>\n",
              "    async function quickchart(key) {\n",
              "      const quickchartButtonEl =\n",
              "        document.querySelector('#' + key + ' button');\n",
              "      quickchartButtonEl.disabled = true;  // To prevent multiple clicks.\n",
              "      quickchartButtonEl.classList.add('colab-df-spinner');\n",
              "      try {\n",
              "        const charts = await google.colab.kernel.invokeFunction(\n",
              "            'suggestCharts', [key], {});\n",
              "      } catch (error) {\n",
              "        console.error('Error during call to suggestCharts:', error);\n",
              "      }\n",
              "      quickchartButtonEl.classList.remove('colab-df-spinner');\n",
              "      quickchartButtonEl.classList.add('colab-df-quickchart-complete');\n",
              "    }\n",
              "    (() => {\n",
              "      let quickchartButtonEl =\n",
              "        document.querySelector('#df-b5e98594-1b67-438a-b7ee-5099a2b068dd button');\n",
              "      quickchartButtonEl.style.display =\n",
              "        google.colab.kernel.accessAllowed ? 'block' : 'none';\n",
              "    })();\n",
              "  </script>\n",
              "</div>\n",
              "\n",
              "    </div>\n",
              "  </div>\n"
            ],
            "application/vnd.google.colaboratory.intrinsic+json": {
              "type": "dataframe",
              "variable_name": "total_abbreviations",
              "summary": "{\n  \"name\": \"total_abbreviations\",\n  \"rows\": 5798,\n  \"fields\": [\n    {\n      \"column\": \"abbreviation\",\n      \"properties\": {\n        \"dtype\": \"string\",\n        \"num_unique_values\": 5798,\n        \"samples\": [\n          \"STI\",\n          \"NRA\",\n          \"IMSS\"\n        ],\n        \"semantic_type\": \"\",\n        \"description\": \"\"\n      }\n    }\n  ]\n}"
            }
          },
          "metadata": {},
          "execution_count": 7
        }
      ]
    },
    {
      "cell_type": "code",
      "source": [
        "mimic_train = pd.read_csv(\"drive/MyDrive/266Project/medal_mimic_subset/diagnoses/train.csv\")\n",
        "mimic_validation = pd.read_csv(\"drive/MyDrive/266Project/medal_mimic_subset/diagnoses/valid.csv\")\n",
        "mimic_test = pd.read_csv(\"drive/MyDrive/266Project/medal_mimic_subset/diagnoses/test.csv\")"
      ],
      "metadata": {
        "id": "zXewHXmbLOGB"
      },
      "execution_count": 21,
      "outputs": []
    },
    {
      "cell_type": "code",
      "source": [
        "mimic_train.head()"
      ],
      "metadata": {
        "colab": {
          "base_uri": "https://localhost:8080/",
          "height": 204
        },
        "id": "-E9Isf2k3TKF",
        "outputId": "627593d9-fb44-42e1-8836-f93719f04744"
      },
      "execution_count": null,
      "outputs": [
        {
          "output_type": "execute_result",
          "data": {
            "text/plain": [
              "   HADM_ID  SUBJECT_ID                                               TEXT  \\\n",
              "0   146431       31916  Respiratory failure ,  acute  ( not ARDS / Doc...   \n",
              "1   116532       29487  Chief Complaint : \\n   24 Hour Events : \\n EKG...   \n",
              "2   116532       29487  No significant events overnight\\n   Renal fail...   \n",
              "3   111458       31820  Sepsis ,  Severe  ( with organ dysfunction ) \\...   \n",
              "4   116532       29487  Chief Complaint :  urosepsis ,  erspiratory fa...   \n",
              "\n",
              "   HOSPITAL_EXPIRE_FLAG                                            ICD9_ID  \n",
              "0                   1.0  5070;51881;55220;1970;1987;1983;5849;5119;V667...  \n",
              "1                   1.0  03843;5185;78552;42823;486;2762;5990;5849;7070...  \n",
              "2                   1.0  03843;5185;78552;42823;486;2762;5990;5849;7070...  \n",
              "3                   1.0  1970;5849;1578;5119;5990;0388;5582;2869;51881;...  \n",
              "4                   1.0  03843;5185;78552;42823;486;2762;5990;5849;7070...  "
            ],
            "text/html": [
              "\n",
              "  <div id=\"df-ffe881ff-0333-49cc-b43f-0f3d67b7f76f\" class=\"colab-df-container\">\n",
              "    <div>\n",
              "<style scoped>\n",
              "    .dataframe tbody tr th:only-of-type {\n",
              "        vertical-align: middle;\n",
              "    }\n",
              "\n",
              "    .dataframe tbody tr th {\n",
              "        vertical-align: top;\n",
              "    }\n",
              "\n",
              "    .dataframe thead th {\n",
              "        text-align: right;\n",
              "    }\n",
              "</style>\n",
              "<table border=\"1\" class=\"dataframe\">\n",
              "  <thead>\n",
              "    <tr style=\"text-align: right;\">\n",
              "      <th></th>\n",
              "      <th>HADM_ID</th>\n",
              "      <th>SUBJECT_ID</th>\n",
              "      <th>TEXT</th>\n",
              "      <th>HOSPITAL_EXPIRE_FLAG</th>\n",
              "      <th>ICD9_ID</th>\n",
              "    </tr>\n",
              "  </thead>\n",
              "  <tbody>\n",
              "    <tr>\n",
              "      <th>0</th>\n",
              "      <td>146431</td>\n",
              "      <td>31916</td>\n",
              "      <td>Respiratory failure ,  acute  ( not ARDS / Doc...</td>\n",
              "      <td>1.0</td>\n",
              "      <td>5070;51881;55220;1970;1987;1983;5849;5119;V667...</td>\n",
              "    </tr>\n",
              "    <tr>\n",
              "      <th>1</th>\n",
              "      <td>116532</td>\n",
              "      <td>29487</td>\n",
              "      <td>Chief Complaint : \\n   24 Hour Events : \\n EKG...</td>\n",
              "      <td>1.0</td>\n",
              "      <td>03843;5185;78552;42823;486;2762;5990;5849;7070...</td>\n",
              "    </tr>\n",
              "    <tr>\n",
              "      <th>2</th>\n",
              "      <td>116532</td>\n",
              "      <td>29487</td>\n",
              "      <td>No significant events overnight\\n   Renal fail...</td>\n",
              "      <td>1.0</td>\n",
              "      <td>03843;5185;78552;42823;486;2762;5990;5849;7070...</td>\n",
              "    </tr>\n",
              "    <tr>\n",
              "      <th>3</th>\n",
              "      <td>111458</td>\n",
              "      <td>31820</td>\n",
              "      <td>Sepsis ,  Severe  ( with organ dysfunction ) \\...</td>\n",
              "      <td>1.0</td>\n",
              "      <td>1970;5849;1578;5119;5990;0388;5582;2869;51881;...</td>\n",
              "    </tr>\n",
              "    <tr>\n",
              "      <th>4</th>\n",
              "      <td>116532</td>\n",
              "      <td>29487</td>\n",
              "      <td>Chief Complaint :  urosepsis ,  erspiratory fa...</td>\n",
              "      <td>1.0</td>\n",
              "      <td>03843;5185;78552;42823;486;2762;5990;5849;7070...</td>\n",
              "    </tr>\n",
              "  </tbody>\n",
              "</table>\n",
              "</div>\n",
              "    <div class=\"colab-df-buttons\">\n",
              "\n",
              "  <div class=\"colab-df-container\">\n",
              "    <button class=\"colab-df-convert\" onclick=\"convertToInteractive('df-ffe881ff-0333-49cc-b43f-0f3d67b7f76f')\"\n",
              "            title=\"Convert this dataframe to an interactive table.\"\n",
              "            style=\"display:none;\">\n",
              "\n",
              "  <svg xmlns=\"http://www.w3.org/2000/svg\" height=\"24px\" viewBox=\"0 -960 960 960\">\n",
              "    <path d=\"M120-120v-720h720v720H120Zm60-500h600v-160H180v160Zm220 220h160v-160H400v160Zm0 220h160v-160H400v160ZM180-400h160v-160H180v160Zm440 0h160v-160H620v160ZM180-180h160v-160H180v160Zm440 0h160v-160H620v160Z\"/>\n",
              "  </svg>\n",
              "    </button>\n",
              "\n",
              "  <style>\n",
              "    .colab-df-container {\n",
              "      display:flex;\n",
              "      gap: 12px;\n",
              "    }\n",
              "\n",
              "    .colab-df-convert {\n",
              "      background-color: #E8F0FE;\n",
              "      border: none;\n",
              "      border-radius: 50%;\n",
              "      cursor: pointer;\n",
              "      display: none;\n",
              "      fill: #1967D2;\n",
              "      height: 32px;\n",
              "      padding: 0 0 0 0;\n",
              "      width: 32px;\n",
              "    }\n",
              "\n",
              "    .colab-df-convert:hover {\n",
              "      background-color: #E2EBFA;\n",
              "      box-shadow: 0px 1px 2px rgba(60, 64, 67, 0.3), 0px 1px 3px 1px rgba(60, 64, 67, 0.15);\n",
              "      fill: #174EA6;\n",
              "    }\n",
              "\n",
              "    .colab-df-buttons div {\n",
              "      margin-bottom: 4px;\n",
              "    }\n",
              "\n",
              "    [theme=dark] .colab-df-convert {\n",
              "      background-color: #3B4455;\n",
              "      fill: #D2E3FC;\n",
              "    }\n",
              "\n",
              "    [theme=dark] .colab-df-convert:hover {\n",
              "      background-color: #434B5C;\n",
              "      box-shadow: 0px 1px 3px 1px rgba(0, 0, 0, 0.15);\n",
              "      filter: drop-shadow(0px 1px 2px rgba(0, 0, 0, 0.3));\n",
              "      fill: #FFFFFF;\n",
              "    }\n",
              "  </style>\n",
              "\n",
              "    <script>\n",
              "      const buttonEl =\n",
              "        document.querySelector('#df-ffe881ff-0333-49cc-b43f-0f3d67b7f76f button.colab-df-convert');\n",
              "      buttonEl.style.display =\n",
              "        google.colab.kernel.accessAllowed ? 'block' : 'none';\n",
              "\n",
              "      async function convertToInteractive(key) {\n",
              "        const element = document.querySelector('#df-ffe881ff-0333-49cc-b43f-0f3d67b7f76f');\n",
              "        const dataTable =\n",
              "          await google.colab.kernel.invokeFunction('convertToInteractive',\n",
              "                                                    [key], {});\n",
              "        if (!dataTable) return;\n",
              "\n",
              "        const docLinkHtml = 'Like what you see? Visit the ' +\n",
              "          '<a target=\"_blank\" href=https://colab.research.google.com/notebooks/data_table.ipynb>data table notebook</a>'\n",
              "          + ' to learn more about interactive tables.';\n",
              "        element.innerHTML = '';\n",
              "        dataTable['output_type'] = 'display_data';\n",
              "        await google.colab.output.renderOutput(dataTable, element);\n",
              "        const docLink = document.createElement('div');\n",
              "        docLink.innerHTML = docLinkHtml;\n",
              "        element.appendChild(docLink);\n",
              "      }\n",
              "    </script>\n",
              "  </div>\n",
              "\n",
              "\n",
              "<div id=\"df-f275a109-6626-4979-9cfe-bece56491f14\">\n",
              "  <button class=\"colab-df-quickchart\" onclick=\"quickchart('df-f275a109-6626-4979-9cfe-bece56491f14')\"\n",
              "            title=\"Suggest charts\"\n",
              "            style=\"display:none;\">\n",
              "\n",
              "<svg xmlns=\"http://www.w3.org/2000/svg\" height=\"24px\"viewBox=\"0 0 24 24\"\n",
              "     width=\"24px\">\n",
              "    <g>\n",
              "        <path d=\"M19 3H5c-1.1 0-2 .9-2 2v14c0 1.1.9 2 2 2h14c1.1 0 2-.9 2-2V5c0-1.1-.9-2-2-2zM9 17H7v-7h2v7zm4 0h-2V7h2v10zm4 0h-2v-4h2v4z\"/>\n",
              "    </g>\n",
              "</svg>\n",
              "  </button>\n",
              "\n",
              "<style>\n",
              "  .colab-df-quickchart {\n",
              "      --bg-color: #E8F0FE;\n",
              "      --fill-color: #1967D2;\n",
              "      --hover-bg-color: #E2EBFA;\n",
              "      --hover-fill-color: #174EA6;\n",
              "      --disabled-fill-color: #AAA;\n",
              "      --disabled-bg-color: #DDD;\n",
              "  }\n",
              "\n",
              "  [theme=dark] .colab-df-quickchart {\n",
              "      --bg-color: #3B4455;\n",
              "      --fill-color: #D2E3FC;\n",
              "      --hover-bg-color: #434B5C;\n",
              "      --hover-fill-color: #FFFFFF;\n",
              "      --disabled-bg-color: #3B4455;\n",
              "      --disabled-fill-color: #666;\n",
              "  }\n",
              "\n",
              "  .colab-df-quickchart {\n",
              "    background-color: var(--bg-color);\n",
              "    border: none;\n",
              "    border-radius: 50%;\n",
              "    cursor: pointer;\n",
              "    display: none;\n",
              "    fill: var(--fill-color);\n",
              "    height: 32px;\n",
              "    padding: 0;\n",
              "    width: 32px;\n",
              "  }\n",
              "\n",
              "  .colab-df-quickchart:hover {\n",
              "    background-color: var(--hover-bg-color);\n",
              "    box-shadow: 0 1px 2px rgba(60, 64, 67, 0.3), 0 1px 3px 1px rgba(60, 64, 67, 0.15);\n",
              "    fill: var(--button-hover-fill-color);\n",
              "  }\n",
              "\n",
              "  .colab-df-quickchart-complete:disabled,\n",
              "  .colab-df-quickchart-complete:disabled:hover {\n",
              "    background-color: var(--disabled-bg-color);\n",
              "    fill: var(--disabled-fill-color);\n",
              "    box-shadow: none;\n",
              "  }\n",
              "\n",
              "  .colab-df-spinner {\n",
              "    border: 2px solid var(--fill-color);\n",
              "    border-color: transparent;\n",
              "    border-bottom-color: var(--fill-color);\n",
              "    animation:\n",
              "      spin 1s steps(1) infinite;\n",
              "  }\n",
              "\n",
              "  @keyframes spin {\n",
              "    0% {\n",
              "      border-color: transparent;\n",
              "      border-bottom-color: var(--fill-color);\n",
              "      border-left-color: var(--fill-color);\n",
              "    }\n",
              "    20% {\n",
              "      border-color: transparent;\n",
              "      border-left-color: var(--fill-color);\n",
              "      border-top-color: var(--fill-color);\n",
              "    }\n",
              "    30% {\n",
              "      border-color: transparent;\n",
              "      border-left-color: var(--fill-color);\n",
              "      border-top-color: var(--fill-color);\n",
              "      border-right-color: var(--fill-color);\n",
              "    }\n",
              "    40% {\n",
              "      border-color: transparent;\n",
              "      border-right-color: var(--fill-color);\n",
              "      border-top-color: var(--fill-color);\n",
              "    }\n",
              "    60% {\n",
              "      border-color: transparent;\n",
              "      border-right-color: var(--fill-color);\n",
              "    }\n",
              "    80% {\n",
              "      border-color: transparent;\n",
              "      border-right-color: var(--fill-color);\n",
              "      border-bottom-color: var(--fill-color);\n",
              "    }\n",
              "    90% {\n",
              "      border-color: transparent;\n",
              "      border-bottom-color: var(--fill-color);\n",
              "    }\n",
              "  }\n",
              "</style>\n",
              "\n",
              "  <script>\n",
              "    async function quickchart(key) {\n",
              "      const quickchartButtonEl =\n",
              "        document.querySelector('#' + key + ' button');\n",
              "      quickchartButtonEl.disabled = true;  // To prevent multiple clicks.\n",
              "      quickchartButtonEl.classList.add('colab-df-spinner');\n",
              "      try {\n",
              "        const charts = await google.colab.kernel.invokeFunction(\n",
              "            'suggestCharts', [key], {});\n",
              "      } catch (error) {\n",
              "        console.error('Error during call to suggestCharts:', error);\n",
              "      }\n",
              "      quickchartButtonEl.classList.remove('colab-df-spinner');\n",
              "      quickchartButtonEl.classList.add('colab-df-quickchart-complete');\n",
              "    }\n",
              "    (() => {\n",
              "      let quickchartButtonEl =\n",
              "        document.querySelector('#df-f275a109-6626-4979-9cfe-bece56491f14 button');\n",
              "      quickchartButtonEl.style.display =\n",
              "        google.colab.kernel.accessAllowed ? 'block' : 'none';\n",
              "    })();\n",
              "  </script>\n",
              "</div>\n",
              "\n",
              "    </div>\n",
              "  </div>\n"
            ],
            "application/vnd.google.colaboratory.intrinsic+json": {
              "type": "dataframe",
              "variable_name": "mimic_train",
              "summary": "{\n  \"name\": \"mimic_train\",\n  \"rows\": 61079,\n  \"fields\": [\n    {\n      \"column\": \"HADM_ID\",\n      \"properties\": {\n        \"dtype\": \"number\",\n        \"std\": 28640,\n        \"min\": 100003,\n        \"max\": 199972,\n        \"num_unique_values\": 6578,\n        \"samples\": [\n          100816,\n          165135,\n          114532\n        ],\n        \"semantic_type\": \"\",\n        \"description\": \"\"\n      }\n    },\n    {\n      \"column\": \"SUBJECT_ID\",\n      \"properties\": {\n        \"dtype\": \"number\",\n        \"std\": 25744,\n        \"min\": 23,\n        \"max\": 99999,\n        \"num_unique_values\": 5483,\n        \"samples\": [\n          67465,\n          23979,\n          28819\n        ],\n        \"semantic_type\": \"\",\n        \"description\": \"\"\n      }\n    },\n    {\n      \"column\": \"TEXT\",\n      \"properties\": {\n        \"dtype\": \"string\",\n        \"num_unique_values\": 60800,\n        \"samples\": [\n          \"Chief Complaint : \\n   24 Hour Events : \\n    -  looked much more awake today ,  squeezing hand ,  opening eyes on command\\n    -  attempted 3 - 31 in AM and again in PM ,  both cases became tachypneic . \\n   Has increased secretions .  Put back on 8 - 31 ,  will try to Doctor First Name 11552 with\\n   aggressive pulm toilet towards AM SBP\\n    -  family still unclear as of evening re would they reintubate\\n    -  for agitation ,  tachycardia and HTN ,  put on propofol drip at 21 : 45\\n    -  At 0100 :  7 . 41 / 40 / 45 / 26 and patient looks dusky ,  some  ? atrial ectopy . \\n   At 10 / 5 ,  FiO2 increased to 100 %  pending stat CXR ,  repeat ABG : \\n   7 . 41 / 40 / 48 / 26 .  Repeat gas at 0300 7 . 44 / 33 / 183 at 10 / 5 ,  at 70 %  .  Based on\\n   that gas dialed back to 60 %  . \\n    -  Other stat labs :  Hct 26 -  > 23 . 5 in past day .  Active T & S . \\n   Allergies : \\n   Ampicillin\\n   Rash ; \\n   Codeine\\n   Nausea / Vomiting\\n   Tetracyclines\\n   Unknown ; \\n   Last dose of Antibiotics : \\n   Infusions : \\n   Propofol  -  15 mcg / Kg / min\\n   Other ICU medications : \\n   Midazolam  ( Versed )   -  2128 - 1 - 4 05 : 32 PM\\n   Propofol  -  2128 - 1 - 4 09 : 45 PM\\n   Fentanyl  -  2128 - 1 - 5 01 : 00 AM\\n   Other medications : \\n   Changes to medical and family history : \\n   Review of systems is unchanged from admission except as noted below\\n   Review of systems : \\n   Flowsheet Data as of  2128 - 1 - 5 07 : 05 AM\\n   Vital signs\\n   Hemodynamic monitoring\\n   Fluid balance\\n                                                                  24 hours\\n                                                               Since 29 AM\\n   Tmax :  37 . 8\\nC  ( 100\\n   Tcurrent :  36 . 8\\nC  ( 98 . 2\\n   HR :  67  ( 61  -  105 )  bpm\\n   BP :  134 / 54 ( 83 )   { 105 / 43 ( 64 )   -  181 / 169 ( 176 )  }  mmHg\\n   RR :  25  ( 22  -  37 )  insp / min\\n   SpO2 :  98 % \\n   Heart rhythm :  SR  ( Sinus Rhythm ) \\n   Height :  63 Inch\\n             Total In : \\n                                                                  2 , 174 mL\\n                                                                    455 mL\\n   PO : \\n             TF : \\n                                                                    418 mL\\n                                                                    138 mL\\n   IVF : \\n                                                                  1 , 236 mL\\n                                                                    256 mL\\n   Blood products : \\n   Total out : \\n                                                                    805 mL\\n                                                                    290 mL\\n   Urine : \\n                                                                    805 mL\\n                                                                    290 mL\\n   NG : \\n   Stool : \\n   Drains : \\n   Balance : \\n                                                                  1 , 369 mL\\n                                                                    165 mL\\n   Respiratory support\\n   O2 Delivery Device :  Endotracheal tube\\n   Ventilator mode :  CPAP / PSV\\n   Vt  ( Set )  :  450  ( 450  -  450 )  mL\\n   Vt  ( Spontaneous )  :  349  ( 278  -  445 )  mL\\n   PS  :  10 cmH2O\\n   RR  ( Set )  :  8\\n   RR  ( Spontaneous )  :  34\\n   PEEP :  10 cmH2O\\n   FiO2 :  50 % \\n   RSBI Deferred :  PEEP  >  10\\n   PIP :  20 cmH2O\\n   SpO2 :  98 % \\n   ABG :  7 . 42 / 35 / 119 / 23 / 0\\n   Ve :  13 . 1 L / min\\n   PaO2  /  FiO2 :  238\\n   Physical Examination\\n   General Appearance :  No acute distress\\n   Eyes  /  Conjunctiva :  PERRL\\n   Head ,  Ears ,  Nose ,  Throat :  Normocephalic ,  Endotracheal tube ,  OG tube\\n   Cardiovascular :   ( S1 :  Normal )  ,   ( S2 :  Normal ) \\n   Peripheral Vascular :   ( Right radial pulse :  Present )  ,   ( Left radial pulse : \\n   Present )  ,   ( Right DP pulse :  Present )  ,   ( Left DP pulse :  Present ) \\n   Respiratory  /  Chest :   ( Expansion :  Symmetric ) \\n   Abdominal :  Soft ,  Non - tender ,  Bowel sounds present\\n   Extremities :  Right lower extremity edema :  Trace ,  Left lower extremity\\n   edema :  Trace\\n   Skin :   Not assessed\\n   Neurologic :  Responds to :  Not assessed ,  Movement :  Not assessed ,  Sedated , \\n   Tone :  Not assessed\\n   Labs  /  Radiology\\n   195 K / uL\\n   7 . 7 g / dL\\n   95 mg / dL\\n   3 . 1 mg / dL\\n   23 mEq / L\\n   3 . 7 mEq / L\\n   47 mg / dL\\n   109 mEq / L\\n   140 mEq / L\\n   23 . 5  % \\n   6 . 6 K / uL\\n        image002 . jpg\\n                             2128 - 1 - 4  03 : 20 AM\\n                             2128 - 1 - 4  03 : 35 AM\\n                             2128 - 1 - 4  10 : 28 PM\\n                             2128 - 1 - 5  12 : 07 AM\\n                             2128 - 1 - 5  01 : 07 AM\\n                             2128 - 1 - 5  01 : 15 AM\\n                             2128 - 1 - 5  01 : 31 AM\\n                             2128 - 1 - 5  02 : 28 AM\\n                             2128 - 1 - 5  03 : 22 AM\\n                             2128 - 1 - 5  06 : 39 AM\\n   WBC\\n   6 . 9\\n   6 . 6\\n   Hct\\n   26 . 0\\n   23 . 5\\n   Plt\\n   222\\n   195\\n   Cr\\n   3 . 5\\n   3 . 1\\n   TCO2\\n   24\\n   24\\n   25\\n   26\\n   26\\n   25\\n   23\\n   23\\n   Glucose\\n   114\\n   95\\n   Other labs :  PT  /  PTT  /  INR : 11 . 7 / 34 . 9 / 1 . 0 ,  CK  /  CKMB  /  Troponin - T : 48 /  /  , \\n   Differential - Neuts : 76 . 9  %  ,  Lymph : 17 . 4  %  ,  Mono : 4 . 4  %  ,  Eos : 0 . 8  %  ,  Lactic\\n   Acid : 0 . 6 mmol / L ,  Albumin : 2 . 9 g / dL ,  Ca +  +  : 7 . 5 mg / dL ,  Mg +  +  : 1 . 8 mg / dL , \\n   PO4 : 3 . 5 mg / dL\\n   Microbiology :  1 - 4 Sputum :  Contaminated\\n   Assessment and Plan\\n   85 F with CKD stage 4 s / p treatment of Hospital  transferred to MICU and\\n   intubated for hypoxia ,  likely secondary to mucus plugging .  Has had\\n   prior bronchs this hospitalization for same . \\n    #  Altered mental :  Head scans negative except for chronic small vessel\\n   ischemic changes .  Much more alert this AM . \\n    -  Continue sedation with midazolam boluses PRN\\n    #  Hypoxia / respiratory distress :  Respiratory status stable ,  CXR OK .  Low\\n   grade fevers ,  normal WBC count . \\n    -  Aggressive pulmonary toilet this AM\\n    -  trial of 3 - 31 ,  RSBI with SBP\\n    -  Possible extubation this afternoon\\n    -  If extubation fails :  Family would favor tracheostomy per d / w attg 1 - 2\\n    -  Daily CXR\\n    -  Nebs ,  mucomyst\\n    #  Fevers :  Low - grade .  Infectious workup unrevealing besides yeast in\\n   urine ,  which has been treated .  CXR stable .  WBC normal .  Last sputum cx 5\\n   days ago . \\n    -  Obtain sputum cx\\n    -  F / u cxs\\n    #  .  CKD4 :  Creatinine stably high .  Patient has voiced reluctance about\\n   hemodialysis in the past\\n    -  Renally - dose medications\\n    -  Monitor electrolytes\\n    -  Restart doxercalciferol  ( for secondary hyperparathyroidism ) \\n    #  .  Hypertension  &  sinus tachycardia :  Occurring in setting of sedation\\n   lightening\\n    - Continue diltiazem 60mg PO QID . \\n     -  Add Labetolol PRN for further rate  &  pressure control ,  goal SBP  < \\n   160\\n    #  .  Hypothyroidism  -  cont home levothyroxine . \\n    #  .  Hyperlipidemia  -  cont home statin\\n    #  FEN :  KVO  /  replete lytes conservatively prn given renal insufficiency\\n    /  Tube feeds per nutrition recs but will hold today\\n    #  PPX :  heparin SQ ;  will increase bowel regimen\\n    #  ACCESS :  Right radial line ,  PICC\\n    #  CODE :  FULL confirmed with patient and HCP -  Name  ( NI )  326\\n    #  CONTACT :  Name  ( NI )  435  ( son )  Telephone / Fax  ( 1 )  11501 ,  Name  ( NI )  326  ( son )  Telephone / Fax  ( 1 )  9446 both\\n   HCPs\\n    #  DISPO :  ICU\\n   ICU Care\\n   Nutrition : \\n   Glycemic Control : \\n   Lines : \\n   Arterial Line  -  2127 - 12 - 29 08 : 37 PM\\n   PICC Line  -  2128 - 1 - 2 03 : 30 PM\\n   Prophylaxis : \\n   DVT : \\n   Stress ulcer : \\n   VAP : \\n   Comments : \\n   Communication :   Comments : \\n   Code status :  Full code\\n   Disposition : \\n\",\n          \"SICU\\n   HPI : \\n   66 M with CC of neck pain x 1 week .  Presented to Hospital 97\\n   Hospital 12 - 3 for acute worsening ,  found to have lytic lesions\\n   in the body of C2 and C4 on CT .  Diagnosed with prostate CA\\n    ( multiple bony mets on presentation 3 years ago  -  treated\\n   medically .  No subjective or objective neurologic defecits .  Now s / p\\n   posterior cervical C1 - T2 laminectomy and fusion w /  autograft and\\n   instrumentation ,  L iliac crest bone graft\\n   Chief complaint : \\n   CC of neck pain x 1 week\\n   PMHx : \\n   Prostate CA  -  diagnosed 3 years ago and tx  '  d medically ,  mets\\n   to  \\\" many bones \\\"  at diagnosis  ( on lupron )  ,  HTN ,  afib\\n   Current medications : \\n   CefazoLIN 57 .  Famotidine 8HYDROmorphone  ( Dilaudid )  10 .  Insulin 12 . \\n   Metoprolol Tartrate\\n   24 Hour Events : \\n ARTERIAL LINE  -  START 2115 - 12 - 7 06 : 41 PM\\n   12 - 8 :  no leak around ETT / fever 101 . 2\\n   Allergies : \\n   No Known Drug Allergies\\n   Last dose of Antibiotics : \\n   Cefazolin  -  2115 - 12 - 8 05 : 54 PM\\n   Infusions : \\n   Other ICU medications : \\n   Famotidine  ( Pepcid )   -  2115 - 12 - 8 08 : 00 PM\\n   Hydromorphone  ( Dilaudid )   -  2115 - 12 - 8 09 : 30 PM\\n   Other medications : \\n   Flowsheet Data as of  2115 - 12 - 9 12 : 04 AM\\n   Vital signs\\n   Hemodynamic monitoring\\n   Fluid balance\\n                                                                  24 hours\\n                                                             Since 17 a . m . \\n   Tmax :  38 . 4\\nC  ( 101 . 2\\n   T current :  38 . 2\\nC  ( 100 . 8\\n   HR :  80  ( 75  -  96 )  bpm\\n   BP :  103 / 48 ( 63 )   { 99 / 48 ( 63 )   -  138 / 70 ( 88 )  }  mmHg\\n   RR :  12  ( 9  -  27 )  insp / min\\n   SPO2 :  98 % \\n   Heart rhythm :  AF  ( Atrial Fibrillation ) \\n   Height :  72 Inch\\n             Total In : \\n                                                                  3 , 888 mL\\n                                                                      2 mL\\n   PO : \\n             Tube feeding : \\n   IV Fluid : \\n                                                                  3 , 888 mL\\n                                                                      2 mL\\n   Blood products : \\n   Total out : \\n                                                                  1 , 515 mL\\n                                                                      0 mL\\n   Urine : \\n                                                                  1 , 395 mL\\n   NG : \\n   Stool : \\n   Drains : \\n                                                                    120 mL\\n   Balance : \\n                                                                  2 , 373 mL\\n                                                                      2 mL\\n   Respiratory support\\n   O2 Delivery Device :  Endotracheal tube\\n   Ventilator mode :  CPAP / PSV\\n   Vt  ( Spontaneous )  :  677  ( 434  -  708 )  mL\\n   PS  :  5 cmH2O\\n   RR  ( Spontaneous )  :  16\\n   PEEP :  5 cmH2O\\n   FiO2 :  50 % \\n   RSBI :  48\\n   PIP :  11 cmH2O\\n   SPO2 :  98 % \\n   ABG :  7 . 42 / 40 / 136 / 24 / 1\\n   Ve :  11 . 2 L / min\\n   PaO2  /  FiO2 :  272\\n   Physical Examination\\n   General Appearance :  No acute distress\\n   HEENT :  PERRL\\n   Cardiovascular :   ( Rhythm :  Regular ) \\n   Respiratory  /  Chest :   ( Expansion :  Symmetric )  ,   ( Breath Sounds :  CTA\\n   bilateral  :   )  ,   ( Sternum :  Stable  ) \\n   Abdominal :  Soft\\n   Neurologic :   ( Awake  /  Alert  /  Oriented :  No ( t )  x 3 )  ,  Follows simple\\n   commands ,   ( Responds to :  Verbal stimuli )  ,  Moves all extremities\\n   Labs  /  Radiology\\n   197 K / uL\\n   10 . 4 g / dL\\n   125 mg / dL\\n   1 . 1 mg / dL\\n   24 mEq / L\\n   3 . 7 mEq / L\\n   19 mg / dL\\n   101 mEq / L\\n   134 mEq / L\\n   29 . 3  % \\n   8 . 7 K / uL\\n        image002 . jpg\\n                            2115 - 12 - 7  07 : 24 PM\\n                            2115 - 12 - 7  08 : 18 PM\\n                            2115 - 12 - 8  02 : 44 AM\\n                            2115 - 12 - 8  05 : 10 AM\\n                            2115 - 12 - 8  11 : 03 AM\\n   WBC\\n   9 . 0\\n   8 . 7\\n   Hct\\n   29 . 4\\n   29 . 3\\n   Plt\\n   198\\n   197\\n   Creatinine\\n   1 . 2\\n   1 . 1\\n   TCO2\\n   27\\n   29\\n   27\\n   Glucose\\n   151\\n   125\\n   Other labs :  PT  /  PTT  /  INR : 13 . 9 / 27 . 2 / 1 . 2 ,  Ca : 8 . 1 mg / dL ,  Mg : 1 . 9 mg / dL , \\n   PO4 : 3 . 3 mg / dL\\n   Assessment and Plan\\n   ASSESSMENT :  66M w /  lytic cervical spine lesion from met prostate ca now\\n   s / p  posterior cervical decompression and fusion from Occiput / C1 to\\n   T3 - 4 . \\n   Neurologic :  Propofol and dilaudid prn for sedation and pain while\\n   intubated .   Stop sedation for extubation . \\n   Cardiovascular :  Afib .  No meds at home .  lopressor prn . \\n   Pulmonary :  Intubated  -  wean to ext in AM .    +  cuff leak .   Min\\n   secretions .   Extubate over catheter\\n   Gastrointestinal  /  Abdomen :  H2B\\n   Nutrition :  NPO\\n   Renal :  Foley .   Check UA . \\n   Hematology :  Boots .  Stable Hct\\n   Endocrine :  RISS\\n   ID :  Cefazolin while drain in place\\n   Lines  /  Tubes  /  Drains :  PIV ,  foley ,  aline ,  hemovac\\n   Wounds :  Posterior neck ,  Location  ( un )  239 J\\n   Imaging :  Spine film in AM\\n   Fluids :  D5NS\\n   Consults :  Hem / Onc\\n   Billing Diagnosis :  metastatic prostate cancer\\n   Prophylaxis : \\n   DVT :  boots\\n   Stress ulcer :  H2B\\n   VAP bundle :   + \\n   Comments : \\n   Communication : Comments : \\n   Code status : FULL\\n   Disposition : SICU\\n   Time spent :  35\\n   Lines : \\n   16 Gauge  -  2115 - 12 - 7 06 : 36 PM\\n   18 Gauge  -  2115 - 12 - 7 06 : 40 PM\\n   Arterial Line  -  2115 - 12 - 7 06 : 41 PM\\n    -  -  -  -  -  -  Protected Section -  -  -  -  -  - \\n    -  -  -  -  -  -  Protected Section Error Entered By : Name  ( NI )  4739 Name8  ( MD )   ,  MD\\n   on : 2115 - 12 - 9 10 : 41  -  -  -  -  -  - \\n\",\n          \"Chief Complaint :  87 yo F nursing home resident w /  CRI p / w acute on\\n   chronic renal failure ,  hyperkalemia ,  and UTI . \\n   24 Hour Events : \\n    -  K  ( 4 . 7 in AM ,  4 . 4 in PM )  .  Ca 1 . 15 / 8 . 7 in AM ,  8 . 3 in PM ,  no repletion\\n   needed\\n    -  written for epo 6000 U qMWF for CKD per renal recs .  No dialysis . \\n   Continued maintenence fluids . \\n    -  increased isordil and started hydral for BP control ,  SBPs improved to\\n   130s\\n    -  c / o blurry vision of R eye ,  progressive x1 day in PM :  blurred vision , \\n   unable to read letters ,  but able to see color in R eye .  L eye WNL . \\n   Denies H / A .  Neuro exam WNL .  Scratch on cornea on R eye .  Wears glasses , \\n   does not have them with her .  Less likely temporal arteritis ,  no other\\n   focal neuro findings on exam c / f TIA / CVA .  Wrote for artificial tears . \\n   History obtained from Patient\\n   Allergies : \\n   History obtained from PatientPenicillins\\n   Unknown ; \\n   Bactrim  ( Oral )   ( Sulfamethoxazole / Trimethoprim ) \\n   Unknown ; \\n   Clindamycin\\n   Unknown ; \\n   Levofloxacin\\n   Unknown ; \\n   Last dose of Antibiotics : \\n   Ceftazidime  -  2110 - 1 - 14 02 : 00 PM\\n   Infusions : \\n   Other ICU medications : \\n   Heparin Sodium  -  2110 - 1 - 14 04 : 00 PM\\n   Heparin Sodium  ( Prophylaxis )   -  2110 - 1 - 15 12 : 00 AM\\n   Other medications : \\n   Sodium chloride nasal spray\\n   Artificial tears\\n   Hydralazine 10 mg PO q6H\\n   Isordil 20 mg PO BID\\n   Epo qMWF\\n   Ceftazadime 1 gm q48H\\n   Tylenol\\n   Simvastatin 40 mg PO daily\\n   Heparin SQ\\n   Omeprazole 20 mg PO daily\\n   Folic Acid\\n   Clonidine Patch 0 . 2 qTuesday\\n   Atenolol 75 mg PO daily\\n   ASA 325 mg PO daily\\n   Amlodipine 10 mg PO daily\\n   Zofran\\n   Changes to medical and family history : \\n   Review of systems is unchanged from admission except as noted below\\n   Review of systems : \\n   Eyes :   Blurry vision\\n   Ear ,  Nose ,  Throat :  No ( t )  Dry mouth\\n   Flowsheet Data as of  2110 - 1 - 15 06 : 14 AM\\n   Vital signs\\n   Hemodynamic monitoring\\n   Fluid balance\\n                                                                  24 hours\\n                                                               Since 12 AM\\n   Tmax :  36 . 8\\nC  ( 98 . 2\\n   Tcurrent :  35 . 3\\nC  ( 95 . 6\\n   HR :  59  ( 53  -  67 )  bpm\\n   BP :  138 / 61 ( 78 )   { 111 / 38 ( 56 )   -  173 / 106 ( 118 )  }  mmHg\\n   RR :  15  ( 10  -  18 )  insp / min\\n   SpO2 :  99 % \\n   Heart rhythm :  SB  ( Sinus Bradycardia ) \\n   Height :  64 Inch\\n             Total In : \\n                                                                  2 , 958 mL\\n                                                                    550 mL\\n   PO : \\n                                                                    500 mL\\n             TF : \\n   IVF : \\n                                                                  2 , 408 mL\\n                                                                    550 mL\\n   Blood products : \\n   Total out : \\n                                                                  1 , 285 mL\\n                                                                    350 mL\\n   Urine : \\n                                                                  1 , 285 mL\\n                                                                    350 mL\\n   NG : \\n   Stool : \\n   Drains : \\n   Balance : \\n                                                                  1 , 673 mL\\n                                                                    200 mL\\n   Respiratory support\\n   O2 Delivery Device :  None\\n   SpO2 :  99 % \\n   ABG :   /  /  / 20 / \\n   Physical Examination\\n   General Appearance :  Thin\\n   Eyes  /  Conjunctiva :  PERRL ,  blurry vision in R eye\\n   Head ,  Ears ,  Nose ,  Throat :  Normocephalic\\n   Lymphatic :  Cervical WNL\\n   Cardiovascular :   ( S1 :  Normal )  ,   ( S2 :  Normal )  ,  no rubs\\n   Peripheral Vascular :   ( Right radial pulse :  Not assessed )  ,   ( Left radial\\n   pulse :  Not assessed )  ,   ( Right DP pulse :  Diminished )  ,   ( Left DP pulse : \\n   Diminished ) \\n   Respiratory  /  Chest :   ( Expansion :  Symmetric )  ,   ( Percussion :  Resonant  :   )  , \\n    ( Breath Sounds :  Clear  :   ) \\n   Abdominal :  Soft ,  Non - tender ,  Bowel sounds present\\n   Extremities :  Right :  Absent ,  Left :  Absent\\n   Skin :   Not assessed\\n   Neurologic :  Attentive ,  Responds to :  Not assessed ,  Oriented  ( to )  : \\n   person ,  place ,  time ,  Movement :  Not assessed ,  Tone :  Not assessed\\n   Labs  /  Radiology\\n   150 K / uL\\n   8 . 5 g / dL\\n   104 mg / dL\\n   4 . 9 mg / dL\\n   20 mEq / L\\n   4 . 2 mEq / L\\n   132 mg / dL\\n   106 mEq / L\\n   141 mEq / L\\n   24 . 5  % \\n   7 . 5 K / uL\\n        image002 . jpg\\n                            2110 - 1 - 14  01 : 25 AM\\n                            2110 - 1 - 14  02 : 00 AM\\n                            2110 - 1 - 14  05 : 25 AM\\n                            2110 - 1 - 14  10 : 41 AM\\n                            2110 - 1 - 14  10 : 20 PM\\n                            2110 - 1 - 15  04 : 10 AM\\n   WBC\\n   10 . 5\\n   7 . 5\\n   Hct\\n   26 . 0\\n   25 . 1\\n   24 . 5\\n   Plt\\n   154\\n   150\\n   Cr\\n   7 . 2\\n   7 . 4\\n   6 . 7\\n   6 . 3\\n   5 . 4\\n   4 . 9\\n   TropT\\n   0 . 03\\n   Glucose\\n   76\\n   114\\n   104\\n   Other labs :  CK  /  CKMB  /  Troponin - T : 47 / 4 / 0 . 03 ,  Lactic Acid : 1 . 2 mmol / L , \\n   Ca +  +  : 8 . 0 mg / dL ,  Mg +  +  : 2 . 4 mg / dL ,  PO4 : 5 . 3 mg / dL\\n   Assessment and Plan\\n RENAL FAILURE ,  CHRONIC  ( CHRONIC RENAL FAILURE ,  CRF ,  CHRONIC KIDNEY\\n   DISEASE ) \\n HYPERKALEMIA  ( HIGH POTASSIUM ,  HYPERPOTASSEMIA ) \\n ALTERED MENTAL STATUS  ( NOT DELIRIUM ) \\n   ICU Care\\n   Nutrition : \\n   Comments :  PO diet\\n   Glycemic Control :   Regular insulin sliding scale\\n   Lines : \\n   18 Gauge  -  2110 - 1 - 14 12 : 59 AM\\n   22 Gauge  -  2110 - 1 - 14 08 : 30 AM\\n   Prophylaxis : \\n   DVT :  SQ UF Heparin\\n   Stress ulcer :  Not indicated\\n   VAP : \\n   Comments :  not indicated\\n   Communication :   Comments : \\n   Code status :  Full code\\n   Disposition : Transfer to floor\\n\"\n        ],\n        \"semantic_type\": \"\",\n        \"description\": \"\"\n      }\n    },\n    {\n      \"column\": \"HOSPITAL_EXPIRE_FLAG\",\n      \"properties\": {\n        \"dtype\": \"number\",\n        \"std\": 0.48694742104449934,\n        \"min\": 0.0,\n        \"max\": 1.0,\n        \"num_unique_values\": 2,\n        \"samples\": [\n          0.0,\n          1.0\n        ],\n        \"semantic_type\": \"\",\n        \"description\": \"\"\n      }\n    },\n    {\n      \"column\": \"ICD9_ID\",\n      \"properties\": {\n        \"dtype\": \"category\",\n        \"num_unique_values\": 6576,\n        \"samples\": [\n          \"75169;42741;9971;49390;57511\",\n          \"42831;51881;V420;2760;70703;4280;4589;4019;41400;V4581;25001;42731\"\n        ],\n        \"semantic_type\": \"\",\n        \"description\": \"\"\n      }\n    }\n  ]\n}"
            }
          },
          "metadata": {},
          "execution_count": 9
        }
      ]
    },
    {
      "cell_type": "code",
      "source": [
        "len(mimic_train)"
      ],
      "metadata": {
        "colab": {
          "base_uri": "https://localhost:8080/"
        },
        "id": "SYspOEarL7fd",
        "outputId": "1c8d658e-fce9-4e96-8769-66abe52caf95"
      },
      "execution_count": null,
      "outputs": [
        {
          "output_type": "execute_result",
          "data": {
            "text/plain": [
              "61079"
            ]
          },
          "metadata": {},
          "execution_count": 10
        }
      ]
    },
    {
      "cell_type": "code",
      "source": [
        "model_checkpoint = 'bert-base-cased'\n",
        "bert_tokenizer = BertTokenizer.from_pretrained(model_checkpoint)\n",
        "bert_model = TFBertModel.from_pretrained(model_checkpoint)"
      ],
      "metadata": {
        "id": "qpX26n6YMKzm",
        "colab": {
          "base_uri": "https://localhost:8080/"
        },
        "outputId": "625918ed-ea30-4537-8e84-abeb554f6253"
      },
      "execution_count": 59,
      "outputs": [
        {
          "output_type": "stream",
          "name": "stderr",
          "text": [
            "Some weights of the PyTorch model were not used when initializing the TF 2.0 model TFBertModel: ['cls.seq_relationship.weight', 'cls.predictions.bias', 'cls.predictions.transform.dense.weight', 'cls.predictions.transform.LayerNorm.weight', 'cls.seq_relationship.bias', 'cls.predictions.transform.LayerNorm.bias', 'cls.predictions.transform.dense.bias']\n",
            "- This IS expected if you are initializing TFBertModel from a PyTorch model trained on another task or with another architecture (e.g. initializing a TFBertForSequenceClassification model from a BertForPreTraining model).\n",
            "- This IS NOT expected if you are initializing TFBertModel from a PyTorch model that you expect to be exactly identical (e.g. initializing a TFBertForSequenceClassification model from a BertForSequenceClassification model).\n",
            "All the weights of TFBertModel were initialized from the PyTorch model.\n",
            "If your task is similar to the task the model of the checkpoint was trained on, you can already use TFBertModel for predictions without further training.\n"
          ]
        }
      ]
    },
    {
      "cell_type": "code",
      "source": [
        "def make_lower(text):\n",
        "  return text.lower()\n",
        "\n",
        "total_abbreviations['abbreviation'] = total_abbreviations['abbreviation'].apply(make_lower)"
      ],
      "metadata": {
        "id": "pn8_CUkIxES2"
      },
      "execution_count": 22,
      "outputs": []
    },
    {
      "cell_type": "code",
      "source": [
        "abbreviations = set(total_abbreviations.abbreviation)\n",
        "\n",
        "def has_any_abbreviation(text):\n",
        "    words = set(text.lower().split())\n",
        "    found = words.intersection(abbreviations)\n",
        "    return bool(found)\n",
        "\n",
        "mimic_train_subset = mimic_train.loc[mimic_train.TEXT.apply(has_any_abbreviation)]\n",
        "mimic_validation_subset = mimic_validation.loc[mimic_validation.TEXT.apply(has_any_abbreviation)]\n",
        "mimic_test_subset = mimic_test.loc[mimic_test.TEXT.apply(has_any_abbreviation)]"
      ],
      "metadata": {
        "id": "BFrZLDpqSy02"
      },
      "execution_count": 23,
      "outputs": []
    },
    {
      "cell_type": "code",
      "source": [
        "print(f\"Train: {len(mimic_train_subset)} out of {len(mimic_train)}\")\n",
        "print(f\"Validation: {len(mimic_validation_subset)} out of {len(mimic_validation)}\")\n",
        "print(f\"Test: {len(mimic_test_subset)} out of {len(mimic_test)}\")"
      ],
      "metadata": {
        "colab": {
          "base_uri": "https://localhost:8080/"
        },
        "id": "rYu1QbWEW9LI",
        "outputId": "4f5aab7b-ae0f-42eb-e926-c4211d82d4cc"
      },
      "execution_count": 24,
      "outputs": [
        {
          "output_type": "stream",
          "name": "stdout",
          "text": [
            "Train: 60682 out of 61079\n",
            "Validation: 9198 out of 9258\n",
            "Test: 14191 out of 14287\n"
          ]
        }
      ]
    },
    {
      "cell_type": "code",
      "source": [
        "mimic_no_abbreviation = mimic_train.loc[~mimic_train.TEXT.apply(has_any_abbreviation)]\n",
        "mimic_no_abbreviation.head()"
      ],
      "metadata": {
        "colab": {
          "base_uri": "https://localhost:8080/",
          "height": 333
        },
        "id": "ZwSyzCvAZz-i",
        "outputId": "ad032a0f-af83-4a4b-8edc-a250159d1b4c"
      },
      "execution_count": 25,
      "outputs": [
        {
          "output_type": "error",
          "ename": "KeyboardInterrupt",
          "evalue": "",
          "traceback": [
            "\u001b[0;31m---------------------------------------------------------------------------\u001b[0m",
            "\u001b[0;31mKeyboardInterrupt\u001b[0m                         Traceback (most recent call last)",
            "\u001b[0;32m<ipython-input-25-9dd81567932f>\u001b[0m in \u001b[0;36m<cell line: 1>\u001b[0;34m()\u001b[0m\n\u001b[0;32m----> 1\u001b[0;31m \u001b[0mmimic_no_abbreviation\u001b[0m \u001b[0;34m=\u001b[0m \u001b[0mmimic_train\u001b[0m\u001b[0;34m.\u001b[0m\u001b[0mloc\u001b[0m\u001b[0;34m[\u001b[0m\u001b[0;34m~\u001b[0m\u001b[0mmimic_train\u001b[0m\u001b[0;34m.\u001b[0m\u001b[0mTEXT\u001b[0m\u001b[0;34m.\u001b[0m\u001b[0mapply\u001b[0m\u001b[0;34m(\u001b[0m\u001b[0mhas_any_abbreviation\u001b[0m\u001b[0;34m)\u001b[0m\u001b[0;34m]\u001b[0m\u001b[0;34m\u001b[0m\u001b[0;34m\u001b[0m\u001b[0m\n\u001b[0m\u001b[1;32m      2\u001b[0m \u001b[0mmimic_no_abbreviation\u001b[0m\u001b[0;34m.\u001b[0m\u001b[0mhead\u001b[0m\u001b[0;34m(\u001b[0m\u001b[0;34m)\u001b[0m\u001b[0;34m\u001b[0m\u001b[0;34m\u001b[0m\u001b[0m\n",
            "\u001b[0;32m/usr/local/lib/python3.10/dist-packages/pandas/core/series.py\u001b[0m in \u001b[0;36mapply\u001b[0;34m(self, func, convert_dtype, args, by_row, **kwargs)\u001b[0m\n\u001b[1;32m   4762\u001b[0m             \u001b[0margs\u001b[0m\u001b[0;34m=\u001b[0m\u001b[0margs\u001b[0m\u001b[0;34m,\u001b[0m\u001b[0;34m\u001b[0m\u001b[0;34m\u001b[0m\u001b[0m\n\u001b[1;32m   4763\u001b[0m             \u001b[0mkwargs\u001b[0m\u001b[0;34m=\u001b[0m\u001b[0mkwargs\u001b[0m\u001b[0;34m,\u001b[0m\u001b[0;34m\u001b[0m\u001b[0;34m\u001b[0m\u001b[0m\n\u001b[0;32m-> 4764\u001b[0;31m         ).apply()\n\u001b[0m\u001b[1;32m   4765\u001b[0m \u001b[0;34m\u001b[0m\u001b[0m\n\u001b[1;32m   4766\u001b[0m     def _reindex_indexer(\n",
            "\u001b[0;32m/usr/local/lib/python3.10/dist-packages/pandas/core/apply.py\u001b[0m in \u001b[0;36mapply\u001b[0;34m(self)\u001b[0m\n\u001b[1;32m   1207\u001b[0m \u001b[0;34m\u001b[0m\u001b[0m\n\u001b[1;32m   1208\u001b[0m         \u001b[0;31m# self.func is Callable\u001b[0m\u001b[0;34m\u001b[0m\u001b[0;34m\u001b[0m\u001b[0m\n\u001b[0;32m-> 1209\u001b[0;31m         \u001b[0;32mreturn\u001b[0m \u001b[0mself\u001b[0m\u001b[0;34m.\u001b[0m\u001b[0mapply_standard\u001b[0m\u001b[0;34m(\u001b[0m\u001b[0;34m)\u001b[0m\u001b[0;34m\u001b[0m\u001b[0;34m\u001b[0m\u001b[0m\n\u001b[0m\u001b[1;32m   1210\u001b[0m \u001b[0;34m\u001b[0m\u001b[0m\n\u001b[1;32m   1211\u001b[0m     \u001b[0;32mdef\u001b[0m \u001b[0magg\u001b[0m\u001b[0;34m(\u001b[0m\u001b[0mself\u001b[0m\u001b[0;34m)\u001b[0m\u001b[0;34m:\u001b[0m\u001b[0;34m\u001b[0m\u001b[0;34m\u001b[0m\u001b[0m\n",
            "\u001b[0;32m/usr/local/lib/python3.10/dist-packages/pandas/core/apply.py\u001b[0m in \u001b[0;36mapply_standard\u001b[0;34m(self)\u001b[0m\n\u001b[1;32m   1287\u001b[0m         \u001b[0;31m#  Categorical (GH51645).\u001b[0m\u001b[0;34m\u001b[0m\u001b[0;34m\u001b[0m\u001b[0m\n\u001b[1;32m   1288\u001b[0m         \u001b[0maction\u001b[0m \u001b[0;34m=\u001b[0m \u001b[0;34m\"ignore\"\u001b[0m \u001b[0;32mif\u001b[0m \u001b[0misinstance\u001b[0m\u001b[0;34m(\u001b[0m\u001b[0mobj\u001b[0m\u001b[0;34m.\u001b[0m\u001b[0mdtype\u001b[0m\u001b[0;34m,\u001b[0m \u001b[0mCategoricalDtype\u001b[0m\u001b[0;34m)\u001b[0m \u001b[0;32melse\u001b[0m \u001b[0;32mNone\u001b[0m\u001b[0;34m\u001b[0m\u001b[0;34m\u001b[0m\u001b[0m\n\u001b[0;32m-> 1289\u001b[0;31m         mapped = obj._map_values(\n\u001b[0m\u001b[1;32m   1290\u001b[0m             \u001b[0mmapper\u001b[0m\u001b[0;34m=\u001b[0m\u001b[0mcurried\u001b[0m\u001b[0;34m,\u001b[0m \u001b[0mna_action\u001b[0m\u001b[0;34m=\u001b[0m\u001b[0maction\u001b[0m\u001b[0;34m,\u001b[0m \u001b[0mconvert\u001b[0m\u001b[0;34m=\u001b[0m\u001b[0mself\u001b[0m\u001b[0;34m.\u001b[0m\u001b[0mconvert_dtype\u001b[0m\u001b[0;34m\u001b[0m\u001b[0;34m\u001b[0m\u001b[0m\n\u001b[1;32m   1291\u001b[0m         )\n",
            "\u001b[0;32m/usr/local/lib/python3.10/dist-packages/pandas/core/base.py\u001b[0m in \u001b[0;36m_map_values\u001b[0;34m(self, mapper, na_action, convert)\u001b[0m\n\u001b[1;32m    919\u001b[0m             \u001b[0;32mreturn\u001b[0m \u001b[0marr\u001b[0m\u001b[0;34m.\u001b[0m\u001b[0mmap\u001b[0m\u001b[0;34m(\u001b[0m\u001b[0mmapper\u001b[0m\u001b[0;34m,\u001b[0m \u001b[0mna_action\u001b[0m\u001b[0;34m=\u001b[0m\u001b[0mna_action\u001b[0m\u001b[0;34m)\u001b[0m\u001b[0;34m\u001b[0m\u001b[0;34m\u001b[0m\u001b[0m\n\u001b[1;32m    920\u001b[0m \u001b[0;34m\u001b[0m\u001b[0m\n\u001b[0;32m--> 921\u001b[0;31m         \u001b[0;32mreturn\u001b[0m \u001b[0malgorithms\u001b[0m\u001b[0;34m.\u001b[0m\u001b[0mmap_array\u001b[0m\u001b[0;34m(\u001b[0m\u001b[0marr\u001b[0m\u001b[0;34m,\u001b[0m \u001b[0mmapper\u001b[0m\u001b[0;34m,\u001b[0m \u001b[0mna_action\u001b[0m\u001b[0;34m=\u001b[0m\u001b[0mna_action\u001b[0m\u001b[0;34m,\u001b[0m \u001b[0mconvert\u001b[0m\u001b[0;34m=\u001b[0m\u001b[0mconvert\u001b[0m\u001b[0;34m)\u001b[0m\u001b[0;34m\u001b[0m\u001b[0;34m\u001b[0m\u001b[0m\n\u001b[0m\u001b[1;32m    922\u001b[0m \u001b[0;34m\u001b[0m\u001b[0m\n\u001b[1;32m    923\u001b[0m     \u001b[0;34m@\u001b[0m\u001b[0mfinal\u001b[0m\u001b[0;34m\u001b[0m\u001b[0;34m\u001b[0m\u001b[0m\n",
            "\u001b[0;32m/usr/local/lib/python3.10/dist-packages/pandas/core/algorithms.py\u001b[0m in \u001b[0;36mmap_array\u001b[0;34m(arr, mapper, na_action, convert)\u001b[0m\n\u001b[1;32m   1812\u001b[0m     \u001b[0mvalues\u001b[0m \u001b[0;34m=\u001b[0m \u001b[0marr\u001b[0m\u001b[0;34m.\u001b[0m\u001b[0mastype\u001b[0m\u001b[0;34m(\u001b[0m\u001b[0mobject\u001b[0m\u001b[0;34m,\u001b[0m \u001b[0mcopy\u001b[0m\u001b[0;34m=\u001b[0m\u001b[0;32mFalse\u001b[0m\u001b[0;34m)\u001b[0m\u001b[0;34m\u001b[0m\u001b[0;34m\u001b[0m\u001b[0m\n\u001b[1;32m   1813\u001b[0m     \u001b[0;32mif\u001b[0m \u001b[0mna_action\u001b[0m \u001b[0;32mis\u001b[0m \u001b[0;32mNone\u001b[0m\u001b[0;34m:\u001b[0m\u001b[0;34m\u001b[0m\u001b[0;34m\u001b[0m\u001b[0m\n\u001b[0;32m-> 1814\u001b[0;31m         \u001b[0;32mreturn\u001b[0m \u001b[0mlib\u001b[0m\u001b[0;34m.\u001b[0m\u001b[0mmap_infer\u001b[0m\u001b[0;34m(\u001b[0m\u001b[0mvalues\u001b[0m\u001b[0;34m,\u001b[0m \u001b[0mmapper\u001b[0m\u001b[0;34m,\u001b[0m \u001b[0mconvert\u001b[0m\u001b[0;34m=\u001b[0m\u001b[0mconvert\u001b[0m\u001b[0;34m)\u001b[0m\u001b[0;34m\u001b[0m\u001b[0;34m\u001b[0m\u001b[0m\n\u001b[0m\u001b[1;32m   1815\u001b[0m     \u001b[0;32melse\u001b[0m\u001b[0;34m:\u001b[0m\u001b[0;34m\u001b[0m\u001b[0;34m\u001b[0m\u001b[0m\n\u001b[1;32m   1816\u001b[0m         return lib.map_infer_mask(\n",
            "\u001b[0;32mlib.pyx\u001b[0m in \u001b[0;36mpandas._libs.lib.map_infer\u001b[0;34m()\u001b[0m\n",
            "\u001b[0;32m<ipython-input-23-d69c0faacef4>\u001b[0m in \u001b[0;36mhas_any_abbreviation\u001b[0;34m(text)\u001b[0m\n\u001b[1;32m      2\u001b[0m \u001b[0;34m\u001b[0m\u001b[0m\n\u001b[1;32m      3\u001b[0m \u001b[0;32mdef\u001b[0m \u001b[0mhas_any_abbreviation\u001b[0m\u001b[0;34m(\u001b[0m\u001b[0mtext\u001b[0m\u001b[0;34m)\u001b[0m\u001b[0;34m:\u001b[0m\u001b[0;34m\u001b[0m\u001b[0;34m\u001b[0m\u001b[0m\n\u001b[0;32m----> 4\u001b[0;31m     \u001b[0mwords\u001b[0m \u001b[0;34m=\u001b[0m \u001b[0mset\u001b[0m\u001b[0;34m(\u001b[0m\u001b[0mtext\u001b[0m\u001b[0;34m.\u001b[0m\u001b[0mlower\u001b[0m\u001b[0;34m(\u001b[0m\u001b[0;34m)\u001b[0m\u001b[0;34m.\u001b[0m\u001b[0msplit\u001b[0m\u001b[0;34m(\u001b[0m\u001b[0;34m)\u001b[0m\u001b[0;34m)\u001b[0m\u001b[0;34m\u001b[0m\u001b[0;34m\u001b[0m\u001b[0m\n\u001b[0m\u001b[1;32m      5\u001b[0m     \u001b[0mfound\u001b[0m \u001b[0;34m=\u001b[0m \u001b[0mwords\u001b[0m\u001b[0;34m.\u001b[0m\u001b[0mintersection\u001b[0m\u001b[0;34m(\u001b[0m\u001b[0mabbreviations\u001b[0m\u001b[0;34m)\u001b[0m\u001b[0;34m\u001b[0m\u001b[0;34m\u001b[0m\u001b[0m\n\u001b[1;32m      6\u001b[0m     \u001b[0;32mreturn\u001b[0m \u001b[0mbool\u001b[0m\u001b[0;34m(\u001b[0m\u001b[0mfound\u001b[0m\u001b[0;34m)\u001b[0m\u001b[0;34m\u001b[0m\u001b[0;34m\u001b[0m\u001b[0m\n",
            "\u001b[0;31mKeyboardInterrupt\u001b[0m: "
          ]
        }
      ]
    },
    {
      "cell_type": "code",
      "source": [
        "np.average(mimic_train_subset.HOSPITAL_EXPIRE_FLAG)"
      ],
      "metadata": {
        "colab": {
          "base_uri": "https://localhost:8080/"
        },
        "id": "2AM28zpXI89k",
        "outputId": "54b843c7-747f-44e2-9b27-4af982208e64"
      },
      "execution_count": null,
      "outputs": [
        {
          "output_type": "execute_result",
          "data": {
            "text/plain": [
              "0.6145150126891006"
            ]
          },
          "metadata": {},
          "execution_count": 15
        }
      ]
    },
    {
      "cell_type": "code",
      "source": [
        "mimic_train_subset.SUBJECT_ID.nunique()"
      ],
      "metadata": {
        "colab": {
          "base_uri": "https://localhost:8080/"
        },
        "id": "aCNgr8O1cEmD",
        "outputId": "b80c32b1-06be-45e3-f378-5a87defba5cc"
      },
      "execution_count": null,
      "outputs": [
        {
          "output_type": "execute_result",
          "data": {
            "text/plain": [
              "5483"
            ]
          },
          "metadata": {},
          "execution_count": 16
        }
      ]
    },
    {
      "cell_type": "code",
      "source": [
        "MAX_LENGTH = 512"
      ],
      "metadata": {
        "id": "k_wak2oJQYVs"
      },
      "execution_count": 6,
      "outputs": []
    },
    {
      "cell_type": "code",
      "source": [
        "MAX_LENGTH = 512\n",
        "\n",
        "def head_and_tail(tokens, total_size=MAX_LENGTH):\n",
        "    \"\"\"Build an array of size <total_size> using the head and tail ends of the input array\"\"\"\n",
        "    half = int(total_size / 2)\n",
        "    if len(tokens) <= total_size:\n",
        "        return tokens\n",
        "    head = tokens[:half]\n",
        "    tail = tokens[-half:]\n",
        "    return np.concatenate([head, tail])\n",
        "\n",
        "\n",
        "def tokenize(texts):\n",
        "    \"\"\"\n",
        "    Tokenize an array of text inputs for bert, and take the head and tail of\n",
        "    each set of bert inputs. Returns a tuple of three arrays: input_ids, token_type_ids,\n",
        "    and attention_mask.\n",
        "    \"\"\"\n",
        "    input_ids_list = []\n",
        "    token_type_ids_list = []\n",
        "    attention_mask_list = []\n",
        "\n",
        "    for text in texts:\n",
        "        bert_output = bert_tokenizer(\n",
        "            text, padding=\"max_length\", return_tensors=\"tf\", max_length=MAX_LENGTH\n",
        "        )\n",
        "        input_ids = bert_output[\"input_ids\"][0]\n",
        "        token_type_ids = bert_output[\"token_type_ids\"][0]\n",
        "        attention_mask = bert_output[\"attention_mask\"][0]\n",
        "\n",
        "        input_ids_list.append(head_and_tail(input_ids))\n",
        "        token_type_ids_list.append(head_and_tail(token_type_ids))\n",
        "        attention_mask_list.append(head_and_tail(attention_mask))\n",
        "\n",
        "    return np.array(input_ids_list), np.array(token_type_ids_list), np.array(attention_mask_list)\n",
        "\n",
        "\n",
        "# tester = np.array([1,2,3,4,5,6,7,8,9,0])\n",
        "# print(head_and_tail(tester, 4))\n",
        "examples = mimic_train.TEXT[0:3].tolist()\n",
        "input_ids, token_type_ids, attention_mask = tokenize(examples)\n",
        "\n",
        "print(len(input_ids[2]))\n",
        "print(examples[2])\n",
        "print(bert_tokenizer.decode(input_ids[2]))\n",
        "\n",
        "\n"
      ],
      "metadata": {
        "colab": {
          "base_uri": "https://localhost:8080/"
        },
        "id": "AMczY2k661jW",
        "outputId": "c046a46f-8e82-42cf-f83f-e9a4a560958d"
      },
      "execution_count": 26,
      "outputs": [
        {
          "output_type": "stream",
          "name": "stdout",
          "text": [
            "512\n",
            "No significant events overnight\n",
            "   Renal failure ,  Chronic  ( Chronic renal failure ,  CRF ,  Chronic kidney\n",
            "   disease ) \n",
            "   Assessment : \n",
            "   U / O remains extremely low  ~  10 cc / hr ,  total body overloaded w /  4 + \n",
            "   pitting edema x all 4 extremities\n",
            "   Action : \n",
            "   All meds renally dosed ,  no fluid boluses overnight\n",
            "   Response : \n",
            "   Plan : \n",
            "   Cont to trend changes in BUN / CR ,  renally dose all meds ,  nephrology may\n",
            "   need to re evaluate if urine output does not improve . \n",
            "   Pain control  ( acute pain ,  chronic pain ) \n",
            "   Assessment : \n",
            "   Sedated on fent / midaz grimaces during turns / repositioning\n",
            "   Action : \n",
            "   Fent boluses prior to turning ,  lido patch off  @  00 : 00\n",
            "   Response : \n",
            "   Continues to experience pain\n",
            "   Plan : \n",
            "   Continue w /  current pain / sedation regimen ,  ortho consult to evaluate\n",
            "   for septic L hip . \n",
            "\n",
            "[CLS] No significant events overnight Renal failure, Chronic ( Chronic renal failure, CRF, Chronic kidney disease ) Assessment : U / O remains extremely low ~ 10 cc / hr, total body overloaded w / 4 + pitting edema x all 4 extremities Action : All meds renally dosed, no fluid boluses overnight Response : Plan : Cont to trend changes in BUN / CR, renally dose all meds, nephrology may need to re evaluate if urine output does not improve. Pain control ( acute pain, chronic pain ) Assessment : Sedated on fent / midaz grimaces during turns / repositioning Action : Fent boluses prior to turning, lido patch off @ 00 : 00 Response : Continues to experience pain Plan : Continue w / current pain / sedation regimen, ortho consult to evaluate for septic L hip. [SEP] [PAD] [PAD] [PAD] [PAD] [PAD] [PAD] [PAD] [PAD] [PAD] [PAD] [PAD] [PAD] [PAD] [PAD] [PAD] [PAD] [PAD] [PAD] [PAD] [PAD] [PAD] [PAD] [PAD] [PAD] [PAD] [PAD] [PAD] [PAD] [PAD] [PAD] [PAD] [PAD] [PAD] [PAD] [PAD] [PAD] [PAD] [PAD] [PAD] [PAD] [PAD] [PAD] [PAD] [PAD] [PAD] [PAD] [PAD] [PAD] [PAD] [PAD] [PAD] [PAD] [PAD] [PAD] [PAD] [PAD] [PAD] [PAD] [PAD] [PAD] [PAD] [PAD] [PAD] [PAD] [PAD] [PAD] [PAD] [PAD] [PAD] [PAD] [PAD] [PAD] [PAD] [PAD] [PAD] [PAD] [PAD] [PAD] [PAD] [PAD] [PAD] [PAD] [PAD] [PAD] [PAD] [PAD] [PAD] [PAD] [PAD] [PAD] [PAD] [PAD] [PAD] [PAD] [PAD] [PAD] [PAD] [PAD] [PAD] [PAD] [PAD] [PAD] [PAD] [PAD] [PAD] [PAD] [PAD] [PAD] [PAD] [PAD] [PAD] [PAD] [PAD] [PAD] [PAD] [PAD] [PAD] [PAD] [PAD] [PAD] [PAD] [PAD] [PAD] [PAD] [PAD] [PAD] [PAD] [PAD] [PAD] [PAD] [PAD] [PAD] [PAD] [PAD] [PAD] [PAD] [PAD] [PAD] [PAD] [PAD] [PAD] [PAD] [PAD] [PAD] [PAD] [PAD] [PAD] [PAD] [PAD] [PAD] [PAD] [PAD] [PAD] [PAD] [PAD] [PAD] [PAD] [PAD] [PAD] [PAD] [PAD] [PAD] [PAD] [PAD] [PAD] [PAD] [PAD] [PAD] [PAD] [PAD] [PAD] [PAD] [PAD] [PAD] [PAD] [PAD] [PAD] [PAD] [PAD] [PAD] [PAD] [PAD] [PAD] [PAD] [PAD] [PAD] [PAD] [PAD] [PAD] [PAD] [PAD] [PAD] [PAD] [PAD] [PAD] [PAD] [PAD] [PAD] [PAD] [PAD] [PAD] [PAD] [PAD] [PAD] [PAD] [PAD] [PAD] [PAD] [PAD] [PAD] [PAD] [PAD] [PAD] [PAD] [PAD] [PAD] [PAD] [PAD] [PAD] [PAD] [PAD] [PAD] [PAD] [PAD] [PAD] [PAD] [PAD] [PAD] [PAD] [PAD] [PAD] [PAD] [PAD] [PAD] [PAD] [PAD] [PAD] [PAD] [PAD] [PAD] [PAD] [PAD] [PAD] [PAD] [PAD] [PAD] [PAD] [PAD] [PAD] [PAD] [PAD] [PAD] [PAD] [PAD] [PAD] [PAD] [PAD] [PAD] [PAD] [PAD] [PAD] [PAD] [PAD] [PAD] [PAD] [PAD] [PAD] [PAD] [PAD] [PAD] [PAD] [PAD] [PAD] [PAD] [PAD] [PAD] [PAD] [PAD] [PAD] [PAD] [PAD] [PAD] [PAD] [PAD] [PAD] [PAD] [PAD] [PAD] [PAD] [PAD] [PAD] [PAD] [PAD] [PAD] [PAD] [PAD] [PAD] [PAD] [PAD] [PAD] [PAD] [PAD] [PAD] [PAD] [PAD] [PAD] [PAD] [PAD] [PAD] [PAD] [PAD] [PAD] [PAD]\n"
          ]
        }
      ]
    },
    {
      "cell_type": "code",
      "source": [
        "#tokenizing subsets\n",
        "\n",
        "mimic_train_subset_inputs = tokenize(mimic_train_subset.TEXT.tolist())\n",
        "mimic_validation_subset_inputs = tokenize(mimic_validation_subset.TEXT.tolist())\n",
        "mimic_test_subset_inputs = tokenize(mimic_test_subset.TEXT.tolist())"
      ],
      "metadata": {
        "id": "nItFSzq5Jwha"
      },
      "execution_count": 27,
      "outputs": []
    },
    {
      "cell_type": "code",
      "source": [
        "mimic_train_subset_labels = mimic_train_subset.HOSPITAL_EXPIRE_FLAG.to_numpy(np.int32)\n",
        "mimic_validation_subset_labels = mimic_validation_subset.HOSPITAL_EXPIRE_FLAG.to_numpy(np.int32)\n",
        "mimic_test_subset_labels = mimic_test_subset.HOSPITAL_EXPIRE_FLAG.to_numpy(np.int32)"
      ],
      "metadata": {
        "id": "5Xu3Xn8tLk9w"
      },
      "execution_count": 28,
      "outputs": []
    },
    {
      "cell_type": "code",
      "source": [
        "np.save('drive/MyDrive/266Project/mimic_train_subset_inputs.npy', mimic_train_subset_inputs)\n",
        "np.save('drive/MyDrive/266Project/mimic_validation_subset_inputs.npy', mimic_validation_subset_inputs)\n",
        "np.save('drive/MyDrive/266Project/mimic_test_subset_inputs.npy', mimic_test_subset_inputs)\n",
        "\n",
        "# Save labels\n",
        "np.save('drive/MyDrive/266Project/mimic_train_subset_labels.npy', mimic_train_subset_labels)\n",
        "np.save('drive/MyDrive/266Project/mimic_validation_subset_labels.npy', mimic_validation_subset_labels)\n",
        "np.save('drive/MyDrive/266Project/mimic_test_subset_labels.npy', mimic_test_subset_labels)"
      ],
      "metadata": {
        "id": "_pMKKqDp5AGz"
      },
      "execution_count": 34,
      "outputs": []
    },
    {
      "cell_type": "code",
      "source": [
        "# Load tokenized inputs\n",
        "mimic_train_subset_inputs = np.load('drive/MyDrive/266Project/mimic_train_subset_inputs.npy')\n",
        "mimic_validation_subset_inputs = np.load('drive/MyDrive/266Project/mimic_validation_subset_inputs.npy')\n",
        "mimic_test_subset_inputs = np.load('drive/MyDrive/266Project/mimic_test_subset_inputs.npy')\n",
        "\n",
        "# Load labels\n",
        "mimic_train_subset_labels = np.load('drive/MyDrive/266Project/mimic_train_subset_labels.npy')\n",
        "mimic_validation_subset_labels = np.load('drive/MyDrive/266Project/mimic_validation_subset_labels.npy')\n",
        "mimic_test_subset_labels = np.load('drive/MyDrive/266Project/mimic_test_subset_labels.npy')\n"
      ],
      "metadata": {
        "id": "GhVnm3DV5J04"
      },
      "execution_count": 18,
      "outputs": []
    },
    {
      "cell_type": "code",
      "source": [
        "mimic_train = None\n",
        "mimic_validation = None\n",
        "mimic_test = None\n",
        "mimic_train_subset = None\n",
        "mimic_validation_subset = None\n",
        "mimic_test_subset = None\n",
        "total_abbreviations = None"
      ],
      "metadata": {
        "id": "FKTLKR4zGNNF"
      },
      "execution_count": null,
      "outputs": []
    },
    {
      "cell_type": "code",
      "source": [
        "def create_bert_base_model(\n",
        "    bert_base_model,\n",
        "    max_sequence_length=MAX_LENGTH,\n",
        "    hidden_size=100,\n",
        "    dropout=0.3,\n",
        "    learning_rate=0.00005\n",
        "):\n",
        "    \"\"\"\n",
        "    Build a simple classification model with BERT. Use the pooler Token output for classification purposes.\n",
        "    \"\"\"\n",
        "    bert_base_model.trainable = True\n",
        "\n",
        "    input_ids = tf.keras.layers.Input(shape=(MAX_LENGTH,), dtype=tf.int32, name='input_ids_layer')\n",
        "    token_type_ids = tf.keras.layers.Input(shape=(MAX_LENGTH,), dtype=tf.int32, name='token_type_ids_layer')\n",
        "    attention_mask = tf.keras.layers.Input(shape=(MAX_LENGTH,), dtype=tf.int32, name='attention_mask_layer')\n",
        "\n",
        "    bert_inputs = {'input_ids': input_ids,\n",
        "                   'token_type_ids': token_type_ids,\n",
        "                   'attention_mask': attention_mask}\n",
        "\n",
        "    bert_out = bert_base_model(bert_inputs)\n",
        "    pooler_token = bert_out[1]\n",
        "\n",
        "    hidden = tf.keras.layers.Dense(hidden_size, activation='relu', name='hidden_layer')(pooler_token)\n",
        "    hidden = tf.keras.layers.Dropout(dropout)(hidden)\n",
        "\n",
        "\n",
        "    classification = tf.keras.layers.Dense(1, activation='sigmoid',name='classification_layer')(hidden)\n",
        "\n",
        "    classification_model = tf.keras.Model(inputs=[input_ids, token_type_ids, attention_mask], outputs=[classification])\n",
        "\n",
        "    classification_model.compile(optimizer=tf.keras.optimizers.Adam(learning_rate=learning_rate),\n",
        "                                 loss=tf.keras.losses.BinaryCrossentropy(from_logits=False),\n",
        "                                 metrics='accuracy')\n",
        "\n",
        "    return classification_model"
      ],
      "metadata": {
        "id": "Yjk2sS9zNK9Y"
      },
      "execution_count": 9,
      "outputs": []
    },
    {
      "cell_type": "code",
      "source": [
        "print(TFBertModel.__version__)"
      ],
      "metadata": {
        "colab": {
          "base_uri": "https://localhost:8080/",
          "height": 139
        },
        "id": "xQ8y7DWk3_sw",
        "outputId": "25861fa0-41b7-43a2-d89a-5095055d28c7"
      },
      "execution_count": 28,
      "outputs": [
        {
          "output_type": "error",
          "ename": "AttributeError",
          "evalue": "type object 'TFBertModel' has no attribute '__version__'",
          "traceback": [
            "\u001b[0;31m---------------------------------------------------------------------------\u001b[0m",
            "\u001b[0;31mAttributeError\u001b[0m                            Traceback (most recent call last)",
            "\u001b[0;32m<ipython-input-28-3f016f2ef5fc>\u001b[0m in \u001b[0;36m<cell line: 1>\u001b[0;34m()\u001b[0m\n\u001b[0;32m----> 1\u001b[0;31m \u001b[0mprint\u001b[0m\u001b[0;34m(\u001b[0m\u001b[0mTFBertModel\u001b[0m\u001b[0;34m.\u001b[0m\u001b[0m__version__\u001b[0m\u001b[0;34m)\u001b[0m\u001b[0;34m\u001b[0m\u001b[0;34m\u001b[0m\u001b[0m\n\u001b[0m",
            "\u001b[0;31mAttributeError\u001b[0m: type object 'TFBertModel' has no attribute '__version__'"
          ]
        }
      ]
    },
    {
      "cell_type": "code",
      "source": [],
      "metadata": {
        "id": "YDtFqPmV4dRq"
      },
      "execution_count": null,
      "outputs": []
    },
    {
      "cell_type": "code",
      "source": [
        "#bert_model.load_weights('drive/MyDrive/266Project/bertbaseweights.h5')\n",
        "baseline_bert_model = create_bert_base_model(bert_model)"
      ],
      "metadata": {
        "id": "K_IBup0B2x2B"
      },
      "execution_count": 60,
      "outputs": []
    },
    {
      "cell_type": "code",
      "source": [
        "# # Step 1: Load the saved weights into a separate BERT model\n",
        "# bert_model_for_weights = TFBertModel.from_pretrained(model_checkpoint)\n",
        "\n",
        "# # Assuming saved_weights_path is the path to the saved weights file\n",
        "# saved_weights_path = 'drive/MyDrive/266Project/base_bert/20240725_base_bert_ft_weights.hdf5'\n",
        "\n",
        "# # Load weights into the BERT model\n",
        "# bert_model_for_weights.load_weights(saved_weights_path)"
      ],
      "metadata": {
        "colab": {
          "base_uri": "https://localhost:8080/",
          "height": 421
        },
        "id": "Mq6n4628NVb0",
        "outputId": "f30e247c-92e7-4912-8e5a-626eaae753c2"
      },
      "execution_count": null,
      "outputs": [
        {
          "output_type": "stream",
          "name": "stderr",
          "text": [
            "Some weights of the PyTorch model were not used when initializing the TF 2.0 model TFBertModel: ['cls.predictions.transform.dense.weight', 'cls.predictions.transform.LayerNorm.bias', 'cls.predictions.transform.dense.bias', 'cls.predictions.transform.LayerNorm.weight', 'cls.predictions.bias', 'cls.seq_relationship.bias', 'cls.seq_relationship.weight']\n",
            "- This IS expected if you are initializing TFBertModel from a PyTorch model trained on another task or with another architecture (e.g. initializing a TFBertForSequenceClassification model from a BertForPreTraining model).\n",
            "- This IS NOT expected if you are initializing TFBertModel from a PyTorch model that you expect to be exactly identical (e.g. initializing a TFBertForSequenceClassification model from a BertForSequenceClassification model).\n",
            "All the weights of TFBertModel were initialized from the PyTorch model.\n",
            "If your task is similar to the task the model of the checkpoint was trained on, you can already use TFBertModel for predictions without further training.\n"
          ]
        },
        {
          "output_type": "error",
          "ename": "ValueError",
          "evalue": "Layer count mismatch when loading weights from file. Model expected 1 layers, found 2 saved layers.",
          "traceback": [
            "\u001b[0;31m---------------------------------------------------------------------------\u001b[0m",
            "\u001b[0;31mValueError\u001b[0m                                Traceback (most recent call last)",
            "\u001b[0;32m<ipython-input-11-712b57546a2e>\u001b[0m in \u001b[0;36m<cell line: 8>\u001b[0;34m()\u001b[0m\n\u001b[1;32m      6\u001b[0m \u001b[0;34m\u001b[0m\u001b[0m\n\u001b[1;32m      7\u001b[0m \u001b[0;31m# Load weights into the BERT model\u001b[0m\u001b[0;34m\u001b[0m\u001b[0;34m\u001b[0m\u001b[0m\n\u001b[0;32m----> 8\u001b[0;31m \u001b[0mbert_model_for_weights\u001b[0m\u001b[0;34m.\u001b[0m\u001b[0mload_weights\u001b[0m\u001b[0;34m(\u001b[0m\u001b[0msaved_weights_path\u001b[0m\u001b[0;34m)\u001b[0m\u001b[0;34m\u001b[0m\u001b[0;34m\u001b[0m\u001b[0m\n\u001b[0m",
            "\u001b[0;32m/usr/local/lib/python3.10/dist-packages/tf_keras/src/utils/traceback_utils.py\u001b[0m in \u001b[0;36merror_handler\u001b[0;34m(*args, **kwargs)\u001b[0m\n\u001b[1;32m     68\u001b[0m             \u001b[0;31m# To get the full stack trace, call:\u001b[0m\u001b[0;34m\u001b[0m\u001b[0;34m\u001b[0m\u001b[0m\n\u001b[1;32m     69\u001b[0m             \u001b[0;31m# `tf.debugging.disable_traceback_filtering()`\u001b[0m\u001b[0;34m\u001b[0m\u001b[0;34m\u001b[0m\u001b[0m\n\u001b[0;32m---> 70\u001b[0;31m             \u001b[0;32mraise\u001b[0m \u001b[0me\u001b[0m\u001b[0;34m.\u001b[0m\u001b[0mwith_traceback\u001b[0m\u001b[0;34m(\u001b[0m\u001b[0mfiltered_tb\u001b[0m\u001b[0;34m)\u001b[0m \u001b[0;32mfrom\u001b[0m \u001b[0;32mNone\u001b[0m\u001b[0;34m\u001b[0m\u001b[0;34m\u001b[0m\u001b[0m\n\u001b[0m\u001b[1;32m     71\u001b[0m         \u001b[0;32mfinally\u001b[0m\u001b[0;34m:\u001b[0m\u001b[0;34m\u001b[0m\u001b[0;34m\u001b[0m\u001b[0m\n\u001b[1;32m     72\u001b[0m             \u001b[0;32mdel\u001b[0m \u001b[0mfiltered_tb\u001b[0m\u001b[0;34m\u001b[0m\u001b[0;34m\u001b[0m\u001b[0m\n",
            "\u001b[0;32m/usr/local/lib/python3.10/dist-packages/tf_keras/src/saving/legacy/hdf5_format.py\u001b[0m in \u001b[0;36mload_weights_from_hdf5_group\u001b[0;34m(f, model)\u001b[0m\n\u001b[1;32m    817\u001b[0m     \u001b[0mlayer_names\u001b[0m \u001b[0;34m=\u001b[0m \u001b[0mfiltered_layer_names\u001b[0m\u001b[0;34m\u001b[0m\u001b[0;34m\u001b[0m\u001b[0m\n\u001b[1;32m    818\u001b[0m     \u001b[0;32mif\u001b[0m \u001b[0mlen\u001b[0m\u001b[0;34m(\u001b[0m\u001b[0mlayer_names\u001b[0m\u001b[0;34m)\u001b[0m \u001b[0;34m!=\u001b[0m \u001b[0mlen\u001b[0m\u001b[0;34m(\u001b[0m\u001b[0mfiltered_layers\u001b[0m\u001b[0;34m)\u001b[0m\u001b[0;34m:\u001b[0m\u001b[0;34m\u001b[0m\u001b[0;34m\u001b[0m\u001b[0m\n\u001b[0;32m--> 819\u001b[0;31m         raise ValueError(\n\u001b[0m\u001b[1;32m    820\u001b[0m             \u001b[0;34m\"Layer count mismatch when loading weights from file. \"\u001b[0m\u001b[0;34m\u001b[0m\u001b[0;34m\u001b[0m\u001b[0m\n\u001b[1;32m    821\u001b[0m             \u001b[0;34mf\"Model expected {len(filtered_layers)} layers, found \"\u001b[0m\u001b[0;34m\u001b[0m\u001b[0;34m\u001b[0m\u001b[0m\n",
            "\u001b[0;31mValueError\u001b[0m: Layer count mismatch when loading weights from file. Model expected 1 layers, found 2 saved layers."
          ]
        }
      ]
    },
    {
      "cell_type": "code",
      "source": [
        "# for layer in bert_model.layers:\n",
        "#     layer.set_weights(bert_model_for_weights.get_layer(layer.name).get_weights())"
      ],
      "metadata": {
        "id": "nJ3zLj7nM4bC"
      },
      "execution_count": null,
      "outputs": []
    },
    {
      "cell_type": "code",
      "source": [],
      "metadata": {
        "colab": {
          "base_uri": "https://localhost:8080/",
          "height": 282
        },
        "id": "lymg_DT0EpaQ",
        "outputId": "9235e9f4-f5f3-4397-af3a-c1b1a62cc420"
      },
      "execution_count": null,
      "outputs": [
        {
          "output_type": "error",
          "ename": "ValueError",
          "evalue": "Layer count mismatch when loading weights from file. Model expected 1 layers, found 2 saved layers.",
          "traceback": [
            "\u001b[0;31m---------------------------------------------------------------------------\u001b[0m",
            "\u001b[0;31mValueError\u001b[0m                                Traceback (most recent call last)",
            "\u001b[0;32m<ipython-input-10-66beb582e765>\u001b[0m in \u001b[0;36m<cell line: 1>\u001b[0;34m()\u001b[0m\n\u001b[0;32m----> 1\u001b[0;31m \u001b[0mbert_model\u001b[0m\u001b[0;34m.\u001b[0m\u001b[0mload_weights\u001b[0m\u001b[0;34m(\u001b[0m\u001b[0;34m'drive/MyDrive/266Project/base_bert/20240725_base_bert_ft_weights.h5'\u001b[0m\u001b[0;34m)\u001b[0m\u001b[0;34m\u001b[0m\u001b[0;34m\u001b[0m\u001b[0m\n\u001b[0m",
            "\u001b[0;32m/usr/local/lib/python3.10/dist-packages/tf_keras/src/utils/traceback_utils.py\u001b[0m in \u001b[0;36merror_handler\u001b[0;34m(*args, **kwargs)\u001b[0m\n\u001b[1;32m     68\u001b[0m             \u001b[0;31m# To get the full stack trace, call:\u001b[0m\u001b[0;34m\u001b[0m\u001b[0;34m\u001b[0m\u001b[0m\n\u001b[1;32m     69\u001b[0m             \u001b[0;31m# `tf.debugging.disable_traceback_filtering()`\u001b[0m\u001b[0;34m\u001b[0m\u001b[0;34m\u001b[0m\u001b[0m\n\u001b[0;32m---> 70\u001b[0;31m             \u001b[0;32mraise\u001b[0m \u001b[0me\u001b[0m\u001b[0;34m.\u001b[0m\u001b[0mwith_traceback\u001b[0m\u001b[0;34m(\u001b[0m\u001b[0mfiltered_tb\u001b[0m\u001b[0;34m)\u001b[0m \u001b[0;32mfrom\u001b[0m \u001b[0;32mNone\u001b[0m\u001b[0;34m\u001b[0m\u001b[0;34m\u001b[0m\u001b[0m\n\u001b[0m\u001b[1;32m     71\u001b[0m         \u001b[0;32mfinally\u001b[0m\u001b[0;34m:\u001b[0m\u001b[0;34m\u001b[0m\u001b[0;34m\u001b[0m\u001b[0m\n\u001b[1;32m     72\u001b[0m             \u001b[0;32mdel\u001b[0m \u001b[0mfiltered_tb\u001b[0m\u001b[0;34m\u001b[0m\u001b[0;34m\u001b[0m\u001b[0m\n",
            "\u001b[0;32m/usr/local/lib/python3.10/dist-packages/tf_keras/src/saving/legacy/hdf5_format.py\u001b[0m in \u001b[0;36mload_weights_from_hdf5_group\u001b[0;34m(f, model)\u001b[0m\n\u001b[1;32m    817\u001b[0m     \u001b[0mlayer_names\u001b[0m \u001b[0;34m=\u001b[0m \u001b[0mfiltered_layer_names\u001b[0m\u001b[0;34m\u001b[0m\u001b[0;34m\u001b[0m\u001b[0m\n\u001b[1;32m    818\u001b[0m     \u001b[0;32mif\u001b[0m \u001b[0mlen\u001b[0m\u001b[0;34m(\u001b[0m\u001b[0mlayer_names\u001b[0m\u001b[0;34m)\u001b[0m \u001b[0;34m!=\u001b[0m \u001b[0mlen\u001b[0m\u001b[0;34m(\u001b[0m\u001b[0mfiltered_layers\u001b[0m\u001b[0;34m)\u001b[0m\u001b[0;34m:\u001b[0m\u001b[0;34m\u001b[0m\u001b[0;34m\u001b[0m\u001b[0m\n\u001b[0;32m--> 819\u001b[0;31m         raise ValueError(\n\u001b[0m\u001b[1;32m    820\u001b[0m             \u001b[0;34m\"Layer count mismatch when loading weights from file. \"\u001b[0m\u001b[0;34m\u001b[0m\u001b[0;34m\u001b[0m\u001b[0m\n\u001b[1;32m    821\u001b[0m             \u001b[0;34mf\"Model expected {len(filtered_layers)} layers, found \"\u001b[0m\u001b[0;34m\u001b[0m\u001b[0;34m\u001b[0m\u001b[0m\n",
            "\u001b[0;31mValueError\u001b[0m: Layer count mismatch when loading weights from file. Model expected 1 layers, found 2 saved layers."
          ]
        }
      ]
    },
    {
      "cell_type": "code",
      "source": [
        "#baseline_bert_model = create_bert_base_model(bert_model)"
      ],
      "metadata": {
        "id": "8_HLm4cCMe1u"
      },
      "execution_count": null,
      "outputs": []
    },
    {
      "cell_type": "code",
      "source": [
        "from keras.callbacks import ModelCheckpoint"
      ],
      "metadata": {
        "id": "2HTRpxB-kWwc"
      },
      "execution_count": 34,
      "outputs": []
    },
    {
      "cell_type": "code",
      "source": [
        "checkpoint = ModelCheckpoint(filepath='drive/MyDrive/266Project/basebert_mimic_baseline_checkpoints/fine-tuned_mortality_new/model_{epoch:02d}.weights.h5',\n",
        "                             save_weights_only=True,\n",
        "                             save_best_only=False,\n",
        "                             monitor='val_loss',\n",
        "                             mode='auto',\n",
        "                             save_freq='epoch',\n",
        "                             verbose=1)"
      ],
      "metadata": {
        "id": "O1jeSx4rYXl8"
      },
      "execution_count": 35,
      "outputs": []
    },
    {
      "cell_type": "code",
      "source": [
        "print(\"Shape of mimic_train_subset_inputs:\", mimic_train_subset_inputs.shape)\n",
        "print(\"Shape of mimic_train_subset_labels:\", mimic_train_subset_labels.shape)\n",
        "print(\"Shape of mimic_validation_subset_inputs:\", mimic_validation_subset_inputs.shape)\n",
        "print(\"Shape of mimic_validation_subset_labels:\", mimic_validation_subset_labels.shape)"
      ],
      "metadata": {
        "colab": {
          "base_uri": "https://localhost:8080/",
          "height": 190
        },
        "id": "TA7IN1uO8zyz",
        "outputId": "93fc4d5e-dfb6-4aac-d276-977581a421fe"
      },
      "execution_count": 29,
      "outputs": [
        {
          "output_type": "error",
          "ename": "AttributeError",
          "evalue": "'tuple' object has no attribute 'shape'",
          "traceback": [
            "\u001b[0;31m---------------------------------------------------------------------------\u001b[0m",
            "\u001b[0;31mAttributeError\u001b[0m                            Traceback (most recent call last)",
            "\u001b[0;32m<ipython-input-29-f8feeb244073>\u001b[0m in \u001b[0;36m<cell line: 1>\u001b[0;34m()\u001b[0m\n\u001b[0;32m----> 1\u001b[0;31m \u001b[0mprint\u001b[0m\u001b[0;34m(\u001b[0m\u001b[0;34m\"Shape of mimic_train_subset_inputs:\"\u001b[0m\u001b[0;34m,\u001b[0m \u001b[0mmimic_train_subset_inputs\u001b[0m\u001b[0;34m.\u001b[0m\u001b[0mshape\u001b[0m\u001b[0;34m)\u001b[0m\u001b[0;34m\u001b[0m\u001b[0;34m\u001b[0m\u001b[0m\n\u001b[0m\u001b[1;32m      2\u001b[0m \u001b[0mprint\u001b[0m\u001b[0;34m(\u001b[0m\u001b[0;34m\"Shape of mimic_train_subset_labels:\"\u001b[0m\u001b[0;34m,\u001b[0m \u001b[0mmimic_train_subset_labels\u001b[0m\u001b[0;34m.\u001b[0m\u001b[0mshape\u001b[0m\u001b[0;34m)\u001b[0m\u001b[0;34m\u001b[0m\u001b[0;34m\u001b[0m\u001b[0m\n\u001b[1;32m      3\u001b[0m \u001b[0mprint\u001b[0m\u001b[0;34m(\u001b[0m\u001b[0;34m\"Shape of mimic_validation_subset_inputs:\"\u001b[0m\u001b[0;34m,\u001b[0m \u001b[0mmimic_validation_subset_inputs\u001b[0m\u001b[0;34m.\u001b[0m\u001b[0mshape\u001b[0m\u001b[0;34m)\u001b[0m\u001b[0;34m\u001b[0m\u001b[0;34m\u001b[0m\u001b[0m\n\u001b[1;32m      4\u001b[0m \u001b[0mprint\u001b[0m\u001b[0;34m(\u001b[0m\u001b[0;34m\"Shape of mimic_validation_subset_labels:\"\u001b[0m\u001b[0;34m,\u001b[0m \u001b[0mmimic_validation_subset_labels\u001b[0m\u001b[0;34m.\u001b[0m\u001b[0mshape\u001b[0m\u001b[0;34m)\u001b[0m\u001b[0;34m\u001b[0m\u001b[0;34m\u001b[0m\u001b[0m\n",
            "\u001b[0;31mAttributeError\u001b[0m: 'tuple' object has no attribute 'shape'"
          ]
        }
      ]
    },
    {
      "cell_type": "code",
      "source": [
        "baseline_history = baseline_bert_model.fit(\n",
        "    mimic_train_subset_inputs,\n",
        "    mimic_train_subset_labels,\n",
        "    epochs=2,\n",
        "    batch_size=32,\n",
        "    validation_data=(mimic_validation_subset_inputs, mimic_validation_subset_labels),\n",
        "    shuffle = True\n",
        ")"
      ],
      "metadata": {
        "colab": {
          "base_uri": "https://localhost:8080/"
        },
        "id": "7siXiKA4Qi9m",
        "outputId": "74059d37-ac5f-41a7-f1b7-8eeec567e087"
      },
      "execution_count": 61,
      "outputs": [
        {
          "output_type": "stream",
          "name": "stdout",
          "text": [
            "Epoch 1/2\n",
            "1897/1897 [==============================] - 877s 444ms/step - loss: 0.4119 - accuracy: 0.8182 - val_loss: 0.3987 - val_accuracy: 0.8414\n",
            "Epoch 2/2\n",
            "1897/1897 [==============================] - 838s 442ms/step - loss: 0.2427 - accuracy: 0.9097 - val_loss: 0.4208 - val_accuracy: 0.8266\n"
          ]
        }
      ]
    },
    {
      "cell_type": "code",
      "source": [
        "checkpoint_path = 'drive/MyDrive/266Project/basebert_mimic_baseline_checkpoints/model2_02.hdf5'\n",
        "baseline_bert_model.load_weights(checkpoint_path)"
      ],
      "metadata": {
        "id": "RI8mr-lvoKvx"
      },
      "execution_count": 48,
      "outputs": []
    },
    {
      "cell_type": "code",
      "source": [
        "loss, accuracy = baseline_bert_model.evaluate(mimic_test_subset_inputs, mimic_test_subset_labels, verbose=1)\n",
        "print(f'Test loss: {loss}')\n",
        "print(f'Test accuracy: {accuracy}')"
      ],
      "metadata": {
        "colab": {
          "base_uri": "https://localhost:8080/"
        },
        "id": "c8Wd8Z0NolkO",
        "outputId": "66908607-2a9b-49e9-c4c2-e22a7e1a2bba"
      },
      "execution_count": null,
      "outputs": [
        {
          "output_type": "stream",
          "name": "stdout",
          "text": [
            "444/444 [==============================] - 126s 272ms/step - loss: 0.5356 - accuracy: 0.7890\n",
            "Test loss: 0.5356011986732483\n",
            "Test accuracy: 0.7889507412910461\n"
          ]
        }
      ]
    },
    {
      "cell_type": "code",
      "source": [
        "from sklearn.metrics import f1_score, precision_score, recall_score, classification_report, confusion_matrix"
      ],
      "metadata": {
        "id": "JKmSWBCpo6O_"
      },
      "execution_count": 38,
      "outputs": []
    },
    {
      "cell_type": "code",
      "source": [
        "#calculate F1, precision, recall\n",
        "y_pred = baseline_bert_model.predict(mimic_test_subset_inputs)\n"
      ],
      "metadata": {
        "colab": {
          "base_uri": "https://localhost:8080/"
        },
        "id": "AK4SZ-DEpOq_",
        "outputId": "30795e2b-89b3-4189-ecae-9171970f696e"
      },
      "execution_count": 62,
      "outputs": [
        {
          "output_type": "stream",
          "name": "stdout",
          "text": [
            "444/444 [==============================] - 67s 145ms/step\n"
          ]
        }
      ]
    },
    {
      "cell_type": "code",
      "source": [
        "y_pred.shape"
      ],
      "metadata": {
        "colab": {
          "base_uri": "https://localhost:8080/"
        },
        "id": "UxvrVDPfvcFr",
        "outputId": "f3d1f99a-c5b4-4c96-ff4b-0b05f6f6c9de"
      },
      "execution_count": null,
      "outputs": [
        {
          "output_type": "execute_result",
          "data": {
            "text/plain": [
              "(14191, 1)"
            ]
          },
          "metadata": {},
          "execution_count": 27
        }
      ]
    },
    {
      "cell_type": "code",
      "source": [
        "mimic_test_subset_labels.shape"
      ],
      "metadata": {
        "colab": {
          "base_uri": "https://localhost:8080/"
        },
        "id": "JFCGpFh3Q7f8",
        "outputId": "a986c383-5a84-4aed-a442-a00fd05b8870"
      },
      "execution_count": null,
      "outputs": [
        {
          "output_type": "execute_result",
          "data": {
            "text/plain": [
              "(14191,)"
            ]
          },
          "metadata": {},
          "execution_count": 28
        }
      ]
    },
    {
      "cell_type": "code",
      "source": [
        "y_pred_classes = (y_pred > 0.5).astype(int)\n",
        "y_true = mimic_test_subset_labels\n",
        "\n",
        "#classification report\n",
        "report = classification_report(y_true, y_pred_classes)\n",
        "print(report)"
      ],
      "metadata": {
        "colab": {
          "base_uri": "https://localhost:8080/"
        },
        "id": "btll0zjptxth",
        "outputId": "cc46ecf6-afc8-41c1-dfba-db91689f72e8"
      },
      "execution_count": 63,
      "outputs": [
        {
          "output_type": "stream",
          "name": "stdout",
          "text": [
            "              precision    recall  f1-score   support\n",
            "\n",
            "           0       0.61      0.87      0.71      4626\n",
            "           1       0.92      0.73      0.81      9565\n",
            "\n",
            "    accuracy                           0.77     14191\n",
            "   macro avg       0.76      0.80      0.76     14191\n",
            "weighted avg       0.82      0.77      0.78     14191\n",
            "\n"
          ]
        }
      ]
    },
    {
      "cell_type": "code",
      "source": [
        "print(set(y_true.flatten()))"
      ],
      "metadata": {
        "colab": {
          "base_uri": "https://localhost:8080/"
        },
        "id": "jWgDrfaBVwJF",
        "outputId": "605c3b42-b5b8-4922-df2d-15ab1203f51e"
      },
      "execution_count": null,
      "outputs": [
        {
          "output_type": "stream",
          "name": "stdout",
          "text": [
            "{0, 1}\n"
          ]
        }
      ]
    },
    {
      "cell_type": "code",
      "source": [
        "print(set(y_pred_classes.flatten()))"
      ],
      "metadata": {
        "colab": {
          "base_uri": "https://localhost:8080/"
        },
        "id": "ohBxozYEWN9A",
        "outputId": "bc84fb0c-686b-407e-d216-2545ba0043d5"
      },
      "execution_count": null,
      "outputs": [
        {
          "output_type": "stream",
          "name": "stdout",
          "text": [
            "{0}\n"
          ]
        }
      ]
    },
    {
      "cell_type": "code",
      "source": [],
      "metadata": {
        "id": "weeI_EkjWUoK"
      },
      "execution_count": null,
      "outputs": []
    }
  ]
}