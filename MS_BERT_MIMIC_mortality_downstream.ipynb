{
  "cells": [
    {
      "cell_type": "code",
      "execution_count": 1,
      "metadata": {
        "id": "eXBko6gSF3c5"
      },
      "outputs": [],
      "source": [
        "import pandas as pd\n",
        "import numpy as np\n",
        "import matplotlib.pyplot as plt\n",
        "import seaborn as sns\n",
        "import random\n",
        "import re\n",
        "import textwrap\n",
        "\n",
        "from sklearn.model_selection import StratifiedShuffleSplit\n",
        "\n",
        "import tensorflow as tf\n",
        "from tensorflow import keras\n",
        "from transformers import TFBertModel, BertTokenizerFast, TFBertForSequenceClassification"
      ]
    },
    {
      "cell_type": "code",
      "execution_count": 2,
      "metadata": {
        "colab": {
          "base_uri": "https://localhost:8080/"
        },
        "id": "u7bAFFyFKkTf",
        "outputId": "ed53bbcf-3dc8-4a3a-a752-5d7b1ad42444"
      },
      "outputs": [
        {
          "output_type": "stream",
          "name": "stdout",
          "text": [
            "Mounted at /content/drive\n"
          ]
        }
      ],
      "source": [
        "from google.colab import drive\n",
        "drive.mount('/content/drive')"
      ]
    },
    {
      "cell_type": "code",
      "execution_count": 3,
      "metadata": {
        "id": "nuk9ITuCGRut"
      },
      "outputs": [],
      "source": [
        "total_abbreviations = pd.read_csv(\"drive/MyDrive/MIDS/medal_mimic_subset/total_abbreviations.csv\")"
      ]
    },
    {
      "cell_type": "code",
      "execution_count": 4,
      "metadata": {
        "colab": {
          "base_uri": "https://localhost:8080/"
        },
        "id": "byyPJySK4D4u",
        "outputId": "af36ae22-ad38-4973-f517-e3b327142a14"
      },
      "outputs": [
        {
          "output_type": "stream",
          "name": "stdout",
          "text": [
            "5798\n"
          ]
        }
      ],
      "source": [
        "print(len(total_abbreviations))"
      ]
    },
    {
      "cell_type": "code",
      "execution_count": 5,
      "metadata": {
        "colab": {
          "base_uri": "https://localhost:8080/",
          "height": 206
        },
        "id": "FkwHEpmWvrgt",
        "outputId": "b4eb5642-a07d-4740-f482-3f9afa3020d7"
      },
      "outputs": [
        {
          "output_type": "execute_result",
          "data": {
            "text/plain": [
              "  abbreviation\n",
              "0          SFG\n",
              "1          CTP\n",
              "2         HSES\n",
              "3        MMPIs\n",
              "4        ATP7B"
            ],
            "text/html": [
              "\n",
              "  <div id=\"df-c38869a9-ea10-427c-a44a-2d57cf5a0852\" class=\"colab-df-container\">\n",
              "    <div>\n",
              "<style scoped>\n",
              "    .dataframe tbody tr th:only-of-type {\n",
              "        vertical-align: middle;\n",
              "    }\n",
              "\n",
              "    .dataframe tbody tr th {\n",
              "        vertical-align: top;\n",
              "    }\n",
              "\n",
              "    .dataframe thead th {\n",
              "        text-align: right;\n",
              "    }\n",
              "</style>\n",
              "<table border=\"1\" class=\"dataframe\">\n",
              "  <thead>\n",
              "    <tr style=\"text-align: right;\">\n",
              "      <th></th>\n",
              "      <th>abbreviation</th>\n",
              "    </tr>\n",
              "  </thead>\n",
              "  <tbody>\n",
              "    <tr>\n",
              "      <th>0</th>\n",
              "      <td>SFG</td>\n",
              "    </tr>\n",
              "    <tr>\n",
              "      <th>1</th>\n",
              "      <td>CTP</td>\n",
              "    </tr>\n",
              "    <tr>\n",
              "      <th>2</th>\n",
              "      <td>HSES</td>\n",
              "    </tr>\n",
              "    <tr>\n",
              "      <th>3</th>\n",
              "      <td>MMPIs</td>\n",
              "    </tr>\n",
              "    <tr>\n",
              "      <th>4</th>\n",
              "      <td>ATP7B</td>\n",
              "    </tr>\n",
              "  </tbody>\n",
              "</table>\n",
              "</div>\n",
              "    <div class=\"colab-df-buttons\">\n",
              "\n",
              "  <div class=\"colab-df-container\">\n",
              "    <button class=\"colab-df-convert\" onclick=\"convertToInteractive('df-c38869a9-ea10-427c-a44a-2d57cf5a0852')\"\n",
              "            title=\"Convert this dataframe to an interactive table.\"\n",
              "            style=\"display:none;\">\n",
              "\n",
              "  <svg xmlns=\"http://www.w3.org/2000/svg\" height=\"24px\" viewBox=\"0 -960 960 960\">\n",
              "    <path d=\"M120-120v-720h720v720H120Zm60-500h600v-160H180v160Zm220 220h160v-160H400v160Zm0 220h160v-160H400v160ZM180-400h160v-160H180v160Zm440 0h160v-160H620v160ZM180-180h160v-160H180v160Zm440 0h160v-160H620v160Z\"/>\n",
              "  </svg>\n",
              "    </button>\n",
              "\n",
              "  <style>\n",
              "    .colab-df-container {\n",
              "      display:flex;\n",
              "      gap: 12px;\n",
              "    }\n",
              "\n",
              "    .colab-df-convert {\n",
              "      background-color: #E8F0FE;\n",
              "      border: none;\n",
              "      border-radius: 50%;\n",
              "      cursor: pointer;\n",
              "      display: none;\n",
              "      fill: #1967D2;\n",
              "      height: 32px;\n",
              "      padding: 0 0 0 0;\n",
              "      width: 32px;\n",
              "    }\n",
              "\n",
              "    .colab-df-convert:hover {\n",
              "      background-color: #E2EBFA;\n",
              "      box-shadow: 0px 1px 2px rgba(60, 64, 67, 0.3), 0px 1px 3px 1px rgba(60, 64, 67, 0.15);\n",
              "      fill: #174EA6;\n",
              "    }\n",
              "\n",
              "    .colab-df-buttons div {\n",
              "      margin-bottom: 4px;\n",
              "    }\n",
              "\n",
              "    [theme=dark] .colab-df-convert {\n",
              "      background-color: #3B4455;\n",
              "      fill: #D2E3FC;\n",
              "    }\n",
              "\n",
              "    [theme=dark] .colab-df-convert:hover {\n",
              "      background-color: #434B5C;\n",
              "      box-shadow: 0px 1px 3px 1px rgba(0, 0, 0, 0.15);\n",
              "      filter: drop-shadow(0px 1px 2px rgba(0, 0, 0, 0.3));\n",
              "      fill: #FFFFFF;\n",
              "    }\n",
              "  </style>\n",
              "\n",
              "    <script>\n",
              "      const buttonEl =\n",
              "        document.querySelector('#df-c38869a9-ea10-427c-a44a-2d57cf5a0852 button.colab-df-convert');\n",
              "      buttonEl.style.display =\n",
              "        google.colab.kernel.accessAllowed ? 'block' : 'none';\n",
              "\n",
              "      async function convertToInteractive(key) {\n",
              "        const element = document.querySelector('#df-c38869a9-ea10-427c-a44a-2d57cf5a0852');\n",
              "        const dataTable =\n",
              "          await google.colab.kernel.invokeFunction('convertToInteractive',\n",
              "                                                    [key], {});\n",
              "        if (!dataTable) return;\n",
              "\n",
              "        const docLinkHtml = 'Like what you see? Visit the ' +\n",
              "          '<a target=\"_blank\" href=https://colab.research.google.com/notebooks/data_table.ipynb>data table notebook</a>'\n",
              "          + ' to learn more about interactive tables.';\n",
              "        element.innerHTML = '';\n",
              "        dataTable['output_type'] = 'display_data';\n",
              "        await google.colab.output.renderOutput(dataTable, element);\n",
              "        const docLink = document.createElement('div');\n",
              "        docLink.innerHTML = docLinkHtml;\n",
              "        element.appendChild(docLink);\n",
              "      }\n",
              "    </script>\n",
              "  </div>\n",
              "\n",
              "\n",
              "<div id=\"df-24117239-9a46-4f2d-aef1-d182c232822e\">\n",
              "  <button class=\"colab-df-quickchart\" onclick=\"quickchart('df-24117239-9a46-4f2d-aef1-d182c232822e')\"\n",
              "            title=\"Suggest charts\"\n",
              "            style=\"display:none;\">\n",
              "\n",
              "<svg xmlns=\"http://www.w3.org/2000/svg\" height=\"24px\"viewBox=\"0 0 24 24\"\n",
              "     width=\"24px\">\n",
              "    <g>\n",
              "        <path d=\"M19 3H5c-1.1 0-2 .9-2 2v14c0 1.1.9 2 2 2h14c1.1 0 2-.9 2-2V5c0-1.1-.9-2-2-2zM9 17H7v-7h2v7zm4 0h-2V7h2v10zm4 0h-2v-4h2v4z\"/>\n",
              "    </g>\n",
              "</svg>\n",
              "  </button>\n",
              "\n",
              "<style>\n",
              "  .colab-df-quickchart {\n",
              "      --bg-color: #E8F0FE;\n",
              "      --fill-color: #1967D2;\n",
              "      --hover-bg-color: #E2EBFA;\n",
              "      --hover-fill-color: #174EA6;\n",
              "      --disabled-fill-color: #AAA;\n",
              "      --disabled-bg-color: #DDD;\n",
              "  }\n",
              "\n",
              "  [theme=dark] .colab-df-quickchart {\n",
              "      --bg-color: #3B4455;\n",
              "      --fill-color: #D2E3FC;\n",
              "      --hover-bg-color: #434B5C;\n",
              "      --hover-fill-color: #FFFFFF;\n",
              "      --disabled-bg-color: #3B4455;\n",
              "      --disabled-fill-color: #666;\n",
              "  }\n",
              "\n",
              "  .colab-df-quickchart {\n",
              "    background-color: var(--bg-color);\n",
              "    border: none;\n",
              "    border-radius: 50%;\n",
              "    cursor: pointer;\n",
              "    display: none;\n",
              "    fill: var(--fill-color);\n",
              "    height: 32px;\n",
              "    padding: 0;\n",
              "    width: 32px;\n",
              "  }\n",
              "\n",
              "  .colab-df-quickchart:hover {\n",
              "    background-color: var(--hover-bg-color);\n",
              "    box-shadow: 0 1px 2px rgba(60, 64, 67, 0.3), 0 1px 3px 1px rgba(60, 64, 67, 0.15);\n",
              "    fill: var(--button-hover-fill-color);\n",
              "  }\n",
              "\n",
              "  .colab-df-quickchart-complete:disabled,\n",
              "  .colab-df-quickchart-complete:disabled:hover {\n",
              "    background-color: var(--disabled-bg-color);\n",
              "    fill: var(--disabled-fill-color);\n",
              "    box-shadow: none;\n",
              "  }\n",
              "\n",
              "  .colab-df-spinner {\n",
              "    border: 2px solid var(--fill-color);\n",
              "    border-color: transparent;\n",
              "    border-bottom-color: var(--fill-color);\n",
              "    animation:\n",
              "      spin 1s steps(1) infinite;\n",
              "  }\n",
              "\n",
              "  @keyframes spin {\n",
              "    0% {\n",
              "      border-color: transparent;\n",
              "      border-bottom-color: var(--fill-color);\n",
              "      border-left-color: var(--fill-color);\n",
              "    }\n",
              "    20% {\n",
              "      border-color: transparent;\n",
              "      border-left-color: var(--fill-color);\n",
              "      border-top-color: var(--fill-color);\n",
              "    }\n",
              "    30% {\n",
              "      border-color: transparent;\n",
              "      border-left-color: var(--fill-color);\n",
              "      border-top-color: var(--fill-color);\n",
              "      border-right-color: var(--fill-color);\n",
              "    }\n",
              "    40% {\n",
              "      border-color: transparent;\n",
              "      border-right-color: var(--fill-color);\n",
              "      border-top-color: var(--fill-color);\n",
              "    }\n",
              "    60% {\n",
              "      border-color: transparent;\n",
              "      border-right-color: var(--fill-color);\n",
              "    }\n",
              "    80% {\n",
              "      border-color: transparent;\n",
              "      border-right-color: var(--fill-color);\n",
              "      border-bottom-color: var(--fill-color);\n",
              "    }\n",
              "    90% {\n",
              "      border-color: transparent;\n",
              "      border-bottom-color: var(--fill-color);\n",
              "    }\n",
              "  }\n",
              "</style>\n",
              "\n",
              "  <script>\n",
              "    async function quickchart(key) {\n",
              "      const quickchartButtonEl =\n",
              "        document.querySelector('#' + key + ' button');\n",
              "      quickchartButtonEl.disabled = true;  // To prevent multiple clicks.\n",
              "      quickchartButtonEl.classList.add('colab-df-spinner');\n",
              "      try {\n",
              "        const charts = await google.colab.kernel.invokeFunction(\n",
              "            'suggestCharts', [key], {});\n",
              "      } catch (error) {\n",
              "        console.error('Error during call to suggestCharts:', error);\n",
              "      }\n",
              "      quickchartButtonEl.classList.remove('colab-df-spinner');\n",
              "      quickchartButtonEl.classList.add('colab-df-quickchart-complete');\n",
              "    }\n",
              "    (() => {\n",
              "      let quickchartButtonEl =\n",
              "        document.querySelector('#df-24117239-9a46-4f2d-aef1-d182c232822e button');\n",
              "      quickchartButtonEl.style.display =\n",
              "        google.colab.kernel.accessAllowed ? 'block' : 'none';\n",
              "    })();\n",
              "  </script>\n",
              "</div>\n",
              "\n",
              "    </div>\n",
              "  </div>\n"
            ],
            "application/vnd.google.colaboratory.intrinsic+json": {
              "type": "dataframe",
              "variable_name": "total_abbreviations",
              "summary": "{\n  \"name\": \"total_abbreviations\",\n  \"rows\": 5798,\n  \"fields\": [\n    {\n      \"column\": \"abbreviation\",\n      \"properties\": {\n        \"dtype\": \"string\",\n        \"num_unique_values\": 5798,\n        \"samples\": [\n          \"STI\",\n          \"NRA\",\n          \"IMSS\"\n        ],\n        \"semantic_type\": \"\",\n        \"description\": \"\"\n      }\n    }\n  ]\n}"
            }
          },
          "metadata": {},
          "execution_count": 5
        }
      ],
      "source": [
        "total_abbreviations.head()"
      ]
    },
    {
      "cell_type": "code",
      "execution_count": 6,
      "metadata": {
        "id": "zXewHXmbLOGB"
      },
      "outputs": [],
      "source": [
        "mimic_train = pd.read_csv(\"drive/MyDrive/MIDS/medal_mimic_subset/diagnoses/train.csv\")\n",
        "mimic_validation = pd.read_csv(\"drive/MyDrive/MIDS/medal_mimic_subset/diagnoses/valid.csv\")\n",
        "mimic_test = pd.read_csv(\"drive/MyDrive/MIDS/medal_mimic_subset/diagnoses/test.csv\")"
      ]
    },
    {
      "cell_type": "code",
      "execution_count": 7,
      "metadata": {
        "colab": {
          "base_uri": "https://localhost:8080/",
          "height": 206
        },
        "id": "-E9Isf2k3TKF",
        "outputId": "404870fa-e7b9-41c1-db08-5e181d438bd2"
      },
      "outputs": [
        {
          "output_type": "execute_result",
          "data": {
            "text/plain": [
              "   HADM_ID  SUBJECT_ID                                               TEXT  \\\n",
              "0   146431       31916  Respiratory failure ,  acute  ( not ARDS / Doc...   \n",
              "1   116532       29487  Chief Complaint : \\n   24 Hour Events : \\n EKG...   \n",
              "2   116532       29487  No significant events overnight\\n   Renal fail...   \n",
              "3   111458       31820  Sepsis ,  Severe  ( with organ dysfunction ) \\...   \n",
              "4   116532       29487  Chief Complaint :  urosepsis ,  erspiratory fa...   \n",
              "\n",
              "   HOSPITAL_EXPIRE_FLAG                                            ICD9_ID  \n",
              "0                   1.0  5070;51881;55220;1970;1987;1983;5849;5119;V667...  \n",
              "1                   1.0  03843;5185;78552;42823;486;2762;5990;5849;7070...  \n",
              "2                   1.0  03843;5185;78552;42823;486;2762;5990;5849;7070...  \n",
              "3                   1.0  1970;5849;1578;5119;5990;0388;5582;2869;51881;...  \n",
              "4                   1.0  03843;5185;78552;42823;486;2762;5990;5849;7070...  "
            ],
            "text/html": [
              "\n",
              "  <div id=\"df-9898c992-a30f-4cfc-b647-6018eab0a286\" class=\"colab-df-container\">\n",
              "    <div>\n",
              "<style scoped>\n",
              "    .dataframe tbody tr th:only-of-type {\n",
              "        vertical-align: middle;\n",
              "    }\n",
              "\n",
              "    .dataframe tbody tr th {\n",
              "        vertical-align: top;\n",
              "    }\n",
              "\n",
              "    .dataframe thead th {\n",
              "        text-align: right;\n",
              "    }\n",
              "</style>\n",
              "<table border=\"1\" class=\"dataframe\">\n",
              "  <thead>\n",
              "    <tr style=\"text-align: right;\">\n",
              "      <th></th>\n",
              "      <th>HADM_ID</th>\n",
              "      <th>SUBJECT_ID</th>\n",
              "      <th>TEXT</th>\n",
              "      <th>HOSPITAL_EXPIRE_FLAG</th>\n",
              "      <th>ICD9_ID</th>\n",
              "    </tr>\n",
              "  </thead>\n",
              "  <tbody>\n",
              "    <tr>\n",
              "      <th>0</th>\n",
              "      <td>146431</td>\n",
              "      <td>31916</td>\n",
              "      <td>Respiratory failure ,  acute  ( not ARDS / Doc...</td>\n",
              "      <td>1.0</td>\n",
              "      <td>5070;51881;55220;1970;1987;1983;5849;5119;V667...</td>\n",
              "    </tr>\n",
              "    <tr>\n",
              "      <th>1</th>\n",
              "      <td>116532</td>\n",
              "      <td>29487</td>\n",
              "      <td>Chief Complaint : \\n   24 Hour Events : \\n EKG...</td>\n",
              "      <td>1.0</td>\n",
              "      <td>03843;5185;78552;42823;486;2762;5990;5849;7070...</td>\n",
              "    </tr>\n",
              "    <tr>\n",
              "      <th>2</th>\n",
              "      <td>116532</td>\n",
              "      <td>29487</td>\n",
              "      <td>No significant events overnight\\n   Renal fail...</td>\n",
              "      <td>1.0</td>\n",
              "      <td>03843;5185;78552;42823;486;2762;5990;5849;7070...</td>\n",
              "    </tr>\n",
              "    <tr>\n",
              "      <th>3</th>\n",
              "      <td>111458</td>\n",
              "      <td>31820</td>\n",
              "      <td>Sepsis ,  Severe  ( with organ dysfunction ) \\...</td>\n",
              "      <td>1.0</td>\n",
              "      <td>1970;5849;1578;5119;5990;0388;5582;2869;51881;...</td>\n",
              "    </tr>\n",
              "    <tr>\n",
              "      <th>4</th>\n",
              "      <td>116532</td>\n",
              "      <td>29487</td>\n",
              "      <td>Chief Complaint :  urosepsis ,  erspiratory fa...</td>\n",
              "      <td>1.0</td>\n",
              "      <td>03843;5185;78552;42823;486;2762;5990;5849;7070...</td>\n",
              "    </tr>\n",
              "  </tbody>\n",
              "</table>\n",
              "</div>\n",
              "    <div class=\"colab-df-buttons\">\n",
              "\n",
              "  <div class=\"colab-df-container\">\n",
              "    <button class=\"colab-df-convert\" onclick=\"convertToInteractive('df-9898c992-a30f-4cfc-b647-6018eab0a286')\"\n",
              "            title=\"Convert this dataframe to an interactive table.\"\n",
              "            style=\"display:none;\">\n",
              "\n",
              "  <svg xmlns=\"http://www.w3.org/2000/svg\" height=\"24px\" viewBox=\"0 -960 960 960\">\n",
              "    <path d=\"M120-120v-720h720v720H120Zm60-500h600v-160H180v160Zm220 220h160v-160H400v160Zm0 220h160v-160H400v160ZM180-400h160v-160H180v160Zm440 0h160v-160H620v160ZM180-180h160v-160H180v160Zm440 0h160v-160H620v160Z\"/>\n",
              "  </svg>\n",
              "    </button>\n",
              "\n",
              "  <style>\n",
              "    .colab-df-container {\n",
              "      display:flex;\n",
              "      gap: 12px;\n",
              "    }\n",
              "\n",
              "    .colab-df-convert {\n",
              "      background-color: #E8F0FE;\n",
              "      border: none;\n",
              "      border-radius: 50%;\n",
              "      cursor: pointer;\n",
              "      display: none;\n",
              "      fill: #1967D2;\n",
              "      height: 32px;\n",
              "      padding: 0 0 0 0;\n",
              "      width: 32px;\n",
              "    }\n",
              "\n",
              "    .colab-df-convert:hover {\n",
              "      background-color: #E2EBFA;\n",
              "      box-shadow: 0px 1px 2px rgba(60, 64, 67, 0.3), 0px 1px 3px 1px rgba(60, 64, 67, 0.15);\n",
              "      fill: #174EA6;\n",
              "    }\n",
              "\n",
              "    .colab-df-buttons div {\n",
              "      margin-bottom: 4px;\n",
              "    }\n",
              "\n",
              "    [theme=dark] .colab-df-convert {\n",
              "      background-color: #3B4455;\n",
              "      fill: #D2E3FC;\n",
              "    }\n",
              "\n",
              "    [theme=dark] .colab-df-convert:hover {\n",
              "      background-color: #434B5C;\n",
              "      box-shadow: 0px 1px 3px 1px rgba(0, 0, 0, 0.15);\n",
              "      filter: drop-shadow(0px 1px 2px rgba(0, 0, 0, 0.3));\n",
              "      fill: #FFFFFF;\n",
              "    }\n",
              "  </style>\n",
              "\n",
              "    <script>\n",
              "      const buttonEl =\n",
              "        document.querySelector('#df-9898c992-a30f-4cfc-b647-6018eab0a286 button.colab-df-convert');\n",
              "      buttonEl.style.display =\n",
              "        google.colab.kernel.accessAllowed ? 'block' : 'none';\n",
              "\n",
              "      async function convertToInteractive(key) {\n",
              "        const element = document.querySelector('#df-9898c992-a30f-4cfc-b647-6018eab0a286');\n",
              "        const dataTable =\n",
              "          await google.colab.kernel.invokeFunction('convertToInteractive',\n",
              "                                                    [key], {});\n",
              "        if (!dataTable) return;\n",
              "\n",
              "        const docLinkHtml = 'Like what you see? Visit the ' +\n",
              "          '<a target=\"_blank\" href=https://colab.research.google.com/notebooks/data_table.ipynb>data table notebook</a>'\n",
              "          + ' to learn more about interactive tables.';\n",
              "        element.innerHTML = '';\n",
              "        dataTable['output_type'] = 'display_data';\n",
              "        await google.colab.output.renderOutput(dataTable, element);\n",
              "        const docLink = document.createElement('div');\n",
              "        docLink.innerHTML = docLinkHtml;\n",
              "        element.appendChild(docLink);\n",
              "      }\n",
              "    </script>\n",
              "  </div>\n",
              "\n",
              "\n",
              "<div id=\"df-0c8839c6-af9f-4644-886a-7ab2a596439c\">\n",
              "  <button class=\"colab-df-quickchart\" onclick=\"quickchart('df-0c8839c6-af9f-4644-886a-7ab2a596439c')\"\n",
              "            title=\"Suggest charts\"\n",
              "            style=\"display:none;\">\n",
              "\n",
              "<svg xmlns=\"http://www.w3.org/2000/svg\" height=\"24px\"viewBox=\"0 0 24 24\"\n",
              "     width=\"24px\">\n",
              "    <g>\n",
              "        <path d=\"M19 3H5c-1.1 0-2 .9-2 2v14c0 1.1.9 2 2 2h14c1.1 0 2-.9 2-2V5c0-1.1-.9-2-2-2zM9 17H7v-7h2v7zm4 0h-2V7h2v10zm4 0h-2v-4h2v4z\"/>\n",
              "    </g>\n",
              "</svg>\n",
              "  </button>\n",
              "\n",
              "<style>\n",
              "  .colab-df-quickchart {\n",
              "      --bg-color: #E8F0FE;\n",
              "      --fill-color: #1967D2;\n",
              "      --hover-bg-color: #E2EBFA;\n",
              "      --hover-fill-color: #174EA6;\n",
              "      --disabled-fill-color: #AAA;\n",
              "      --disabled-bg-color: #DDD;\n",
              "  }\n",
              "\n",
              "  [theme=dark] .colab-df-quickchart {\n",
              "      --bg-color: #3B4455;\n",
              "      --fill-color: #D2E3FC;\n",
              "      --hover-bg-color: #434B5C;\n",
              "      --hover-fill-color: #FFFFFF;\n",
              "      --disabled-bg-color: #3B4455;\n",
              "      --disabled-fill-color: #666;\n",
              "  }\n",
              "\n",
              "  .colab-df-quickchart {\n",
              "    background-color: var(--bg-color);\n",
              "    border: none;\n",
              "    border-radius: 50%;\n",
              "    cursor: pointer;\n",
              "    display: none;\n",
              "    fill: var(--fill-color);\n",
              "    height: 32px;\n",
              "    padding: 0;\n",
              "    width: 32px;\n",
              "  }\n",
              "\n",
              "  .colab-df-quickchart:hover {\n",
              "    background-color: var(--hover-bg-color);\n",
              "    box-shadow: 0 1px 2px rgba(60, 64, 67, 0.3), 0 1px 3px 1px rgba(60, 64, 67, 0.15);\n",
              "    fill: var(--button-hover-fill-color);\n",
              "  }\n",
              "\n",
              "  .colab-df-quickchart-complete:disabled,\n",
              "  .colab-df-quickchart-complete:disabled:hover {\n",
              "    background-color: var(--disabled-bg-color);\n",
              "    fill: var(--disabled-fill-color);\n",
              "    box-shadow: none;\n",
              "  }\n",
              "\n",
              "  .colab-df-spinner {\n",
              "    border: 2px solid var(--fill-color);\n",
              "    border-color: transparent;\n",
              "    border-bottom-color: var(--fill-color);\n",
              "    animation:\n",
              "      spin 1s steps(1) infinite;\n",
              "  }\n",
              "\n",
              "  @keyframes spin {\n",
              "    0% {\n",
              "      border-color: transparent;\n",
              "      border-bottom-color: var(--fill-color);\n",
              "      border-left-color: var(--fill-color);\n",
              "    }\n",
              "    20% {\n",
              "      border-color: transparent;\n",
              "      border-left-color: var(--fill-color);\n",
              "      border-top-color: var(--fill-color);\n",
              "    }\n",
              "    30% {\n",
              "      border-color: transparent;\n",
              "      border-left-color: var(--fill-color);\n",
              "      border-top-color: var(--fill-color);\n",
              "      border-right-color: var(--fill-color);\n",
              "    }\n",
              "    40% {\n",
              "      border-color: transparent;\n",
              "      border-right-color: var(--fill-color);\n",
              "      border-top-color: var(--fill-color);\n",
              "    }\n",
              "    60% {\n",
              "      border-color: transparent;\n",
              "      border-right-color: var(--fill-color);\n",
              "    }\n",
              "    80% {\n",
              "      border-color: transparent;\n",
              "      border-right-color: var(--fill-color);\n",
              "      border-bottom-color: var(--fill-color);\n",
              "    }\n",
              "    90% {\n",
              "      border-color: transparent;\n",
              "      border-bottom-color: var(--fill-color);\n",
              "    }\n",
              "  }\n",
              "</style>\n",
              "\n",
              "  <script>\n",
              "    async function quickchart(key) {\n",
              "      const quickchartButtonEl =\n",
              "        document.querySelector('#' + key + ' button');\n",
              "      quickchartButtonEl.disabled = true;  // To prevent multiple clicks.\n",
              "      quickchartButtonEl.classList.add('colab-df-spinner');\n",
              "      try {\n",
              "        const charts = await google.colab.kernel.invokeFunction(\n",
              "            'suggestCharts', [key], {});\n",
              "      } catch (error) {\n",
              "        console.error('Error during call to suggestCharts:', error);\n",
              "      }\n",
              "      quickchartButtonEl.classList.remove('colab-df-spinner');\n",
              "      quickchartButtonEl.classList.add('colab-df-quickchart-complete');\n",
              "    }\n",
              "    (() => {\n",
              "      let quickchartButtonEl =\n",
              "        document.querySelector('#df-0c8839c6-af9f-4644-886a-7ab2a596439c button');\n",
              "      quickchartButtonEl.style.display =\n",
              "        google.colab.kernel.accessAllowed ? 'block' : 'none';\n",
              "    })();\n",
              "  </script>\n",
              "</div>\n",
              "\n",
              "    </div>\n",
              "  </div>\n"
            ],
            "application/vnd.google.colaboratory.intrinsic+json": {
              "type": "dataframe",
              "variable_name": "mimic_train",
              "summary": "{\n  \"name\": \"mimic_train\",\n  \"rows\": 61079,\n  \"fields\": [\n    {\n      \"column\": \"HADM_ID\",\n      \"properties\": {\n        \"dtype\": \"number\",\n        \"std\": 28640,\n        \"min\": 100003,\n        \"max\": 199972,\n        \"num_unique_values\": 6578,\n        \"samples\": [\n          100816,\n          165135,\n          114532\n        ],\n        \"semantic_type\": \"\",\n        \"description\": \"\"\n      }\n    },\n    {\n      \"column\": \"SUBJECT_ID\",\n      \"properties\": {\n        \"dtype\": \"number\",\n        \"std\": 25744,\n        \"min\": 23,\n        \"max\": 99999,\n        \"num_unique_values\": 5483,\n        \"samples\": [\n          67465,\n          23979,\n          28819\n        ],\n        \"semantic_type\": \"\",\n        \"description\": \"\"\n      }\n    },\n    {\n      \"column\": \"TEXT\",\n      \"properties\": {\n        \"dtype\": \"string\",\n        \"num_unique_values\": 60800,\n        \"samples\": [\n          \"Chief Complaint : \\n   24 Hour Events : \\n    -  looked much more awake today ,  squeezing hand ,  opening eyes on command\\n    -  attempted 3 - 31 in AM and again in PM ,  both cases became tachypneic . \\n   Has increased secretions .  Put back on 8 - 31 ,  will try to Doctor First Name 11552 with\\n   aggressive pulm toilet towards AM SBP\\n    -  family still unclear as of evening re would they reintubate\\n    -  for agitation ,  tachycardia and HTN ,  put on propofol drip at 21 : 45\\n    -  At 0100 :  7 . 41 / 40 / 45 / 26 and patient looks dusky ,  some  ? atrial ectopy . \\n   At 10 / 5 ,  FiO2 increased to 100 %  pending stat CXR ,  repeat ABG : \\n   7 . 41 / 40 / 48 / 26 .  Repeat gas at 0300 7 . 44 / 33 / 183 at 10 / 5 ,  at 70 %  .  Based on\\n   that gas dialed back to 60 %  . \\n    -  Other stat labs :  Hct 26 -  > 23 . 5 in past day .  Active T & S . \\n   Allergies : \\n   Ampicillin\\n   Rash ; \\n   Codeine\\n   Nausea / Vomiting\\n   Tetracyclines\\n   Unknown ; \\n   Last dose of Antibiotics : \\n   Infusions : \\n   Propofol  -  15 mcg / Kg / min\\n   Other ICU medications : \\n   Midazolam  ( Versed )   -  2128 - 1 - 4 05 : 32 PM\\n   Propofol  -  2128 - 1 - 4 09 : 45 PM\\n   Fentanyl  -  2128 - 1 - 5 01 : 00 AM\\n   Other medications : \\n   Changes to medical and family history : \\n   Review of systems is unchanged from admission except as noted below\\n   Review of systems : \\n   Flowsheet Data as of  2128 - 1 - 5 07 : 05 AM\\n   Vital signs\\n   Hemodynamic monitoring\\n   Fluid balance\\n                                                                  24 hours\\n                                                               Since 29 AM\\n   Tmax :  37 . 8\\nC  ( 100\\n   Tcurrent :  36 . 8\\nC  ( 98 . 2\\n   HR :  67  ( 61  -  105 )  bpm\\n   BP :  134 / 54 ( 83 )   { 105 / 43 ( 64 )   -  181 / 169 ( 176 )  }  mmHg\\n   RR :  25  ( 22  -  37 )  insp / min\\n   SpO2 :  98 % \\n   Heart rhythm :  SR  ( Sinus Rhythm ) \\n   Height :  63 Inch\\n             Total In : \\n                                                                  2 , 174 mL\\n                                                                    455 mL\\n   PO : \\n             TF : \\n                                                                    418 mL\\n                                                                    138 mL\\n   IVF : \\n                                                                  1 , 236 mL\\n                                                                    256 mL\\n   Blood products : \\n   Total out : \\n                                                                    805 mL\\n                                                                    290 mL\\n   Urine : \\n                                                                    805 mL\\n                                                                    290 mL\\n   NG : \\n   Stool : \\n   Drains : \\n   Balance : \\n                                                                  1 , 369 mL\\n                                                                    165 mL\\n   Respiratory support\\n   O2 Delivery Device :  Endotracheal tube\\n   Ventilator mode :  CPAP / PSV\\n   Vt  ( Set )  :  450  ( 450  -  450 )  mL\\n   Vt  ( Spontaneous )  :  349  ( 278  -  445 )  mL\\n   PS  :  10 cmH2O\\n   RR  ( Set )  :  8\\n   RR  ( Spontaneous )  :  34\\n   PEEP :  10 cmH2O\\n   FiO2 :  50 % \\n   RSBI Deferred :  PEEP  >  10\\n   PIP :  20 cmH2O\\n   SpO2 :  98 % \\n   ABG :  7 . 42 / 35 / 119 / 23 / 0\\n   Ve :  13 . 1 L / min\\n   PaO2  /  FiO2 :  238\\n   Physical Examination\\n   General Appearance :  No acute distress\\n   Eyes  /  Conjunctiva :  PERRL\\n   Head ,  Ears ,  Nose ,  Throat :  Normocephalic ,  Endotracheal tube ,  OG tube\\n   Cardiovascular :   ( S1 :  Normal )  ,   ( S2 :  Normal ) \\n   Peripheral Vascular :   ( Right radial pulse :  Present )  ,   ( Left radial pulse : \\n   Present )  ,   ( Right DP pulse :  Present )  ,   ( Left DP pulse :  Present ) \\n   Respiratory  /  Chest :   ( Expansion :  Symmetric ) \\n   Abdominal :  Soft ,  Non - tender ,  Bowel sounds present\\n   Extremities :  Right lower extremity edema :  Trace ,  Left lower extremity\\n   edema :  Trace\\n   Skin :   Not assessed\\n   Neurologic :  Responds to :  Not assessed ,  Movement :  Not assessed ,  Sedated , \\n   Tone :  Not assessed\\n   Labs  /  Radiology\\n   195 K / uL\\n   7 . 7 g / dL\\n   95 mg / dL\\n   3 . 1 mg / dL\\n   23 mEq / L\\n   3 . 7 mEq / L\\n   47 mg / dL\\n   109 mEq / L\\n   140 mEq / L\\n   23 . 5  % \\n   6 . 6 K / uL\\n        image002 . jpg\\n                             2128 - 1 - 4  03 : 20 AM\\n                             2128 - 1 - 4  03 : 35 AM\\n                             2128 - 1 - 4  10 : 28 PM\\n                             2128 - 1 - 5  12 : 07 AM\\n                             2128 - 1 - 5  01 : 07 AM\\n                             2128 - 1 - 5  01 : 15 AM\\n                             2128 - 1 - 5  01 : 31 AM\\n                             2128 - 1 - 5  02 : 28 AM\\n                             2128 - 1 - 5  03 : 22 AM\\n                             2128 - 1 - 5  06 : 39 AM\\n   WBC\\n   6 . 9\\n   6 . 6\\n   Hct\\n   26 . 0\\n   23 . 5\\n   Plt\\n   222\\n   195\\n   Cr\\n   3 . 5\\n   3 . 1\\n   TCO2\\n   24\\n   24\\n   25\\n   26\\n   26\\n   25\\n   23\\n   23\\n   Glucose\\n   114\\n   95\\n   Other labs :  PT  /  PTT  /  INR : 11 . 7 / 34 . 9 / 1 . 0 ,  CK  /  CKMB  /  Troponin - T : 48 /  /  , \\n   Differential - Neuts : 76 . 9  %  ,  Lymph : 17 . 4  %  ,  Mono : 4 . 4  %  ,  Eos : 0 . 8  %  ,  Lactic\\n   Acid : 0 . 6 mmol / L ,  Albumin : 2 . 9 g / dL ,  Ca +  +  : 7 . 5 mg / dL ,  Mg +  +  : 1 . 8 mg / dL , \\n   PO4 : 3 . 5 mg / dL\\n   Microbiology :  1 - 4 Sputum :  Contaminated\\n   Assessment and Plan\\n   85 F with CKD stage 4 s / p treatment of Hospital  transferred to MICU and\\n   intubated for hypoxia ,  likely secondary to mucus plugging .  Has had\\n   prior bronchs this hospitalization for same . \\n    #  Altered mental :  Head scans negative except for chronic small vessel\\n   ischemic changes .  Much more alert this AM . \\n    -  Continue sedation with midazolam boluses PRN\\n    #  Hypoxia / respiratory distress :  Respiratory status stable ,  CXR OK .  Low\\n   grade fevers ,  normal WBC count . \\n    -  Aggressive pulmonary toilet this AM\\n    -  trial of 3 - 31 ,  RSBI with SBP\\n    -  Possible extubation this afternoon\\n    -  If extubation fails :  Family would favor tracheostomy per d / w attg 1 - 2\\n    -  Daily CXR\\n    -  Nebs ,  mucomyst\\n    #  Fevers :  Low - grade .  Infectious workup unrevealing besides yeast in\\n   urine ,  which has been treated .  CXR stable .  WBC normal .  Last sputum cx 5\\n   days ago . \\n    -  Obtain sputum cx\\n    -  F / u cxs\\n    #  .  CKD4 :  Creatinine stably high .  Patient has voiced reluctance about\\n   hemodialysis in the past\\n    -  Renally - dose medications\\n    -  Monitor electrolytes\\n    -  Restart doxercalciferol  ( for secondary hyperparathyroidism ) \\n    #  .  Hypertension  &  sinus tachycardia :  Occurring in setting of sedation\\n   lightening\\n    - Continue diltiazem 60mg PO QID . \\n     -  Add Labetolol PRN for further rate  &  pressure control ,  goal SBP  < \\n   160\\n    #  .  Hypothyroidism  -  cont home levothyroxine . \\n    #  .  Hyperlipidemia  -  cont home statin\\n    #  FEN :  KVO  /  replete lytes conservatively prn given renal insufficiency\\n    /  Tube feeds per nutrition recs but will hold today\\n    #  PPX :  heparin SQ ;  will increase bowel regimen\\n    #  ACCESS :  Right radial line ,  PICC\\n    #  CODE :  FULL confirmed with patient and HCP -  Name  ( NI )  326\\n    #  CONTACT :  Name  ( NI )  435  ( son )  Telephone / Fax  ( 1 )  11501 ,  Name  ( NI )  326  ( son )  Telephone / Fax  ( 1 )  9446 both\\n   HCPs\\n    #  DISPO :  ICU\\n   ICU Care\\n   Nutrition : \\n   Glycemic Control : \\n   Lines : \\n   Arterial Line  -  2127 - 12 - 29 08 : 37 PM\\n   PICC Line  -  2128 - 1 - 2 03 : 30 PM\\n   Prophylaxis : \\n   DVT : \\n   Stress ulcer : \\n   VAP : \\n   Comments : \\n   Communication :   Comments : \\n   Code status :  Full code\\n   Disposition : \\n\",\n          \"SICU\\n   HPI : \\n   66 M with CC of neck pain x 1 week .  Presented to Hospital 97\\n   Hospital 12 - 3 for acute worsening ,  found to have lytic lesions\\n   in the body of C2 and C4 on CT .  Diagnosed with prostate CA\\n    ( multiple bony mets on presentation 3 years ago  -  treated\\n   medically .  No subjective or objective neurologic defecits .  Now s / p\\n   posterior cervical C1 - T2 laminectomy and fusion w /  autograft and\\n   instrumentation ,  L iliac crest bone graft\\n   Chief complaint : \\n   CC of neck pain x 1 week\\n   PMHx : \\n   Prostate CA  -  diagnosed 3 years ago and tx  '  d medically ,  mets\\n   to  \\\" many bones \\\"  at diagnosis  ( on lupron )  ,  HTN ,  afib\\n   Current medications : \\n   CefazoLIN 57 .  Famotidine 8HYDROmorphone  ( Dilaudid )  10 .  Insulin 12 . \\n   Metoprolol Tartrate\\n   24 Hour Events : \\n ARTERIAL LINE  -  START 2115 - 12 - 7 06 : 41 PM\\n   12 - 8 :  no leak around ETT / fever 101 . 2\\n   Allergies : \\n   No Known Drug Allergies\\n   Last dose of Antibiotics : \\n   Cefazolin  -  2115 - 12 - 8 05 : 54 PM\\n   Infusions : \\n   Other ICU medications : \\n   Famotidine  ( Pepcid )   -  2115 - 12 - 8 08 : 00 PM\\n   Hydromorphone  ( Dilaudid )   -  2115 - 12 - 8 09 : 30 PM\\n   Other medications : \\n   Flowsheet Data as of  2115 - 12 - 9 12 : 04 AM\\n   Vital signs\\n   Hemodynamic monitoring\\n   Fluid balance\\n                                                                  24 hours\\n                                                             Since 17 a . m . \\n   Tmax :  38 . 4\\nC  ( 101 . 2\\n   T current :  38 . 2\\nC  ( 100 . 8\\n   HR :  80  ( 75  -  96 )  bpm\\n   BP :  103 / 48 ( 63 )   { 99 / 48 ( 63 )   -  138 / 70 ( 88 )  }  mmHg\\n   RR :  12  ( 9  -  27 )  insp / min\\n   SPO2 :  98 % \\n   Heart rhythm :  AF  ( Atrial Fibrillation ) \\n   Height :  72 Inch\\n             Total In : \\n                                                                  3 , 888 mL\\n                                                                      2 mL\\n   PO : \\n             Tube feeding : \\n   IV Fluid : \\n                                                                  3 , 888 mL\\n                                                                      2 mL\\n   Blood products : \\n   Total out : \\n                                                                  1 , 515 mL\\n                                                                      0 mL\\n   Urine : \\n                                                                  1 , 395 mL\\n   NG : \\n   Stool : \\n   Drains : \\n                                                                    120 mL\\n   Balance : \\n                                                                  2 , 373 mL\\n                                                                      2 mL\\n   Respiratory support\\n   O2 Delivery Device :  Endotracheal tube\\n   Ventilator mode :  CPAP / PSV\\n   Vt  ( Spontaneous )  :  677  ( 434  -  708 )  mL\\n   PS  :  5 cmH2O\\n   RR  ( Spontaneous )  :  16\\n   PEEP :  5 cmH2O\\n   FiO2 :  50 % \\n   RSBI :  48\\n   PIP :  11 cmH2O\\n   SPO2 :  98 % \\n   ABG :  7 . 42 / 40 / 136 / 24 / 1\\n   Ve :  11 . 2 L / min\\n   PaO2  /  FiO2 :  272\\n   Physical Examination\\n   General Appearance :  No acute distress\\n   HEENT :  PERRL\\n   Cardiovascular :   ( Rhythm :  Regular ) \\n   Respiratory  /  Chest :   ( Expansion :  Symmetric )  ,   ( Breath Sounds :  CTA\\n   bilateral  :   )  ,   ( Sternum :  Stable  ) \\n   Abdominal :  Soft\\n   Neurologic :   ( Awake  /  Alert  /  Oriented :  No ( t )  x 3 )  ,  Follows simple\\n   commands ,   ( Responds to :  Verbal stimuli )  ,  Moves all extremities\\n   Labs  /  Radiology\\n   197 K / uL\\n   10 . 4 g / dL\\n   125 mg / dL\\n   1 . 1 mg / dL\\n   24 mEq / L\\n   3 . 7 mEq / L\\n   19 mg / dL\\n   101 mEq / L\\n   134 mEq / L\\n   29 . 3  % \\n   8 . 7 K / uL\\n        image002 . jpg\\n                            2115 - 12 - 7  07 : 24 PM\\n                            2115 - 12 - 7  08 : 18 PM\\n                            2115 - 12 - 8  02 : 44 AM\\n                            2115 - 12 - 8  05 : 10 AM\\n                            2115 - 12 - 8  11 : 03 AM\\n   WBC\\n   9 . 0\\n   8 . 7\\n   Hct\\n   29 . 4\\n   29 . 3\\n   Plt\\n   198\\n   197\\n   Creatinine\\n   1 . 2\\n   1 . 1\\n   TCO2\\n   27\\n   29\\n   27\\n   Glucose\\n   151\\n   125\\n   Other labs :  PT  /  PTT  /  INR : 13 . 9 / 27 . 2 / 1 . 2 ,  Ca : 8 . 1 mg / dL ,  Mg : 1 . 9 mg / dL , \\n   PO4 : 3 . 3 mg / dL\\n   Assessment and Plan\\n   ASSESSMENT :  66M w /  lytic cervical spine lesion from met prostate ca now\\n   s / p  posterior cervical decompression and fusion from Occiput / C1 to\\n   T3 - 4 . \\n   Neurologic :  Propofol and dilaudid prn for sedation and pain while\\n   intubated .   Stop sedation for extubation . \\n   Cardiovascular :  Afib .  No meds at home .  lopressor prn . \\n   Pulmonary :  Intubated  -  wean to ext in AM .    +  cuff leak .   Min\\n   secretions .   Extubate over catheter\\n   Gastrointestinal  /  Abdomen :  H2B\\n   Nutrition :  NPO\\n   Renal :  Foley .   Check UA . \\n   Hematology :  Boots .  Stable Hct\\n   Endocrine :  RISS\\n   ID :  Cefazolin while drain in place\\n   Lines  /  Tubes  /  Drains :  PIV ,  foley ,  aline ,  hemovac\\n   Wounds :  Posterior neck ,  Location  ( un )  239 J\\n   Imaging :  Spine film in AM\\n   Fluids :  D5NS\\n   Consults :  Hem / Onc\\n   Billing Diagnosis :  metastatic prostate cancer\\n   Prophylaxis : \\n   DVT :  boots\\n   Stress ulcer :  H2B\\n   VAP bundle :   + \\n   Comments : \\n   Communication : Comments : \\n   Code status : FULL\\n   Disposition : SICU\\n   Time spent :  35\\n   Lines : \\n   16 Gauge  -  2115 - 12 - 7 06 : 36 PM\\n   18 Gauge  -  2115 - 12 - 7 06 : 40 PM\\n   Arterial Line  -  2115 - 12 - 7 06 : 41 PM\\n    -  -  -  -  -  -  Protected Section -  -  -  -  -  - \\n    -  -  -  -  -  -  Protected Section Error Entered By : Name  ( NI )  4739 Name8  ( MD )   ,  MD\\n   on : 2115 - 12 - 9 10 : 41  -  -  -  -  -  - \\n\",\n          \"Chief Complaint :  87 yo F nursing home resident w /  CRI p / w acute on\\n   chronic renal failure ,  hyperkalemia ,  and UTI . \\n   24 Hour Events : \\n    -  K  ( 4 . 7 in AM ,  4 . 4 in PM )  .  Ca 1 . 15 / 8 . 7 in AM ,  8 . 3 in PM ,  no repletion\\n   needed\\n    -  written for epo 6000 U qMWF for CKD per renal recs .  No dialysis . \\n   Continued maintenence fluids . \\n    -  increased isordil and started hydral for BP control ,  SBPs improved to\\n   130s\\n    -  c / o blurry vision of R eye ,  progressive x1 day in PM :  blurred vision , \\n   unable to read letters ,  but able to see color in R eye .  L eye WNL . \\n   Denies H / A .  Neuro exam WNL .  Scratch on cornea on R eye .  Wears glasses , \\n   does not have them with her .  Less likely temporal arteritis ,  no other\\n   focal neuro findings on exam c / f TIA / CVA .  Wrote for artificial tears . \\n   History obtained from Patient\\n   Allergies : \\n   History obtained from PatientPenicillins\\n   Unknown ; \\n   Bactrim  ( Oral )   ( Sulfamethoxazole / Trimethoprim ) \\n   Unknown ; \\n   Clindamycin\\n   Unknown ; \\n   Levofloxacin\\n   Unknown ; \\n   Last dose of Antibiotics : \\n   Ceftazidime  -  2110 - 1 - 14 02 : 00 PM\\n   Infusions : \\n   Other ICU medications : \\n   Heparin Sodium  -  2110 - 1 - 14 04 : 00 PM\\n   Heparin Sodium  ( Prophylaxis )   -  2110 - 1 - 15 12 : 00 AM\\n   Other medications : \\n   Sodium chloride nasal spray\\n   Artificial tears\\n   Hydralazine 10 mg PO q6H\\n   Isordil 20 mg PO BID\\n   Epo qMWF\\n   Ceftazadime 1 gm q48H\\n   Tylenol\\n   Simvastatin 40 mg PO daily\\n   Heparin SQ\\n   Omeprazole 20 mg PO daily\\n   Folic Acid\\n   Clonidine Patch 0 . 2 qTuesday\\n   Atenolol 75 mg PO daily\\n   ASA 325 mg PO daily\\n   Amlodipine 10 mg PO daily\\n   Zofran\\n   Changes to medical and family history : \\n   Review of systems is unchanged from admission except as noted below\\n   Review of systems : \\n   Eyes :   Blurry vision\\n   Ear ,  Nose ,  Throat :  No ( t )  Dry mouth\\n   Flowsheet Data as of  2110 - 1 - 15 06 : 14 AM\\n   Vital signs\\n   Hemodynamic monitoring\\n   Fluid balance\\n                                                                  24 hours\\n                                                               Since 12 AM\\n   Tmax :  36 . 8\\nC  ( 98 . 2\\n   Tcurrent :  35 . 3\\nC  ( 95 . 6\\n   HR :  59  ( 53  -  67 )  bpm\\n   BP :  138 / 61 ( 78 )   { 111 / 38 ( 56 )   -  173 / 106 ( 118 )  }  mmHg\\n   RR :  15  ( 10  -  18 )  insp / min\\n   SpO2 :  99 % \\n   Heart rhythm :  SB  ( Sinus Bradycardia ) \\n   Height :  64 Inch\\n             Total In : \\n                                                                  2 , 958 mL\\n                                                                    550 mL\\n   PO : \\n                                                                    500 mL\\n             TF : \\n   IVF : \\n                                                                  2 , 408 mL\\n                                                                    550 mL\\n   Blood products : \\n   Total out : \\n                                                                  1 , 285 mL\\n                                                                    350 mL\\n   Urine : \\n                                                                  1 , 285 mL\\n                                                                    350 mL\\n   NG : \\n   Stool : \\n   Drains : \\n   Balance : \\n                                                                  1 , 673 mL\\n                                                                    200 mL\\n   Respiratory support\\n   O2 Delivery Device :  None\\n   SpO2 :  99 % \\n   ABG :   /  /  / 20 / \\n   Physical Examination\\n   General Appearance :  Thin\\n   Eyes  /  Conjunctiva :  PERRL ,  blurry vision in R eye\\n   Head ,  Ears ,  Nose ,  Throat :  Normocephalic\\n   Lymphatic :  Cervical WNL\\n   Cardiovascular :   ( S1 :  Normal )  ,   ( S2 :  Normal )  ,  no rubs\\n   Peripheral Vascular :   ( Right radial pulse :  Not assessed )  ,   ( Left radial\\n   pulse :  Not assessed )  ,   ( Right DP pulse :  Diminished )  ,   ( Left DP pulse : \\n   Diminished ) \\n   Respiratory  /  Chest :   ( Expansion :  Symmetric )  ,   ( Percussion :  Resonant  :   )  , \\n    ( Breath Sounds :  Clear  :   ) \\n   Abdominal :  Soft ,  Non - tender ,  Bowel sounds present\\n   Extremities :  Right :  Absent ,  Left :  Absent\\n   Skin :   Not assessed\\n   Neurologic :  Attentive ,  Responds to :  Not assessed ,  Oriented  ( to )  : \\n   person ,  place ,  time ,  Movement :  Not assessed ,  Tone :  Not assessed\\n   Labs  /  Radiology\\n   150 K / uL\\n   8 . 5 g / dL\\n   104 mg / dL\\n   4 . 9 mg / dL\\n   20 mEq / L\\n   4 . 2 mEq / L\\n   132 mg / dL\\n   106 mEq / L\\n   141 mEq / L\\n   24 . 5  % \\n   7 . 5 K / uL\\n        image002 . jpg\\n                            2110 - 1 - 14  01 : 25 AM\\n                            2110 - 1 - 14  02 : 00 AM\\n                            2110 - 1 - 14  05 : 25 AM\\n                            2110 - 1 - 14  10 : 41 AM\\n                            2110 - 1 - 14  10 : 20 PM\\n                            2110 - 1 - 15  04 : 10 AM\\n   WBC\\n   10 . 5\\n   7 . 5\\n   Hct\\n   26 . 0\\n   25 . 1\\n   24 . 5\\n   Plt\\n   154\\n   150\\n   Cr\\n   7 . 2\\n   7 . 4\\n   6 . 7\\n   6 . 3\\n   5 . 4\\n   4 . 9\\n   TropT\\n   0 . 03\\n   Glucose\\n   76\\n   114\\n   104\\n   Other labs :  CK  /  CKMB  /  Troponin - T : 47 / 4 / 0 . 03 ,  Lactic Acid : 1 . 2 mmol / L , \\n   Ca +  +  : 8 . 0 mg / dL ,  Mg +  +  : 2 . 4 mg / dL ,  PO4 : 5 . 3 mg / dL\\n   Assessment and Plan\\n RENAL FAILURE ,  CHRONIC  ( CHRONIC RENAL FAILURE ,  CRF ,  CHRONIC KIDNEY\\n   DISEASE ) \\n HYPERKALEMIA  ( HIGH POTASSIUM ,  HYPERPOTASSEMIA ) \\n ALTERED MENTAL STATUS  ( NOT DELIRIUM ) \\n   ICU Care\\n   Nutrition : \\n   Comments :  PO diet\\n   Glycemic Control :   Regular insulin sliding scale\\n   Lines : \\n   18 Gauge  -  2110 - 1 - 14 12 : 59 AM\\n   22 Gauge  -  2110 - 1 - 14 08 : 30 AM\\n   Prophylaxis : \\n   DVT :  SQ UF Heparin\\n   Stress ulcer :  Not indicated\\n   VAP : \\n   Comments :  not indicated\\n   Communication :   Comments : \\n   Code status :  Full code\\n   Disposition : Transfer to floor\\n\"\n        ],\n        \"semantic_type\": \"\",\n        \"description\": \"\"\n      }\n    },\n    {\n      \"column\": \"HOSPITAL_EXPIRE_FLAG\",\n      \"properties\": {\n        \"dtype\": \"number\",\n        \"std\": 0.48694742104449934,\n        \"min\": 0.0,\n        \"max\": 1.0,\n        \"num_unique_values\": 2,\n        \"samples\": [\n          0.0,\n          1.0\n        ],\n        \"semantic_type\": \"\",\n        \"description\": \"\"\n      }\n    },\n    {\n      \"column\": \"ICD9_ID\",\n      \"properties\": {\n        \"dtype\": \"category\",\n        \"num_unique_values\": 6576,\n        \"samples\": [\n          \"75169;42741;9971;49390;57511\",\n          \"42831;51881;V420;2760;70703;4280;4589;4019;41400;V4581;25001;42731\"\n        ],\n        \"semantic_type\": \"\",\n        \"description\": \"\"\n      }\n    }\n  ]\n}"
            }
          },
          "metadata": {},
          "execution_count": 7
        }
      ],
      "source": [
        "mimic_train.head()"
      ]
    },
    {
      "cell_type": "code",
      "execution_count": 8,
      "metadata": {
        "colab": {
          "base_uri": "https://localhost:8080/"
        },
        "id": "SYspOEarL7fd",
        "outputId": "16345d4f-d4d8-4604-a5eb-006c47adffbd"
      },
      "outputs": [
        {
          "output_type": "execute_result",
          "data": {
            "text/plain": [
              "61079"
            ]
          },
          "metadata": {},
          "execution_count": 8
        }
      ],
      "source": [
        "len(mimic_train)"
      ]
    },
    {
      "cell_type": "code",
      "execution_count": 9,
      "metadata": {
        "colab": {
          "base_uri": "https://localhost:8080/",
          "height": 208,
          "referenced_widgets": [
            "1cf209f4ec2e42d1ace9001e74ad5657",
            "499238944e494b3582c749daf423f66d",
            "b26cb9b6b1854161b6ba43f7c7384475",
            "07600f636daa46029baf3bce2460bf62",
            "7a640dd996aa4242ad2b11b83dc5a377",
            "6048ff0fd7fb4302a0ca15662cd4d47b",
            "dc0218aac240406aa67f1041fb25dedc",
            "00823a4f0f11404ba32b1b5380cba8ec",
            "7061f5ffded04d718f83d37fc202af5b",
            "0e9309d9ad30448597863fcb13b2bd5f",
            "3f45b7b9dd6c481ead34ff56c36e77c0",
            "c22679649a674d4d84496bee6826dd73",
            "4f15f651a868476eb6b09d55ea6fe5e8",
            "029116311c7c44bcabc655268c338188",
            "718c1547870643a7a5fde7ca2e41008f",
            "8183dccf93f8452e9a5e7cf34321298c",
            "be1d94b54680409597434b0f1391eb0c",
            "d82bf752110f4d53a38918609b193446",
            "defeab2285be43359bee24f99047c96d",
            "84a2624fe96a43bbb1b91ecd30f857cf",
            "51080fe230604411806c565e200e579c",
            "11f1f8c12cef44769c9c612d70e8845d"
          ]
        },
        "id": "qpX26n6YMKzm",
        "outputId": "c17b3cc5-382d-427e-d30a-2bad8cf07b72"
      },
      "outputs": [
        {
          "output_type": "stream",
          "name": "stderr",
          "text": [
            "/usr/local/lib/python3.10/dist-packages/huggingface_hub/utils/_token.py:89: UserWarning: \n",
            "The secret `HF_TOKEN` does not exist in your Colab secrets.\n",
            "To authenticate with the Hugging Face Hub, create a token in your settings tab (https://huggingface.co/settings/tokens), set it as secret in your Google Colab and restart your session.\n",
            "You will be able to reuse this secret in all of your notebooks.\n",
            "Please note that authentication is recommended but still optional to access public models or datasets.\n",
            "  warnings.warn(\n"
          ]
        },
        {
          "output_type": "display_data",
          "data": {
            "text/plain": [
              "vocab.txt:   0%|          | 0.00/232k [00:00<?, ?B/s]"
            ],
            "application/vnd.jupyter.widget-view+json": {
              "version_major": 2,
              "version_minor": 0,
              "model_id": "1cf209f4ec2e42d1ace9001e74ad5657"
            }
          },
          "metadata": {}
        },
        {
          "output_type": "display_data",
          "data": {
            "text/plain": [
              "config.json:   0%|          | 0.00/499 [00:00<?, ?B/s]"
            ],
            "application/vnd.jupyter.widget-view+json": {
              "version_major": 2,
              "version_minor": 0,
              "model_id": "c22679649a674d4d84496bee6826dd73"
            }
          },
          "metadata": {}
        }
      ],
      "source": [
        "model_checkpoint = 'NLP4H/ms_bert'\n",
        "bert_tokenizer = BertTokenizerFast.from_pretrained(model_checkpoint)"
      ]
    },
    {
      "cell_type": "code",
      "execution_count": 10,
      "metadata": {
        "id": "pn8_CUkIxES2"
      },
      "outputs": [],
      "source": [
        "def make_lower(text):\n",
        "  return text.lower()\n",
        "\n",
        "total_abbreviations['abbreviation'] = total_abbreviations['abbreviation'].apply(make_lower)"
      ]
    },
    {
      "cell_type": "code",
      "execution_count": 11,
      "metadata": {
        "id": "BFrZLDpqSy02"
      },
      "outputs": [],
      "source": [
        "abbreviations = set(total_abbreviations.abbreviation)\n",
        "\n",
        "def has_any_abbreviation(text):\n",
        "    words = set(text.lower().split())\n",
        "    found = words.intersection(abbreviations)\n",
        "    return bool(found)\n",
        "\n",
        "mimic_train_subset = mimic_train.loc[mimic_train.TEXT.apply(has_any_abbreviation)]\n",
        "mimic_validation_subset = mimic_validation.loc[mimic_validation.TEXT.apply(has_any_abbreviation)]\n",
        "mimic_test_subset = mimic_test.loc[mimic_test.TEXT.apply(has_any_abbreviation)]"
      ]
    },
    {
      "cell_type": "code",
      "execution_count": 12,
      "metadata": {
        "colab": {
          "base_uri": "https://localhost:8080/"
        },
        "id": "rYu1QbWEW9LI",
        "outputId": "cd8134f0-0e1c-4745-de3f-152174e6d8b0"
      },
      "outputs": [
        {
          "output_type": "stream",
          "name": "stdout",
          "text": [
            "Train: 60682 out of 61079\n",
            "Validation: 9198 out of 9258\n",
            "Test: 14191 out of 14287\n"
          ]
        }
      ],
      "source": [
        "print(f\"Train: {len(mimic_train_subset)} out of {len(mimic_train)}\")\n",
        "print(f\"Validation: {len(mimic_validation_subset)} out of {len(mimic_validation)}\")\n",
        "print(f\"Test: {len(mimic_test_subset)} out of {len(mimic_test)}\")"
      ]
    },
    {
      "cell_type": "code",
      "execution_count": 13,
      "metadata": {
        "colab": {
          "base_uri": "https://localhost:8080/"
        },
        "id": "2AM28zpXI89k",
        "outputId": "62b62827-1618-4cef-ab1b-a4dd1ab45d30"
      },
      "outputs": [
        {
          "output_type": "execute_result",
          "data": {
            "text/plain": [
              "0.6145150126891006"
            ]
          },
          "metadata": {},
          "execution_count": 13
        }
      ],
      "source": [
        "np.average(mimic_train_subset.HOSPITAL_EXPIRE_FLAG)"
      ]
    },
    {
      "cell_type": "code",
      "execution_count": 14,
      "metadata": {
        "colab": {
          "base_uri": "https://localhost:8080/"
        },
        "id": "aCNgr8O1cEmD",
        "outputId": "f393f3b9-f8ed-46e2-ec2c-87c7383d0da2"
      },
      "outputs": [
        {
          "output_type": "execute_result",
          "data": {
            "text/plain": [
              "5483"
            ]
          },
          "metadata": {},
          "execution_count": 14
        }
      ],
      "source": [
        "mimic_train_subset.SUBJECT_ID.nunique()"
      ]
    },
    {
      "cell_type": "code",
      "execution_count": 15,
      "metadata": {
        "colab": {
          "base_uri": "https://localhost:8080/"
        },
        "id": "AMczY2k661jW",
        "outputId": "f545d221-e558-423d-f26e-d508bd96da9e"
      },
      "outputs": [
        {
          "output_type": "stream",
          "name": "stdout",
          "text": [
            "512\n",
            "No significant events overnight\n",
            "   Renal failure ,  Chronic  ( Chronic renal failure ,  CRF ,  Chronic kidney\n",
            "   disease ) \n",
            "   Assessment : \n",
            "   U / O remains extremely low  ~  10 cc / hr ,  total body overloaded w /  4 + \n",
            "   pitting edema x all 4 extremities\n",
            "   Action : \n",
            "   All meds renally dosed ,  no fluid boluses overnight\n",
            "   Response : \n",
            "   Plan : \n",
            "   Cont to trend changes in BUN / CR ,  renally dose all meds ,  nephrology may\n",
            "   need to re evaluate if urine output does not improve . \n",
            "   Pain control  ( acute pain ,  chronic pain ) \n",
            "   Assessment : \n",
            "   Sedated on fent / midaz grimaces during turns / repositioning\n",
            "   Action : \n",
            "   Fent boluses prior to turning ,  lido patch off  @  00 : 00\n",
            "   Response : \n",
            "   Continues to experience pain\n",
            "   Plan : \n",
            "   Continue w /  current pain / sedation regimen ,  ortho consult to evaluate\n",
            "   for septic L hip . \n",
            "\n",
            "[CLS] no significant events overnight renal failure, chronic ( chronic renal failure, crf, chronic kidney disease ) assessment : u / o remains extremely low ~ 10 cc / hr, total body overloaded w / 4 + pitting edema x all 4 extremities action : all meds renally dosed, no fluid boluses overnight response : plan : cont to trend changes in bun / cr, renally dose all meds, nephrology may need to re evaluate if urine output does not improve. pain control ( acute pain, chronic pain ) assessment : sedated on fent / midaz grimaces during turns / repositioning action : fent boluses prior to turning, lido patch off @ 00 : 00 response : continues to experience pain plan : continue w / current pain / sedation regimen, ortho consult to evaluate for septic l hip. [SEP] [PAD] [PAD] [PAD] [PAD] [PAD] [PAD] [PAD] [PAD] [PAD] [PAD] [PAD] [PAD] [PAD] [PAD] [PAD] [PAD] [PAD] [PAD] [PAD] [PAD] [PAD] [PAD] [PAD] [PAD] [PAD] [PAD] [PAD] [PAD] [PAD] [PAD] [PAD] [PAD] [PAD] [PAD] [PAD] [PAD] [PAD] [PAD] [PAD] [PAD] [PAD] [PAD] [PAD] [PAD] [PAD] [PAD] [PAD] [PAD] [PAD] [PAD] [PAD] [PAD] [PAD] [PAD] [PAD] [PAD] [PAD] [PAD] [PAD] [PAD] [PAD] [PAD] [PAD] [PAD] [PAD] [PAD] [PAD] [PAD] [PAD] [PAD] [PAD] [PAD] [PAD] [PAD] [PAD] [PAD] [PAD] [PAD] [PAD] [PAD] [PAD] [PAD] [PAD] [PAD] [PAD] [PAD] [PAD] [PAD] [PAD] [PAD] [PAD] [PAD] [PAD] [PAD] [PAD] [PAD] [PAD] [PAD] [PAD] [PAD] [PAD] [PAD] [PAD] [PAD] [PAD] [PAD] [PAD] [PAD] [PAD] [PAD] [PAD] [PAD] [PAD] [PAD] [PAD] [PAD] [PAD] [PAD] [PAD] [PAD] [PAD] [PAD] [PAD] [PAD] [PAD] [PAD] [PAD] [PAD] [PAD] [PAD] [PAD] [PAD] [PAD] [PAD] [PAD] [PAD] [PAD] [PAD] [PAD] [PAD] [PAD] [PAD] [PAD] [PAD] [PAD] [PAD] [PAD] [PAD] [PAD] [PAD] [PAD] [PAD] [PAD] [PAD] [PAD] [PAD] [PAD] [PAD] [PAD] [PAD] [PAD] [PAD] [PAD] [PAD] [PAD] [PAD] [PAD] [PAD] [PAD] [PAD] [PAD] [PAD] [PAD] [PAD] [PAD] [PAD] [PAD] [PAD] [PAD] [PAD] [PAD] [PAD] [PAD] [PAD] [PAD] [PAD] [PAD] [PAD] [PAD] [PAD] [PAD] [PAD] [PAD] [PAD] [PAD] [PAD] [PAD] [PAD] [PAD] [PAD] [PAD] [PAD] [PAD] [PAD] [PAD] [PAD] [PAD] [PAD] [PAD] [PAD] [PAD] [PAD] [PAD] [PAD] [PAD] [PAD] [PAD] [PAD] [PAD] [PAD] [PAD] [PAD] [PAD] [PAD] [PAD] [PAD] [PAD] [PAD] [PAD] [PAD] [PAD] [PAD] [PAD] [PAD] [PAD] [PAD] [PAD] [PAD] [PAD] [PAD] [PAD] [PAD] [PAD] [PAD] [PAD] [PAD] [PAD] [PAD] [PAD] [PAD] [PAD] [PAD] [PAD] [PAD] [PAD] [PAD] [PAD] [PAD] [PAD] [PAD] [PAD] [PAD] [PAD] [PAD] [PAD] [PAD] [PAD] [PAD] [PAD] [PAD] [PAD] [PAD] [PAD] [PAD] [PAD] [PAD] [PAD] [PAD] [PAD] [PAD] [PAD] [PAD] [PAD] [PAD] [PAD] [PAD] [PAD] [PAD] [PAD] [PAD] [PAD] [PAD] [PAD] [PAD] [PAD] [PAD] [PAD] [PAD] [PAD] [PAD] [PAD] [PAD] [PAD] [PAD] [PAD] [PAD] [PAD] [PAD] [PAD] [PAD] [PAD] [PAD] [PAD] [PAD] [PAD] [PAD] [PAD] [PAD] [PAD] [PAD] [PAD] [PAD] [PAD] [PAD] [PAD] [PAD]\n"
          ]
        }
      ],
      "source": [
        "MAX_LENGTH = 512\n",
        "\n",
        "def head_and_tail(tokens, total_size=MAX_LENGTH):\n",
        "    \"\"\"Build an array of size <total_size> using the head and tail ends of the input array\"\"\"\n",
        "    half = int(total_size / 2)\n",
        "    if len(tokens) <= total_size:\n",
        "        return tokens\n",
        "    head = tokens[:half]\n",
        "    tail = tokens[-half:]\n",
        "    return np.concatenate([head, tail])\n",
        "\n",
        "\n",
        "def tokenize(texts):\n",
        "    \"\"\"\n",
        "    Tokenize an array of text inputs for bert, and take the head and tail of\n",
        "    each set of bert inputs. Returns a tuple of three arrays: input_ids, token_type_ids,\n",
        "    and attention_mask.\n",
        "    \"\"\"\n",
        "    input_ids_list = []\n",
        "    token_type_ids_list = []\n",
        "    attention_mask_list = []\n",
        "\n",
        "    for text in texts:\n",
        "        bert_output = bert_tokenizer(\n",
        "            text, padding=\"max_length\", return_tensors=\"tf\", max_length=MAX_LENGTH\n",
        "        )\n",
        "        input_ids = bert_output[\"input_ids\"][0]\n",
        "        token_type_ids = bert_output[\"token_type_ids\"][0]\n",
        "        attention_mask = bert_output[\"attention_mask\"][0]\n",
        "\n",
        "        input_ids_list.append(head_and_tail(input_ids))\n",
        "        token_type_ids_list.append(head_and_tail(token_type_ids))\n",
        "        attention_mask_list.append(head_and_tail(attention_mask))\n",
        "\n",
        "    return np.array(input_ids_list), np.array(token_type_ids_list), np.array(attention_mask_list)\n",
        "\n",
        "\n",
        "# tester = np.array([1,2,3,4,5,6,7,8,9,0])\n",
        "# print(head_and_tail(tester, 4))\n",
        "examples = mimic_train.TEXT[0:3].tolist()\n",
        "input_ids, token_type_ids, attention_mask = tokenize(examples)\n",
        "\n",
        "print(len(input_ids[2]))\n",
        "print(examples[2])\n",
        "print(bert_tokenizer.decode(input_ids[2]))\n",
        "\n",
        "\n"
      ]
    },
    {
      "cell_type": "code",
      "execution_count": 16,
      "metadata": {
        "id": "nItFSzq5Jwha"
      },
      "outputs": [],
      "source": [
        "#tokenizing subsets\n",
        "mimic_train_subset_inputs = tokenize(mimic_train_subset.TEXT.tolist())\n",
        "mimic_validation_subset_inputs = tokenize(mimic_validation_subset.TEXT.tolist())\n",
        "mimic_test_subset_inputs = tokenize(mimic_test_subset.TEXT.tolist())"
      ]
    },
    {
      "cell_type": "code",
      "execution_count": 17,
      "metadata": {
        "id": "5Xu3Xn8tLk9w"
      },
      "outputs": [],
      "source": [
        "mimic_train_subset_labels = mimic_train_subset.HOSPITAL_EXPIRE_FLAG.to_numpy(np.int32)\n",
        "mimic_validation_subset_labels = mimic_validation_subset.HOSPITAL_EXPIRE_FLAG.to_numpy(np.int32)\n",
        "mimic_test_subset_labels = mimic_test_subset.HOSPITAL_EXPIRE_FLAG.to_numpy(np.int32)"
      ]
    },
    {
      "cell_type": "code",
      "execution_count": 18,
      "metadata": {
        "id": "Yjk2sS9zNK9Y"
      },
      "outputs": [],
      "source": [
        "def create_bert_ms_model(\n",
        "    model_checkpoint,\n",
        "    max_sequence_length=MAX_LENGTH,\n",
        "    hidden_size=100,\n",
        "    dropout=0.3,\n",
        "    learning_rate=0.00005\n",
        "):\n",
        "    \"\"\"\n",
        "    Build a simple classification model with BERT. Use the pooler Token output for classification purposes.\n",
        "    \"\"\"\n",
        "\n",
        "    tf.keras.backend.clear_session()\n",
        "\n",
        "    input_ids = tf.keras.layers.Input(shape=(MAX_LENGTH,), dtype=tf.int32, name='input_ids_layer')\n",
        "    token_type_ids = tf.keras.layers.Input(shape=(MAX_LENGTH,), dtype=tf.int32, name='token_type_ids_layer')\n",
        "    attention_mask = tf.keras.layers.Input(shape=(MAX_LENGTH,), dtype=tf.int32, name='attention_mask_layer')\n",
        "\n",
        "    bert_inputs = {'input_ids': input_ids,\n",
        "                   'token_type_ids': token_type_ids,\n",
        "                   'attention_mask': attention_mask}\n",
        "\n",
        "    bert_model = TFBertModel.from_pretrained(model_checkpoint)\n",
        "    bert_out = bert_model(bert_inputs)\n",
        "    pooler_token = bert_out[1]\n",
        "\n",
        "    hidden = tf.keras.layers.Dense(hidden_size, activation='relu', name='hidden_layer')(pooler_token)\n",
        "    hidden = tf.keras.layers.Dropout(dropout)(hidden)\n",
        "\n",
        "\n",
        "    classification = tf.keras.layers.Dense(1, activation='sigmoid',name='classification_layer')(hidden)\n",
        "\n",
        "    classification_model = tf.keras.Model(inputs=[input_ids, token_type_ids, attention_mask], outputs=[classification])\n",
        "\n",
        "    classification_model.compile(optimizer=tf.keras.optimizers.Adam(learning_rate=learning_rate),\n",
        "                                 loss=tf.keras.losses.BinaryCrossentropy(from_logits=False),\n",
        "                                 metrics='accuracy')\n",
        "\n",
        "    return classification_model"
      ]
    },
    {
      "cell_type": "code",
      "execution_count": 19,
      "metadata": {
        "id": "K_IBup0B2x2B",
        "outputId": "2217f428-0a41-45ff-d101-18c25c90c1e6",
        "colab": {
          "base_uri": "https://localhost:8080/"
        }
      },
      "outputs": [
        {
          "output_type": "stream",
          "name": "stderr",
          "text": [
            "All model checkpoint layers were used when initializing TFBertModel.\n",
            "\n",
            "All the layers of TFBertModel were initialized from the model checkpoint at drive/MyDrive/MIDS/model_checkpoints/embeddings_ms/msbert_model_pretrained.\n",
            "If your task is similar to the task the model of the checkpoint was trained on, you can already use TFBertModel for predictions without further training.\n"
          ]
        },
        {
          "output_type": "stream",
          "name": "stdout",
          "text": [
            "Model: \"model\"\n",
            "__________________________________________________________________________________________________\n",
            " Layer (type)                Output Shape                 Param #   Connected to                  \n",
            "==================================================================================================\n",
            " attention_mask_layer (Inpu  [(None, 512)]                0         []                            \n",
            " tLayer)                                                                                          \n",
            "                                                                                                  \n",
            " input_ids_layer (InputLaye  [(None, 512)]                0         []                            \n",
            " r)                                                                                               \n",
            "                                                                                                  \n",
            " token_type_ids_layer (Inpu  [(None, 512)]                0         []                            \n",
            " tLayer)                                                                                          \n",
            "                                                                                                  \n",
            " tf_bert_model (TFBertModel  TFBaseModelOutputWithPooli   1094822   ['attention_mask_layer[0][0]',\n",
            " )                           ngAndCrossAttentions(last_   40         'input_ids_layer[0][0]',     \n",
            "                             hidden_state=(None, 512, 7              'token_type_ids_layer[0][0]']\n",
            "                             68),                                                                 \n",
            "                              pooler_output=(None, 768)                                           \n",
            "                             , past_key_values=None, hi                                           \n",
            "                             dden_states=None, attentio                                           \n",
            "                             ns=None, cross_attentions=                                           \n",
            "                             None)                                                                \n",
            "                                                                                                  \n",
            " hidden_layer (Dense)        (None, 100)                  76900     ['tf_bert_model[0][1]']       \n",
            "                                                                                                  \n",
            " dropout_37 (Dropout)        (None, 100)                  0         ['hidden_layer[0][0]']        \n",
            "                                                                                                  \n",
            " classification_layer (Dens  (None, 1)                    101       ['dropout_37[0][0]']          \n",
            " e)                                                                                               \n",
            "                                                                                                  \n",
            "==================================================================================================\n",
            "Total params: 109559241 (417.94 MB)\n",
            "Trainable params: 109559241 (417.94 MB)\n",
            "Non-trainable params: 0 (0.00 Byte)\n",
            "__________________________________________________________________________________________________\n"
          ]
        }
      ],
      "source": [
        "mortality_ms_bert_model = create_bert_ms_model(model_checkpoint='drive/MyDrive/MIDS/model_checkpoints/embeddings_ms/msbert_model_pretrained')\n",
        "mortality_ms_bert_model.summary()"
      ]
    },
    {
      "cell_type": "code",
      "execution_count": 20,
      "metadata": {
        "id": "O1jeSx4rYXl8"
      },
      "outputs": [],
      "source": [
        "checkpoint_dir = 'drive/MyDrive/MIDS/model_checkpoints/mortality_ms_downstream/'\n",
        "checkpoint_filepath = checkpoint_dir + 'weights.{epoch:02d}-{val_accuracy:.2f}.model.keras'\n",
        "model_checkpoint_callback = tf.keras.callbacks.ModelCheckpoint(\n",
        "    filepath=checkpoint_filepath,\n",
        "    save_weights_only=False,\n",
        ")"
      ]
    },
    {
      "cell_type": "code",
      "source": [
        "mortality_ms_history = mortality_ms_bert_model.fit(\n",
        "    mimic_train_subset_inputs,\n",
        "    mimic_train_subset_labels,\n",
        "    epochs=2,\n",
        "    batch_size=32,\n",
        "    validation_data=(mimic_validation_subset_inputs, mimic_validation_subset_labels),\n",
        "    shuffle = True,\n",
        "    callbacks=[model_checkpoint_callback],\n",
        ")"
      ],
      "metadata": {
        "id": "Bd5ojBL3g5yh",
        "outputId": "59201b20-18e6-41fe-c1a1-d6546e0812fa",
        "colab": {
          "base_uri": "https://localhost:8080/"
        }
      },
      "execution_count": 21,
      "outputs": [
        {
          "output_type": "stream",
          "name": "stdout",
          "text": [
            "Epoch 1/2\n",
            "1897/1897 [==============================] - ETA: 0s - loss: 0.3687 - accuracy: 0.8425"
          ]
        },
        {
          "output_type": "stream",
          "name": "stderr",
          "text": [
            "/usr/local/lib/python3.10/dist-packages/transformers/generation/tf_utils.py:465: UserWarning: `seed_generator` is deprecated and will be removed in a future version.\n",
            "  warnings.warn(\"`seed_generator` is deprecated and will be removed in a future version.\", UserWarning)\n"
          ]
        },
        {
          "output_type": "stream",
          "name": "stdout",
          "text": [
            "\b\b\b\b\b\b\b\b\b\b\b\b\b\b\b\b\b\b\b\b\b\b\b\b\b\b\b\b\b\b\b\b\b\b\b\b\b\b\b\b\b\b\b\b\b\b\b\b\b\b\b\b\b\b\b\b\b\b\b\b\b\b\b\b\b\b\b\b\b\b\b\b\b\b\b\b\b\b\b\b\b\b\b\b\b\b\r1897/1897 [==============================] - 885s 447ms/step - loss: 0.3687 - accuracy: 0.8425 - val_loss: 0.3804 - val_accuracy: 0.8524\n",
            "Epoch 2/2\n",
            "1897/1897 [==============================] - 844s 445ms/step - loss: 0.2025 - accuracy: 0.9252 - val_loss: 0.4593 - val_accuracy: 0.8494\n"
          ]
        }
      ]
    },
    {
      "cell_type": "code",
      "source": [
        "import json\n",
        "with open('drive/MyDrive/MIDS/model_checkpoints/mortality_ms_downstream/history.json', 'w') as f:\n",
        "    json.dump(mortality_ms_history.history, f)"
      ],
      "metadata": {
        "id": "oZrdG-c2fHBP"
      },
      "execution_count": 22,
      "outputs": []
    },
    {
      "cell_type": "code",
      "source": [
        "results = mortality_ms_bert_model.evaluate(mimic_test_subset_inputs, mimic_test_subset_labels)\n",
        "print(f\"Test loss: {results[0]}\\nTest accuracy: {results[1]}\")"
      ],
      "metadata": {
        "colab": {
          "base_uri": "https://localhost:8080/"
        },
        "id": "nTl6Nj86lu5r",
        "outputId": "c93d8ca1-796e-4d39-dcc8-8a79d9d7a97a"
      },
      "execution_count": 23,
      "outputs": [
        {
          "output_type": "stream",
          "name": "stdout",
          "text": [
            "444/444 [==============================] - 65s 147ms/step - loss: 0.6675 - accuracy: 0.7816\n",
            "Test loss: 0.6675019264221191\n",
            "Test accuracy: 0.7815516591072083\n"
          ]
        }
      ]
    },
    {
      "cell_type": "code",
      "execution_count": 24,
      "metadata": {
        "id": "JKmSWBCpo6O_"
      },
      "outputs": [],
      "source": [
        "from sklearn.metrics import f1_score, precision_score, recall_score, classification_report, confusion_matrix"
      ]
    },
    {
      "cell_type": "code",
      "source": [
        "#calculate F1, precision, recall\n",
        "y_pred = mortality_ms_bert_model.predict(mimic_test_subset_inputs)\n"
      ],
      "metadata": {
        "id": "UfC8iiaRiqJb",
        "outputId": "d0a47f79-bf49-4b53-dd77-a7bb39703770",
        "colab": {
          "base_uri": "https://localhost:8080/"
        }
      },
      "execution_count": 25,
      "outputs": [
        {
          "output_type": "stream",
          "name": "stdout",
          "text": [
            "444/444 [==============================] - 67s 145ms/step\n"
          ]
        }
      ]
    },
    {
      "cell_type": "code",
      "execution_count": 26,
      "metadata": {
        "colab": {
          "base_uri": "https://localhost:8080/"
        },
        "id": "UxvrVDPfvcFr",
        "outputId": "6084d09e-056d-4645-f355-46c04f1e9fd8"
      },
      "outputs": [
        {
          "output_type": "execute_result",
          "data": {
            "text/plain": [
              "(14191, 1)"
            ]
          },
          "metadata": {},
          "execution_count": 26
        }
      ],
      "source": [
        "y_pred.shape"
      ]
    },
    {
      "cell_type": "code",
      "execution_count": 27,
      "metadata": {
        "colab": {
          "base_uri": "https://localhost:8080/"
        },
        "id": "JFCGpFh3Q7f8",
        "outputId": "35d2ccff-f151-4139-ccd2-5f15a3dd4cc5"
      },
      "outputs": [
        {
          "output_type": "execute_result",
          "data": {
            "text/plain": [
              "(14191,)"
            ]
          },
          "metadata": {},
          "execution_count": 27
        }
      ],
      "source": [
        "mimic_test_subset_labels.shape"
      ]
    },
    {
      "cell_type": "code",
      "execution_count": 28,
      "metadata": {
        "colab": {
          "base_uri": "https://localhost:8080/"
        },
        "id": "btll0zjptxth",
        "outputId": "4d3452d0-cff5-4e51-eed8-4fbf63ffa7c2"
      },
      "outputs": [
        {
          "output_type": "stream",
          "name": "stdout",
          "text": [
            "              precision    recall  f1-score   support\n",
            "\n",
            "           0       0.62      0.86      0.72      4626\n",
            "           1       0.92      0.74      0.82      9565\n",
            "\n",
            "    accuracy                           0.78     14191\n",
            "   macro avg       0.77      0.80      0.77     14191\n",
            "weighted avg       0.82      0.78      0.79     14191\n",
            "\n"
          ]
        }
      ],
      "source": [
        "y_pred_classes = (y_pred > 0.5).astype(int)\n",
        "y_true = mimic_test_subset_labels\n",
        "\n",
        "#classification report\n",
        "report = classification_report(y_true, y_pred_classes)\n",
        "print(report)"
      ]
    }
  ],
  "metadata": {
    "accelerator": "GPU",
    "colab": {
      "gpuType": "A100",
      "machine_shape": "hm",
      "provenance": []
    },
    "kernelspec": {
      "display_name": "Python 3",
      "name": "python3"
    },
    "language_info": {
      "name": "python"
    },
    "widgets": {
      "application/vnd.jupyter.widget-state+json": {
        "1cf209f4ec2e42d1ace9001e74ad5657": {
          "model_module": "@jupyter-widgets/controls",
          "model_name": "HBoxModel",
          "model_module_version": "1.5.0",
          "state": {
            "_dom_classes": [],
            "_model_module": "@jupyter-widgets/controls",
            "_model_module_version": "1.5.0",
            "_model_name": "HBoxModel",
            "_view_count": null,
            "_view_module": "@jupyter-widgets/controls",
            "_view_module_version": "1.5.0",
            "_view_name": "HBoxView",
            "box_style": "",
            "children": [
              "IPY_MODEL_499238944e494b3582c749daf423f66d",
              "IPY_MODEL_b26cb9b6b1854161b6ba43f7c7384475",
              "IPY_MODEL_07600f636daa46029baf3bce2460bf62"
            ],
            "layout": "IPY_MODEL_7a640dd996aa4242ad2b11b83dc5a377"
          }
        },
        "499238944e494b3582c749daf423f66d": {
          "model_module": "@jupyter-widgets/controls",
          "model_name": "HTMLModel",
          "model_module_version": "1.5.0",
          "state": {
            "_dom_classes": [],
            "_model_module": "@jupyter-widgets/controls",
            "_model_module_version": "1.5.0",
            "_model_name": "HTMLModel",
            "_view_count": null,
            "_view_module": "@jupyter-widgets/controls",
            "_view_module_version": "1.5.0",
            "_view_name": "HTMLView",
            "description": "",
            "description_tooltip": null,
            "layout": "IPY_MODEL_6048ff0fd7fb4302a0ca15662cd4d47b",
            "placeholder": "​",
            "style": "IPY_MODEL_dc0218aac240406aa67f1041fb25dedc",
            "value": "vocab.txt: 100%"
          }
        },
        "b26cb9b6b1854161b6ba43f7c7384475": {
          "model_module": "@jupyter-widgets/controls",
          "model_name": "FloatProgressModel",
          "model_module_version": "1.5.0",
          "state": {
            "_dom_classes": [],
            "_model_module": "@jupyter-widgets/controls",
            "_model_module_version": "1.5.0",
            "_model_name": "FloatProgressModel",
            "_view_count": null,
            "_view_module": "@jupyter-widgets/controls",
            "_view_module_version": "1.5.0",
            "_view_name": "ProgressView",
            "bar_style": "success",
            "description": "",
            "description_tooltip": null,
            "layout": "IPY_MODEL_00823a4f0f11404ba32b1b5380cba8ec",
            "max": 231508,
            "min": 0,
            "orientation": "horizontal",
            "style": "IPY_MODEL_7061f5ffded04d718f83d37fc202af5b",
            "value": 231508
          }
        },
        "07600f636daa46029baf3bce2460bf62": {
          "model_module": "@jupyter-widgets/controls",
          "model_name": "HTMLModel",
          "model_module_version": "1.5.0",
          "state": {
            "_dom_classes": [],
            "_model_module": "@jupyter-widgets/controls",
            "_model_module_version": "1.5.0",
            "_model_name": "HTMLModel",
            "_view_count": null,
            "_view_module": "@jupyter-widgets/controls",
            "_view_module_version": "1.5.0",
            "_view_name": "HTMLView",
            "description": "",
            "description_tooltip": null,
            "layout": "IPY_MODEL_0e9309d9ad30448597863fcb13b2bd5f",
            "placeholder": "​",
            "style": "IPY_MODEL_3f45b7b9dd6c481ead34ff56c36e77c0",
            "value": " 232k/232k [00:00&lt;00:00, 6.94MB/s]"
          }
        },
        "7a640dd996aa4242ad2b11b83dc5a377": {
          "model_module": "@jupyter-widgets/base",
          "model_name": "LayoutModel",
          "model_module_version": "1.2.0",
          "state": {
            "_model_module": "@jupyter-widgets/base",
            "_model_module_version": "1.2.0",
            "_model_name": "LayoutModel",
            "_view_count": null,
            "_view_module": "@jupyter-widgets/base",
            "_view_module_version": "1.2.0",
            "_view_name": "LayoutView",
            "align_content": null,
            "align_items": null,
            "align_self": null,
            "border": null,
            "bottom": null,
            "display": null,
            "flex": null,
            "flex_flow": null,
            "grid_area": null,
            "grid_auto_columns": null,
            "grid_auto_flow": null,
            "grid_auto_rows": null,
            "grid_column": null,
            "grid_gap": null,
            "grid_row": null,
            "grid_template_areas": null,
            "grid_template_columns": null,
            "grid_template_rows": null,
            "height": null,
            "justify_content": null,
            "justify_items": null,
            "left": null,
            "margin": null,
            "max_height": null,
            "max_width": null,
            "min_height": null,
            "min_width": null,
            "object_fit": null,
            "object_position": null,
            "order": null,
            "overflow": null,
            "overflow_x": null,
            "overflow_y": null,
            "padding": null,
            "right": null,
            "top": null,
            "visibility": null,
            "width": null
          }
        },
        "6048ff0fd7fb4302a0ca15662cd4d47b": {
          "model_module": "@jupyter-widgets/base",
          "model_name": "LayoutModel",
          "model_module_version": "1.2.0",
          "state": {
            "_model_module": "@jupyter-widgets/base",
            "_model_module_version": "1.2.0",
            "_model_name": "LayoutModel",
            "_view_count": null,
            "_view_module": "@jupyter-widgets/base",
            "_view_module_version": "1.2.0",
            "_view_name": "LayoutView",
            "align_content": null,
            "align_items": null,
            "align_self": null,
            "border": null,
            "bottom": null,
            "display": null,
            "flex": null,
            "flex_flow": null,
            "grid_area": null,
            "grid_auto_columns": null,
            "grid_auto_flow": null,
            "grid_auto_rows": null,
            "grid_column": null,
            "grid_gap": null,
            "grid_row": null,
            "grid_template_areas": null,
            "grid_template_columns": null,
            "grid_template_rows": null,
            "height": null,
            "justify_content": null,
            "justify_items": null,
            "left": null,
            "margin": null,
            "max_height": null,
            "max_width": null,
            "min_height": null,
            "min_width": null,
            "object_fit": null,
            "object_position": null,
            "order": null,
            "overflow": null,
            "overflow_x": null,
            "overflow_y": null,
            "padding": null,
            "right": null,
            "top": null,
            "visibility": null,
            "width": null
          }
        },
        "dc0218aac240406aa67f1041fb25dedc": {
          "model_module": "@jupyter-widgets/controls",
          "model_name": "DescriptionStyleModel",
          "model_module_version": "1.5.0",
          "state": {
            "_model_module": "@jupyter-widgets/controls",
            "_model_module_version": "1.5.0",
            "_model_name": "DescriptionStyleModel",
            "_view_count": null,
            "_view_module": "@jupyter-widgets/base",
            "_view_module_version": "1.2.0",
            "_view_name": "StyleView",
            "description_width": ""
          }
        },
        "00823a4f0f11404ba32b1b5380cba8ec": {
          "model_module": "@jupyter-widgets/base",
          "model_name": "LayoutModel",
          "model_module_version": "1.2.0",
          "state": {
            "_model_module": "@jupyter-widgets/base",
            "_model_module_version": "1.2.0",
            "_model_name": "LayoutModel",
            "_view_count": null,
            "_view_module": "@jupyter-widgets/base",
            "_view_module_version": "1.2.0",
            "_view_name": "LayoutView",
            "align_content": null,
            "align_items": null,
            "align_self": null,
            "border": null,
            "bottom": null,
            "display": null,
            "flex": null,
            "flex_flow": null,
            "grid_area": null,
            "grid_auto_columns": null,
            "grid_auto_flow": null,
            "grid_auto_rows": null,
            "grid_column": null,
            "grid_gap": null,
            "grid_row": null,
            "grid_template_areas": null,
            "grid_template_columns": null,
            "grid_template_rows": null,
            "height": null,
            "justify_content": null,
            "justify_items": null,
            "left": null,
            "margin": null,
            "max_height": null,
            "max_width": null,
            "min_height": null,
            "min_width": null,
            "object_fit": null,
            "object_position": null,
            "order": null,
            "overflow": null,
            "overflow_x": null,
            "overflow_y": null,
            "padding": null,
            "right": null,
            "top": null,
            "visibility": null,
            "width": null
          }
        },
        "7061f5ffded04d718f83d37fc202af5b": {
          "model_module": "@jupyter-widgets/controls",
          "model_name": "ProgressStyleModel",
          "model_module_version": "1.5.0",
          "state": {
            "_model_module": "@jupyter-widgets/controls",
            "_model_module_version": "1.5.0",
            "_model_name": "ProgressStyleModel",
            "_view_count": null,
            "_view_module": "@jupyter-widgets/base",
            "_view_module_version": "1.2.0",
            "_view_name": "StyleView",
            "bar_color": null,
            "description_width": ""
          }
        },
        "0e9309d9ad30448597863fcb13b2bd5f": {
          "model_module": "@jupyter-widgets/base",
          "model_name": "LayoutModel",
          "model_module_version": "1.2.0",
          "state": {
            "_model_module": "@jupyter-widgets/base",
            "_model_module_version": "1.2.0",
            "_model_name": "LayoutModel",
            "_view_count": null,
            "_view_module": "@jupyter-widgets/base",
            "_view_module_version": "1.2.0",
            "_view_name": "LayoutView",
            "align_content": null,
            "align_items": null,
            "align_self": null,
            "border": null,
            "bottom": null,
            "display": null,
            "flex": null,
            "flex_flow": null,
            "grid_area": null,
            "grid_auto_columns": null,
            "grid_auto_flow": null,
            "grid_auto_rows": null,
            "grid_column": null,
            "grid_gap": null,
            "grid_row": null,
            "grid_template_areas": null,
            "grid_template_columns": null,
            "grid_template_rows": null,
            "height": null,
            "justify_content": null,
            "justify_items": null,
            "left": null,
            "margin": null,
            "max_height": null,
            "max_width": null,
            "min_height": null,
            "min_width": null,
            "object_fit": null,
            "object_position": null,
            "order": null,
            "overflow": null,
            "overflow_x": null,
            "overflow_y": null,
            "padding": null,
            "right": null,
            "top": null,
            "visibility": null,
            "width": null
          }
        },
        "3f45b7b9dd6c481ead34ff56c36e77c0": {
          "model_module": "@jupyter-widgets/controls",
          "model_name": "DescriptionStyleModel",
          "model_module_version": "1.5.0",
          "state": {
            "_model_module": "@jupyter-widgets/controls",
            "_model_module_version": "1.5.0",
            "_model_name": "DescriptionStyleModel",
            "_view_count": null,
            "_view_module": "@jupyter-widgets/base",
            "_view_module_version": "1.2.0",
            "_view_name": "StyleView",
            "description_width": ""
          }
        },
        "c22679649a674d4d84496bee6826dd73": {
          "model_module": "@jupyter-widgets/controls",
          "model_name": "HBoxModel",
          "model_module_version": "1.5.0",
          "state": {
            "_dom_classes": [],
            "_model_module": "@jupyter-widgets/controls",
            "_model_module_version": "1.5.0",
            "_model_name": "HBoxModel",
            "_view_count": null,
            "_view_module": "@jupyter-widgets/controls",
            "_view_module_version": "1.5.0",
            "_view_name": "HBoxView",
            "box_style": "",
            "children": [
              "IPY_MODEL_4f15f651a868476eb6b09d55ea6fe5e8",
              "IPY_MODEL_029116311c7c44bcabc655268c338188",
              "IPY_MODEL_718c1547870643a7a5fde7ca2e41008f"
            ],
            "layout": "IPY_MODEL_8183dccf93f8452e9a5e7cf34321298c"
          }
        },
        "4f15f651a868476eb6b09d55ea6fe5e8": {
          "model_module": "@jupyter-widgets/controls",
          "model_name": "HTMLModel",
          "model_module_version": "1.5.0",
          "state": {
            "_dom_classes": [],
            "_model_module": "@jupyter-widgets/controls",
            "_model_module_version": "1.5.0",
            "_model_name": "HTMLModel",
            "_view_count": null,
            "_view_module": "@jupyter-widgets/controls",
            "_view_module_version": "1.5.0",
            "_view_name": "HTMLView",
            "description": "",
            "description_tooltip": null,
            "layout": "IPY_MODEL_be1d94b54680409597434b0f1391eb0c",
            "placeholder": "​",
            "style": "IPY_MODEL_d82bf752110f4d53a38918609b193446",
            "value": "config.json: 100%"
          }
        },
        "029116311c7c44bcabc655268c338188": {
          "model_module": "@jupyter-widgets/controls",
          "model_name": "FloatProgressModel",
          "model_module_version": "1.5.0",
          "state": {
            "_dom_classes": [],
            "_model_module": "@jupyter-widgets/controls",
            "_model_module_version": "1.5.0",
            "_model_name": "FloatProgressModel",
            "_view_count": null,
            "_view_module": "@jupyter-widgets/controls",
            "_view_module_version": "1.5.0",
            "_view_name": "ProgressView",
            "bar_style": "success",
            "description": "",
            "description_tooltip": null,
            "layout": "IPY_MODEL_defeab2285be43359bee24f99047c96d",
            "max": 499,
            "min": 0,
            "orientation": "horizontal",
            "style": "IPY_MODEL_84a2624fe96a43bbb1b91ecd30f857cf",
            "value": 499
          }
        },
        "718c1547870643a7a5fde7ca2e41008f": {
          "model_module": "@jupyter-widgets/controls",
          "model_name": "HTMLModel",
          "model_module_version": "1.5.0",
          "state": {
            "_dom_classes": [],
            "_model_module": "@jupyter-widgets/controls",
            "_model_module_version": "1.5.0",
            "_model_name": "HTMLModel",
            "_view_count": null,
            "_view_module": "@jupyter-widgets/controls",
            "_view_module_version": "1.5.0",
            "_view_name": "HTMLView",
            "description": "",
            "description_tooltip": null,
            "layout": "IPY_MODEL_51080fe230604411806c565e200e579c",
            "placeholder": "​",
            "style": "IPY_MODEL_11f1f8c12cef44769c9c612d70e8845d",
            "value": " 499/499 [00:00&lt;00:00, 39.4kB/s]"
          }
        },
        "8183dccf93f8452e9a5e7cf34321298c": {
          "model_module": "@jupyter-widgets/base",
          "model_name": "LayoutModel",
          "model_module_version": "1.2.0",
          "state": {
            "_model_module": "@jupyter-widgets/base",
            "_model_module_version": "1.2.0",
            "_model_name": "LayoutModel",
            "_view_count": null,
            "_view_module": "@jupyter-widgets/base",
            "_view_module_version": "1.2.0",
            "_view_name": "LayoutView",
            "align_content": null,
            "align_items": null,
            "align_self": null,
            "border": null,
            "bottom": null,
            "display": null,
            "flex": null,
            "flex_flow": null,
            "grid_area": null,
            "grid_auto_columns": null,
            "grid_auto_flow": null,
            "grid_auto_rows": null,
            "grid_column": null,
            "grid_gap": null,
            "grid_row": null,
            "grid_template_areas": null,
            "grid_template_columns": null,
            "grid_template_rows": null,
            "height": null,
            "justify_content": null,
            "justify_items": null,
            "left": null,
            "margin": null,
            "max_height": null,
            "max_width": null,
            "min_height": null,
            "min_width": null,
            "object_fit": null,
            "object_position": null,
            "order": null,
            "overflow": null,
            "overflow_x": null,
            "overflow_y": null,
            "padding": null,
            "right": null,
            "top": null,
            "visibility": null,
            "width": null
          }
        },
        "be1d94b54680409597434b0f1391eb0c": {
          "model_module": "@jupyter-widgets/base",
          "model_name": "LayoutModel",
          "model_module_version": "1.2.0",
          "state": {
            "_model_module": "@jupyter-widgets/base",
            "_model_module_version": "1.2.0",
            "_model_name": "LayoutModel",
            "_view_count": null,
            "_view_module": "@jupyter-widgets/base",
            "_view_module_version": "1.2.0",
            "_view_name": "LayoutView",
            "align_content": null,
            "align_items": null,
            "align_self": null,
            "border": null,
            "bottom": null,
            "display": null,
            "flex": null,
            "flex_flow": null,
            "grid_area": null,
            "grid_auto_columns": null,
            "grid_auto_flow": null,
            "grid_auto_rows": null,
            "grid_column": null,
            "grid_gap": null,
            "grid_row": null,
            "grid_template_areas": null,
            "grid_template_columns": null,
            "grid_template_rows": null,
            "height": null,
            "justify_content": null,
            "justify_items": null,
            "left": null,
            "margin": null,
            "max_height": null,
            "max_width": null,
            "min_height": null,
            "min_width": null,
            "object_fit": null,
            "object_position": null,
            "order": null,
            "overflow": null,
            "overflow_x": null,
            "overflow_y": null,
            "padding": null,
            "right": null,
            "top": null,
            "visibility": null,
            "width": null
          }
        },
        "d82bf752110f4d53a38918609b193446": {
          "model_module": "@jupyter-widgets/controls",
          "model_name": "DescriptionStyleModel",
          "model_module_version": "1.5.0",
          "state": {
            "_model_module": "@jupyter-widgets/controls",
            "_model_module_version": "1.5.0",
            "_model_name": "DescriptionStyleModel",
            "_view_count": null,
            "_view_module": "@jupyter-widgets/base",
            "_view_module_version": "1.2.0",
            "_view_name": "StyleView",
            "description_width": ""
          }
        },
        "defeab2285be43359bee24f99047c96d": {
          "model_module": "@jupyter-widgets/base",
          "model_name": "LayoutModel",
          "model_module_version": "1.2.0",
          "state": {
            "_model_module": "@jupyter-widgets/base",
            "_model_module_version": "1.2.0",
            "_model_name": "LayoutModel",
            "_view_count": null,
            "_view_module": "@jupyter-widgets/base",
            "_view_module_version": "1.2.0",
            "_view_name": "LayoutView",
            "align_content": null,
            "align_items": null,
            "align_self": null,
            "border": null,
            "bottom": null,
            "display": null,
            "flex": null,
            "flex_flow": null,
            "grid_area": null,
            "grid_auto_columns": null,
            "grid_auto_flow": null,
            "grid_auto_rows": null,
            "grid_column": null,
            "grid_gap": null,
            "grid_row": null,
            "grid_template_areas": null,
            "grid_template_columns": null,
            "grid_template_rows": null,
            "height": null,
            "justify_content": null,
            "justify_items": null,
            "left": null,
            "margin": null,
            "max_height": null,
            "max_width": null,
            "min_height": null,
            "min_width": null,
            "object_fit": null,
            "object_position": null,
            "order": null,
            "overflow": null,
            "overflow_x": null,
            "overflow_y": null,
            "padding": null,
            "right": null,
            "top": null,
            "visibility": null,
            "width": null
          }
        },
        "84a2624fe96a43bbb1b91ecd30f857cf": {
          "model_module": "@jupyter-widgets/controls",
          "model_name": "ProgressStyleModel",
          "model_module_version": "1.5.0",
          "state": {
            "_model_module": "@jupyter-widgets/controls",
            "_model_module_version": "1.5.0",
            "_model_name": "ProgressStyleModel",
            "_view_count": null,
            "_view_module": "@jupyter-widgets/base",
            "_view_module_version": "1.2.0",
            "_view_name": "StyleView",
            "bar_color": null,
            "description_width": ""
          }
        },
        "51080fe230604411806c565e200e579c": {
          "model_module": "@jupyter-widgets/base",
          "model_name": "LayoutModel",
          "model_module_version": "1.2.0",
          "state": {
            "_model_module": "@jupyter-widgets/base",
            "_model_module_version": "1.2.0",
            "_model_name": "LayoutModel",
            "_view_count": null,
            "_view_module": "@jupyter-widgets/base",
            "_view_module_version": "1.2.0",
            "_view_name": "LayoutView",
            "align_content": null,
            "align_items": null,
            "align_self": null,
            "border": null,
            "bottom": null,
            "display": null,
            "flex": null,
            "flex_flow": null,
            "grid_area": null,
            "grid_auto_columns": null,
            "grid_auto_flow": null,
            "grid_auto_rows": null,
            "grid_column": null,
            "grid_gap": null,
            "grid_row": null,
            "grid_template_areas": null,
            "grid_template_columns": null,
            "grid_template_rows": null,
            "height": null,
            "justify_content": null,
            "justify_items": null,
            "left": null,
            "margin": null,
            "max_height": null,
            "max_width": null,
            "min_height": null,
            "min_width": null,
            "object_fit": null,
            "object_position": null,
            "order": null,
            "overflow": null,
            "overflow_x": null,
            "overflow_y": null,
            "padding": null,
            "right": null,
            "top": null,
            "visibility": null,
            "width": null
          }
        },
        "11f1f8c12cef44769c9c612d70e8845d": {
          "model_module": "@jupyter-widgets/controls",
          "model_name": "DescriptionStyleModel",
          "model_module_version": "1.5.0",
          "state": {
            "_model_module": "@jupyter-widgets/controls",
            "_model_module_version": "1.5.0",
            "_model_name": "DescriptionStyleModel",
            "_view_count": null,
            "_view_module": "@jupyter-widgets/base",
            "_view_module_version": "1.2.0",
            "_view_name": "StyleView",
            "description_width": ""
          }
        }
      }
    }
  },
  "nbformat": 4,
  "nbformat_minor": 0
}